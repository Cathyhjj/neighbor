{
  "cells": [
    {
      "cell_type": "markdown",
      "metadata": {},
      "source": [
        "# rewrite loading xyz using ase"
      ]
    },
    {
      "cell_type": "code",
      "execution_count": 1,
      "metadata": {
        "id": "Q5RuxM2JGx5K"
      },
      "outputs": [],
      "source": [
        "import py3Dmol\n",
        "import numpy as np\n",
        "import matplotlib.pyplot as plt\n",
        "# from IPython.display import display\n",
        "from ipyfilechooser import FileChooser\n",
        "import re\n",
        "\n",
        "%matplotlib widget\n",
        "\n",
        "def shrink_cluster(elements, coordinates, radius):\n",
        "    print(f\"Reduce cluster size to less than {radius}\")\n",
        "    print(\"Old cluster size is\")\n",
        "    distances_all, size = cluster_size_calc(elements, coordinates)\n",
        "    indices = np.where(distances_all < radius)[0]\n",
        "    elements_shrinked = [elements[i] for i in indices]\n",
        "    coordinates_shrinked = [coordinates[i] for i in indices]\n",
        "    print(\"New cluster size is\")    \n",
        "    distances_all, size = cluster_size_calc(elements_shrinked, coordinates_shrinked )\n",
        "\n",
        "    return list(elements_shrinked), coordinates_shrinked\n"
      ]
    },
    {
      "cell_type": "markdown",
      "metadata": {
        "id": "mbAvUo4pgHZZ"
      },
      "source": [
        "## Examples"
      ]
    },
    {
      "cell_type": "code",
      "execution_count": 2,
      "metadata": {},
      "outputs": [
        {
          "data": {
            "application/vnd.jupyter.widget-view+json": {
              "model_id": "ccda3cf960ed4338ba01da6d1c7db696",
              "version_major": 2,
              "version_minor": 0
            },
            "text/plain": [
              "FileChooser(path='/Users/juanjuanhuang/Desktop/neighbor', filename='', title='', show_hidden=False, select_des…"
            ]
          },
          "metadata": {},
          "output_type": "display_data"
        }
      ],
      "source": [
        "def read_file():\n",
        "    if fc.selected is not None:\n",
        "        with open(fc.selected, 'r') as file:\n",
        "            content = file.read()\n",
        "        return content\n",
        "    else:\n",
        "        print(\"No file selected.\")\n",
        "\n",
        "fc = FileChooser()\n",
        "display(fc)\n"
      ]
    },
    {
      "cell_type": "code",
      "execution_count": 4,
      "metadata": {},
      "outputs": [
        {
          "name": "stdout",
          "output_type": "stream",
          "text": [
            "Atoms(symbols='O4PbO4PbO7PbO4Pb2O8PbO4Pb2O7Pb2O4Pb2O2Pb3', pbc=False)\n"
          ]
        }
      ],
      "source": [
        "from ase.io import read\n",
        "\n",
        "# Load the XYZ file\n",
        "atoms = read(fc.value)\n",
        "\n",
        "# Now you can work with the 'atoms' object\n",
        "print(atoms)"
      ]
    },
    {
      "cell_type": "code",
      "execution_count": 5,
      "metadata": {},
      "outputs": [
        {
          "data": {
            "text/plain": [
              "['O',\n",
              " 'O',\n",
              " 'O',\n",
              " 'O',\n",
              " 'Pb',\n",
              " 'O',\n",
              " 'O',\n",
              " 'O',\n",
              " 'O',\n",
              " 'Pb',\n",
              " 'O',\n",
              " 'O',\n",
              " 'O',\n",
              " 'O',\n",
              " 'O',\n",
              " 'O',\n",
              " 'O',\n",
              " 'Pb',\n",
              " 'O',\n",
              " 'O',\n",
              " 'O',\n",
              " 'O',\n",
              " 'Pb',\n",
              " 'Pb',\n",
              " 'O',\n",
              " 'O',\n",
              " 'O',\n",
              " 'O',\n",
              " 'O',\n",
              " 'O',\n",
              " 'O',\n",
              " 'O',\n",
              " 'Pb',\n",
              " 'O',\n",
              " 'O',\n",
              " 'O',\n",
              " 'O',\n",
              " 'Pb',\n",
              " 'Pb',\n",
              " 'O',\n",
              " 'O',\n",
              " 'O',\n",
              " 'O',\n",
              " 'O',\n",
              " 'O',\n",
              " 'O',\n",
              " 'Pb',\n",
              " 'Pb',\n",
              " 'O',\n",
              " 'O',\n",
              " 'O',\n",
              " 'O',\n",
              " 'Pb',\n",
              " 'Pb',\n",
              " 'O',\n",
              " 'O',\n",
              " 'Pb',\n",
              " 'Pb',\n",
              " 'Pb']"
            ]
          },
          "execution_count": 5,
          "metadata": {},
          "output_type": "execute_result"
        }
      ],
      "source": [
        "atoms.get_global_number_of_atoms()\n",
        "atoms.get_chemical_formula()\n",
        "O = atoms[0]\n",
        "atoms.get_chemical_symbols()"
      ]
    },
    {
      "cell_type": "code",
      "execution_count": 6,
      "metadata": {},
      "outputs": [
        {
          "data": {
            "text/plain": [
              "59"
            ]
          },
          "execution_count": 6,
          "metadata": {},
          "output_type": "execute_result"
        }
      ],
      "source": [
        "len(atoms.get_all_distances()[1])"
      ]
    },
    {
      "cell_type": "code",
      "execution_count": 7,
      "metadata": {},
      "outputs": [],
      "source": [
        "class ClusterNeighbor(object):\n",
        "    def __init__(self):\n",
        "        pass\n",
        "\n",
        "    def load_xyz(self, xyz_path):\n",
        "        self.atoms = read(fc.value)\n",
        "\n",
        "    def view_xyz(self, style_all=None, highlight_atom1=\"O\", highlight_atom2=\"Pb\", label=True):\n",
        "        self.xyz_string = f\"{len(self.atoms)}\\n\\n\" \n",
        "        for atom in self.atoms:\n",
        "            self.xyz_string += f\"{atom.symbol} {atom.position[0]} {atom.position[1]} {atom.position[2]}\\n\"\n",
        "        \n",
        "        self.view = py3Dmol.view(width=500,height=500)\n",
        "        self.view.addModel(self.xyz_string,'xyz',)\n",
        "        if style_all is None:\n",
        "            style_all = {'stick':{'radius':.1, 'alpha':0.2, 'color':'gray'}, \n",
        "                                  'sphere': {'radius':.3}\n",
        "                                 }\n",
        "        self.view.setStyle(style_all)\n",
        "        \n",
        "        self.view.addStyle({'atom': highlight_atom1}, \n",
        "                        {'sphere': {'color': 'red', 'radius': 0.5}})  \n",
        "        \n",
        "        self.view.addStyle({'atom': highlight_atom2}, \n",
        "                           {'sphere': {'color': 'blue', 'radius': 0.3}})  \n",
        "        self.view.setBackgroundColor('0xeeeeee')\n",
        "        if label:\n",
        "            for i, atom_i in enumerate(self.atoms):\n",
        "                self.view.addLabel(f\"{i}\", {'position': {'x': atom_i.position[0], 'y': atom_i.position[1], 'z': atom_i.position[2]}, \n",
        "                                    'fontColor': 'k', 'fontSize': 12, 'backgroundColor': 'white', 'backgroundOpacity':0.5})\n",
        "        self.view.zoomTo()\n",
        "        self.view.show()\n",
        "        self.view.title(self.atoms.get_chemical_formula())\n",
        "    \n",
        "    def get_cluster_size(self):\n",
        "        self.cluster_size = self.atoms.get_all_distances().max()/2\n",
        "        print(f\"Cluster size is {self.cluster_size} A\")\n",
        "        return self.cluster_size\n",
        "    \n",
        "    # def get_pairs(self):\n",
        "        # for i in range(len(num_atoms)):\n",
        "        #     atom_i = elements[i]\n",
        "        #     atom_unique_i = f\"{elements[i]}({i:d})\"\n",
        "        #     for j in range(num_atoms):\n",
        "        #         if j !=i:\n",
        "        #             atom_j = elements[j]\n",
        "        #             atom_unique_j = f\"{elements[j]}({j:d})\"\n",
        "        #             distance = calculate_distance(coordinates[i], coordinates[j])\n",
        "        #             output['pairs_all'].append(f\"{atom_i}-{atom_j}\")\n",
        "        #             output['unique_pairs_all'][f\"{atom_unique_i}-{atom_unique_j}\"] = distance\n"
      ]
    },
    {
      "cell_type": "code",
      "execution_count": 8,
      "metadata": {},
      "outputs": [
        {
          "data": {
            "application/3dmoljs_load.v0": "<div id=\"3dmolviewer_170423226069447\"  style=\"position: relative; width: 500px; height: 500px;\">\n        <p id=\"3dmolwarning_170423226069447\" style=\"background-color:#ffcccc;color:black\">You appear to be running in JupyterLab (or JavaScript failed to load for some other reason).  You need to install the 3dmol extension: <br>\n        <tt>jupyter labextension install jupyterlab_3dmol</tt></p>\n        </div>\n<script>\n\nvar loadScriptAsync = function(uri){\n  return new Promise((resolve, reject) => {\n    //this is to ignore the existence of requirejs amd\n    var savedexports, savedmodule;\n    if (typeof exports !== 'undefined') savedexports = exports;\n    else exports = {}\n    if (typeof module !== 'undefined') savedmodule = module;\n    else module = {}\n\n    var tag = document.createElement('script');\n    tag.src = uri;\n    tag.async = true;\n    tag.onload = () => {\n        exports = savedexports;\n        module = savedmodule;\n        resolve();\n    };\n  var firstScriptTag = document.getElementsByTagName('script')[0];\n  firstScriptTag.parentNode.insertBefore(tag, firstScriptTag);\n});\n};\n\nif(typeof $3Dmolpromise === 'undefined') {\n$3Dmolpromise = null;\n  $3Dmolpromise = loadScriptAsync('https://cdnjs.cloudflare.com/ajax/libs/3Dmol/2.0.4/3Dmol-min.js');\n}\n\nvar viewer_170423226069447 = null;\nvar warn = document.getElementById(\"3dmolwarning_170423226069447\");\nif(warn) {\n    warn.parentNode.removeChild(warn);\n}\n$3Dmolpromise.then(function() {\nviewer_170423226069447 = $3Dmol.createViewer(document.getElementById(\"3dmolviewer_170423226069447\"),{backgroundColor:\"white\"});\nviewer_170423226069447.zoomTo();\n\tviewer_170423226069447.addModel(\"59\\n\\nO -5.301403 -2.601292 -0.500298\\nO -3.367214 -1.231646 -1.809521\\nO -4.379644 0.010097 0.793594\\nO -2.460089 -3.700719 -0.252618\\nPb -3.419867 -1.845311 0.270488\\nO -3.472519 -2.458976 2.350497\\nO -1.538331 -1.08933 1.041273\\nO -2.550761 0.152413 3.644388\\nO -0.631206 -3.558404 2.598176\\nPb -1.590983 -1.702995 3.121282\\nO -1.643635 -2.316661 5.201291\\nO 0.290553 -0.947014 3.892068\\nO -3.346703 0.952956 -3.947334\\nO -4.359133 2.194699 -1.344219\\nO -2.424945 3.564345 -2.653442\\nO -3.437375 4.806088 -0.050327\\nO -1.51782 1.095271 -1.096539\\nPb -2.477597 2.95068 -0.573433\\nO -2.53025 2.337014 1.506576\\nO -0.596062 3.706661 0.197353\\nO -1.608492 4.948403 2.800468\\nO 0.311064 1.237587 1.754256\\nPb -4.068581 1.247684 2.547849\\nPb -0.648714 3.092995 2.277362\\nO -0.701366 2.47933 4.357371\\nO 1.232822 3.848976 3.048147\\nO 2.139947 1.379903 4.60505\\nO -2.139947 -1.379903 -4.60505\\nO -1.232822 -3.848976 -3.048147\\nO 0.701366 -2.47933 -4.357371\\nO -0.311064 -1.237587 -1.754256\\nO 1.608492 -4.948403 -2.800468\\nPb 0.648714 -3.092995 -2.277362\\nO 0.596062 -3.706661 -0.197353\\nO 2.53025 -2.337014 -1.506576\\nO 1.51782 -1.095271 1.096539\\nO 3.437375 -4.806088 0.050327\\nPb -0.942269 -4.795991 0.843921\\nPb 2.477597 -2.95068 0.573433\\nO 2.424945 -3.564345 2.653442\\nO 4.359133 -2.194699 1.344219\\nO 3.346703 -0.952956 3.947334\\nO -0.290553 0.947014 -3.892068\\nO 1.643635 2.316661 -5.201291\\nO 0.631206 3.558404 -2.598176\\nO 2.550761 -0.152413 -3.644388\\nPb -1.828884 -0.142316 -2.850795\\nPb 1.590983 1.702995 -3.121282\\nO 1.538331 1.08933 -1.041273\\nO 3.472519 2.458976 -2.350497\\nO 2.460089 3.700719 0.252618\\nO 4.379644 -0.010097 -0.793594\\nPb 0.0 0.0 0.0\\nPb 3.419867 1.845311 -0.270488\\nO 3.367214 1.231646 1.809521\\nO 5.301403 2.601292 0.500298\\nPb 1.828884 0.142316 2.850795\\nPb 0.942269 4.795991 -0.843921\\nPb 4.068581 -1.247684 -2.547849\\n\",\"xyz\");\n\tviewer_170423226069447.setStyle({\"stick\": {\"radius\": 0.1, \"alpha\": 0.2, \"color\": \"gray\"}, \"sphere\": {\"radius\": 0.3}});\n\tviewer_170423226069447.addStyle({\"atom\": \"Pb\"},{\"sphere\": {\"color\": \"red\", \"radius\": 0.5}});\n\tviewer_170423226069447.addStyle({\"atom\": \"O\"},{\"sphere\": {\"color\": \"blue\", \"radius\": 0.3}});\n\tviewer_170423226069447.setBackgroundColor(\"0xeeeeee\");\n\tviewer_170423226069447.addLabel(\"0\",{\"position\": {\"x\": -5.301403, \"y\": -2.601292, \"z\": -0.500298}, \"fontColor\": \"k\", \"fontSize\": 12, \"backgroundColor\": \"white\", \"backgroundOpacity\": 0.5});\n\tviewer_170423226069447.addLabel(\"1\",{\"position\": {\"x\": -3.367214, \"y\": -1.231646, \"z\": -1.809521}, \"fontColor\": \"k\", \"fontSize\": 12, \"backgroundColor\": \"white\", \"backgroundOpacity\": 0.5});\n\tviewer_170423226069447.addLabel(\"2\",{\"position\": {\"x\": -4.379644, \"y\": 0.010097, \"z\": 0.793594}, \"fontColor\": \"k\", \"fontSize\": 12, \"backgroundColor\": \"white\", \"backgroundOpacity\": 0.5});\n\tviewer_170423226069447.addLabel(\"3\",{\"position\": {\"x\": -2.460089, \"y\": -3.700719, \"z\": -0.252618}, \"fontColor\": \"k\", \"fontSize\": 12, \"backgroundColor\": \"white\", \"backgroundOpacity\": 0.5});\n\tviewer_170423226069447.addLabel(\"4\",{\"position\": {\"x\": -3.419867, \"y\": -1.845311, \"z\": 0.270488}, \"fontColor\": \"k\", \"fontSize\": 12, \"backgroundColor\": \"white\", \"backgroundOpacity\": 0.5});\n\tviewer_170423226069447.addLabel(\"5\",{\"position\": {\"x\": -3.472519, \"y\": -2.458976, \"z\": 2.350497}, \"fontColor\": \"k\", \"fontSize\": 12, \"backgroundColor\": \"white\", \"backgroundOpacity\": 0.5});\n\tviewer_170423226069447.addLabel(\"6\",{\"position\": {\"x\": -1.538331, \"y\": -1.08933, \"z\": 1.041273}, \"fontColor\": \"k\", \"fontSize\": 12, \"backgroundColor\": \"white\", \"backgroundOpacity\": 0.5});\n\tviewer_170423226069447.addLabel(\"7\",{\"position\": {\"x\": -2.550761, \"y\": 0.152413, \"z\": 3.644388}, \"fontColor\": \"k\", \"fontSize\": 12, \"backgroundColor\": \"white\", \"backgroundOpacity\": 0.5});\n\tviewer_170423226069447.addLabel(\"8\",{\"position\": {\"x\": -0.631206, \"y\": -3.558404, \"z\": 2.598176}, \"fontColor\": \"k\", \"fontSize\": 12, \"backgroundColor\": \"white\", \"backgroundOpacity\": 0.5});\n\tviewer_170423226069447.addLabel(\"9\",{\"position\": {\"x\": -1.590983, \"y\": -1.702995, \"z\": 3.121282}, \"fontColor\": \"k\", \"fontSize\": 12, \"backgroundColor\": \"white\", \"backgroundOpacity\": 0.5});\n\tviewer_170423226069447.addLabel(\"10\",{\"position\": {\"x\": -1.643635, \"y\": -2.316661, \"z\": 5.201291}, \"fontColor\": \"k\", \"fontSize\": 12, \"backgroundColor\": \"white\", \"backgroundOpacity\": 0.5});\n\tviewer_170423226069447.addLabel(\"11\",{\"position\": {\"x\": 0.290553, \"y\": -0.947014, \"z\": 3.892068}, \"fontColor\": \"k\", \"fontSize\": 12, \"backgroundColor\": \"white\", \"backgroundOpacity\": 0.5});\n\tviewer_170423226069447.addLabel(\"12\",{\"position\": {\"x\": -3.346703, \"y\": 0.952956, \"z\": -3.947334}, \"fontColor\": \"k\", \"fontSize\": 12, \"backgroundColor\": \"white\", \"backgroundOpacity\": 0.5});\n\tviewer_170423226069447.addLabel(\"13\",{\"position\": {\"x\": -4.359133, \"y\": 2.194699, \"z\": -1.344219}, \"fontColor\": \"k\", \"fontSize\": 12, \"backgroundColor\": \"white\", \"backgroundOpacity\": 0.5});\n\tviewer_170423226069447.addLabel(\"14\",{\"position\": {\"x\": -2.424945, \"y\": 3.564345, \"z\": -2.653442}, \"fontColor\": \"k\", \"fontSize\": 12, \"backgroundColor\": \"white\", \"backgroundOpacity\": 0.5});\n\tviewer_170423226069447.addLabel(\"15\",{\"position\": {\"x\": -3.437375, \"y\": 4.806088, \"z\": -0.050327}, \"fontColor\": \"k\", \"fontSize\": 12, \"backgroundColor\": \"white\", \"backgroundOpacity\": 0.5});\n\tviewer_170423226069447.addLabel(\"16\",{\"position\": {\"x\": -1.51782, \"y\": 1.095271, \"z\": -1.096539}, \"fontColor\": \"k\", \"fontSize\": 12, \"backgroundColor\": \"white\", \"backgroundOpacity\": 0.5});\n\tviewer_170423226069447.addLabel(\"17\",{\"position\": {\"x\": -2.477597, \"y\": 2.95068, \"z\": -0.573433}, \"fontColor\": \"k\", \"fontSize\": 12, \"backgroundColor\": \"white\", \"backgroundOpacity\": 0.5});\n\tviewer_170423226069447.addLabel(\"18\",{\"position\": {\"x\": -2.53025, \"y\": 2.337014, \"z\": 1.506576}, \"fontColor\": \"k\", \"fontSize\": 12, \"backgroundColor\": \"white\", \"backgroundOpacity\": 0.5});\n\tviewer_170423226069447.addLabel(\"19\",{\"position\": {\"x\": -0.596062, \"y\": 3.706661, \"z\": 0.197353}, \"fontColor\": \"k\", \"fontSize\": 12, \"backgroundColor\": \"white\", \"backgroundOpacity\": 0.5});\n\tviewer_170423226069447.addLabel(\"20\",{\"position\": {\"x\": -1.608492, \"y\": 4.948403, \"z\": 2.800468}, \"fontColor\": \"k\", \"fontSize\": 12, \"backgroundColor\": \"white\", \"backgroundOpacity\": 0.5});\n\tviewer_170423226069447.addLabel(\"21\",{\"position\": {\"x\": 0.311064, \"y\": 1.237587, \"z\": 1.754256}, \"fontColor\": \"k\", \"fontSize\": 12, \"backgroundColor\": \"white\", \"backgroundOpacity\": 0.5});\n\tviewer_170423226069447.addLabel(\"22\",{\"position\": {\"x\": -4.068581, \"y\": 1.247684, \"z\": 2.547849}, \"fontColor\": \"k\", \"fontSize\": 12, \"backgroundColor\": \"white\", \"backgroundOpacity\": 0.5});\n\tviewer_170423226069447.addLabel(\"23\",{\"position\": {\"x\": -0.648714, \"y\": 3.092995, \"z\": 2.277362}, \"fontColor\": \"k\", \"fontSize\": 12, \"backgroundColor\": \"white\", \"backgroundOpacity\": 0.5});\n\tviewer_170423226069447.addLabel(\"24\",{\"position\": {\"x\": -0.701366, \"y\": 2.47933, \"z\": 4.357371}, \"fontColor\": \"k\", \"fontSize\": 12, \"backgroundColor\": \"white\", \"backgroundOpacity\": 0.5});\n\tviewer_170423226069447.addLabel(\"25\",{\"position\": {\"x\": 1.232822, \"y\": 3.848976, \"z\": 3.048147}, \"fontColor\": \"k\", \"fontSize\": 12, \"backgroundColor\": \"white\", \"backgroundOpacity\": 0.5});\n\tviewer_170423226069447.addLabel(\"26\",{\"position\": {\"x\": 2.139947, \"y\": 1.379903, \"z\": 4.60505}, \"fontColor\": \"k\", \"fontSize\": 12, \"backgroundColor\": \"white\", \"backgroundOpacity\": 0.5});\n\tviewer_170423226069447.addLabel(\"27\",{\"position\": {\"x\": -2.139947, \"y\": -1.379903, \"z\": -4.60505}, \"fontColor\": \"k\", \"fontSize\": 12, \"backgroundColor\": \"white\", \"backgroundOpacity\": 0.5});\n\tviewer_170423226069447.addLabel(\"28\",{\"position\": {\"x\": -1.232822, \"y\": -3.848976, \"z\": -3.048147}, \"fontColor\": \"k\", \"fontSize\": 12, \"backgroundColor\": \"white\", \"backgroundOpacity\": 0.5});\n\tviewer_170423226069447.addLabel(\"29\",{\"position\": {\"x\": 0.701366, \"y\": -2.47933, \"z\": -4.357371}, \"fontColor\": \"k\", \"fontSize\": 12, \"backgroundColor\": \"white\", \"backgroundOpacity\": 0.5});\n\tviewer_170423226069447.addLabel(\"30\",{\"position\": {\"x\": -0.311064, \"y\": -1.237587, \"z\": -1.754256}, \"fontColor\": \"k\", \"fontSize\": 12, \"backgroundColor\": \"white\", \"backgroundOpacity\": 0.5});\n\tviewer_170423226069447.addLabel(\"31\",{\"position\": {\"x\": 1.608492, \"y\": -4.948403, \"z\": -2.800468}, \"fontColor\": \"k\", \"fontSize\": 12, \"backgroundColor\": \"white\", \"backgroundOpacity\": 0.5});\n\tviewer_170423226069447.addLabel(\"32\",{\"position\": {\"x\": 0.648714, \"y\": -3.092995, \"z\": -2.277362}, \"fontColor\": \"k\", \"fontSize\": 12, \"backgroundColor\": \"white\", \"backgroundOpacity\": 0.5});\n\tviewer_170423226069447.addLabel(\"33\",{\"position\": {\"x\": 0.596062, \"y\": -3.706661, \"z\": -0.197353}, \"fontColor\": \"k\", \"fontSize\": 12, \"backgroundColor\": \"white\", \"backgroundOpacity\": 0.5});\n\tviewer_170423226069447.addLabel(\"34\",{\"position\": {\"x\": 2.53025, \"y\": -2.337014, \"z\": -1.506576}, \"fontColor\": \"k\", \"fontSize\": 12, \"backgroundColor\": \"white\", \"backgroundOpacity\": 0.5});\n\tviewer_170423226069447.addLabel(\"35\",{\"position\": {\"x\": 1.51782, \"y\": -1.095271, \"z\": 1.096539}, \"fontColor\": \"k\", \"fontSize\": 12, \"backgroundColor\": \"white\", \"backgroundOpacity\": 0.5});\n\tviewer_170423226069447.addLabel(\"36\",{\"position\": {\"x\": 3.437375, \"y\": -4.806088, \"z\": 0.050327}, \"fontColor\": \"k\", \"fontSize\": 12, \"backgroundColor\": \"white\", \"backgroundOpacity\": 0.5});\n\tviewer_170423226069447.addLabel(\"37\",{\"position\": {\"x\": -0.942269, \"y\": -4.795991, \"z\": 0.843921}, \"fontColor\": \"k\", \"fontSize\": 12, \"backgroundColor\": \"white\", \"backgroundOpacity\": 0.5});\n\tviewer_170423226069447.addLabel(\"38\",{\"position\": {\"x\": 2.477597, \"y\": -2.95068, \"z\": 0.573433}, \"fontColor\": \"k\", \"fontSize\": 12, \"backgroundColor\": \"white\", \"backgroundOpacity\": 0.5});\n\tviewer_170423226069447.addLabel(\"39\",{\"position\": {\"x\": 2.424945, \"y\": -3.564345, \"z\": 2.653442}, \"fontColor\": \"k\", \"fontSize\": 12, \"backgroundColor\": \"white\", \"backgroundOpacity\": 0.5});\n\tviewer_170423226069447.addLabel(\"40\",{\"position\": {\"x\": 4.359133, \"y\": -2.194699, \"z\": 1.344219}, \"fontColor\": \"k\", \"fontSize\": 12, \"backgroundColor\": \"white\", \"backgroundOpacity\": 0.5});\n\tviewer_170423226069447.addLabel(\"41\",{\"position\": {\"x\": 3.346703, \"y\": -0.952956, \"z\": 3.947334}, \"fontColor\": \"k\", \"fontSize\": 12, \"backgroundColor\": \"white\", \"backgroundOpacity\": 0.5});\n\tviewer_170423226069447.addLabel(\"42\",{\"position\": {\"x\": -0.290553, \"y\": 0.947014, \"z\": -3.892068}, \"fontColor\": \"k\", \"fontSize\": 12, \"backgroundColor\": \"white\", \"backgroundOpacity\": 0.5});\n\tviewer_170423226069447.addLabel(\"43\",{\"position\": {\"x\": 1.643635, \"y\": 2.316661, \"z\": -5.201291}, \"fontColor\": \"k\", \"fontSize\": 12, \"backgroundColor\": \"white\", \"backgroundOpacity\": 0.5});\n\tviewer_170423226069447.addLabel(\"44\",{\"position\": {\"x\": 0.631206, \"y\": 3.558404, \"z\": -2.598176}, \"fontColor\": \"k\", \"fontSize\": 12, \"backgroundColor\": \"white\", \"backgroundOpacity\": 0.5});\n\tviewer_170423226069447.addLabel(\"45\",{\"position\": {\"x\": 2.550761, \"y\": -0.152413, \"z\": -3.644388}, \"fontColor\": \"k\", \"fontSize\": 12, \"backgroundColor\": \"white\", \"backgroundOpacity\": 0.5});\n\tviewer_170423226069447.addLabel(\"46\",{\"position\": {\"x\": -1.828884, \"y\": -0.142316, \"z\": -2.850795}, \"fontColor\": \"k\", \"fontSize\": 12, \"backgroundColor\": \"white\", \"backgroundOpacity\": 0.5});\n\tviewer_170423226069447.addLabel(\"47\",{\"position\": {\"x\": 1.590983, \"y\": 1.702995, \"z\": -3.121282}, \"fontColor\": \"k\", \"fontSize\": 12, \"backgroundColor\": \"white\", \"backgroundOpacity\": 0.5});\n\tviewer_170423226069447.addLabel(\"48\",{\"position\": {\"x\": 1.538331, \"y\": 1.08933, \"z\": -1.041273}, \"fontColor\": \"k\", \"fontSize\": 12, \"backgroundColor\": \"white\", \"backgroundOpacity\": 0.5});\n\tviewer_170423226069447.addLabel(\"49\",{\"position\": {\"x\": 3.472519, \"y\": 2.458976, \"z\": -2.350497}, \"fontColor\": \"k\", \"fontSize\": 12, \"backgroundColor\": \"white\", \"backgroundOpacity\": 0.5});\n\tviewer_170423226069447.addLabel(\"50\",{\"position\": {\"x\": 2.460089, \"y\": 3.700719, \"z\": 0.252618}, \"fontColor\": \"k\", \"fontSize\": 12, \"backgroundColor\": \"white\", \"backgroundOpacity\": 0.5});\n\tviewer_170423226069447.addLabel(\"51\",{\"position\": {\"x\": 4.379644, \"y\": -0.010097, \"z\": -0.793594}, \"fontColor\": \"k\", \"fontSize\": 12, \"backgroundColor\": \"white\", \"backgroundOpacity\": 0.5});\n\tviewer_170423226069447.addLabel(\"52\",{\"position\": {\"x\": 0.0, \"y\": 0.0, \"z\": 0.0}, \"fontColor\": \"k\", \"fontSize\": 12, \"backgroundColor\": \"white\", \"backgroundOpacity\": 0.5});\n\tviewer_170423226069447.addLabel(\"53\",{\"position\": {\"x\": 3.419867, \"y\": 1.845311, \"z\": -0.270488}, \"fontColor\": \"k\", \"fontSize\": 12, \"backgroundColor\": \"white\", \"backgroundOpacity\": 0.5});\n\tviewer_170423226069447.addLabel(\"54\",{\"position\": {\"x\": 3.367214, \"y\": 1.231646, \"z\": 1.809521}, \"fontColor\": \"k\", \"fontSize\": 12, \"backgroundColor\": \"white\", \"backgroundOpacity\": 0.5});\n\tviewer_170423226069447.addLabel(\"55\",{\"position\": {\"x\": 5.301403, \"y\": 2.601292, \"z\": 0.500298}, \"fontColor\": \"k\", \"fontSize\": 12, \"backgroundColor\": \"white\", \"backgroundOpacity\": 0.5});\n\tviewer_170423226069447.addLabel(\"56\",{\"position\": {\"x\": 1.828884, \"y\": 0.142316, \"z\": 2.850795}, \"fontColor\": \"k\", \"fontSize\": 12, \"backgroundColor\": \"white\", \"backgroundOpacity\": 0.5});\n\tviewer_170423226069447.addLabel(\"57\",{\"position\": {\"x\": 0.942269, \"y\": 4.795991, \"z\": -0.843921}, \"fontColor\": \"k\", \"fontSize\": 12, \"backgroundColor\": \"white\", \"backgroundOpacity\": 0.5});\n\tviewer_170423226069447.addLabel(\"58\",{\"position\": {\"x\": 4.068581, \"y\": -1.247684, \"z\": -2.547849}, \"fontColor\": \"k\", \"fontSize\": 12, \"backgroundColor\": \"white\", \"backgroundOpacity\": 0.5});\n\tviewer_170423226069447.zoomTo();\nviewer_170423226069447.render();\n});\n</script>",
            "text/html": [
              "<div id=\"3dmolviewer_170423226069447\"  style=\"position: relative; width: 500px; height: 500px;\">\n",
              "        <p id=\"3dmolwarning_170423226069447\" style=\"background-color:#ffcccc;color:black\">You appear to be running in JupyterLab (or JavaScript failed to load for some other reason).  You need to install the 3dmol extension: <br>\n",
              "        <tt>jupyter labextension install jupyterlab_3dmol</tt></p>\n",
              "        </div>\n",
              "<script>\n",
              "\n",
              "var loadScriptAsync = function(uri){\n",
              "  return new Promise((resolve, reject) => {\n",
              "    //this is to ignore the existence of requirejs amd\n",
              "    var savedexports, savedmodule;\n",
              "    if (typeof exports !== 'undefined') savedexports = exports;\n",
              "    else exports = {}\n",
              "    if (typeof module !== 'undefined') savedmodule = module;\n",
              "    else module = {}\n",
              "\n",
              "    var tag = document.createElement('script');\n",
              "    tag.src = uri;\n",
              "    tag.async = true;\n",
              "    tag.onload = () => {\n",
              "        exports = savedexports;\n",
              "        module = savedmodule;\n",
              "        resolve();\n",
              "    };\n",
              "  var firstScriptTag = document.getElementsByTagName('script')[0];\n",
              "  firstScriptTag.parentNode.insertBefore(tag, firstScriptTag);\n",
              "});\n",
              "};\n",
              "\n",
              "if(typeof $3Dmolpromise === 'undefined') {\n",
              "$3Dmolpromise = null;\n",
              "  $3Dmolpromise = loadScriptAsync('https://cdnjs.cloudflare.com/ajax/libs/3Dmol/2.0.4/3Dmol-min.js');\n",
              "}\n",
              "\n",
              "var viewer_170423226069447 = null;\n",
              "var warn = document.getElementById(\"3dmolwarning_170423226069447\");\n",
              "if(warn) {\n",
              "    warn.parentNode.removeChild(warn);\n",
              "}\n",
              "$3Dmolpromise.then(function() {\n",
              "viewer_170423226069447 = $3Dmol.createViewer(document.getElementById(\"3dmolviewer_170423226069447\"),{backgroundColor:\"white\"});\n",
              "viewer_170423226069447.zoomTo();\n",
              "\tviewer_170423226069447.addModel(\"59\\n\\nO -5.301403 -2.601292 -0.500298\\nO -3.367214 -1.231646 -1.809521\\nO -4.379644 0.010097 0.793594\\nO -2.460089 -3.700719 -0.252618\\nPb -3.419867 -1.845311 0.270488\\nO -3.472519 -2.458976 2.350497\\nO -1.538331 -1.08933 1.041273\\nO -2.550761 0.152413 3.644388\\nO -0.631206 -3.558404 2.598176\\nPb -1.590983 -1.702995 3.121282\\nO -1.643635 -2.316661 5.201291\\nO 0.290553 -0.947014 3.892068\\nO -3.346703 0.952956 -3.947334\\nO -4.359133 2.194699 -1.344219\\nO -2.424945 3.564345 -2.653442\\nO -3.437375 4.806088 -0.050327\\nO -1.51782 1.095271 -1.096539\\nPb -2.477597 2.95068 -0.573433\\nO -2.53025 2.337014 1.506576\\nO -0.596062 3.706661 0.197353\\nO -1.608492 4.948403 2.800468\\nO 0.311064 1.237587 1.754256\\nPb -4.068581 1.247684 2.547849\\nPb -0.648714 3.092995 2.277362\\nO -0.701366 2.47933 4.357371\\nO 1.232822 3.848976 3.048147\\nO 2.139947 1.379903 4.60505\\nO -2.139947 -1.379903 -4.60505\\nO -1.232822 -3.848976 -3.048147\\nO 0.701366 -2.47933 -4.357371\\nO -0.311064 -1.237587 -1.754256\\nO 1.608492 -4.948403 -2.800468\\nPb 0.648714 -3.092995 -2.277362\\nO 0.596062 -3.706661 -0.197353\\nO 2.53025 -2.337014 -1.506576\\nO 1.51782 -1.095271 1.096539\\nO 3.437375 -4.806088 0.050327\\nPb -0.942269 -4.795991 0.843921\\nPb 2.477597 -2.95068 0.573433\\nO 2.424945 -3.564345 2.653442\\nO 4.359133 -2.194699 1.344219\\nO 3.346703 -0.952956 3.947334\\nO -0.290553 0.947014 -3.892068\\nO 1.643635 2.316661 -5.201291\\nO 0.631206 3.558404 -2.598176\\nO 2.550761 -0.152413 -3.644388\\nPb -1.828884 -0.142316 -2.850795\\nPb 1.590983 1.702995 -3.121282\\nO 1.538331 1.08933 -1.041273\\nO 3.472519 2.458976 -2.350497\\nO 2.460089 3.700719 0.252618\\nO 4.379644 -0.010097 -0.793594\\nPb 0.0 0.0 0.0\\nPb 3.419867 1.845311 -0.270488\\nO 3.367214 1.231646 1.809521\\nO 5.301403 2.601292 0.500298\\nPb 1.828884 0.142316 2.850795\\nPb 0.942269 4.795991 -0.843921\\nPb 4.068581 -1.247684 -2.547849\\n\",\"xyz\");\n",
              "\tviewer_170423226069447.setStyle({\"stick\": {\"radius\": 0.1, \"alpha\": 0.2, \"color\": \"gray\"}, \"sphere\": {\"radius\": 0.3}});\n",
              "\tviewer_170423226069447.addStyle({\"atom\": \"Pb\"},{\"sphere\": {\"color\": \"red\", \"radius\": 0.5}});\n",
              "\tviewer_170423226069447.addStyle({\"atom\": \"O\"},{\"sphere\": {\"color\": \"blue\", \"radius\": 0.3}});\n",
              "\tviewer_170423226069447.setBackgroundColor(\"0xeeeeee\");\n",
              "\tviewer_170423226069447.addLabel(\"0\",{\"position\": {\"x\": -5.301403, \"y\": -2.601292, \"z\": -0.500298}, \"fontColor\": \"k\", \"fontSize\": 12, \"backgroundColor\": \"white\", \"backgroundOpacity\": 0.5});\n",
              "\tviewer_170423226069447.addLabel(\"1\",{\"position\": {\"x\": -3.367214, \"y\": -1.231646, \"z\": -1.809521}, \"fontColor\": \"k\", \"fontSize\": 12, \"backgroundColor\": \"white\", \"backgroundOpacity\": 0.5});\n",
              "\tviewer_170423226069447.addLabel(\"2\",{\"position\": {\"x\": -4.379644, \"y\": 0.010097, \"z\": 0.793594}, \"fontColor\": \"k\", \"fontSize\": 12, \"backgroundColor\": \"white\", \"backgroundOpacity\": 0.5});\n",
              "\tviewer_170423226069447.addLabel(\"3\",{\"position\": {\"x\": -2.460089, \"y\": -3.700719, \"z\": -0.252618}, \"fontColor\": \"k\", \"fontSize\": 12, \"backgroundColor\": \"white\", \"backgroundOpacity\": 0.5});\n",
              "\tviewer_170423226069447.addLabel(\"4\",{\"position\": {\"x\": -3.419867, \"y\": -1.845311, \"z\": 0.270488}, \"fontColor\": \"k\", \"fontSize\": 12, \"backgroundColor\": \"white\", \"backgroundOpacity\": 0.5});\n",
              "\tviewer_170423226069447.addLabel(\"5\",{\"position\": {\"x\": -3.472519, \"y\": -2.458976, \"z\": 2.350497}, \"fontColor\": \"k\", \"fontSize\": 12, \"backgroundColor\": \"white\", \"backgroundOpacity\": 0.5});\n",
              "\tviewer_170423226069447.addLabel(\"6\",{\"position\": {\"x\": -1.538331, \"y\": -1.08933, \"z\": 1.041273}, \"fontColor\": \"k\", \"fontSize\": 12, \"backgroundColor\": \"white\", \"backgroundOpacity\": 0.5});\n",
              "\tviewer_170423226069447.addLabel(\"7\",{\"position\": {\"x\": -2.550761, \"y\": 0.152413, \"z\": 3.644388}, \"fontColor\": \"k\", \"fontSize\": 12, \"backgroundColor\": \"white\", \"backgroundOpacity\": 0.5});\n",
              "\tviewer_170423226069447.addLabel(\"8\",{\"position\": {\"x\": -0.631206, \"y\": -3.558404, \"z\": 2.598176}, \"fontColor\": \"k\", \"fontSize\": 12, \"backgroundColor\": \"white\", \"backgroundOpacity\": 0.5});\n",
              "\tviewer_170423226069447.addLabel(\"9\",{\"position\": {\"x\": -1.590983, \"y\": -1.702995, \"z\": 3.121282}, \"fontColor\": \"k\", \"fontSize\": 12, \"backgroundColor\": \"white\", \"backgroundOpacity\": 0.5});\n",
              "\tviewer_170423226069447.addLabel(\"10\",{\"position\": {\"x\": -1.643635, \"y\": -2.316661, \"z\": 5.201291}, \"fontColor\": \"k\", \"fontSize\": 12, \"backgroundColor\": \"white\", \"backgroundOpacity\": 0.5});\n",
              "\tviewer_170423226069447.addLabel(\"11\",{\"position\": {\"x\": 0.290553, \"y\": -0.947014, \"z\": 3.892068}, \"fontColor\": \"k\", \"fontSize\": 12, \"backgroundColor\": \"white\", \"backgroundOpacity\": 0.5});\n",
              "\tviewer_170423226069447.addLabel(\"12\",{\"position\": {\"x\": -3.346703, \"y\": 0.952956, \"z\": -3.947334}, \"fontColor\": \"k\", \"fontSize\": 12, \"backgroundColor\": \"white\", \"backgroundOpacity\": 0.5});\n",
              "\tviewer_170423226069447.addLabel(\"13\",{\"position\": {\"x\": -4.359133, \"y\": 2.194699, \"z\": -1.344219}, \"fontColor\": \"k\", \"fontSize\": 12, \"backgroundColor\": \"white\", \"backgroundOpacity\": 0.5});\n",
              "\tviewer_170423226069447.addLabel(\"14\",{\"position\": {\"x\": -2.424945, \"y\": 3.564345, \"z\": -2.653442}, \"fontColor\": \"k\", \"fontSize\": 12, \"backgroundColor\": \"white\", \"backgroundOpacity\": 0.5});\n",
              "\tviewer_170423226069447.addLabel(\"15\",{\"position\": {\"x\": -3.437375, \"y\": 4.806088, \"z\": -0.050327}, \"fontColor\": \"k\", \"fontSize\": 12, \"backgroundColor\": \"white\", \"backgroundOpacity\": 0.5});\n",
              "\tviewer_170423226069447.addLabel(\"16\",{\"position\": {\"x\": -1.51782, \"y\": 1.095271, \"z\": -1.096539}, \"fontColor\": \"k\", \"fontSize\": 12, \"backgroundColor\": \"white\", \"backgroundOpacity\": 0.5});\n",
              "\tviewer_170423226069447.addLabel(\"17\",{\"position\": {\"x\": -2.477597, \"y\": 2.95068, \"z\": -0.573433}, \"fontColor\": \"k\", \"fontSize\": 12, \"backgroundColor\": \"white\", \"backgroundOpacity\": 0.5});\n",
              "\tviewer_170423226069447.addLabel(\"18\",{\"position\": {\"x\": -2.53025, \"y\": 2.337014, \"z\": 1.506576}, \"fontColor\": \"k\", \"fontSize\": 12, \"backgroundColor\": \"white\", \"backgroundOpacity\": 0.5});\n",
              "\tviewer_170423226069447.addLabel(\"19\",{\"position\": {\"x\": -0.596062, \"y\": 3.706661, \"z\": 0.197353}, \"fontColor\": \"k\", \"fontSize\": 12, \"backgroundColor\": \"white\", \"backgroundOpacity\": 0.5});\n",
              "\tviewer_170423226069447.addLabel(\"20\",{\"position\": {\"x\": -1.608492, \"y\": 4.948403, \"z\": 2.800468}, \"fontColor\": \"k\", \"fontSize\": 12, \"backgroundColor\": \"white\", \"backgroundOpacity\": 0.5});\n",
              "\tviewer_170423226069447.addLabel(\"21\",{\"position\": {\"x\": 0.311064, \"y\": 1.237587, \"z\": 1.754256}, \"fontColor\": \"k\", \"fontSize\": 12, \"backgroundColor\": \"white\", \"backgroundOpacity\": 0.5});\n",
              "\tviewer_170423226069447.addLabel(\"22\",{\"position\": {\"x\": -4.068581, \"y\": 1.247684, \"z\": 2.547849}, \"fontColor\": \"k\", \"fontSize\": 12, \"backgroundColor\": \"white\", \"backgroundOpacity\": 0.5});\n",
              "\tviewer_170423226069447.addLabel(\"23\",{\"position\": {\"x\": -0.648714, \"y\": 3.092995, \"z\": 2.277362}, \"fontColor\": \"k\", \"fontSize\": 12, \"backgroundColor\": \"white\", \"backgroundOpacity\": 0.5});\n",
              "\tviewer_170423226069447.addLabel(\"24\",{\"position\": {\"x\": -0.701366, \"y\": 2.47933, \"z\": 4.357371}, \"fontColor\": \"k\", \"fontSize\": 12, \"backgroundColor\": \"white\", \"backgroundOpacity\": 0.5});\n",
              "\tviewer_170423226069447.addLabel(\"25\",{\"position\": {\"x\": 1.232822, \"y\": 3.848976, \"z\": 3.048147}, \"fontColor\": \"k\", \"fontSize\": 12, \"backgroundColor\": \"white\", \"backgroundOpacity\": 0.5});\n",
              "\tviewer_170423226069447.addLabel(\"26\",{\"position\": {\"x\": 2.139947, \"y\": 1.379903, \"z\": 4.60505}, \"fontColor\": \"k\", \"fontSize\": 12, \"backgroundColor\": \"white\", \"backgroundOpacity\": 0.5});\n",
              "\tviewer_170423226069447.addLabel(\"27\",{\"position\": {\"x\": -2.139947, \"y\": -1.379903, \"z\": -4.60505}, \"fontColor\": \"k\", \"fontSize\": 12, \"backgroundColor\": \"white\", \"backgroundOpacity\": 0.5});\n",
              "\tviewer_170423226069447.addLabel(\"28\",{\"position\": {\"x\": -1.232822, \"y\": -3.848976, \"z\": -3.048147}, \"fontColor\": \"k\", \"fontSize\": 12, \"backgroundColor\": \"white\", \"backgroundOpacity\": 0.5});\n",
              "\tviewer_170423226069447.addLabel(\"29\",{\"position\": {\"x\": 0.701366, \"y\": -2.47933, \"z\": -4.357371}, \"fontColor\": \"k\", \"fontSize\": 12, \"backgroundColor\": \"white\", \"backgroundOpacity\": 0.5});\n",
              "\tviewer_170423226069447.addLabel(\"30\",{\"position\": {\"x\": -0.311064, \"y\": -1.237587, \"z\": -1.754256}, \"fontColor\": \"k\", \"fontSize\": 12, \"backgroundColor\": \"white\", \"backgroundOpacity\": 0.5});\n",
              "\tviewer_170423226069447.addLabel(\"31\",{\"position\": {\"x\": 1.608492, \"y\": -4.948403, \"z\": -2.800468}, \"fontColor\": \"k\", \"fontSize\": 12, \"backgroundColor\": \"white\", \"backgroundOpacity\": 0.5});\n",
              "\tviewer_170423226069447.addLabel(\"32\",{\"position\": {\"x\": 0.648714, \"y\": -3.092995, \"z\": -2.277362}, \"fontColor\": \"k\", \"fontSize\": 12, \"backgroundColor\": \"white\", \"backgroundOpacity\": 0.5});\n",
              "\tviewer_170423226069447.addLabel(\"33\",{\"position\": {\"x\": 0.596062, \"y\": -3.706661, \"z\": -0.197353}, \"fontColor\": \"k\", \"fontSize\": 12, \"backgroundColor\": \"white\", \"backgroundOpacity\": 0.5});\n",
              "\tviewer_170423226069447.addLabel(\"34\",{\"position\": {\"x\": 2.53025, \"y\": -2.337014, \"z\": -1.506576}, \"fontColor\": \"k\", \"fontSize\": 12, \"backgroundColor\": \"white\", \"backgroundOpacity\": 0.5});\n",
              "\tviewer_170423226069447.addLabel(\"35\",{\"position\": {\"x\": 1.51782, \"y\": -1.095271, \"z\": 1.096539}, \"fontColor\": \"k\", \"fontSize\": 12, \"backgroundColor\": \"white\", \"backgroundOpacity\": 0.5});\n",
              "\tviewer_170423226069447.addLabel(\"36\",{\"position\": {\"x\": 3.437375, \"y\": -4.806088, \"z\": 0.050327}, \"fontColor\": \"k\", \"fontSize\": 12, \"backgroundColor\": \"white\", \"backgroundOpacity\": 0.5});\n",
              "\tviewer_170423226069447.addLabel(\"37\",{\"position\": {\"x\": -0.942269, \"y\": -4.795991, \"z\": 0.843921}, \"fontColor\": \"k\", \"fontSize\": 12, \"backgroundColor\": \"white\", \"backgroundOpacity\": 0.5});\n",
              "\tviewer_170423226069447.addLabel(\"38\",{\"position\": {\"x\": 2.477597, \"y\": -2.95068, \"z\": 0.573433}, \"fontColor\": \"k\", \"fontSize\": 12, \"backgroundColor\": \"white\", \"backgroundOpacity\": 0.5});\n",
              "\tviewer_170423226069447.addLabel(\"39\",{\"position\": {\"x\": 2.424945, \"y\": -3.564345, \"z\": 2.653442}, \"fontColor\": \"k\", \"fontSize\": 12, \"backgroundColor\": \"white\", \"backgroundOpacity\": 0.5});\n",
              "\tviewer_170423226069447.addLabel(\"40\",{\"position\": {\"x\": 4.359133, \"y\": -2.194699, \"z\": 1.344219}, \"fontColor\": \"k\", \"fontSize\": 12, \"backgroundColor\": \"white\", \"backgroundOpacity\": 0.5});\n",
              "\tviewer_170423226069447.addLabel(\"41\",{\"position\": {\"x\": 3.346703, \"y\": -0.952956, \"z\": 3.947334}, \"fontColor\": \"k\", \"fontSize\": 12, \"backgroundColor\": \"white\", \"backgroundOpacity\": 0.5});\n",
              "\tviewer_170423226069447.addLabel(\"42\",{\"position\": {\"x\": -0.290553, \"y\": 0.947014, \"z\": -3.892068}, \"fontColor\": \"k\", \"fontSize\": 12, \"backgroundColor\": \"white\", \"backgroundOpacity\": 0.5});\n",
              "\tviewer_170423226069447.addLabel(\"43\",{\"position\": {\"x\": 1.643635, \"y\": 2.316661, \"z\": -5.201291}, \"fontColor\": \"k\", \"fontSize\": 12, \"backgroundColor\": \"white\", \"backgroundOpacity\": 0.5});\n",
              "\tviewer_170423226069447.addLabel(\"44\",{\"position\": {\"x\": 0.631206, \"y\": 3.558404, \"z\": -2.598176}, \"fontColor\": \"k\", \"fontSize\": 12, \"backgroundColor\": \"white\", \"backgroundOpacity\": 0.5});\n",
              "\tviewer_170423226069447.addLabel(\"45\",{\"position\": {\"x\": 2.550761, \"y\": -0.152413, \"z\": -3.644388}, \"fontColor\": \"k\", \"fontSize\": 12, \"backgroundColor\": \"white\", \"backgroundOpacity\": 0.5});\n",
              "\tviewer_170423226069447.addLabel(\"46\",{\"position\": {\"x\": -1.828884, \"y\": -0.142316, \"z\": -2.850795}, \"fontColor\": \"k\", \"fontSize\": 12, \"backgroundColor\": \"white\", \"backgroundOpacity\": 0.5});\n",
              "\tviewer_170423226069447.addLabel(\"47\",{\"position\": {\"x\": 1.590983, \"y\": 1.702995, \"z\": -3.121282}, \"fontColor\": \"k\", \"fontSize\": 12, \"backgroundColor\": \"white\", \"backgroundOpacity\": 0.5});\n",
              "\tviewer_170423226069447.addLabel(\"48\",{\"position\": {\"x\": 1.538331, \"y\": 1.08933, \"z\": -1.041273}, \"fontColor\": \"k\", \"fontSize\": 12, \"backgroundColor\": \"white\", \"backgroundOpacity\": 0.5});\n",
              "\tviewer_170423226069447.addLabel(\"49\",{\"position\": {\"x\": 3.472519, \"y\": 2.458976, \"z\": -2.350497}, \"fontColor\": \"k\", \"fontSize\": 12, \"backgroundColor\": \"white\", \"backgroundOpacity\": 0.5});\n",
              "\tviewer_170423226069447.addLabel(\"50\",{\"position\": {\"x\": 2.460089, \"y\": 3.700719, \"z\": 0.252618}, \"fontColor\": \"k\", \"fontSize\": 12, \"backgroundColor\": \"white\", \"backgroundOpacity\": 0.5});\n",
              "\tviewer_170423226069447.addLabel(\"51\",{\"position\": {\"x\": 4.379644, \"y\": -0.010097, \"z\": -0.793594}, \"fontColor\": \"k\", \"fontSize\": 12, \"backgroundColor\": \"white\", \"backgroundOpacity\": 0.5});\n",
              "\tviewer_170423226069447.addLabel(\"52\",{\"position\": {\"x\": 0.0, \"y\": 0.0, \"z\": 0.0}, \"fontColor\": \"k\", \"fontSize\": 12, \"backgroundColor\": \"white\", \"backgroundOpacity\": 0.5});\n",
              "\tviewer_170423226069447.addLabel(\"53\",{\"position\": {\"x\": 3.419867, \"y\": 1.845311, \"z\": -0.270488}, \"fontColor\": \"k\", \"fontSize\": 12, \"backgroundColor\": \"white\", \"backgroundOpacity\": 0.5});\n",
              "\tviewer_170423226069447.addLabel(\"54\",{\"position\": {\"x\": 3.367214, \"y\": 1.231646, \"z\": 1.809521}, \"fontColor\": \"k\", \"fontSize\": 12, \"backgroundColor\": \"white\", \"backgroundOpacity\": 0.5});\n",
              "\tviewer_170423226069447.addLabel(\"55\",{\"position\": {\"x\": 5.301403, \"y\": 2.601292, \"z\": 0.500298}, \"fontColor\": \"k\", \"fontSize\": 12, \"backgroundColor\": \"white\", \"backgroundOpacity\": 0.5});\n",
              "\tviewer_170423226069447.addLabel(\"56\",{\"position\": {\"x\": 1.828884, \"y\": 0.142316, \"z\": 2.850795}, \"fontColor\": \"k\", \"fontSize\": 12, \"backgroundColor\": \"white\", \"backgroundOpacity\": 0.5});\n",
              "\tviewer_170423226069447.addLabel(\"57\",{\"position\": {\"x\": 0.942269, \"y\": 4.795991, \"z\": -0.843921}, \"fontColor\": \"k\", \"fontSize\": 12, \"backgroundColor\": \"white\", \"backgroundOpacity\": 0.5});\n",
              "\tviewer_170423226069447.addLabel(\"58\",{\"position\": {\"x\": 4.068581, \"y\": -1.247684, \"z\": -2.547849}, \"fontColor\": \"k\", \"fontSize\": 12, \"backgroundColor\": \"white\", \"backgroundOpacity\": 0.5});\n",
              "\tviewer_170423226069447.zoomTo();\n",
              "viewer_170423226069447.render();\n",
              "});\n",
              "</script>"
            ]
          },
          "metadata": {},
          "output_type": "display_data"
        },
        {
          "name": "stdout",
          "output_type": "stream",
          "text": [
            "Cluster size is 5.926372577426853 A\n"
          ]
        },
        {
          "data": {
            "text/plain": [
              "77.22881138431894"
            ]
          },
          "execution_count": 8,
          "metadata": {},
          "output_type": "execute_result"
        }
      ],
      "source": [
        "test = ClusterNeighbor()\n",
        "test.load_xyz(fc.value)\n",
        "test.view_xyz(highlight_atom1=\"Pb\", highlight_atom2=\"O\", label=True)\n",
        "test.get_cluster_size()\n",
        "test.atoms.get_angle(1,4,0)"
      ]
    },
    {
      "cell_type": "code",
      "execution_count": null,
      "metadata": {},
      "outputs": [],
      "source": [
        "# Calculate distances\n",
        "# The 'vector=False' argument returns distances as scalars (magnitudes)\n",
        "distance_matrix = atoms.get_distances(mic=False, vector=False)\n",
        "\n",
        "# Print the distance matrix\n",
        "print(\"Distance matrix:\")\n",
        "print(distance_matrix)\n",
        "\n",
        "# If you want to print individual distances\n",
        "num_atoms = len(atoms)\n",
        "for i in range(num_atoms):\n",
        "    for j in range(i + 1, num_atoms):\n",
        "        print(f\"Distance between atom {i} and atom {j}: {distance_matrix[i][j]} Å\")\n"
      ]
    },
    {
      "cell_type": "code",
      "execution_count": null,
      "metadata": {},
      "outputs": [],
      "source": [
        "\n",
        "elements = [xyz_sorted[i][0] for i in range(len(compound))]\n",
        "\n",
        "coordinates = [np.array([float(xyz_sorted[i][1]),\n",
        "                         float(xyz_sorted[i][2]), \n",
        "                         float(xyz_sorted[i][3])]) for i in range(len(compound))]\n",
        "\n",
        "\n",
        "num_atoms = len(elements)\n",
        "output = {\"unique_pairs_all\":{},\n",
        "          \"pairs_all\":[],\n",
        "          \"unique_element\":list(set(elements)),\n",
        "          \"element_num\":{},\n",
        "          \"bond_num\":{}\n",
        "          }\n",
        "\n",
        "for i in range(num_atoms):\n",
        "    atom_i = elements[i]\n",
        "    atom_unique_i = f\"{elements[i]}({i:d})\"\n",
        "    for j in range(num_atoms):\n",
        "        if j !=i:\n",
        "            atom_j = elements[j]\n",
        "            atom_unique_j = f\"{elements[j]}({j:d})\"\n",
        "            distance = calculate_distance(coordinates[i], coordinates[j])\n",
        "            output['pairs_all'].append(f\"{atom_i}-{atom_j}\")\n",
        "            output['unique_pairs_all'][f\"{atom_unique_i}-{atom_unique_j}\"] = distance\n",
        "            # print(f\"{atom_unique_i}-{atom_unique_j}: {distance} Å\")\n",
        "\n",
        "output[\"bond_types\"] = list(set(output['pairs_all']))\n",
        "\n",
        "for element_i in output[\"unique_element\"]:\n",
        "    output['element_num'][element_i] = elements.count(element_i)\n",
        "\n",
        "\n",
        "bond_type = output[\"bond_types\"]\n",
        "\n",
        "for bond_i in output[\"bond_types\"]:\n",
        "    # print(bond_i)\n",
        "    element1, element2 = bond_i.split(\"-\")\n",
        "    pattern = rf'{element1}\\(\\d+\\)-{element2}\\(\\d+\\)'\n",
        "    output[f\"{bond_i}_num\"] = {}\n",
        "    for key_i in output['unique_pairs_all'].keys():\n",
        "        if re.match(pattern, key_i):\n",
        "            output[f\"{bond_i}_num\"][key_i] = output['unique_pairs_all'][key_i]\n"
      ]
    },
    {
      "cell_type": "code",
      "execution_count": null,
      "metadata": {},
      "outputs": [],
      "source": [
        "plt.figure(figsize=(10,3))\n",
        "for key_i in output['bond_types']:\n",
        "    plt.hist(output[f\"{key_i}_num\"].values(), bins=80, alpha=0.3, edgecolor='white', label=key_i)\n",
        "plt.xlabel(\"Distance [Å]\")\n",
        "plt.ylabel(\"Number of pairs\")\n",
        "plt.legend()\n",
        "plt.ylim(0, 180)\n",
        "plt.tight_layout()\n",
        "plt.show()"
      ]
    },
    {
      "cell_type": "markdown",
      "metadata": {},
      "source": [
        "# within 0.001 A is considered as same distance, cakculate all distances\n",
        "\n",
        "# cluster size = longest distances/2"
      ]
    },
    {
      "cell_type": "code",
      "execution_count": null,
      "metadata": {},
      "outputs": [],
      "source": [
        "def CN_calc(R_range=[1,3], pair=None):\n",
        "    shell_distances = {}\n",
        "    element = pair.split(\"-\")[0]\n",
        "    for key_i in output[f\"{pair}_num\"].keys():\n",
        "        if R_range[0] < output[f\"{pair}_num\"][key_i] < R_range[1]:\n",
        "            shell_distances[key_i] = output[f\"{pair}_num\"][key_i]\n",
        "    CN_num = len(shell_distances.values())/output['element_num'][element]\n",
        "    print(f\"Average CN of {element} element: {CN_num}\")\n",
        "    average_distance = np.average(np.array(list(shell_distances.values())))\n",
        "    print(f\"Average distance of {pair} pair: {average_distance} \\n\")\n",
        "    return shell_distances, average_distance\n",
        "\n",
        "\n",
        "result = CN_calc(R_range=[1,5], pair=\"O-O\")\n",
        "# result = CN_calc(R_range=[3,3.1], pair=\"O-O\")\n",
        "# result = CN_calc(R_range=[3.3,3.1], pair=\"O-O\")\n",
        "\n",
        "# result = CN_calc(R_range=[2,2.16], pair=\"O-Pb\")\n",
        "# result = CN_calc(R_range=[2.16,3.7], pair=\"O-Pb\")"
      ]
    },
    {
      "cell_type": "code",
      "execution_count": null,
      "metadata": {},
      "outputs": [],
      "source": [
        "from operator import itemgetter\n",
        "\n",
        "data = output[\"Pb-O_num\"]\n",
        "\n",
        "# Sort the dictionary by its values\n",
        "sorted_items = sorted(data.items(), key=itemgetter(1))\n",
        "sorted_data = dict(sorted_items)\n",
        "\n",
        "print(sorted_dict)"
      ]
    },
    {
      "cell_type": "code",
      "execution_count": null,
      "metadata": {},
      "outputs": [],
      "source": [
        "my_dict = {\"a\": 3, \"b\": 1, \"c\": 2}\n",
        "\n",
        "# Sort the dictionary by its values and create a new dictionary\n",
        "sorted_dict = {k: v for k, v in sorted(my_dict.items(), key=lambda item: item[1])}\n",
        "\n",
        "print(sorted_dict)\n"
      ]
    },
    {
      "cell_type": "code",
      "execution_count": null,
      "metadata": {},
      "outputs": [],
      "source": [
        "sorted(my_dict.items())"
      ]
    },
    {
      "cell_type": "code",
      "execution_count": null,
      "metadata": {},
      "outputs": [],
      "source": [
        "from operator import itemgetter\n",
        "\n",
        "my_dict = {\"a\": 3, \"b\": 1, \"c\": 2}\n",
        "\n",
        "# Sort the dictionary by its values\n",
        "sorted_items = sorted(my_dict.items(), key=itemgetter(1))\n",
        "\n",
        "# Create a new dictionary from the sorted items\n",
        "sorted_dict = dict(sorted_items)\n",
        "\n",
        "print(sorted_dict)\n"
      ]
    },
    {
      "cell_type": "code",
      "execution_count": null,
      "metadata": {},
      "outputs": [],
      "source": [
        "output[\"Pb-O_num\"]"
      ]
    },
    {
      "cell_type": "code",
      "execution_count": null,
      "metadata": {},
      "outputs": [],
      "source": [
        "import pandas as pd"
      ]
    },
    {
      "cell_type": "code",
      "execution_count": null,
      "metadata": {},
      "outputs": [],
      "source": [
        "# Creating a DataFrame with hierarchical columns\n",
        "df = pd.DataFrame(data={('A', 'x'): [1, 2, 3], ('A', 'y'): [4, 5, 6], ('B', 'x'): [7, 8, 9]})\n",
        "\n",
        "print(df)\n"
      ]
    },
    {
      "cell_type": "code",
      "execution_count": null,
      "metadata": {},
      "outputs": [],
      "source": [
        "def group_data(data, error_bar=0.01):\n",
        "\n",
        "    sorted_items = sorted(data.items(), key=itemgetter(1))\n",
        "    data_sorted = dict(sorted_items)\n",
        "    diff = np.diff(data_sorted.values())\n",
        "    indices = np.where(diff > error_bar)[0] + 1\n",
        "\n",
        "    # Split the array at these indices\n",
        "    return np.split(data_sorted, indices)\n",
        "\n",
        "# Example data values\n",
        "data_values = np.array(output['O-O_num'])\n",
        "\n",
        "# Grouping the data\n",
        "grouped_data = group_data(data_values)\n",
        "\n",
        "# Print the grouped data\n",
        "for group in grouped_data:\n",
        "    print(group)\n"
      ]
    },
    {
      "cell_type": "code",
      "execution_count": null,
      "metadata": {},
      "outputs": [],
      "source": [
        "df"
      ]
    },
    {
      "cell_type": "code",
      "execution_count": null,
      "metadata": {},
      "outputs": [],
      "source": [
        "import pandas as pd\n",
        "\n",
        "data_values = output[\"Pb-O_num\"]\n",
        "\n",
        "df = pd.DataFrame(list(data_values.items()), columns=['Key', 'Value'])\n",
        "df = df.sort_values(by='Value')\n",
        "\n",
        "# Function to group keys based on value difference threshold\n",
        "def group_keys(df, threshold=0.01):\n",
        "    # Create an empty list to store groups\n",
        "    groups = []\n",
        "    current_group = [df.iloc[0]['Key']]\n",
        "\n",
        "    for i in range(1, len(df)):\n",
        "        # Check if the current value is within the threshold of the previous value\n",
        "        if abs(df.iloc[i]['Value'] - df.iloc[i-1]['Value']) <= threshold:\n",
        "            current_group.append(df.iloc[i]['Key'])\n",
        "        else:\n",
        "            # If not, add the current group to groups and start a new group\n",
        "            groups.append(current_group)\n",
        "            current_group = [df.iloc[i]['Key']]\n",
        "\n",
        "    # Add the last group to groups\n",
        "    groups.append(current_group)\n",
        "\n",
        "    return groups\n",
        "\n",
        "# Grouping the keys\n",
        "grouped_keys = group_keys(df)\n",
        "\n",
        "# Print the grouped keys\n",
        "# for group in grouped_keys:\n",
        "    # print(group)\n"
      ]
    },
    {
      "cell_type": "code",
      "execution_count": null,
      "metadata": {},
      "outputs": [],
      "source": [
        "elements_shinked, coordinates_shrinked = shrink_cluster(elements, coordinates, radius=5)"
      ]
    },
    {
      "cell_type": "code",
      "execution_count": null,
      "metadata": {},
      "outputs": [],
      "source": [
        "elements = elements_shinked\n",
        "coordinates = coordinates_shrinked\n",
        "num_atoms = len(elements)\n",
        "output = {\"unique_pairs_all\":{},\n",
        "          \"pairs_all\":[],\n",
        "          \"unique_element\":list(set(elements)),\n",
        "          \"element_num\":{},\n",
        "          \"bond_num\":{}\n",
        "          }\n",
        "\n",
        "for i in range(num_atoms):\n",
        "    atom_i = elements[i]\n",
        "    atom_unique_i = f\"{elements[i]}({i:d})\"\n",
        "    for j in range(num_atoms):\n",
        "        if j !=i:\n",
        "            atom_j = elements[j]\n",
        "            atom_unique_j = f\"{elements[j]}({j:d})\"\n",
        "            distance = calculate_distance(coordinates[i], coordinates[j])\n",
        "            output['pairs_all'].append(f\"{atom_i}-{atom_j}\")\n",
        "            output['unique_pairs_all'][f\"{atom_unique_i}-{atom_unique_j}\"] = distance\n",
        "            # print(f\"{atom_unique_i}-{atom_unique_j}: {distance} Å\")\n",
        "\n",
        "output[\"bond_types\"] = list(set(output['pairs_all']))\n",
        "for element_i in output[\"unique_element\"]:\n",
        "    output['element_num'][element_i] = elements.count(element_i)\n",
        "\n",
        "\n",
        "bond_type = output[\"bond_types\"]\n",
        "\n",
        "for bond_i in output[\"bond_types\"]:\n",
        "    # print(bond_i)\n",
        "    element1, element2 = bond_i.split(\"-\")\n",
        "    pattern = rf'{element1}\\(\\d+\\)-{element2}\\(\\d+\\)'\n",
        "    output[f\"{bond_i}_num\"] = {}\n",
        "    for key_i in output['unique_pairs_all'].keys():\n",
        "        if re.match(pattern, key_i):\n",
        "            output[f\"{bond_i}_num\"][key_i] = output['unique_pairs_all'][key_i]\n",
        "\n"
      ]
    },
    {
      "cell_type": "code",
      "execution_count": null,
      "metadata": {},
      "outputs": [],
      "source": [
        "plt.figure(figsize=(10,3))\n",
        "for key_i in output['bond_types']:\n",
        "    plt.hist(output[f\"{key_i}_num\"].values(), bins=80, alpha=0.3, edgecolor='white', label=key_i)\n",
        "plt.xlabel(\"Distance [Å]\")\n",
        "plt.ylabel(\"Number of pairs\")\n",
        "plt.legend()\n",
        "plt.ylim(0, 180)\n",
        "plt.tight_layout()\n",
        "plt.show()"
      ]
    },
    {
      "cell_type": "code",
      "execution_count": null,
      "metadata": {},
      "outputs": [],
      "source": [
        "def CN_calc(R_range=[1,3], pair=None):\n",
        "    shell_distances = {}\n",
        "    element = pair.split(\"-\")[0]\n",
        "    for key_i in output[f\"{pair}_num\"].keys():\n",
        "        if R_range[0] < output[f\"{pair}_num\"][key_i] < R_range[1]:\n",
        "            shell_distances[key_i] = output[f\"{pair}_num\"][key_i]\n",
        "    CN_num = len(shell_distances.values())/output['element_num'][element]\n",
        "    print(f\"Average CN of {element} element: {CN_num}\")\n",
        "    average_distance = np.average(np.array(list(shell_distances.values())))\n",
        "    print(f\"Average distance of {pair} pair: {average_distance} \\n\")\n",
        "    return shell_distances, average_distance\n",
        "\n",
        "\n",
        "result = CN_calc(R_range=[1,3], pair=\"O-O\")\n",
        "result = CN_calc(R_range=[3,3.1], pair=\"O-O\")\n",
        "result = CN_calc(R_range=[3.3,3.1], pair=\"O-O\")\n",
        "\n",
        "result = CN_calc(R_range=[2,2.16], pair=\"Pb-O\")\n",
        "result = CN_calc(R_range=[2.16,3.7], pair=\"Pb-O\")"
      ]
    },
    {
      "cell_type": "markdown",
      "metadata": {},
      "source": [
        "75/number of Pd num_atoms (coordinations )\n",
        "\n",
        "1. CN of Pd atoms, CN of Oxygen\n",
        "2. calculate radius of the cluster: longest distance from (0,0,0)\n",
        "3. increase radius of the cluster, doesn't need to shrink/expand the bond lengths, chop the hist and calculate the CN again\n",
        "4. cif file --> cluster, increase clusters"
      ]
    },
    {
      "cell_type": "markdown",
      "metadata": {
        "id": "4hOvXO7gGx5Y"
      },
      "source": [
        "Display local file."
      ]
    },
    {
      "cell_type": "code",
      "execution_count": null,
      "metadata": {
        "colab": {
          "base_uri": "https://localhost:8080/",
          "height": 497
        },
        "id": "ejxuswl7Gx5Z",
        "outputId": "09321864-09ec-45cd-ec0c-17994dbe407f"
      },
      "outputs": [],
      "source": [
        "benz='''\n",
        "     RDKit          3D\n",
        "\n",
        "  6  6  0  0  0  0  0  0  0  0999 V2000\n",
        "   -0.9517    0.7811   -0.6622 C   0  0  0  0  0  0  0  0  0  0  0  0\n",
        "    0.2847    1.3329   -0.3121 C   0  0  0  0  0  0  0  0  0  0  0  0\n",
        "    1.2365    0.5518    0.3512 C   0  0  0  0  0  0  0  0  0  0  0  0\n",
        "    0.9517   -0.7811    0.6644 C   0  0  0  0  0  0  0  0  0  0  0  0\n",
        "   -0.2847   -1.3329    0.3144 C   0  0  0  0  0  0  0  0  0  0  0  0\n",
        "   -1.2365   -0.5518   -0.3489 C   0  0  0  0  0  0  0  0  0  0  0  0\n",
        "  1  2  2  0\n",
        "  2  3  1  0\n",
        "  3  4  2  0\n",
        "  4  5  1  0\n",
        "  5  6  2  0\n",
        "  6  1  1  0\n",
        "M  END\n",
        "$$$$'''\n",
        "view = py3Dmol.view(data=benz,\n",
        "                    style={'stick':{'colorscheme':'cyanCarbon'}},\n",
        "                    width=400,height=200\n",
        "                    )\n",
        "view.show()"
      ]
    },
    {
      "cell_type": "markdown",
      "metadata": {
        "id": "mp2qaHk6Gx5c"
      },
      "source": [
        "You can create a single canvas object with multiple viewers arrayed in a grid (3Dmol.createViewerGrid)."
      ]
    },
    {
      "cell_type": "code",
      "execution_count": null,
      "metadata": {
        "colab": {
          "base_uri": "https://localhost:8080/",
          "height": 514
        },
        "id": "3uNCGj3DGx5d",
        "outputId": "d2dd20ee-fff7-4dbb-835d-d0009da78b0c"
      },
      "outputs": [],
      "source": [
        "view = py3Dmol.view(query='pdb:1dc9',linked=False,viewergrid=(2,2))\n",
        "view.setViewStyle({'style':'outline','color':'black','width':0.1})\n",
        "view.setStyle({'cartoon':{'arrows':True, 'tubes':True, 'style':'oval', 'color':'white'}},viewer=(0,1))\n",
        "view.setStyle({'stick':{'colorscheme':'greenCarbon'}},viewer=(1,0))\n",
        "view.setStyle({'cartoon':{'color':'spectrum'}},viewer=(1,1))\n",
        "view.removeAllModels(viewer=(0,0))\n",
        "view.addModel(benz,'sdf',viewer=(0,0))\n",
        "view.setStyle({'stick':{}},viewer=(0,0))\n",
        "view.zoomTo(viewer=(0,0))\n",
        "view.render()"
      ]
    },
    {
      "cell_type": "code",
      "execution_count": null,
      "metadata": {
        "colab": {
          "base_uri": "https://localhost:8080/",
          "height": 497
        },
        "id": "0N6PEYCyGx5g",
        "outputId": "8f2eaf99-50f2-4cf1-da7a-3f36aa5b79cd"
      },
      "outputs": [],
      "source": [
        "view = py3Dmol.view(query='pdb:1ycr')\n",
        "chA = {'chain':'A'}\n",
        "chB = {'chain':'B'}\n",
        "view.setStyle(chA,{'cartoon': {'color':'spectrum'}})\n",
        "view.addSurface(py3Dmol.VDW,{'opacity':0.7,'color':'white'}, chA)\n",
        "view.setStyle(chB,{'stick':{}})\n",
        "view.show()"
      ]
    },
    {
      "cell_type": "code",
      "execution_count": null,
      "metadata": {
        "colab": {
          "base_uri": "https://localhost:8080/",
          "height": 497
        },
        "id": "SSsF9Nh_Gx5j",
        "outputId": "9181f6d0-d0d1-45a9-834a-b17a9476196a"
      },
      "outputs": [],
      "source": [
        "view = py3Dmol.view(query='pdb:5ire',options={'doAssembly':True})\n",
        "view.setStyle({'cartoon':{'color':'spectrum'}})\n",
        "view.show()"
      ]
    },
    {
      "cell_type": "markdown",
      "metadata": {
        "id": "FCmLZ7tIGx5m"
      },
      "source": [
        "Color by temperature factors"
      ]
    },
    {
      "cell_type": "code",
      "execution_count": null,
      "metadata": {
        "colab": {
          "base_uri": "https://localhost:8080/",
          "height": 514
        },
        "id": "U420WW_tGx5m",
        "outputId": "eab0e9d6-0a9b-4ba9-c24e-bb2d0570c8e8"
      },
      "outputs": [],
      "source": [
        "view = py3Dmol.view(query='pdb:1ycr')\n",
        "view.setStyle({'cartoon': {'color':'white'}})\n",
        "view.addSurface(py3Dmol.VDW,{'opacity':0.7,'colorscheme':{'prop':'b','gradient':'sinebow','min':0,'max':70}})"
      ]
    },
    {
      "cell_type": "code",
      "execution_count": null,
      "metadata": {
        "colab": {
          "base_uri": "https://localhost:8080/",
          "height": 514
        },
        "id": "J7AzQ0ZCGx5s",
        "outputId": "23c87352-7526-46f7-8777-c45be7c50875"
      },
      "outputs": [],
      "source": [
        "import requests, base64\n",
        "r = requests.get('https://mmtf.rcsb.org/v1.0/full/5lgo')\n",
        "view = py3Dmol.view()\n",
        "view.addModel(base64.b64encode(r.content).decode(),'mmtf')\n",
        "view.addUnitCell()\n",
        "view.zoomTo()"
      ]
    },
    {
      "cell_type": "markdown",
      "metadata": {
        "id": "vi_tFDsMGx5v"
      },
      "source": [
        "Specifying individual styles for a viewer grid in the constructor"
      ]
    },
    {
      "cell_type": "code",
      "execution_count": null,
      "metadata": {
        "colab": {
          "base_uri": "https://localhost:8080/",
          "height": 497
        },
        "id": "mgMG_JakGx5w",
        "outputId": "73958d31-3bec-4cd1-c0fa-244d589ba4b0"
      },
      "outputs": [],
      "source": [
        "view = py3Dmol.view(query='pdb:1dc9',viewergrid=(2,2),style=[[{'stick':{}},{'cartoon':{'arrows':True, 'tubes':True, 'style':'oval', 'color':'white'}}],\n",
        "                                                            [{'stick':{'colorscheme':'greenCarbon'}},{'cartoon':{'color':'spectrum'}}]])\n",
        "view.show()"
      ]
    },
    {
      "cell_type": "markdown",
      "metadata": {
        "id": "VFXz1arra9SW"
      },
      "source": [
        "It isn't possible to convert Python functions to Javascript functions, but Javascript code can be provided in string form to click/hover callbacks."
      ]
    },
    {
      "cell_type": "code",
      "execution_count": null,
      "metadata": {
        "colab": {
          "base_uri": "https://localhost:8080/",
          "height": 514
        },
        "id": "cwGY0eGdGx5z",
        "outputId": "ff4b4925-d0ce-48b6-da30-53a8e6eb12b2"
      },
      "outputs": [],
      "source": [
        "v = py3Dmol.view(query=\"pdb:1ubq\",style={'cartoon':{},'stick':{}})\n",
        "v.setHoverable({},True,'''function(atom,viewer,event,container) {\n",
        "                   if(!atom.label) {\n",
        "                    atom.label = viewer.addLabel(atom.resn+\":\"+atom.atom,{position: atom, backgroundColor: 'mintcream', fontColor:'black'});\n",
        "                   }}''',\n",
        "               '''function(atom,viewer) {\n",
        "                   if(atom.label) {\n",
        "                    viewer.removeLabel(atom.label);\n",
        "                    delete atom.label;\n",
        "                   }\n",
        "                }''')"
      ]
    },
    {
      "cell_type": "markdown",
      "metadata": {
        "id": "FssjNxl7gLDh"
      },
      "source": [
        "An existing viewer can be modified from different cells with `update`"
      ]
    },
    {
      "cell_type": "code",
      "execution_count": null,
      "metadata": {
        "colab": {
          "base_uri": "https://localhost:8080/",
          "height": 497
        },
        "id": "6oSwT9hYbwf9",
        "outputId": "8ec7eaca-ab84-4542-c544-529779f15e3b"
      },
      "outputs": [],
      "source": [
        "benz='''\n",
        "     RDKit          3D\n",
        "\n",
        "  6  6  0  0  0  0  0  0  0  0999 V2000\n",
        "   -0.9517    0.7811   -0.6622 C   0  0  0  0  0  0  0  0  0  0  0  0\n",
        "    0.2847    1.3329   -0.3121 C   0  0  0  0  0  0  0  0  0  0  0  0\n",
        "    1.2365    0.5518    0.3512 C   0  0  0  0  0  0  0  0  0  0  0  0\n",
        "    0.9517   -0.7811    0.6644 C   0  0  0  0  0  0  0  0  0  0  0  0\n",
        "   -0.2847   -1.3329    0.3144 C   0  0  0  0  0  0  0  0  0  0  0  0\n",
        "   -1.2365   -0.5518   -0.3489 C   0  0  0  0  0  0  0  0  0  0  0  0\n",
        "  1  2  2  0\n",
        "  2  3  1  0\n",
        "  3  4  2  0\n",
        "  4  5  1  0\n",
        "  5  6  2  0\n",
        "  6  1  1  0\n",
        "M  END\n",
        "$$$$'''\n",
        "view = py3Dmol.view()\n",
        "view.addModel(benz,'sdf')\n",
        "view.setStyle({'stick':{}})\n",
        "view.zoomTo()\n",
        "view.show()"
      ]
    },
    {
      "cell_type": "markdown",
      "metadata": {
        "id": "F46NeiOukNGr"
      },
      "source": [
        "However, **this does not work in colab** because colab sandboxes the JavaScript environments of each cell."
      ]
    },
    {
      "cell_type": "code",
      "execution_count": null,
      "metadata": {
        "colab": {
          "base_uri": "https://localhost:8080/",
          "height": 17
        },
        "id": "izcllEJogRjX",
        "outputId": "04fe8ede-2b7b-48fe-da33-7b2dc694c1a7"
      },
      "outputs": [],
      "source": [
        "view.setStyle({'stick':{'color':'blue'}})\n",
        "view.update()"
      ]
    },
    {
      "cell_type": "code",
      "execution_count": null,
      "metadata": {},
      "outputs": [],
      "source": [
        "p = py3Dmol.view(query='mmtf:1ycr')\n",
        "p.setStyle({'cartoon': {'color':'spectrum'}})\n",
        "p"
      ]
    }
  ],
  "metadata": {
    "colab": {
      "provenance": []
    },
    "kernelspec": {
      "display_name": "Python 3",
      "language": "python",
      "name": "python3"
    },
    "language_info": {
      "codemirror_mode": {
        "name": "ipython",
        "version": 3
      },
      "file_extension": ".py",
      "mimetype": "text/x-python",
      "name": "python",
      "nbconvert_exporter": "python",
      "pygments_lexer": "ipython3",
      "version": "3.10.8"
    }
  },
  "nbformat": 4,
  "nbformat_minor": 0
}
