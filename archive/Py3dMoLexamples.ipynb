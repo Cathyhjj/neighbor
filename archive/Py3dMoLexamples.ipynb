{
  "cells": [
    {
      "cell_type": "markdown",
      "metadata": {
        "id": "7w1AnUV8Gx5J"
      },
      "source": [
        "py3Dmol\n",
        "=======\n",
        "\n",
        "A simple [IPython/Jupyter](http://jupyter.org/) widget to\n",
        "embed an interactive [3Dmol.js](http://3dmol.csb.pitt.edu) viewer in a notebook.\n",
        "\n",
        "The widget is completely static, which means the viewer doesn't need a running\n",
        "IPython kernel to be useful and web pages and presentations generated from\n",
        "the notebook will work as expected.  However, this also means there is only\n",
        "one-way communication between the notebook and the viewer.\n",
        "\n",
        "Installation\n",
        "------------\n",
        "\n",
        "From PyPI:\n",
        "\n",
        "    pip install py3Dmol\n",
        "    conda install -q -y -c conda-forge rdkit=2020.03.5\n",
        "\n",
        "    \n",
        "API\n",
        "---\n",
        "\n",
        "The returned view object has the exact same API as [3Dmol.GLViewer](http://3dmol.csb.pitt.edu/doc/$3Dmol.GLViewer.html)\n",
        "with the exception that functions return None.\n",
        "\n"
      ]
    },
    {
      "cell_type": "code",
      "execution_count": 1,
      "metadata": {
        "id": "Q5RuxM2JGx5K"
      },
      "outputs": [],
      "source": [
        "import py3Dmol\n",
        "import numpy as np\n",
        "%matplotlib widget"
      ]
    },
    {
      "cell_type": "code",
      "execution_count": 2,
      "metadata": {
        "colab": {
          "base_uri": "https://localhost:8080/",
          "height": 515
        },
        "id": "oMtjSTR0Gx5O",
        "outputId": "25902260-d2dc-4a27-f16d-0a931292fa65",
        "scrolled": false
      },
      "outputs": [
        {
          "data": {
            "application/3dmoljs_load.v0": "<div id=\"3dmolviewer_1702920549633368\"  style=\"position: relative; width: 640px; height: 480px;\">\n        <p id=\"3dmolwarning_1702920549633368\" style=\"background-color:#ffcccc;color:black\">You appear to be running in JupyterLab (or JavaScript failed to load for some other reason).  You need to install the 3dmol extension: <br>\n        <tt>jupyter labextension install jupyterlab_3dmol</tt></p>\n        </div>\n<script>\n\nvar loadScriptAsync = function(uri){\n  return new Promise((resolve, reject) => {\n    //this is to ignore the existence of requirejs amd\n    var savedexports, savedmodule;\n    if (typeof exports !== 'undefined') savedexports = exports;\n    else exports = {}\n    if (typeof module !== 'undefined') savedmodule = module;\n    else module = {}\n\n    var tag = document.createElement('script');\n    tag.src = uri;\n    tag.async = true;\n    tag.onload = () => {\n        exports = savedexports;\n        module = savedmodule;\n        resolve();\n    };\n  var firstScriptTag = document.getElementsByTagName('script')[0];\n  firstScriptTag.parentNode.insertBefore(tag, firstScriptTag);\n});\n};\n\nif(typeof $3Dmolpromise === 'undefined') {\n$3Dmolpromise = null;\n  $3Dmolpromise = loadScriptAsync('https://cdnjs.cloudflare.com/ajax/libs/3Dmol/2.0.4/3Dmol-min.js');\n}\n\nvar viewer_1702920549633368 = null;\nvar warn = document.getElementById(\"3dmolwarning_1702920549633368\");\nif(warn) {\n    warn.parentNode.removeChild(warn);\n}\n$3Dmolpromise.then(function() {\nviewer_1702920549633368 = $3Dmol.createViewer(document.getElementById(\"3dmolviewer_1702920549633368\"),{backgroundColor:\"white\"});\n$3Dmol.download(\"mmtf:1ycr\", viewer_1702920549633368, {}, function() {\nviewer_1702920549633368.zoomTo();\n\tviewer_1702920549633368.setStyle({\"cartoon\": {\"color\": \"spectrum\"}});\nviewer_1702920549633368.render();\n})\n});\n</script>",
            "text/html": [
              "<div id=\"3dmolviewer_1702920549633368\"  style=\"position: relative; width: 640px; height: 480px;\">\n",
              "        <p id=\"3dmolwarning_1702920549633368\" style=\"background-color:#ffcccc;color:black\">You appear to be running in JupyterLab (or JavaScript failed to load for some other reason).  You need to install the 3dmol extension: <br>\n",
              "        <tt>jupyter labextension install jupyterlab_3dmol</tt></p>\n",
              "        </div>\n",
              "<script>\n",
              "\n",
              "var loadScriptAsync = function(uri){\n",
              "  return new Promise((resolve, reject) => {\n",
              "    //this is to ignore the existence of requirejs amd\n",
              "    var savedexports, savedmodule;\n",
              "    if (typeof exports !== 'undefined') savedexports = exports;\n",
              "    else exports = {}\n",
              "    if (typeof module !== 'undefined') savedmodule = module;\n",
              "    else module = {}\n",
              "\n",
              "    var tag = document.createElement('script');\n",
              "    tag.src = uri;\n",
              "    tag.async = true;\n",
              "    tag.onload = () => {\n",
              "        exports = savedexports;\n",
              "        module = savedmodule;\n",
              "        resolve();\n",
              "    };\n",
              "  var firstScriptTag = document.getElementsByTagName('script')[0];\n",
              "  firstScriptTag.parentNode.insertBefore(tag, firstScriptTag);\n",
              "});\n",
              "};\n",
              "\n",
              "if(typeof $3Dmolpromise === 'undefined') {\n",
              "$3Dmolpromise = null;\n",
              "  $3Dmolpromise = loadScriptAsync('https://cdnjs.cloudflare.com/ajax/libs/3Dmol/2.0.4/3Dmol-min.js');\n",
              "}\n",
              "\n",
              "var viewer_1702920549633368 = null;\n",
              "var warn = document.getElementById(\"3dmolwarning_1702920549633368\");\n",
              "if(warn) {\n",
              "    warn.parentNode.removeChild(warn);\n",
              "}\n",
              "$3Dmolpromise.then(function() {\n",
              "viewer_1702920549633368 = $3Dmol.createViewer(document.getElementById(\"3dmolviewer_1702920549633368\"),{backgroundColor:\"white\"});\n",
              "$3Dmol.download(\"mmtf:1ycr\", viewer_1702920549633368, {}, function() {\n",
              "viewer_1702920549633368.zoomTo();\n",
              "\tviewer_1702920549633368.setStyle({\"cartoon\": {\"color\": \"spectrum\"}});\n",
              "viewer_1702920549633368.render();\n",
              "})\n",
              "});\n",
              "</script>"
            ]
          },
          "metadata": {},
          "output_type": "display_data"
        },
        {
          "data": {
            "text/plain": [
              "<py3Dmol.view at 0x118159ed0>"
            ]
          },
          "execution_count": 2,
          "metadata": {},
          "output_type": "execute_result"
        }
      ],
      "source": [
        "p = py3Dmol.view(query='mmtf:1ycr')\n",
        "p.setStyle({'cartoon': {'color':'spectrum'}})\n",
        "p"
      ]
    },
    {
      "cell_type": "markdown",
      "metadata": {
        "id": "2Ffv8tOjf9Kp"
      },
      "source": [
        "## RDKit Integration"
      ]
    },
    {
      "cell_type": "markdown",
      "metadata": {
        "id": "NLW_im9QFT6k"
      },
      "source": [
        "### Load a Molecule"
      ]
    },
    {
      "cell_type": "markdown",
      "metadata": {
        "id": "mbAvUo4pgHZZ"
      },
      "source": [
        "## Examples"
      ]
    },
    {
      "cell_type": "code",
      "execution_count": null,
      "metadata": {
        "id": "HJgljxQDGx5R"
      },
      "outputs": [],
      "source": [
        "xyz = '''4\n",
        "* (null), Energy   -1000.0000000\n",
        "N     0.000005    0.019779   -0.000003   -0.157114    0.000052   -0.012746\n",
        "H     0.931955   -0.364989    0.000003    1.507100   -0.601158   -0.004108\n",
        "H    -0.465975   -0.364992    0.807088    0.283368    0.257996   -0.583024\n",
        "H    -0.465979   -0.364991   -0.807088    0.392764    0.342436    0.764260\n",
        "'''"
      ]
    },
    {
      "cell_type": "code",
      "execution_count": null,
      "metadata": {},
      "outputs": [],
      "source": [
        "xyzview = py3Dmol.view(width=400,height=400)\n",
        "xyzview.addModel(xyz,'xyz',{'vibrate': {'frames':10,'amplitude':1}})\n",
        "xyzview.setStyle({'stick':{}})\n",
        "xyzview.setBackgroundColor('0xeeeeee')\n",
        "xyzview.animate({'loop': 'backAndForth'})\n",
        "xyzview.zoomTo()\n",
        "xyzview.show()"
      ]
    },
    {
      "cell_type": "code",
      "execution_count": null,
      "metadata": {},
      "outputs": [],
      "source": [
        "xyz = '''59\n",
        "\n",
        "O -5.301403 -2.601292 -0.500298\n",
        "O -3.367214 -1.231646 -1.809521\n",
        "O -4.379644 0.010097 0.793594\n",
        "O -2.460089 -3.700719 -0.252618\n",
        "Pb -3.419867 -1.845311 0.270488\n",
        "O -3.472519 -2.458976 2.350497\n",
        "O -1.538331 -1.089330 1.041273\n",
        "O -2.550761 0.152413 3.644388\n",
        "O -0.631206 -3.558404 2.598176\n",
        "Pb -1.590983 -1.702995 3.121282\n",
        "O -1.643635 -2.316661 5.201291\n",
        "O 0.290553 -0.947014 3.892068\n",
        "O -3.346703 0.952956 -3.947334\n",
        "O -4.359133 2.194699 -1.344219\n",
        "O -2.424945 3.564345 -2.653442\n",
        "O -3.437375 4.806088 -0.050327\n",
        "O -1.517820 1.095271 -1.096539\n",
        "Pb -2.477597 2.950680 -0.573433\n",
        "O -2.530250 2.337014 1.506576\n",
        "O -0.596062 3.706661 0.197353\n",
        "O -1.608492 4.948403 2.800468\n",
        "O 0.311064 1.237587 1.754256\n",
        "Pb -4.068581 1.247684 2.547849\n",
        "Pb -0.648714 3.092995 2.277362\n",
        "O -0.701366 2.479330 4.357371\n",
        "O 1.232822 3.848976 3.048147\n",
        "O 2.139947 1.379903 4.605050\n",
        "O -2.139947 -1.379903 -4.605050\n",
        "O -1.232822 -3.848976 -3.048147\n",
        "O 0.701366 -2.479330 -4.357371\n",
        "O -0.311064 -1.237587 -1.754256\n",
        "O 1.608492 -4.948403 -2.800468\n",
        "Pb 0.648714 -3.092995 -2.277362\n",
        "O 0.596062 -3.706661 -0.197353\n",
        "O 2.530250 -2.337014 -1.506576\n",
        "O 1.517820 -1.095271 1.096539\n",
        "O 3.437375 -4.806088 0.050327\n",
        "Pb -0.942269 -4.795991 0.843921\n",
        "Pb 2.477597 -2.950680 0.573433\n",
        "O 2.424945 -3.564345 2.653442\n",
        "O 4.359133 -2.194699 1.344219\n",
        "O 3.346703 -0.952956 3.947334\n",
        "O -0.290553 0.947014 -3.892068\n",
        "O 1.643635 2.316661 -5.201291\n",
        "O 0.631206 3.558404 -2.598176\n",
        "O 2.550761 -0.152413 -3.644388\n",
        "Pb -1.828884 -0.142316 -2.850795\n",
        "Pb 1.590983 1.702995 -3.121282\n",
        "O 1.538331 1.089330 -1.041273\n",
        "O 3.472519 2.458976 -2.350497\n",
        "O 2.460089 3.700719 0.252618\n",
        "O 4.379644 -0.010097 -0.793594\n",
        "Pb 0.000000 0.000000 0.000000\n",
        "Pb 3.419867 1.845311 -0.270488\n",
        "O 3.367214 1.231646 1.809521\n",
        "O 5.301403 2.601292 0.500298\n",
        "Pb 1.828884 0.142316 2.850795\n",
        "Pb 0.942269 4.795991 -0.843921\n",
        "Pp 4.068581 -1.247684 -2.547849\n",
        "\n",
        "'''"
      ]
    },
    {
      "cell_type": "code",
      "execution_count": null,
      "metadata": {
        "colab": {
          "base_uri": "https://localhost:8080/",
          "height": 417
        },
        "id": "L0V8SwajGx5U",
        "outputId": "b9e1a49f-feef-4a67-d90d-ea54a4b0e4ee"
      },
      "outputs": [],
      "source": [
        "xyzview = py3Dmol.view(width=400,height=400)\n",
        "xyzview.addModel(xyz,'xyz',)\n",
        "xyzview.setStyle({'stick':{'radius':.1, 'alpha':0.2, 'color':'gray'}, \n",
        "                  'sphere': {'radius':.3}\n",
        "                  }\n",
        "                 )\n",
        "\n",
        "xyzview.addStyle({'atom': 'O'}, \n",
        "                 {'sphere': {'color': 'blue', 'radius': 0.3}})  \n",
        "\n",
        "xyzview.addStyle({'atom': 'Pb'}, \n",
        "                 {'sphere': {'color': 'red', 'radius': 0.5}})  \n",
        "\n",
        "xyzview.addStyle({'atom': 'Pp'}, \n",
        "                 {'sphere': {'color': 'yellow', 'radius': 0.5}})  \n",
        "\n",
        "\n",
        "xyzview.setBackgroundColor('0xeeeeee')\n",
        "xyzview.zoomTo()\n",
        "xyzview.show()"
      ]
    },
    {
      "cell_type": "code",
      "execution_count": null,
      "metadata": {},
      "outputs": [],
      "source": [
        "# Create a view object\n",
        "view = py3Dmol.view(width=800, height=400)\n",
        "view.addModel(xyz, 'xyz')\n",
        "\n",
        "# Style the entire molecule\n",
        "view.setStyle({'stick': {}})\n",
        "\n",
        "# Change color of a specific atom (e.g., the 5th atom in the file, index 4)\n",
        "# Note: Py3Dmol's atom indexing starts from 1\n",
        "view.setStyle({'atomIndex': 1}, {'sphere': {'color': 'red', 'radius': 1}})\n",
        "\n",
        "# Update the view\n",
        "view.zoomTo()\n",
        "view.show()"
      ]
    },
    {
      "cell_type": "code",
      "execution_count": null,
      "metadata": {},
      "outputs": [],
      "source": [
        "import py3Dmol\n",
        "\n",
        "# Create a view object\n",
        "view = py3Dmol.view(query='pdb:1ycr')  # Load a molecule, for example, PDB ID 1ycr\n",
        "\n",
        "# Style the molecule\n",
        "# view.setStyle({'cartoon': {'color': 'spectrum'}})  # General style for the molecule\n",
        "\n",
        "# Change color of a specific carbon atom\n",
        "# Replace 'resi' and 'chain' with the appropriate residue number and chain identifier\n",
        "# and 'atomIndex' with the index of the carbon atom you want to target\n",
        "view.addStyle({'atom': 'C', 'resi': 90, 'chain': 'A'}, {'sphere': {'color': 'blue', 'radius': 0.6}})\n",
        "\n",
        "# Show the molecule\n",
        "view.show()\n",
        "\n"
      ]
    },
    {
      "cell_type": "markdown",
      "metadata": {
        "id": "4hOvXO7gGx5Y"
      },
      "source": [
        "Display local file."
      ]
    },
    {
      "cell_type": "code",
      "execution_count": null,
      "metadata": {
        "colab": {
          "base_uri": "https://localhost:8080/",
          "height": 497
        },
        "id": "ejxuswl7Gx5Z",
        "outputId": "09321864-09ec-45cd-ec0c-17994dbe407f"
      },
      "outputs": [],
      "source": [
        "benz='''\n",
        "     RDKit          3D\n",
        "\n",
        "  6  6  0  0  0  0  0  0  0  0999 V2000\n",
        "   -0.9517    0.7811   -0.6622 C   0  0  0  0  0  0  0  0  0  0  0  0\n",
        "    0.2847    1.3329   -0.3121 C   0  0  0  0  0  0  0  0  0  0  0  0\n",
        "    1.2365    0.5518    0.3512 C   0  0  0  0  0  0  0  0  0  0  0  0\n",
        "    0.9517   -0.7811    0.6644 C   0  0  0  0  0  0  0  0  0  0  0  0\n",
        "   -0.2847   -1.3329    0.3144 C   0  0  0  0  0  0  0  0  0  0  0  0\n",
        "   -1.2365   -0.5518   -0.3489 C   0  0  0  0  0  0  0  0  0  0  0  0\n",
        "  1  2  2  0\n",
        "  2  3  1  0\n",
        "  3  4  2  0\n",
        "  4  5  1  0\n",
        "  5  6  2  0\n",
        "  6  1  1  0\n",
        "M  END\n",
        "$$$$'''\n",
        "view = py3Dmol.view(data=benz,\n",
        "                    style={'stick':{'colorscheme':'cyanCarbon'}}\n",
        "                    )\n",
        "view.show()"
      ]
    },
    {
      "cell_type": "markdown",
      "metadata": {
        "id": "mp2qaHk6Gx5c"
      },
      "source": [
        "You can create a single canvas object with multiple viewers arrayed in a grid (3Dmol.createViewerGrid)."
      ]
    },
    {
      "cell_type": "code",
      "execution_count": null,
      "metadata": {},
      "outputs": [],
      "source": [
        "view.setStyle?"
      ]
    },
    {
      "cell_type": "code",
      "execution_count": null,
      "metadata": {
        "colab": {
          "base_uri": "https://localhost:8080/",
          "height": 514
        },
        "id": "3uNCGj3DGx5d",
        "outputId": "d2dd20ee-fff7-4dbb-835d-d0009da78b0c"
      },
      "outputs": [],
      "source": [
        "view = py3Dmol.view(query='pdb:1dc9',linked=False,viewergrid=(2,2))\n",
        "view.setViewStyle({'style':'outline','color':'black','width':0.1})\n",
        "view.setStyle({'cartoon':{'arrows':True, 'tubes':True, 'style':'oval', 'color':'white'}},viewer=(0,1))\n",
        "view.setStyle({'stick':{'colorscheme':'greenCarbon'}},viewer=(1,0))\n",
        "view.setStyle({'cartoon':{'color':'spectrum'}},viewer=(1,1))\n",
        "view.removeAllModels(viewer=(0,0))\n",
        "view.addModel(benz,'sdf',viewer=(0,0))\n",
        "view.setStyle({'stick':{}},viewer=(0,0))\n",
        "view.zoomTo(viewer=(0,0))\n",
        "view.render()"
      ]
    },
    {
      "cell_type": "code",
      "execution_count": null,
      "metadata": {},
      "outputs": [],
      "source": []
    },
    {
      "cell_type": "code",
      "execution_count": null,
      "metadata": {
        "colab": {
          "base_uri": "https://localhost:8080/",
          "height": 497
        },
        "id": "0N6PEYCyGx5g",
        "outputId": "8f2eaf99-50f2-4cf1-da7a-3f36aa5b79cd"
      },
      "outputs": [],
      "source": [
        "view = py3Dmol.view(query='pdb:1ycr')\n",
        "chA = {'chain':'A'}\n",
        "chB = {'chain':'B'}\n",
        "view.setStyle(chA,{'cartoon': {'color':'spectrum'}})\n",
        "view.addSurface(py3Dmol.VDW,{'opacity':0.7,'color':'white'}, chA)\n",
        "view.setStyle(chB,{'stick':{}})\n",
        "view.show()"
      ]
    },
    {
      "cell_type": "code",
      "execution_count": null,
      "metadata": {
        "colab": {
          "base_uri": "https://localhost:8080/",
          "height": 497
        },
        "id": "SSsF9Nh_Gx5j",
        "outputId": "9181f6d0-d0d1-45a9-834a-b17a9476196a"
      },
      "outputs": [],
      "source": [
        "view = py3Dmol.view(query='pdb:5ire',options={'doAssembly':True})\n",
        "view.setStyle({'cartoon':{'color':'spectrum'}})\n",
        "view.show()"
      ]
    },
    {
      "cell_type": "markdown",
      "metadata": {
        "id": "FCmLZ7tIGx5m"
      },
      "source": [
        "Color by temperature factors"
      ]
    },
    {
      "cell_type": "code",
      "execution_count": null,
      "metadata": {
        "colab": {
          "base_uri": "https://localhost:8080/",
          "height": 514
        },
        "id": "U420WW_tGx5m",
        "outputId": "eab0e9d6-0a9b-4ba9-c24e-bb2d0570c8e8"
      },
      "outputs": [],
      "source": [
        "view = py3Dmol.view(query='pdb:1ycr')\n",
        "view.setStyle({'cartoon': {'color':'white'}})\n",
        "view.addSurface(py3Dmol.VDW,{'opacity':0.7,'colorscheme':{'prop':'b','gradient':'sinebow','min':0,'max':70}})"
      ]
    },
    {
      "cell_type": "code",
      "execution_count": null,
      "metadata": {
        "colab": {
          "base_uri": "https://localhost:8080/",
          "height": 514
        },
        "id": "J7AzQ0ZCGx5s",
        "outputId": "23c87352-7526-46f7-8777-c45be7c50875"
      },
      "outputs": [],
      "source": [
        "import requests, base64\n",
        "r = requests.get('https://mmtf.rcsb.org/v1.0/full/5lgo')\n",
        "view = py3Dmol.view()\n",
        "view.addModel(base64.b64encode(r.content).decode(),'mmtf')\n",
        "view.addUnitCell()\n",
        "view.zoomTo()"
      ]
    },
    {
      "cell_type": "markdown",
      "metadata": {
        "id": "vi_tFDsMGx5v"
      },
      "source": [
        "Specifying individual styles for a viewer grid in the constructor"
      ]
    },
    {
      "cell_type": "code",
      "execution_count": null,
      "metadata": {
        "colab": {
          "base_uri": "https://localhost:8080/",
          "height": 497
        },
        "id": "mgMG_JakGx5w",
        "outputId": "73958d31-3bec-4cd1-c0fa-244d589ba4b0"
      },
      "outputs": [],
      "source": [
        "view = py3Dmol.view(query='pdb:1dc9',viewergrid=(2,2),style=[[{'stick':{}},{'cartoon':{'arrows':True, 'tubes':True, 'style':'oval', 'color':'white'}}],\n",
        "                                                            [{'stick':{'colorscheme':'greenCarbon'}},{'cartoon':{'color':'spectrum'}}]])\n",
        "view.show()"
      ]
    },
    {
      "cell_type": "markdown",
      "metadata": {
        "id": "VFXz1arra9SW"
      },
      "source": [
        "It isn't possible to convert Python functions to Javascript functions, but Javascript code can be provided in string form to click/hover callbacks."
      ]
    },
    {
      "cell_type": "code",
      "execution_count": null,
      "metadata": {
        "colab": {
          "base_uri": "https://localhost:8080/",
          "height": 514
        },
        "id": "cwGY0eGdGx5z",
        "outputId": "ff4b4925-d0ce-48b6-da30-53a8e6eb12b2"
      },
      "outputs": [],
      "source": [
        "v = py3Dmol.view(query=\"pdb:1ubq\",style={'cartoon':{},'stick':{}})\n",
        "v.setHoverable({},True,'''function(atom,viewer,event,container) {\n",
        "                   if(!atom.label) {\n",
        "                    atom.label = viewer.addLabel(atom.resn+\":\"+atom.atom,{position: atom, backgroundColor: 'mintcream', fontColor:'black'});\n",
        "                   }}''',\n",
        "               '''function(atom,viewer) {\n",
        "                   if(atom.label) {\n",
        "                    viewer.removeLabel(atom.label);\n",
        "                    delete atom.label;\n",
        "                   }\n",
        "                }''')"
      ]
    },
    {
      "cell_type": "markdown",
      "metadata": {
        "id": "FssjNxl7gLDh"
      },
      "source": [
        "An existing viewer can be modified from different cells with `update`"
      ]
    },
    {
      "cell_type": "code",
      "execution_count": null,
      "metadata": {
        "colab": {
          "base_uri": "https://localhost:8080/",
          "height": 497
        },
        "id": "6oSwT9hYbwf9",
        "outputId": "8ec7eaca-ab84-4542-c544-529779f15e3b"
      },
      "outputs": [],
      "source": [
        "benz='''\n",
        "     RDKit          3D\n",
        "\n",
        "  6  6  0  0  0  0  0  0  0  0999 V2000\n",
        "   -0.9517    0.7811   -0.6622 C   0  0  0  0  0  0  0  0  0  0  0  0\n",
        "    0.2847    1.3329   -0.3121 C   0  0  0  0  0  0  0  0  0  0  0  0\n",
        "    1.2365    0.5518    0.3512 C   0  0  0  0  0  0  0  0  0  0  0  0\n",
        "    0.9517   -0.7811    0.6644 C   0  0  0  0  0  0  0  0  0  0  0  0\n",
        "   -0.2847   -1.3329    0.3144 C   0  0  0  0  0  0  0  0  0  0  0  0\n",
        "   -1.2365   -0.5518   -0.3489 C   0  0  0  0  0  0  0  0  0  0  0  0\n",
        "  1  2  2  0\n",
        "  2  3  1  0\n",
        "  3  4  2  0\n",
        "  4  5  1  0\n",
        "  5  6  2  0\n",
        "  6  1  1  0\n",
        "M  END\n",
        "$$$$'''\n",
        "view = py3Dmol.view()\n",
        "view.addModel(benz,'sdf')\n",
        "view.setStyle({'stick':{}})\n",
        "view.zoomTo()\n",
        "view.show()"
      ]
    },
    {
      "cell_type": "markdown",
      "metadata": {
        "id": "F46NeiOukNGr"
      },
      "source": [
        "However, **this does not work in colab** because colab sandboxes the JavaScript environments of each cell."
      ]
    },
    {
      "cell_type": "code",
      "execution_count": null,
      "metadata": {
        "colab": {
          "base_uri": "https://localhost:8080/",
          "height": 17
        },
        "id": "izcllEJogRjX",
        "outputId": "04fe8ede-2b7b-48fe-da33-7b2dc694c1a7"
      },
      "outputs": [],
      "source": [
        "view.setStyle({'stick':{'color':'blue'}})\n",
        "view.update()"
      ]
    }
  ],
  "metadata": {
    "colab": {
      "provenance": []
    },
    "kernelspec": {
      "display_name": "Python 3",
      "language": "python",
      "name": "python3"
    },
    "language_info": {
      "codemirror_mode": {
        "name": "ipython",
        "version": 3
      },
      "file_extension": ".py",
      "mimetype": "text/x-python",
      "name": "python",
      "nbconvert_exporter": "python",
      "pygments_lexer": "ipython3",
      "version": "3.10.8"
    }
  },
  "nbformat": 4,
  "nbformat_minor": 0
}
