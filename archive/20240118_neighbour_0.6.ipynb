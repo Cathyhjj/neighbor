{
  "cells": [
    {
      "cell_type": "markdown",
      "metadata": {},
      "source": [
        "# rewrite loading xyz using ase"
      ]
    },
    {
      "cell_type": "code",
      "execution_count": 8,
      "metadata": {
        "id": "Q5RuxM2JGx5K"
      },
      "outputs": [],
      "source": [
        "import py3Dmol\n",
        "import numpy as np\n",
        "import matplotlib.pyplot as plt\n",
        "# from IPython.display import display\n",
        "from ipyfilechooser import FileChooser\n",
        "# import re\n",
        "import ase\n",
        "from ase.io import read\n",
        "import plotly.graph_objects as go\n",
        "import copy\n",
        "from pprint import pprint\n",
        "\n",
        "\n",
        "\n",
        "class ClusterNeighbor(object):\n",
        "    def __init__(self):\n",
        "        pass\n",
        "    \n",
        "    def _calculate_distance(self, coord1, coord2):\n",
        "        return np.sqrt((coord2[0] - coord1[0])**2 + (coord2[1] - coord1[1])**2 + (coord2[2] - coord1[2])**2)\n",
        "\n",
        "\n",
        "    def load_xyz(self, from_file=True, xyz_path=None,  atom_object=None):\n",
        "        if from_file is True:\n",
        "            self.atoms = read(xyz_path)\n",
        "        else:\n",
        "            self.atoms = atom_object\n",
        "        self.elements = [self.atoms[i].symbol for i in range(len(self.atoms))]\n",
        "        self.elements_num = {element_i: self.elements.count(element_i) for element_i in set(self.elements)}\n",
        "        self.element_index_group = {element_set_i: [i for i, element_i in enumerate(self.elements) if element_i == element_set_i] for element_set_i in set(self.elements)}\n",
        "        self.center = self.atoms.get_center_of_mass()\n",
        "\n",
        "    def view_xyz(self, style_all=None, highlight_atom1=\"O\", highlight_atom2=\"Pb\", label=True):\n",
        "        self.xyz_string = f\"{len(self.atoms)}\\n\\n\" \n",
        "        for atom in self.atoms:\n",
        "            self.xyz_string += f\"{atom.symbol} {atom.position[0]} {atom.position[1]} {atom.position[2]}\\n\"\n",
        "        \n",
        "        self.view = py3Dmol.view(width=500,height=500)\n",
        "        self.view.addModel(self.xyz_string,'xyz',)\n",
        "        if style_all is None:\n",
        "            style_all = {'stick':{'radius':.1, 'alpha':0.2, 'color':'gray'}, \n",
        "                         'sphere': {'radius':.3}\n",
        "                        }\n",
        "        self.view.setStyle(style_all)\n",
        "        \n",
        "        self.view.addStyle({'atom': highlight_atom1}, \n",
        "                           {'sphere': {'color': 'red', 'radius': 0.5}})  \n",
        "        \n",
        "        self.view.addStyle({'atom': highlight_atom2}, \n",
        "                           {'sphere': {'color': 'blue', 'radius': 0.3}})  \n",
        "        self.view.setBackgroundColor('0xeeeeee')\n",
        "        if label:\n",
        "            for i, atom_i in enumerate(self.atoms):\n",
        "                self.view.addLabel(f\"{i}\", {'position': {'x': atom_i.position[0], 'y': atom_i.position[1], 'z': atom_i.position[2]}, \n",
        "                                    'fontColor': 'k', 'fontSize': 12, 'backgroundColor': 'white', 'backgroundOpacity':0.5})\n",
        "        self.view.zoomTo()\n",
        "        self.view.show()\n",
        "        self.view.title(self.atoms.get_chemical_formula())\n",
        "    \n",
        "    def get_cluster_size(self):\n",
        "        self.cluster_size = self.atoms.get_all_distances().max()/2\n",
        "        print(f\"Cluster size is {self.cluster_size} A\")\n",
        "        return self.cluster_size\n",
        "    \n",
        "    def shrink_cluster_size(self, new_radius=None):\n",
        "        if new_radius is None:\n",
        "            new_radius = self.cluster_size - 0.1\n",
        "        \n",
        "        atoms_smaller = copy.deepcopy(self.atoms)\n",
        "        indices_remove_lst = []\n",
        "        for i, atom_i in enumerate(atoms_smaller):\n",
        "            radius_i = np.abs(self._calculate_distance(self.atoms.get_positions()[i], self.center))\n",
        "            if radius_i > new_radius:\n",
        "                indices_remove_lst.append(i)\n",
        "\n",
        "        atoms_smaller = ase.Atoms(self.atoms[[i for i in range(len(self.atoms)) if i not in indices_remove_lst]])\n",
        "        return atoms_smaller\n",
        "    \n",
        "    def get_pairs(self):\n",
        "        self.pairs_index = [(i, j) for i in range(len(self.atoms)) for j in range(i + 1, len(self.atoms))]\n",
        "        # self.pairs_index = [(i, j) for i in range(len(self.atoms)) for j in range(len(self.atoms))]\n",
        "        self.pairs_element = [sorted([self.atoms[i].symbol, self.atoms[j].symbol]) for i, j in self.pairs_index]\n",
        "        self.pairs = [f\"{atom_i}-{atom_j}\" for atom_i, atom_j in self.pairs_element]\n",
        "        self.pairs_unique = [f\"{self.atoms[i].symbol}({self.atoms[i].index})-{self.atoms[j].symbol}({self.atoms[j].index})\" for i, j in self.pairs_index]\n",
        "        self.distance_all = [self.atoms.get_all_distances()[i][j] for i, j in self.pairs_index]\n",
        "        self.pairs_types = set(self.pairs)\n",
        "        \n",
        "        self.pairs_group = {key: {'pairs_index':[],\n",
        "                                  'pairs':[],\n",
        "                                  'pairs_unique':[],\n",
        "                                  'distance':[]} for key in self.pairs_types}\n",
        "        \n",
        "        for i in range(len(self.pairs)):\n",
        "            self.pairs_group[self.pairs[i]]['pairs_index'].append(self.pairs_index[i])\n",
        "            self.pairs_group[self.pairs[i]]['pairs_unique'].append(self.pairs_unique[i])\n",
        "            self.pairs_group[self.pairs[i]]['distance'].append(self.distance_all[i])\n",
        "        return self.pairs_group\n",
        "\n",
        "    # def get_CN(self, center_atom=None, error_bar=0.01):\n",
        "    #     if not hasattr(self, 'pairs_types'):\n",
        "    #         self.get_pairs()\n",
        "            \n",
        "    #     if not hasattr(self, 'CN_distances_old'):\n",
        "    #         self.CN_distances_old = {}\n",
        "    #         self.CN_old = {}\n",
        "                    \n",
        "    #     if center_atom is None:\n",
        "    #         center_atom = self.atoms[0].symbol\n",
        "                \n",
        "    #     for pair_i in self.pairs_types:\n",
        "    #         if center_atom in pair_i:\n",
        "    #             distance_sorted = np.array(sorted(self.pairs_group[pair_i]['distance']))\n",
        "    #             diff = np.diff(distance_sorted)\n",
        "    #             indices = np.where(diff > error_bar)[0] + 1\n",
        "    #             self.CN_distances_old[pair_i] = np.split(distance_sorted, indices)\n",
        "    #             self.CN_old[pair_i] = {np.average(group): group.shape[0]/self.elements_num[center_atom] for group in self.CN_distances_old[pair_i]}\n",
        "    #     return self.CN_old\n",
        "\n",
        "    def get_CN(self, center_atom=None, CN_atom=None, error_bar=0.01):\n",
        "        if not hasattr(self, 'pairs_types'):\n",
        "            self.get_pairs()\n",
        "            \n",
        "        if not hasattr(self, 'CN_distances'):\n",
        "            self.CN_distances = {}\n",
        "            self.CN = {}\n",
        "                    \n",
        "        if center_atom is None:\n",
        "            center_atom = self.atoms[0].symbol\n",
        "        \n",
        "        if CN_atom is None:\n",
        "            CN_atom = self.atoms[1].symbol\n",
        "            \n",
        "        bond_type = f\"{center_atom}-{CN_atom}\"                \n",
        "        center_atom_index = self.element_index_group[center_atom]\n",
        "        CN_atom_index = self.element_index_group[CN_atom]\n",
        "        \n",
        "        distances_all = np.asarray([self.atoms.get_distances(atom_i, CN_atom_index) for atom_i in center_atom_index])\n",
        "        distance_sorted = np.sort(distances_all.flatten())      \n",
        "        distance_sorted = distance_sorted[distance_sorted!=0]\n",
        "        diff = np.diff(distance_sorted)\n",
        "        indices = np.where(diff > error_bar)[0] + 1\n",
        "        self.CN_distances[bond_type] = np.split(distance_sorted, indices)\n",
        "        self.CN[bond_type] = {np.average(group): group.shape[0]/self.elements_num[center_atom] for group in self.CN_distances[bond_type]}\n",
        "        return self.CN\n",
        "    \n",
        "    # def get_all_distances()\n",
        "    def plot_hist(self, binsize=0.2):\n",
        "        if not hasattr(self, 'pairs_types'):\n",
        "            self.get_pairs()      \n",
        "        fig = go.Figure()\n",
        "        for key_i in self.pairs_group.keys():\n",
        "            fig.add_trace(go.Histogram(x=self.pairs_group[key_i]['distance'], name=key_i, opacity=0.6, \n",
        "                                       xbins={'size':binsize},marker={'line':{'color':'white','width':2}}))\n",
        "\n",
        "        fig.update_layout(\n",
        "            xaxis_title_text='Distances [A]', yaxis_title_text='pairs',\n",
        "            plot_bgcolor='rgba(0.02,0.02,0.02,0.02)',  # Transparent plot background\n",
        "            xaxis={'tickmode':'auto'}, barmode='overlay',  # Overlay histograms,\n",
        "            width=600, height=400)\n",
        "        fig.show()"
      ]
    },
    {
      "cell_type": "markdown",
      "metadata": {
        "id": "mbAvUo4pgHZZ"
      },
      "source": [
        "## Examples"
      ]
    },
    {
      "cell_type": "code",
      "execution_count": 12,
      "metadata": {},
      "outputs": [
        {
          "data": {
            "application/vnd.jupyter.widget-view+json": {
              "model_id": "7a6e057e31aa49b197c9528ba1becf7c",
              "version_major": 2,
              "version_minor": 0
            },
            "text/plain": [
              "HBox(children=(Button(description='Button 1', style=ButtonStyle()), Button(description='Button 2', style=Butto…"
            ]
          },
          "metadata": {},
          "output_type": "display_data"
        }
      ],
      "source": [
        "import ipywidgets as widgets\n",
        "from IPython.display import display\n",
        "\n",
        "# Create buttons and output widget\n",
        "button1 = widgets.Button(description=\"Button 1\")\n",
        "button2 = widgets.Button(description=\"Button 2\")\n",
        "button3 = widgets.Button(description=\"Button 3\")\n",
        "output = widgets.Output()\n",
        "\n",
        "# Event handler function\n",
        "def on_button_clicked(b):\n",
        "    with output:\n",
        "        print(f\"{b.description} clicked!\")\n",
        "\n",
        "# Linking buttons to the event handler\n",
        "button1.on_click(on_button_clicked)\n",
        "button2.on_click(on_button_clicked)\n",
        "button3.on_click(on_button_clicked)\n",
        "\n",
        "# Arrange buttons in a vertical box\n",
        "box = widgets.HBox([button1, button2, button3, output])\n",
        "display(box)\n"
      ]
    },
    {
      "cell_type": "code",
      "execution_count": 33,
      "metadata": {},
      "outputs": [
        {
          "data": {
            "application/vnd.jupyter.widget-view+json": {
              "model_id": "fa1e0ca677bd41869a7e059a6b2990f6",
              "version_major": 2,
              "version_minor": 0
            },
            "text/plain": [
              "HBox(children=(Button(description='Show', style=ButtonStyle()), Button(description='Plot histogram', style=But…"
            ]
          },
          "metadata": {},
          "output_type": "display_data"
        }
      ],
      "source": [
        "import ipywidgets as widgets\n",
        "from IPython.display import display, clear_output\n",
        "\n",
        "def read_file():\n",
        "    if fc.selected is not None:\n",
        "        with open(fc.selected, 'r') as file:\n",
        "            content = file.read()\n",
        "        return content\n",
        "    else:\n",
        "        print(\"No file selected.\")\n",
        "\n",
        "\n",
        "# Create buttons and output widget\n",
        "button_load = widgets.Button(description=\"Load xyz\")\n",
        "button_show = widgets.Button(description=\"Show\")\n",
        "button_hist = widgets.Button(description=\"Plot histogram\")\n",
        "button_getCN = widgets.Button(description=\"Calculate CN\")\n",
        "button_clear = widgets.Button(description=\"Clear\")\n",
        "\n",
        "output = widgets.Output()\n",
        "\n",
        "def load_xyz(b):\n",
        "    if fc.value is not None:\n",
        "        print(\"load\", fc.value)\n",
        "        cluster = ClusterNeighbor()\n",
        "        cluster.load_xyz(xyz_path=fc.value)\n",
        "\n",
        "def on_button_load_clicked(b):\n",
        "    # with output:\n",
        "    print(\"load xyz\")\n",
        "    fc = FileChooser()\n",
        "    display(fc)\n",
        "\n",
        "def on_button_show_clicked(b):\n",
        "    with output:\n",
        "        # clear_output()  # Clear the output area\n",
        "        \n",
        "        print(\"Show xyz\")\n",
        "        # cluster.view_xyz(highlight_atom1=\"Pb\", highlight_atom2=\"O\", label=True)\n",
        "        # print(\"center of mass:\", cluster.center)\n",
        "\n",
        "def on_button_hist_clicked(b):\n",
        "    with output:\n",
        "        # clear_output()  # Clear the output area\n",
        "        cluster.plot_hist(binsize=0.1)\n",
        "        # print(\"center of mass:\", cluster.center)\n",
        "\n",
        "def on_button_getCN_clicked(b):\n",
        "    with output:\n",
        "        # clear_output()  # Clear the output area\n",
        "        print(\"Show xyz\")\n",
        "        cluster.get_CN()\n",
        "        pprint(CN)\n",
        "        # print(\"center of mass:\", cluster.center)\n",
        "\n",
        "def on_button_clear_clicked(b):\n",
        "    with output:\n",
        "        clear_output()  # Clear the output area\n",
        "        \n",
        "# Linking buttons to the event handler\n",
        "button_load.on_click(on_button_load_clicked)\n",
        "button_clear.on_click(on_button_clear_clicked)\n",
        "button_show.on_click(on_button_show_clicked)\n",
        "button_hist.on_click(on_button_hist_clicked)\n",
        "button_getCN.on_click(on_button_getCN_clicked)\n",
        "\n",
        "# Arrange buttons in a vertical box\n",
        "box = widgets.HBox([button_show, button_hist, button_getCN, button_clear])\n",
        "display(box)\n"
      ]
    },
    {
      "cell_type": "code",
      "execution_count": 80,
      "metadata": {},
      "outputs": [
        {
          "data": {
            "application/3dmoljs_load.v0": "<div id=\"3dmolviewer_1705597183119303\"  style=\"position: relative; width: 500px; height: 500px;\">\n        <p id=\"3dmolwarning_1705597183119303\" style=\"background-color:#ffcccc;color:black\">You appear to be running in JupyterLab (or JavaScript failed to load for some other reason).  You need to install the 3dmol extension: <br>\n        <tt>jupyter labextension install jupyterlab_3dmol</tt></p>\n        </div>\n<script>\n\nvar loadScriptAsync = function(uri){\n  return new Promise((resolve, reject) => {\n    //this is to ignore the existence of requirejs amd\n    var savedexports, savedmodule;\n    if (typeof exports !== 'undefined') savedexports = exports;\n    else exports = {}\n    if (typeof module !== 'undefined') savedmodule = module;\n    else module = {}\n\n    var tag = document.createElement('script');\n    tag.src = uri;\n    tag.async = true;\n    tag.onload = () => {\n        exports = savedexports;\n        module = savedmodule;\n        resolve();\n    };\n  var firstScriptTag = document.getElementsByTagName('script')[0];\n  firstScriptTag.parentNode.insertBefore(tag, firstScriptTag);\n});\n};\n\nif(typeof $3Dmolpromise === 'undefined') {\n$3Dmolpromise = null;\n  $3Dmolpromise = loadScriptAsync('https://cdnjs.cloudflare.com/ajax/libs/3Dmol/2.0.4/3Dmol-min.js');\n}\n\nvar viewer_1705597183119303 = null;\nvar warn = document.getElementById(\"3dmolwarning_1705597183119303\");\nif(warn) {\n    warn.parentNode.removeChild(warn);\n}\n$3Dmolpromise.then(function() {\nviewer_1705597183119303 = $3Dmol.createViewer(document.getElementById(\"3dmolviewer_1705597183119303\"),{backgroundColor:\"white\"});\nviewer_1705597183119303.zoomTo();\n\tviewer_1705597183119303.addModel(\"59\\n\\nO -5.301403 -2.601292 -0.500298\\nO -3.367214 -1.231646 -1.809521\\nO -4.379644 0.010097 0.793594\\nO -2.460089 -3.700719 -0.252618\\nPb -3.419867 -1.845311 0.270488\\nO -3.472519 -2.458976 2.350497\\nO -1.538331 -1.08933 1.041273\\nO -2.550761 0.152413 3.644388\\nO -0.631206 -3.558404 2.598176\\nPb -1.590983 -1.702995 3.121282\\nO -1.643635 -2.316661 5.201291\\nO 0.290553 -0.947014 3.892068\\nO -3.346703 0.952956 -3.947334\\nO -4.359133 2.194699 -1.344219\\nO -2.424945 3.564345 -2.653442\\nO -3.437375 4.806088 -0.050327\\nO -1.51782 1.095271 -1.096539\\nPb -2.477597 2.95068 -0.573433\\nO -2.53025 2.337014 1.506576\\nO -0.596062 3.706661 0.197353\\nO -1.608492 4.948403 2.800468\\nO 0.311064 1.237587 1.754256\\nPb -4.068581 1.247684 2.547849\\nPb -0.648714 3.092995 2.277362\\nO -0.701366 2.47933 4.357371\\nO 1.232822 3.848976 3.048147\\nO 2.139947 1.379903 4.60505\\nO -2.139947 -1.379903 -4.60505\\nO -1.232822 -3.848976 -3.048147\\nO 0.701366 -2.47933 -4.357371\\nO -0.311064 -1.237587 -1.754256\\nO 1.608492 -4.948403 -2.800468\\nPb 0.648714 -3.092995 -2.277362\\nO 0.596062 -3.706661 -0.197353\\nO 2.53025 -2.337014 -1.506576\\nO 1.51782 -1.095271 1.096539\\nO 3.437375 -4.806088 0.050327\\nPb -0.942269 -4.795991 0.843921\\nPb 2.477597 -2.95068 0.573433\\nO 2.424945 -3.564345 2.653442\\nO 4.359133 -2.194699 1.344219\\nO 3.346703 -0.952956 3.947334\\nO -0.290553 0.947014 -3.892068\\nO 1.643635 2.316661 -5.201291\\nO 0.631206 3.558404 -2.598176\\nO 2.550761 -0.152413 -3.644388\\nPb -1.828884 -0.142316 -2.850795\\nPb 1.590983 1.702995 -3.121282\\nO 1.538331 1.08933 -1.041273\\nO 3.472519 2.458976 -2.350497\\nO 2.460089 3.700719 0.252618\\nO 4.379644 -0.010097 -0.793594\\nPb 0.0 0.0 0.0\\nPb 3.419867 1.845311 -0.270488\\nO 3.367214 1.231646 1.809521\\nO 5.301403 2.601292 0.500298\\nPb 1.828884 0.142316 2.850795\\nPb 0.942269 4.795991 -0.843921\\nPb 4.068581 -1.247684 -2.547849\\n\",\"xyz\");\n\tviewer_1705597183119303.setStyle({\"stick\": {\"radius\": 0.1, \"alpha\": 0.2, \"color\": \"gray\"}, \"sphere\": {\"radius\": 0.3}});\n\tviewer_1705597183119303.addStyle({\"atom\": \"Pb\"},{\"sphere\": {\"color\": \"red\", \"radius\": 0.5}});\n\tviewer_1705597183119303.addStyle({\"atom\": \"O\"},{\"sphere\": {\"color\": \"blue\", \"radius\": 0.3}});\n\tviewer_1705597183119303.setBackgroundColor(\"0xeeeeee\");\n\tviewer_1705597183119303.addLabel(\"0\",{\"position\": {\"x\": -5.301403, \"y\": -2.601292, \"z\": -0.500298}, \"fontColor\": \"k\", \"fontSize\": 12, \"backgroundColor\": \"white\", \"backgroundOpacity\": 0.5});\n\tviewer_1705597183119303.addLabel(\"1\",{\"position\": {\"x\": -3.367214, \"y\": -1.231646, \"z\": -1.809521}, \"fontColor\": \"k\", \"fontSize\": 12, \"backgroundColor\": \"white\", \"backgroundOpacity\": 0.5});\n\tviewer_1705597183119303.addLabel(\"2\",{\"position\": {\"x\": -4.379644, \"y\": 0.010097, \"z\": 0.793594}, \"fontColor\": \"k\", \"fontSize\": 12, \"backgroundColor\": \"white\", \"backgroundOpacity\": 0.5});\n\tviewer_1705597183119303.addLabel(\"3\",{\"position\": {\"x\": -2.460089, \"y\": -3.700719, \"z\": -0.252618}, \"fontColor\": \"k\", \"fontSize\": 12, \"backgroundColor\": \"white\", \"backgroundOpacity\": 0.5});\n\tviewer_1705597183119303.addLabel(\"4\",{\"position\": {\"x\": -3.419867, \"y\": -1.845311, \"z\": 0.270488}, \"fontColor\": \"k\", \"fontSize\": 12, \"backgroundColor\": \"white\", \"backgroundOpacity\": 0.5});\n\tviewer_1705597183119303.addLabel(\"5\",{\"position\": {\"x\": -3.472519, \"y\": -2.458976, \"z\": 2.350497}, \"fontColor\": \"k\", \"fontSize\": 12, \"backgroundColor\": \"white\", \"backgroundOpacity\": 0.5});\n\tviewer_1705597183119303.addLabel(\"6\",{\"position\": {\"x\": -1.538331, \"y\": -1.08933, \"z\": 1.041273}, \"fontColor\": \"k\", \"fontSize\": 12, \"backgroundColor\": \"white\", \"backgroundOpacity\": 0.5});\n\tviewer_1705597183119303.addLabel(\"7\",{\"position\": {\"x\": -2.550761, \"y\": 0.152413, \"z\": 3.644388}, \"fontColor\": \"k\", \"fontSize\": 12, \"backgroundColor\": \"white\", \"backgroundOpacity\": 0.5});\n\tviewer_1705597183119303.addLabel(\"8\",{\"position\": {\"x\": -0.631206, \"y\": -3.558404, \"z\": 2.598176}, \"fontColor\": \"k\", \"fontSize\": 12, \"backgroundColor\": \"white\", \"backgroundOpacity\": 0.5});\n\tviewer_1705597183119303.addLabel(\"9\",{\"position\": {\"x\": -1.590983, \"y\": -1.702995, \"z\": 3.121282}, \"fontColor\": \"k\", \"fontSize\": 12, \"backgroundColor\": \"white\", \"backgroundOpacity\": 0.5});\n\tviewer_1705597183119303.addLabel(\"10\",{\"position\": {\"x\": -1.643635, \"y\": -2.316661, \"z\": 5.201291}, \"fontColor\": \"k\", \"fontSize\": 12, \"backgroundColor\": \"white\", \"backgroundOpacity\": 0.5});\n\tviewer_1705597183119303.addLabel(\"11\",{\"position\": {\"x\": 0.290553, \"y\": -0.947014, \"z\": 3.892068}, \"fontColor\": \"k\", \"fontSize\": 12, \"backgroundColor\": \"white\", \"backgroundOpacity\": 0.5});\n\tviewer_1705597183119303.addLabel(\"12\",{\"position\": {\"x\": -3.346703, \"y\": 0.952956, \"z\": -3.947334}, \"fontColor\": \"k\", \"fontSize\": 12, \"backgroundColor\": \"white\", \"backgroundOpacity\": 0.5});\n\tviewer_1705597183119303.addLabel(\"13\",{\"position\": {\"x\": -4.359133, \"y\": 2.194699, \"z\": -1.344219}, \"fontColor\": \"k\", \"fontSize\": 12, \"backgroundColor\": \"white\", \"backgroundOpacity\": 0.5});\n\tviewer_1705597183119303.addLabel(\"14\",{\"position\": {\"x\": -2.424945, \"y\": 3.564345, \"z\": -2.653442}, \"fontColor\": \"k\", \"fontSize\": 12, \"backgroundColor\": \"white\", \"backgroundOpacity\": 0.5});\n\tviewer_1705597183119303.addLabel(\"15\",{\"position\": {\"x\": -3.437375, \"y\": 4.806088, \"z\": -0.050327}, \"fontColor\": \"k\", \"fontSize\": 12, \"backgroundColor\": \"white\", \"backgroundOpacity\": 0.5});\n\tviewer_1705597183119303.addLabel(\"16\",{\"position\": {\"x\": -1.51782, \"y\": 1.095271, \"z\": -1.096539}, \"fontColor\": \"k\", \"fontSize\": 12, \"backgroundColor\": \"white\", \"backgroundOpacity\": 0.5});\n\tviewer_1705597183119303.addLabel(\"17\",{\"position\": {\"x\": -2.477597, \"y\": 2.95068, \"z\": -0.573433}, \"fontColor\": \"k\", \"fontSize\": 12, \"backgroundColor\": \"white\", \"backgroundOpacity\": 0.5});\n\tviewer_1705597183119303.addLabel(\"18\",{\"position\": {\"x\": -2.53025, \"y\": 2.337014, \"z\": 1.506576}, \"fontColor\": \"k\", \"fontSize\": 12, \"backgroundColor\": \"white\", \"backgroundOpacity\": 0.5});\n\tviewer_1705597183119303.addLabel(\"19\",{\"position\": {\"x\": -0.596062, \"y\": 3.706661, \"z\": 0.197353}, \"fontColor\": \"k\", \"fontSize\": 12, \"backgroundColor\": \"white\", \"backgroundOpacity\": 0.5});\n\tviewer_1705597183119303.addLabel(\"20\",{\"position\": {\"x\": -1.608492, \"y\": 4.948403, \"z\": 2.800468}, \"fontColor\": \"k\", \"fontSize\": 12, \"backgroundColor\": \"white\", \"backgroundOpacity\": 0.5});\n\tviewer_1705597183119303.addLabel(\"21\",{\"position\": {\"x\": 0.311064, \"y\": 1.237587, \"z\": 1.754256}, \"fontColor\": \"k\", \"fontSize\": 12, \"backgroundColor\": \"white\", \"backgroundOpacity\": 0.5});\n\tviewer_1705597183119303.addLabel(\"22\",{\"position\": {\"x\": -4.068581, \"y\": 1.247684, \"z\": 2.547849}, \"fontColor\": \"k\", \"fontSize\": 12, \"backgroundColor\": \"white\", \"backgroundOpacity\": 0.5});\n\tviewer_1705597183119303.addLabel(\"23\",{\"position\": {\"x\": -0.648714, \"y\": 3.092995, \"z\": 2.277362}, \"fontColor\": \"k\", \"fontSize\": 12, \"backgroundColor\": \"white\", \"backgroundOpacity\": 0.5});\n\tviewer_1705597183119303.addLabel(\"24\",{\"position\": {\"x\": -0.701366, \"y\": 2.47933, \"z\": 4.357371}, \"fontColor\": \"k\", \"fontSize\": 12, \"backgroundColor\": \"white\", \"backgroundOpacity\": 0.5});\n\tviewer_1705597183119303.addLabel(\"25\",{\"position\": {\"x\": 1.232822, \"y\": 3.848976, \"z\": 3.048147}, \"fontColor\": \"k\", \"fontSize\": 12, \"backgroundColor\": \"white\", \"backgroundOpacity\": 0.5});\n\tviewer_1705597183119303.addLabel(\"26\",{\"position\": {\"x\": 2.139947, \"y\": 1.379903, \"z\": 4.60505}, \"fontColor\": \"k\", \"fontSize\": 12, \"backgroundColor\": \"white\", \"backgroundOpacity\": 0.5});\n\tviewer_1705597183119303.addLabel(\"27\",{\"position\": {\"x\": -2.139947, \"y\": -1.379903, \"z\": -4.60505}, \"fontColor\": \"k\", \"fontSize\": 12, \"backgroundColor\": \"white\", \"backgroundOpacity\": 0.5});\n\tviewer_1705597183119303.addLabel(\"28\",{\"position\": {\"x\": -1.232822, \"y\": -3.848976, \"z\": -3.048147}, \"fontColor\": \"k\", \"fontSize\": 12, \"backgroundColor\": \"white\", \"backgroundOpacity\": 0.5});\n\tviewer_1705597183119303.addLabel(\"29\",{\"position\": {\"x\": 0.701366, \"y\": -2.47933, \"z\": -4.357371}, \"fontColor\": \"k\", \"fontSize\": 12, \"backgroundColor\": \"white\", \"backgroundOpacity\": 0.5});\n\tviewer_1705597183119303.addLabel(\"30\",{\"position\": {\"x\": -0.311064, \"y\": -1.237587, \"z\": -1.754256}, \"fontColor\": \"k\", \"fontSize\": 12, \"backgroundColor\": \"white\", \"backgroundOpacity\": 0.5});\n\tviewer_1705597183119303.addLabel(\"31\",{\"position\": {\"x\": 1.608492, \"y\": -4.948403, \"z\": -2.800468}, \"fontColor\": \"k\", \"fontSize\": 12, \"backgroundColor\": \"white\", \"backgroundOpacity\": 0.5});\n\tviewer_1705597183119303.addLabel(\"32\",{\"position\": {\"x\": 0.648714, \"y\": -3.092995, \"z\": -2.277362}, \"fontColor\": \"k\", \"fontSize\": 12, \"backgroundColor\": \"white\", \"backgroundOpacity\": 0.5});\n\tviewer_1705597183119303.addLabel(\"33\",{\"position\": {\"x\": 0.596062, \"y\": -3.706661, \"z\": -0.197353}, \"fontColor\": \"k\", \"fontSize\": 12, \"backgroundColor\": \"white\", \"backgroundOpacity\": 0.5});\n\tviewer_1705597183119303.addLabel(\"34\",{\"position\": {\"x\": 2.53025, \"y\": -2.337014, \"z\": -1.506576}, \"fontColor\": \"k\", \"fontSize\": 12, \"backgroundColor\": \"white\", \"backgroundOpacity\": 0.5});\n\tviewer_1705597183119303.addLabel(\"35\",{\"position\": {\"x\": 1.51782, \"y\": -1.095271, \"z\": 1.096539}, \"fontColor\": \"k\", \"fontSize\": 12, \"backgroundColor\": \"white\", \"backgroundOpacity\": 0.5});\n\tviewer_1705597183119303.addLabel(\"36\",{\"position\": {\"x\": 3.437375, \"y\": -4.806088, \"z\": 0.050327}, \"fontColor\": \"k\", \"fontSize\": 12, \"backgroundColor\": \"white\", \"backgroundOpacity\": 0.5});\n\tviewer_1705597183119303.addLabel(\"37\",{\"position\": {\"x\": -0.942269, \"y\": -4.795991, \"z\": 0.843921}, \"fontColor\": \"k\", \"fontSize\": 12, \"backgroundColor\": \"white\", \"backgroundOpacity\": 0.5});\n\tviewer_1705597183119303.addLabel(\"38\",{\"position\": {\"x\": 2.477597, \"y\": -2.95068, \"z\": 0.573433}, \"fontColor\": \"k\", \"fontSize\": 12, \"backgroundColor\": \"white\", \"backgroundOpacity\": 0.5});\n\tviewer_1705597183119303.addLabel(\"39\",{\"position\": {\"x\": 2.424945, \"y\": -3.564345, \"z\": 2.653442}, \"fontColor\": \"k\", \"fontSize\": 12, \"backgroundColor\": \"white\", \"backgroundOpacity\": 0.5});\n\tviewer_1705597183119303.addLabel(\"40\",{\"position\": {\"x\": 4.359133, \"y\": -2.194699, \"z\": 1.344219}, \"fontColor\": \"k\", \"fontSize\": 12, \"backgroundColor\": \"white\", \"backgroundOpacity\": 0.5});\n\tviewer_1705597183119303.addLabel(\"41\",{\"position\": {\"x\": 3.346703, \"y\": -0.952956, \"z\": 3.947334}, \"fontColor\": \"k\", \"fontSize\": 12, \"backgroundColor\": \"white\", \"backgroundOpacity\": 0.5});\n\tviewer_1705597183119303.addLabel(\"42\",{\"position\": {\"x\": -0.290553, \"y\": 0.947014, \"z\": -3.892068}, \"fontColor\": \"k\", \"fontSize\": 12, \"backgroundColor\": \"white\", \"backgroundOpacity\": 0.5});\n\tviewer_1705597183119303.addLabel(\"43\",{\"position\": {\"x\": 1.643635, \"y\": 2.316661, \"z\": -5.201291}, \"fontColor\": \"k\", \"fontSize\": 12, \"backgroundColor\": \"white\", \"backgroundOpacity\": 0.5});\n\tviewer_1705597183119303.addLabel(\"44\",{\"position\": {\"x\": 0.631206, \"y\": 3.558404, \"z\": -2.598176}, \"fontColor\": \"k\", \"fontSize\": 12, \"backgroundColor\": \"white\", \"backgroundOpacity\": 0.5});\n\tviewer_1705597183119303.addLabel(\"45\",{\"position\": {\"x\": 2.550761, \"y\": -0.152413, \"z\": -3.644388}, \"fontColor\": \"k\", \"fontSize\": 12, \"backgroundColor\": \"white\", \"backgroundOpacity\": 0.5});\n\tviewer_1705597183119303.addLabel(\"46\",{\"position\": {\"x\": -1.828884, \"y\": -0.142316, \"z\": -2.850795}, \"fontColor\": \"k\", \"fontSize\": 12, \"backgroundColor\": \"white\", \"backgroundOpacity\": 0.5});\n\tviewer_1705597183119303.addLabel(\"47\",{\"position\": {\"x\": 1.590983, \"y\": 1.702995, \"z\": -3.121282}, \"fontColor\": \"k\", \"fontSize\": 12, \"backgroundColor\": \"white\", \"backgroundOpacity\": 0.5});\n\tviewer_1705597183119303.addLabel(\"48\",{\"position\": {\"x\": 1.538331, \"y\": 1.08933, \"z\": -1.041273}, \"fontColor\": \"k\", \"fontSize\": 12, \"backgroundColor\": \"white\", \"backgroundOpacity\": 0.5});\n\tviewer_1705597183119303.addLabel(\"49\",{\"position\": {\"x\": 3.472519, \"y\": 2.458976, \"z\": -2.350497}, \"fontColor\": \"k\", \"fontSize\": 12, \"backgroundColor\": \"white\", \"backgroundOpacity\": 0.5});\n\tviewer_1705597183119303.addLabel(\"50\",{\"position\": {\"x\": 2.460089, \"y\": 3.700719, \"z\": 0.252618}, \"fontColor\": \"k\", \"fontSize\": 12, \"backgroundColor\": \"white\", \"backgroundOpacity\": 0.5});\n\tviewer_1705597183119303.addLabel(\"51\",{\"position\": {\"x\": 4.379644, \"y\": -0.010097, \"z\": -0.793594}, \"fontColor\": \"k\", \"fontSize\": 12, \"backgroundColor\": \"white\", \"backgroundOpacity\": 0.5});\n\tviewer_1705597183119303.addLabel(\"52\",{\"position\": {\"x\": 0.0, \"y\": 0.0, \"z\": 0.0}, \"fontColor\": \"k\", \"fontSize\": 12, \"backgroundColor\": \"white\", \"backgroundOpacity\": 0.5});\n\tviewer_1705597183119303.addLabel(\"53\",{\"position\": {\"x\": 3.419867, \"y\": 1.845311, \"z\": -0.270488}, \"fontColor\": \"k\", \"fontSize\": 12, \"backgroundColor\": \"white\", \"backgroundOpacity\": 0.5});\n\tviewer_1705597183119303.addLabel(\"54\",{\"position\": {\"x\": 3.367214, \"y\": 1.231646, \"z\": 1.809521}, \"fontColor\": \"k\", \"fontSize\": 12, \"backgroundColor\": \"white\", \"backgroundOpacity\": 0.5});\n\tviewer_1705597183119303.addLabel(\"55\",{\"position\": {\"x\": 5.301403, \"y\": 2.601292, \"z\": 0.500298}, \"fontColor\": \"k\", \"fontSize\": 12, \"backgroundColor\": \"white\", \"backgroundOpacity\": 0.5});\n\tviewer_1705597183119303.addLabel(\"56\",{\"position\": {\"x\": 1.828884, \"y\": 0.142316, \"z\": 2.850795}, \"fontColor\": \"k\", \"fontSize\": 12, \"backgroundColor\": \"white\", \"backgroundOpacity\": 0.5});\n\tviewer_1705597183119303.addLabel(\"57\",{\"position\": {\"x\": 0.942269, \"y\": 4.795991, \"z\": -0.843921}, \"fontColor\": \"k\", \"fontSize\": 12, \"backgroundColor\": \"white\", \"backgroundOpacity\": 0.5});\n\tviewer_1705597183119303.addLabel(\"58\",{\"position\": {\"x\": 4.068581, \"y\": -1.247684, \"z\": -2.547849}, \"fontColor\": \"k\", \"fontSize\": 12, \"backgroundColor\": \"white\", \"backgroundOpacity\": 0.5});\n\tviewer_1705597183119303.zoomTo();\nviewer_1705597183119303.render();\n});\n</script>",
            "text/html": [
              "<div id=\"3dmolviewer_1705597183119303\"  style=\"position: relative; width: 500px; height: 500px;\">\n",
              "        <p id=\"3dmolwarning_1705597183119303\" style=\"background-color:#ffcccc;color:black\">You appear to be running in JupyterLab (or JavaScript failed to load for some other reason).  You need to install the 3dmol extension: <br>\n",
              "        <tt>jupyter labextension install jupyterlab_3dmol</tt></p>\n",
              "        </div>\n",
              "<script>\n",
              "\n",
              "var loadScriptAsync = function(uri){\n",
              "  return new Promise((resolve, reject) => {\n",
              "    //this is to ignore the existence of requirejs amd\n",
              "    var savedexports, savedmodule;\n",
              "    if (typeof exports !== 'undefined') savedexports = exports;\n",
              "    else exports = {}\n",
              "    if (typeof module !== 'undefined') savedmodule = module;\n",
              "    else module = {}\n",
              "\n",
              "    var tag = document.createElement('script');\n",
              "    tag.src = uri;\n",
              "    tag.async = true;\n",
              "    tag.onload = () => {\n",
              "        exports = savedexports;\n",
              "        module = savedmodule;\n",
              "        resolve();\n",
              "    };\n",
              "  var firstScriptTag = document.getElementsByTagName('script')[0];\n",
              "  firstScriptTag.parentNode.insertBefore(tag, firstScriptTag);\n",
              "});\n",
              "};\n",
              "\n",
              "if(typeof $3Dmolpromise === 'undefined') {\n",
              "$3Dmolpromise = null;\n",
              "  $3Dmolpromise = loadScriptAsync('https://cdnjs.cloudflare.com/ajax/libs/3Dmol/2.0.4/3Dmol-min.js');\n",
              "}\n",
              "\n",
              "var viewer_1705597183119303 = null;\n",
              "var warn = document.getElementById(\"3dmolwarning_1705597183119303\");\n",
              "if(warn) {\n",
              "    warn.parentNode.removeChild(warn);\n",
              "}\n",
              "$3Dmolpromise.then(function() {\n",
              "viewer_1705597183119303 = $3Dmol.createViewer(document.getElementById(\"3dmolviewer_1705597183119303\"),{backgroundColor:\"white\"});\n",
              "viewer_1705597183119303.zoomTo();\n",
              "\tviewer_1705597183119303.addModel(\"59\\n\\nO -5.301403 -2.601292 -0.500298\\nO -3.367214 -1.231646 -1.809521\\nO -4.379644 0.010097 0.793594\\nO -2.460089 -3.700719 -0.252618\\nPb -3.419867 -1.845311 0.270488\\nO -3.472519 -2.458976 2.350497\\nO -1.538331 -1.08933 1.041273\\nO -2.550761 0.152413 3.644388\\nO -0.631206 -3.558404 2.598176\\nPb -1.590983 -1.702995 3.121282\\nO -1.643635 -2.316661 5.201291\\nO 0.290553 -0.947014 3.892068\\nO -3.346703 0.952956 -3.947334\\nO -4.359133 2.194699 -1.344219\\nO -2.424945 3.564345 -2.653442\\nO -3.437375 4.806088 -0.050327\\nO -1.51782 1.095271 -1.096539\\nPb -2.477597 2.95068 -0.573433\\nO -2.53025 2.337014 1.506576\\nO -0.596062 3.706661 0.197353\\nO -1.608492 4.948403 2.800468\\nO 0.311064 1.237587 1.754256\\nPb -4.068581 1.247684 2.547849\\nPb -0.648714 3.092995 2.277362\\nO -0.701366 2.47933 4.357371\\nO 1.232822 3.848976 3.048147\\nO 2.139947 1.379903 4.60505\\nO -2.139947 -1.379903 -4.60505\\nO -1.232822 -3.848976 -3.048147\\nO 0.701366 -2.47933 -4.357371\\nO -0.311064 -1.237587 -1.754256\\nO 1.608492 -4.948403 -2.800468\\nPb 0.648714 -3.092995 -2.277362\\nO 0.596062 -3.706661 -0.197353\\nO 2.53025 -2.337014 -1.506576\\nO 1.51782 -1.095271 1.096539\\nO 3.437375 -4.806088 0.050327\\nPb -0.942269 -4.795991 0.843921\\nPb 2.477597 -2.95068 0.573433\\nO 2.424945 -3.564345 2.653442\\nO 4.359133 -2.194699 1.344219\\nO 3.346703 -0.952956 3.947334\\nO -0.290553 0.947014 -3.892068\\nO 1.643635 2.316661 -5.201291\\nO 0.631206 3.558404 -2.598176\\nO 2.550761 -0.152413 -3.644388\\nPb -1.828884 -0.142316 -2.850795\\nPb 1.590983 1.702995 -3.121282\\nO 1.538331 1.08933 -1.041273\\nO 3.472519 2.458976 -2.350497\\nO 2.460089 3.700719 0.252618\\nO 4.379644 -0.010097 -0.793594\\nPb 0.0 0.0 0.0\\nPb 3.419867 1.845311 -0.270488\\nO 3.367214 1.231646 1.809521\\nO 5.301403 2.601292 0.500298\\nPb 1.828884 0.142316 2.850795\\nPb 0.942269 4.795991 -0.843921\\nPb 4.068581 -1.247684 -2.547849\\n\",\"xyz\");\n",
              "\tviewer_1705597183119303.setStyle({\"stick\": {\"radius\": 0.1, \"alpha\": 0.2, \"color\": \"gray\"}, \"sphere\": {\"radius\": 0.3}});\n",
              "\tviewer_1705597183119303.addStyle({\"atom\": \"Pb\"},{\"sphere\": {\"color\": \"red\", \"radius\": 0.5}});\n",
              "\tviewer_1705597183119303.addStyle({\"atom\": \"O\"},{\"sphere\": {\"color\": \"blue\", \"radius\": 0.3}});\n",
              "\tviewer_1705597183119303.setBackgroundColor(\"0xeeeeee\");\n",
              "\tviewer_1705597183119303.addLabel(\"0\",{\"position\": {\"x\": -5.301403, \"y\": -2.601292, \"z\": -0.500298}, \"fontColor\": \"k\", \"fontSize\": 12, \"backgroundColor\": \"white\", \"backgroundOpacity\": 0.5});\n",
              "\tviewer_1705597183119303.addLabel(\"1\",{\"position\": {\"x\": -3.367214, \"y\": -1.231646, \"z\": -1.809521}, \"fontColor\": \"k\", \"fontSize\": 12, \"backgroundColor\": \"white\", \"backgroundOpacity\": 0.5});\n",
              "\tviewer_1705597183119303.addLabel(\"2\",{\"position\": {\"x\": -4.379644, \"y\": 0.010097, \"z\": 0.793594}, \"fontColor\": \"k\", \"fontSize\": 12, \"backgroundColor\": \"white\", \"backgroundOpacity\": 0.5});\n",
              "\tviewer_1705597183119303.addLabel(\"3\",{\"position\": {\"x\": -2.460089, \"y\": -3.700719, \"z\": -0.252618}, \"fontColor\": \"k\", \"fontSize\": 12, \"backgroundColor\": \"white\", \"backgroundOpacity\": 0.5});\n",
              "\tviewer_1705597183119303.addLabel(\"4\",{\"position\": {\"x\": -3.419867, \"y\": -1.845311, \"z\": 0.270488}, \"fontColor\": \"k\", \"fontSize\": 12, \"backgroundColor\": \"white\", \"backgroundOpacity\": 0.5});\n",
              "\tviewer_1705597183119303.addLabel(\"5\",{\"position\": {\"x\": -3.472519, \"y\": -2.458976, \"z\": 2.350497}, \"fontColor\": \"k\", \"fontSize\": 12, \"backgroundColor\": \"white\", \"backgroundOpacity\": 0.5});\n",
              "\tviewer_1705597183119303.addLabel(\"6\",{\"position\": {\"x\": -1.538331, \"y\": -1.08933, \"z\": 1.041273}, \"fontColor\": \"k\", \"fontSize\": 12, \"backgroundColor\": \"white\", \"backgroundOpacity\": 0.5});\n",
              "\tviewer_1705597183119303.addLabel(\"7\",{\"position\": {\"x\": -2.550761, \"y\": 0.152413, \"z\": 3.644388}, \"fontColor\": \"k\", \"fontSize\": 12, \"backgroundColor\": \"white\", \"backgroundOpacity\": 0.5});\n",
              "\tviewer_1705597183119303.addLabel(\"8\",{\"position\": {\"x\": -0.631206, \"y\": -3.558404, \"z\": 2.598176}, \"fontColor\": \"k\", \"fontSize\": 12, \"backgroundColor\": \"white\", \"backgroundOpacity\": 0.5});\n",
              "\tviewer_1705597183119303.addLabel(\"9\",{\"position\": {\"x\": -1.590983, \"y\": -1.702995, \"z\": 3.121282}, \"fontColor\": \"k\", \"fontSize\": 12, \"backgroundColor\": \"white\", \"backgroundOpacity\": 0.5});\n",
              "\tviewer_1705597183119303.addLabel(\"10\",{\"position\": {\"x\": -1.643635, \"y\": -2.316661, \"z\": 5.201291}, \"fontColor\": \"k\", \"fontSize\": 12, \"backgroundColor\": \"white\", \"backgroundOpacity\": 0.5});\n",
              "\tviewer_1705597183119303.addLabel(\"11\",{\"position\": {\"x\": 0.290553, \"y\": -0.947014, \"z\": 3.892068}, \"fontColor\": \"k\", \"fontSize\": 12, \"backgroundColor\": \"white\", \"backgroundOpacity\": 0.5});\n",
              "\tviewer_1705597183119303.addLabel(\"12\",{\"position\": {\"x\": -3.346703, \"y\": 0.952956, \"z\": -3.947334}, \"fontColor\": \"k\", \"fontSize\": 12, \"backgroundColor\": \"white\", \"backgroundOpacity\": 0.5});\n",
              "\tviewer_1705597183119303.addLabel(\"13\",{\"position\": {\"x\": -4.359133, \"y\": 2.194699, \"z\": -1.344219}, \"fontColor\": \"k\", \"fontSize\": 12, \"backgroundColor\": \"white\", \"backgroundOpacity\": 0.5});\n",
              "\tviewer_1705597183119303.addLabel(\"14\",{\"position\": {\"x\": -2.424945, \"y\": 3.564345, \"z\": -2.653442}, \"fontColor\": \"k\", \"fontSize\": 12, \"backgroundColor\": \"white\", \"backgroundOpacity\": 0.5});\n",
              "\tviewer_1705597183119303.addLabel(\"15\",{\"position\": {\"x\": -3.437375, \"y\": 4.806088, \"z\": -0.050327}, \"fontColor\": \"k\", \"fontSize\": 12, \"backgroundColor\": \"white\", \"backgroundOpacity\": 0.5});\n",
              "\tviewer_1705597183119303.addLabel(\"16\",{\"position\": {\"x\": -1.51782, \"y\": 1.095271, \"z\": -1.096539}, \"fontColor\": \"k\", \"fontSize\": 12, \"backgroundColor\": \"white\", \"backgroundOpacity\": 0.5});\n",
              "\tviewer_1705597183119303.addLabel(\"17\",{\"position\": {\"x\": -2.477597, \"y\": 2.95068, \"z\": -0.573433}, \"fontColor\": \"k\", \"fontSize\": 12, \"backgroundColor\": \"white\", \"backgroundOpacity\": 0.5});\n",
              "\tviewer_1705597183119303.addLabel(\"18\",{\"position\": {\"x\": -2.53025, \"y\": 2.337014, \"z\": 1.506576}, \"fontColor\": \"k\", \"fontSize\": 12, \"backgroundColor\": \"white\", \"backgroundOpacity\": 0.5});\n",
              "\tviewer_1705597183119303.addLabel(\"19\",{\"position\": {\"x\": -0.596062, \"y\": 3.706661, \"z\": 0.197353}, \"fontColor\": \"k\", \"fontSize\": 12, \"backgroundColor\": \"white\", \"backgroundOpacity\": 0.5});\n",
              "\tviewer_1705597183119303.addLabel(\"20\",{\"position\": {\"x\": -1.608492, \"y\": 4.948403, \"z\": 2.800468}, \"fontColor\": \"k\", \"fontSize\": 12, \"backgroundColor\": \"white\", \"backgroundOpacity\": 0.5});\n",
              "\tviewer_1705597183119303.addLabel(\"21\",{\"position\": {\"x\": 0.311064, \"y\": 1.237587, \"z\": 1.754256}, \"fontColor\": \"k\", \"fontSize\": 12, \"backgroundColor\": \"white\", \"backgroundOpacity\": 0.5});\n",
              "\tviewer_1705597183119303.addLabel(\"22\",{\"position\": {\"x\": -4.068581, \"y\": 1.247684, \"z\": 2.547849}, \"fontColor\": \"k\", \"fontSize\": 12, \"backgroundColor\": \"white\", \"backgroundOpacity\": 0.5});\n",
              "\tviewer_1705597183119303.addLabel(\"23\",{\"position\": {\"x\": -0.648714, \"y\": 3.092995, \"z\": 2.277362}, \"fontColor\": \"k\", \"fontSize\": 12, \"backgroundColor\": \"white\", \"backgroundOpacity\": 0.5});\n",
              "\tviewer_1705597183119303.addLabel(\"24\",{\"position\": {\"x\": -0.701366, \"y\": 2.47933, \"z\": 4.357371}, \"fontColor\": \"k\", \"fontSize\": 12, \"backgroundColor\": \"white\", \"backgroundOpacity\": 0.5});\n",
              "\tviewer_1705597183119303.addLabel(\"25\",{\"position\": {\"x\": 1.232822, \"y\": 3.848976, \"z\": 3.048147}, \"fontColor\": \"k\", \"fontSize\": 12, \"backgroundColor\": \"white\", \"backgroundOpacity\": 0.5});\n",
              "\tviewer_1705597183119303.addLabel(\"26\",{\"position\": {\"x\": 2.139947, \"y\": 1.379903, \"z\": 4.60505}, \"fontColor\": \"k\", \"fontSize\": 12, \"backgroundColor\": \"white\", \"backgroundOpacity\": 0.5});\n",
              "\tviewer_1705597183119303.addLabel(\"27\",{\"position\": {\"x\": -2.139947, \"y\": -1.379903, \"z\": -4.60505}, \"fontColor\": \"k\", \"fontSize\": 12, \"backgroundColor\": \"white\", \"backgroundOpacity\": 0.5});\n",
              "\tviewer_1705597183119303.addLabel(\"28\",{\"position\": {\"x\": -1.232822, \"y\": -3.848976, \"z\": -3.048147}, \"fontColor\": \"k\", \"fontSize\": 12, \"backgroundColor\": \"white\", \"backgroundOpacity\": 0.5});\n",
              "\tviewer_1705597183119303.addLabel(\"29\",{\"position\": {\"x\": 0.701366, \"y\": -2.47933, \"z\": -4.357371}, \"fontColor\": \"k\", \"fontSize\": 12, \"backgroundColor\": \"white\", \"backgroundOpacity\": 0.5});\n",
              "\tviewer_1705597183119303.addLabel(\"30\",{\"position\": {\"x\": -0.311064, \"y\": -1.237587, \"z\": -1.754256}, \"fontColor\": \"k\", \"fontSize\": 12, \"backgroundColor\": \"white\", \"backgroundOpacity\": 0.5});\n",
              "\tviewer_1705597183119303.addLabel(\"31\",{\"position\": {\"x\": 1.608492, \"y\": -4.948403, \"z\": -2.800468}, \"fontColor\": \"k\", \"fontSize\": 12, \"backgroundColor\": \"white\", \"backgroundOpacity\": 0.5});\n",
              "\tviewer_1705597183119303.addLabel(\"32\",{\"position\": {\"x\": 0.648714, \"y\": -3.092995, \"z\": -2.277362}, \"fontColor\": \"k\", \"fontSize\": 12, \"backgroundColor\": \"white\", \"backgroundOpacity\": 0.5});\n",
              "\tviewer_1705597183119303.addLabel(\"33\",{\"position\": {\"x\": 0.596062, \"y\": -3.706661, \"z\": -0.197353}, \"fontColor\": \"k\", \"fontSize\": 12, \"backgroundColor\": \"white\", \"backgroundOpacity\": 0.5});\n",
              "\tviewer_1705597183119303.addLabel(\"34\",{\"position\": {\"x\": 2.53025, \"y\": -2.337014, \"z\": -1.506576}, \"fontColor\": \"k\", \"fontSize\": 12, \"backgroundColor\": \"white\", \"backgroundOpacity\": 0.5});\n",
              "\tviewer_1705597183119303.addLabel(\"35\",{\"position\": {\"x\": 1.51782, \"y\": -1.095271, \"z\": 1.096539}, \"fontColor\": \"k\", \"fontSize\": 12, \"backgroundColor\": \"white\", \"backgroundOpacity\": 0.5});\n",
              "\tviewer_1705597183119303.addLabel(\"36\",{\"position\": {\"x\": 3.437375, \"y\": -4.806088, \"z\": 0.050327}, \"fontColor\": \"k\", \"fontSize\": 12, \"backgroundColor\": \"white\", \"backgroundOpacity\": 0.5});\n",
              "\tviewer_1705597183119303.addLabel(\"37\",{\"position\": {\"x\": -0.942269, \"y\": -4.795991, \"z\": 0.843921}, \"fontColor\": \"k\", \"fontSize\": 12, \"backgroundColor\": \"white\", \"backgroundOpacity\": 0.5});\n",
              "\tviewer_1705597183119303.addLabel(\"38\",{\"position\": {\"x\": 2.477597, \"y\": -2.95068, \"z\": 0.573433}, \"fontColor\": \"k\", \"fontSize\": 12, \"backgroundColor\": \"white\", \"backgroundOpacity\": 0.5});\n",
              "\tviewer_1705597183119303.addLabel(\"39\",{\"position\": {\"x\": 2.424945, \"y\": -3.564345, \"z\": 2.653442}, \"fontColor\": \"k\", \"fontSize\": 12, \"backgroundColor\": \"white\", \"backgroundOpacity\": 0.5});\n",
              "\tviewer_1705597183119303.addLabel(\"40\",{\"position\": {\"x\": 4.359133, \"y\": -2.194699, \"z\": 1.344219}, \"fontColor\": \"k\", \"fontSize\": 12, \"backgroundColor\": \"white\", \"backgroundOpacity\": 0.5});\n",
              "\tviewer_1705597183119303.addLabel(\"41\",{\"position\": {\"x\": 3.346703, \"y\": -0.952956, \"z\": 3.947334}, \"fontColor\": \"k\", \"fontSize\": 12, \"backgroundColor\": \"white\", \"backgroundOpacity\": 0.5});\n",
              "\tviewer_1705597183119303.addLabel(\"42\",{\"position\": {\"x\": -0.290553, \"y\": 0.947014, \"z\": -3.892068}, \"fontColor\": \"k\", \"fontSize\": 12, \"backgroundColor\": \"white\", \"backgroundOpacity\": 0.5});\n",
              "\tviewer_1705597183119303.addLabel(\"43\",{\"position\": {\"x\": 1.643635, \"y\": 2.316661, \"z\": -5.201291}, \"fontColor\": \"k\", \"fontSize\": 12, \"backgroundColor\": \"white\", \"backgroundOpacity\": 0.5});\n",
              "\tviewer_1705597183119303.addLabel(\"44\",{\"position\": {\"x\": 0.631206, \"y\": 3.558404, \"z\": -2.598176}, \"fontColor\": \"k\", \"fontSize\": 12, \"backgroundColor\": \"white\", \"backgroundOpacity\": 0.5});\n",
              "\tviewer_1705597183119303.addLabel(\"45\",{\"position\": {\"x\": 2.550761, \"y\": -0.152413, \"z\": -3.644388}, \"fontColor\": \"k\", \"fontSize\": 12, \"backgroundColor\": \"white\", \"backgroundOpacity\": 0.5});\n",
              "\tviewer_1705597183119303.addLabel(\"46\",{\"position\": {\"x\": -1.828884, \"y\": -0.142316, \"z\": -2.850795}, \"fontColor\": \"k\", \"fontSize\": 12, \"backgroundColor\": \"white\", \"backgroundOpacity\": 0.5});\n",
              "\tviewer_1705597183119303.addLabel(\"47\",{\"position\": {\"x\": 1.590983, \"y\": 1.702995, \"z\": -3.121282}, \"fontColor\": \"k\", \"fontSize\": 12, \"backgroundColor\": \"white\", \"backgroundOpacity\": 0.5});\n",
              "\tviewer_1705597183119303.addLabel(\"48\",{\"position\": {\"x\": 1.538331, \"y\": 1.08933, \"z\": -1.041273}, \"fontColor\": \"k\", \"fontSize\": 12, \"backgroundColor\": \"white\", \"backgroundOpacity\": 0.5});\n",
              "\tviewer_1705597183119303.addLabel(\"49\",{\"position\": {\"x\": 3.472519, \"y\": 2.458976, \"z\": -2.350497}, \"fontColor\": \"k\", \"fontSize\": 12, \"backgroundColor\": \"white\", \"backgroundOpacity\": 0.5});\n",
              "\tviewer_1705597183119303.addLabel(\"50\",{\"position\": {\"x\": 2.460089, \"y\": 3.700719, \"z\": 0.252618}, \"fontColor\": \"k\", \"fontSize\": 12, \"backgroundColor\": \"white\", \"backgroundOpacity\": 0.5});\n",
              "\tviewer_1705597183119303.addLabel(\"51\",{\"position\": {\"x\": 4.379644, \"y\": -0.010097, \"z\": -0.793594}, \"fontColor\": \"k\", \"fontSize\": 12, \"backgroundColor\": \"white\", \"backgroundOpacity\": 0.5});\n",
              "\tviewer_1705597183119303.addLabel(\"52\",{\"position\": {\"x\": 0.0, \"y\": 0.0, \"z\": 0.0}, \"fontColor\": \"k\", \"fontSize\": 12, \"backgroundColor\": \"white\", \"backgroundOpacity\": 0.5});\n",
              "\tviewer_1705597183119303.addLabel(\"53\",{\"position\": {\"x\": 3.419867, \"y\": 1.845311, \"z\": -0.270488}, \"fontColor\": \"k\", \"fontSize\": 12, \"backgroundColor\": \"white\", \"backgroundOpacity\": 0.5});\n",
              "\tviewer_1705597183119303.addLabel(\"54\",{\"position\": {\"x\": 3.367214, \"y\": 1.231646, \"z\": 1.809521}, \"fontColor\": \"k\", \"fontSize\": 12, \"backgroundColor\": \"white\", \"backgroundOpacity\": 0.5});\n",
              "\tviewer_1705597183119303.addLabel(\"55\",{\"position\": {\"x\": 5.301403, \"y\": 2.601292, \"z\": 0.500298}, \"fontColor\": \"k\", \"fontSize\": 12, \"backgroundColor\": \"white\", \"backgroundOpacity\": 0.5});\n",
              "\tviewer_1705597183119303.addLabel(\"56\",{\"position\": {\"x\": 1.828884, \"y\": 0.142316, \"z\": 2.850795}, \"fontColor\": \"k\", \"fontSize\": 12, \"backgroundColor\": \"white\", \"backgroundOpacity\": 0.5});\n",
              "\tviewer_1705597183119303.addLabel(\"57\",{\"position\": {\"x\": 0.942269, \"y\": 4.795991, \"z\": -0.843921}, \"fontColor\": \"k\", \"fontSize\": 12, \"backgroundColor\": \"white\", \"backgroundOpacity\": 0.5});\n",
              "\tviewer_1705597183119303.addLabel(\"58\",{\"position\": {\"x\": 4.068581, \"y\": -1.247684, \"z\": -2.547849}, \"fontColor\": \"k\", \"fontSize\": 12, \"backgroundColor\": \"white\", \"backgroundOpacity\": 0.5});\n",
              "\tviewer_1705597183119303.zoomTo();\n",
              "viewer_1705597183119303.render();\n",
              "});\n",
              "</script>"
            ]
          },
          "metadata": {},
          "output_type": "display_data"
        },
        {
          "name": "stdout",
          "output_type": "stream",
          "text": [
            "Cluster size is 5.926372577426853 A\n",
            "center of mass: [-3.01051652e-16  1.12298166e-16  1.83279193e-16]\n"
          ]
        },
        {
          "data": {
            "application/3dmoljs_load.v0": "<div id=\"3dmolviewer_1705597183121844\"  style=\"position: relative; width: 500px; height: 500px;\">\n        <p id=\"3dmolwarning_1705597183121844\" style=\"background-color:#ffcccc;color:black\">You appear to be running in JupyterLab (or JavaScript failed to load for some other reason).  You need to install the 3dmol extension: <br>\n        <tt>jupyter labextension install jupyterlab_3dmol</tt></p>\n        </div>\n<script>\n\nvar loadScriptAsync = function(uri){\n  return new Promise((resolve, reject) => {\n    //this is to ignore the existence of requirejs amd\n    var savedexports, savedmodule;\n    if (typeof exports !== 'undefined') savedexports = exports;\n    else exports = {}\n    if (typeof module !== 'undefined') savedmodule = module;\n    else module = {}\n\n    var tag = document.createElement('script');\n    tag.src = uri;\n    tag.async = true;\n    tag.onload = () => {\n        exports = savedexports;\n        module = savedmodule;\n        resolve();\n    };\n  var firstScriptTag = document.getElementsByTagName('script')[0];\n  firstScriptTag.parentNode.insertBefore(tag, firstScriptTag);\n});\n};\n\nif(typeof $3Dmolpromise === 'undefined') {\n$3Dmolpromise = null;\n  $3Dmolpromise = loadScriptAsync('https://cdnjs.cloudflare.com/ajax/libs/3Dmol/2.0.4/3Dmol-min.js');\n}\n\nvar viewer_1705597183121844 = null;\nvar warn = document.getElementById(\"3dmolwarning_1705597183121844\");\nif(warn) {\n    warn.parentNode.removeChild(warn);\n}\n$3Dmolpromise.then(function() {\nviewer_1705597183121844 = $3Dmol.createViewer(document.getElementById(\"3dmolviewer_1705597183121844\"),{backgroundColor:\"white\"});\nviewer_1705597183121844.zoomTo();\n\tviewer_1705597183121844.addModel(\"9\\n\\nO -1.538331 -1.08933 1.041273\\nO -1.51782 1.095271 -1.096539\\nO 0.311064 1.237587 1.754256\\nO -0.311064 -1.237587 -1.754256\\nO 1.51782 -1.095271 1.096539\\nPb -1.828884 -0.142316 -2.850795\\nO 1.538331 1.08933 -1.041273\\nPb 0.0 0.0 0.0\\nPb 1.828884 0.142316 2.850795\\n\",\"xyz\");\n\tviewer_1705597183121844.setStyle({\"stick\": {\"radius\": 0.1, \"alpha\": 0.2, \"color\": \"gray\"}, \"sphere\": {\"radius\": 0.3}});\n\tviewer_1705597183121844.addStyle({\"atom\": \"Pb\"},{\"sphere\": {\"color\": \"red\", \"radius\": 0.5}});\n\tviewer_1705597183121844.addStyle({\"atom\": \"O\"},{\"sphere\": {\"color\": \"blue\", \"radius\": 0.3}});\n\tviewer_1705597183121844.setBackgroundColor(\"0xeeeeee\");\n\tviewer_1705597183121844.addLabel(\"0\",{\"position\": {\"x\": -1.538331, \"y\": -1.08933, \"z\": 1.041273}, \"fontColor\": \"k\", \"fontSize\": 12, \"backgroundColor\": \"white\", \"backgroundOpacity\": 0.5});\n\tviewer_1705597183121844.addLabel(\"1\",{\"position\": {\"x\": -1.51782, \"y\": 1.095271, \"z\": -1.096539}, \"fontColor\": \"k\", \"fontSize\": 12, \"backgroundColor\": \"white\", \"backgroundOpacity\": 0.5});\n\tviewer_1705597183121844.addLabel(\"2\",{\"position\": {\"x\": 0.311064, \"y\": 1.237587, \"z\": 1.754256}, \"fontColor\": \"k\", \"fontSize\": 12, \"backgroundColor\": \"white\", \"backgroundOpacity\": 0.5});\n\tviewer_1705597183121844.addLabel(\"3\",{\"position\": {\"x\": -0.311064, \"y\": -1.237587, \"z\": -1.754256}, \"fontColor\": \"k\", \"fontSize\": 12, \"backgroundColor\": \"white\", \"backgroundOpacity\": 0.5});\n\tviewer_1705597183121844.addLabel(\"4\",{\"position\": {\"x\": 1.51782, \"y\": -1.095271, \"z\": 1.096539}, \"fontColor\": \"k\", \"fontSize\": 12, \"backgroundColor\": \"white\", \"backgroundOpacity\": 0.5});\n\tviewer_1705597183121844.addLabel(\"5\",{\"position\": {\"x\": -1.828884, \"y\": -0.142316, \"z\": -2.850795}, \"fontColor\": \"k\", \"fontSize\": 12, \"backgroundColor\": \"white\", \"backgroundOpacity\": 0.5});\n\tviewer_1705597183121844.addLabel(\"6\",{\"position\": {\"x\": 1.538331, \"y\": 1.08933, \"z\": -1.041273}, \"fontColor\": \"k\", \"fontSize\": 12, \"backgroundColor\": \"white\", \"backgroundOpacity\": 0.5});\n\tviewer_1705597183121844.addLabel(\"7\",{\"position\": {\"x\": 0.0, \"y\": 0.0, \"z\": 0.0}, \"fontColor\": \"k\", \"fontSize\": 12, \"backgroundColor\": \"white\", \"backgroundOpacity\": 0.5});\n\tviewer_1705597183121844.addLabel(\"8\",{\"position\": {\"x\": 1.828884, \"y\": 0.142316, \"z\": 2.850795}, \"fontColor\": \"k\", \"fontSize\": 12, \"backgroundColor\": \"white\", \"backgroundOpacity\": 0.5});\n\tviewer_1705597183121844.zoomTo();\nviewer_1705597183121844.render();\n});\n</script>",
            "text/html": [
              "<div id=\"3dmolviewer_1705597183121844\"  style=\"position: relative; width: 500px; height: 500px;\">\n",
              "        <p id=\"3dmolwarning_1705597183121844\" style=\"background-color:#ffcccc;color:black\">You appear to be running in JupyterLab (or JavaScript failed to load for some other reason).  You need to install the 3dmol extension: <br>\n",
              "        <tt>jupyter labextension install jupyterlab_3dmol</tt></p>\n",
              "        </div>\n",
              "<script>\n",
              "\n",
              "var loadScriptAsync = function(uri){\n",
              "  return new Promise((resolve, reject) => {\n",
              "    //this is to ignore the existence of requirejs amd\n",
              "    var savedexports, savedmodule;\n",
              "    if (typeof exports !== 'undefined') savedexports = exports;\n",
              "    else exports = {}\n",
              "    if (typeof module !== 'undefined') savedmodule = module;\n",
              "    else module = {}\n",
              "\n",
              "    var tag = document.createElement('script');\n",
              "    tag.src = uri;\n",
              "    tag.async = true;\n",
              "    tag.onload = () => {\n",
              "        exports = savedexports;\n",
              "        module = savedmodule;\n",
              "        resolve();\n",
              "    };\n",
              "  var firstScriptTag = document.getElementsByTagName('script')[0];\n",
              "  firstScriptTag.parentNode.insertBefore(tag, firstScriptTag);\n",
              "});\n",
              "};\n",
              "\n",
              "if(typeof $3Dmolpromise === 'undefined') {\n",
              "$3Dmolpromise = null;\n",
              "  $3Dmolpromise = loadScriptAsync('https://cdnjs.cloudflare.com/ajax/libs/3Dmol/2.0.4/3Dmol-min.js');\n",
              "}\n",
              "\n",
              "var viewer_1705597183121844 = null;\n",
              "var warn = document.getElementById(\"3dmolwarning_1705597183121844\");\n",
              "if(warn) {\n",
              "    warn.parentNode.removeChild(warn);\n",
              "}\n",
              "$3Dmolpromise.then(function() {\n",
              "viewer_1705597183121844 = $3Dmol.createViewer(document.getElementById(\"3dmolviewer_1705597183121844\"),{backgroundColor:\"white\"});\n",
              "viewer_1705597183121844.zoomTo();\n",
              "\tviewer_1705597183121844.addModel(\"9\\n\\nO -1.538331 -1.08933 1.041273\\nO -1.51782 1.095271 -1.096539\\nO 0.311064 1.237587 1.754256\\nO -0.311064 -1.237587 -1.754256\\nO 1.51782 -1.095271 1.096539\\nPb -1.828884 -0.142316 -2.850795\\nO 1.538331 1.08933 -1.041273\\nPb 0.0 0.0 0.0\\nPb 1.828884 0.142316 2.850795\\n\",\"xyz\");\n",
              "\tviewer_1705597183121844.setStyle({\"stick\": {\"radius\": 0.1, \"alpha\": 0.2, \"color\": \"gray\"}, \"sphere\": {\"radius\": 0.3}});\n",
              "\tviewer_1705597183121844.addStyle({\"atom\": \"Pb\"},{\"sphere\": {\"color\": \"red\", \"radius\": 0.5}});\n",
              "\tviewer_1705597183121844.addStyle({\"atom\": \"O\"},{\"sphere\": {\"color\": \"blue\", \"radius\": 0.3}});\n",
              "\tviewer_1705597183121844.setBackgroundColor(\"0xeeeeee\");\n",
              "\tviewer_1705597183121844.addLabel(\"0\",{\"position\": {\"x\": -1.538331, \"y\": -1.08933, \"z\": 1.041273}, \"fontColor\": \"k\", \"fontSize\": 12, \"backgroundColor\": \"white\", \"backgroundOpacity\": 0.5});\n",
              "\tviewer_1705597183121844.addLabel(\"1\",{\"position\": {\"x\": -1.51782, \"y\": 1.095271, \"z\": -1.096539}, \"fontColor\": \"k\", \"fontSize\": 12, \"backgroundColor\": \"white\", \"backgroundOpacity\": 0.5});\n",
              "\tviewer_1705597183121844.addLabel(\"2\",{\"position\": {\"x\": 0.311064, \"y\": 1.237587, \"z\": 1.754256}, \"fontColor\": \"k\", \"fontSize\": 12, \"backgroundColor\": \"white\", \"backgroundOpacity\": 0.5});\n",
              "\tviewer_1705597183121844.addLabel(\"3\",{\"position\": {\"x\": -0.311064, \"y\": -1.237587, \"z\": -1.754256}, \"fontColor\": \"k\", \"fontSize\": 12, \"backgroundColor\": \"white\", \"backgroundOpacity\": 0.5});\n",
              "\tviewer_1705597183121844.addLabel(\"4\",{\"position\": {\"x\": 1.51782, \"y\": -1.095271, \"z\": 1.096539}, \"fontColor\": \"k\", \"fontSize\": 12, \"backgroundColor\": \"white\", \"backgroundOpacity\": 0.5});\n",
              "\tviewer_1705597183121844.addLabel(\"5\",{\"position\": {\"x\": -1.828884, \"y\": -0.142316, \"z\": -2.850795}, \"fontColor\": \"k\", \"fontSize\": 12, \"backgroundColor\": \"white\", \"backgroundOpacity\": 0.5});\n",
              "\tviewer_1705597183121844.addLabel(\"6\",{\"position\": {\"x\": 1.538331, \"y\": 1.08933, \"z\": -1.041273}, \"fontColor\": \"k\", \"fontSize\": 12, \"backgroundColor\": \"white\", \"backgroundOpacity\": 0.5});\n",
              "\tviewer_1705597183121844.addLabel(\"7\",{\"position\": {\"x\": 0.0, \"y\": 0.0, \"z\": 0.0}, \"fontColor\": \"k\", \"fontSize\": 12, \"backgroundColor\": \"white\", \"backgroundOpacity\": 0.5});\n",
              "\tviewer_1705597183121844.addLabel(\"8\",{\"position\": {\"x\": 1.828884, \"y\": 0.142316, \"z\": 2.850795}, \"fontColor\": \"k\", \"fontSize\": 12, \"backgroundColor\": \"white\", \"backgroundOpacity\": 0.5});\n",
              "\tviewer_1705597183121844.zoomTo();\n",
              "viewer_1705597183121844.render();\n",
              "});\n",
              "</script>"
            ]
          },
          "metadata": {},
          "output_type": "display_data"
        },
        {
          "name": "stdout",
          "output_type": "stream",
          "text": [
            "Cluster size is 3.3900003925275586 A\n",
            "center of mass: [-4.71534994e-18  3.44525012e-19  6.52398545e-17]\n"
          ]
        }
      ],
      "source": [
        "cluster = ClusterNeighbor()\n",
        "cluster.load_xyz(xyz_path=fc.value)\n",
        "cluster.view_xyz(highlight_atom1=\"Pb\", highlight_atom2=\"O\", label=True)\n",
        "cluster.get_cluster_size()\n",
        "cluster.atoms.get_angle(1,4,0)\n",
        "print(\"center of mass:\", cluster.center)\n",
        "\n",
        "new_cluster = cluster.shrink_cluster_size(new_radius=3.6)\n",
        "cluster_small = ClusterNeighbor()\n",
        "cluster_small.load_xyz(from_file=False, atom_object=new_cluster)\n",
        "cluster_small.view_xyz(highlight_atom1=\"Pb\", highlight_atom2=\"O\", label=True)\n",
        "cluster_small.get_cluster_size()\n",
        "print(\"center of mass:\", cluster_small.center)\n"
      ]
    },
    {
      "cell_type": "markdown",
      "metadata": {},
      "source": [
        "# plot histogram"
      ]
    },
    {
      "cell_type": "code",
      "execution_count": 81,
      "metadata": {},
      "outputs": [
        {
          "data": {
            "application/vnd.plotly.v1+json": {
              "config": {
                "plotlyServerURL": "https://plot.ly"
              },
              "data": [
                {
                  "marker": {
                    "line": {
                      "color": "white",
                      "width": 2
                    }
                  },
                  "name": "O-Pb",
                  "opacity": 0.6,
                  "type": "histogram",
                  "x": [
                    2.169284686124207,
                    5.262128445126458,
                    6.2292553441519,
                    5.062180011207523,
                    7.860522530003333,
                    6.229255221452561,
                    5.062181115933921,
                    7.8605223258321075,
                    4.8610479652998695,
                    8.538233334807677,
                    5.926372577426853,
                    9.792121388576074,
                    8.342553677063275,
                    9.686140231888139,
                    9.686140607874789,
                    2.169284331459341,
                    5.262127390131391,
                    4.450975479679594,
                    5.062179988353733,
                    6.5418173839209235,
                    4.450974387958889,
                    5.062180160702896,
                    6.541816512635692,
                    2.1534508540656323,
                    5.909022948915583,
                    4.016148433580736,
                    7.609254592632514,
                    7.113771940602538,
                    7.472378128217148,
                    7.472377983952165,
                    2.15345086394582,
                    4.016148129580008,
                    3.759464588053331,
                    2.1692838397874534,
                    5.062179987034044,
                    6.659154217358537,
                    5.909023740119682,
                    7.4723774959333396,
                    4.450974891356949,
                    7.337611635055988,
                    4.450974607092362,
                    8.082861669460947,
                    6.541817617844905,
                    7.3422744932364115,
                    9.171682507415694,
                    2.153451309638553,
                    4.016148357495275,
                    6.659154409644666,
                    5.909023115757967,
                    7.472377674128965,
                    3.7594644324053657,
                    2.1692846942955644,
                    5.0621795494350055,
                    4.4509746557089045,
                    7.33761149747491,
                    4.450974596513218,
                    8.08286153906746,
                    6.5418177637811805,
                    9.171682507701245,
                    7.342274717244377,
                    2.169284307187511,
                    2.1692843308063607,
                    4.016148357495276,
                    4.016148556131109,
                    5.262127817255393,
                    5.262128445126459,
                    5.062180715647062,
                    4.450975186934319,
                    6.229254728241574,
                    6.659154409644666,
                    3.7594638058720555,
                    4.450974540037047,
                    6.229254890838391,
                    7.472377674128965,
                    5.062180724054506,
                    6.541817799478292,
                    7.860522176635023,
                    7.7525456975264575,
                    5.062180419770518,
                    4.450974896298001,
                    6.229255208813571,
                    3.7594644324053657,
                    6.659154972463173,
                    4.450975708406192,
                    6.229255221452562,
                    5.062180673007435,
                    7.47237841361196,
                    6.541817406089534,
                    7.8605223258321075,
                    7.75254561538602,
                    5.909023393874575,
                    8.53823335694387,
                    7.337612786012219,
                    7.337612448757701,
                    5.90902378800475,
                    8.538233641778023,
                    8.08286153906746,
                    8.082861669460947,
                    7.609254592632514,
                    9.792121388576074,
                    2.1692843308063607,
                    6.229254728241574,
                    3.759463535578979,
                    6.229253999564555,
                    6.229255208813571,
                    3.7594647779306296,
                    6.229254345197987,
                    5.926372249368833,
                    8.538232869492726,
                    4.8610479652998695,
                    8.538233641778023,
                    5.926372577426854,
                    9.073544269730379,
                    9.073544569515267,
                    2.169284307187511,
                    4.450974824158412,
                    3.759464156295681,
                    4.450974817748917,
                    4.450974896298002,
                    3.7594645215334856,
                    4.450974701038414,
                    4.016148637516919,
                    5.909022689434014,
                    2.1534510848844466,
                    5.90902378800475,
                    4.016149722560776,
                    6.659154304465169,
                    6.6591542177624925,
                    2.153451309638553,
                    5.062179882444519,
                    2.1692841893956634,
                    3.759463442249306,
                    7.472378230830463,
                    5.909023953189647,
                    6.659154222184527,
                    6.541817315552232,
                    8.082860783729979,
                    4.4509746456516694,
                    7.337612448757701,
                    4.450975412769992,
                    7.342274368509052,
                    9.17168246215175,
                    2.153451725543435,
                    7.472378329074218,
                    5.909023740119682,
                    6.659154361468204,
                    5.062180511708863,
                    2.169283839787454,
                    3.7594638938330025,
                    6.541817390776741,
                    8.082861077779699,
                    4.45097501325586,
                    7.337612786012219,
                    4.450976037417075,
                    9.171683114295817,
                    7.342274720030162,
                    2.1692845900759545,
                    2.1692846861242074,
                    7.752545426391063,
                    6.5418171879942495,
                    7.860521647398473,
                    7.472377705083837,
                    5.062179315212569,
                    4.450974127514785,
                    6.229254099137232,
                    6.659153365262059,
                    3.759463442249306,
                    4.450974817748917,
                    6.229253999564555,
                    5.062179987034044,
                    7.7525451361461934,
                    6.541816868448933,
                    7.860522289545078,
                    5.062180166930943,
                    7.472378230830463,
                    4.450975346461267,
                    6.22925446589028,
                    3.7594638938330025,
                    6.659154222184527,
                    4.450974701038414,
                    6.2292540599208985,
                    5.0621797126159995,
                    7.609253846960358,
                    9.792119755425226,
                    8.082861077779699,
                    8.082860783729979,
                    5.909022689434014,
                    8.538232869492726,
                    7.33761149747491,
                    7.337611635055988,
                    5.909022948915583,
                    8.538233334807677,
                    7.860522317499074,
                    5.062180639734718,
                    6.229254099137232,
                    7.860522190781348,
                    5.062179849803442,
                    6.229253804297029,
                    8.342552506422841,
                    9.792119755425226,
                    5.926371762623992,
                    8.53823335694387,
                    4.861047987616045,
                    9.686139896535876,
                    9.686139282334578,
                    6.54181718799425,
                    5.062180682385902,
                    4.450974127514785,
                    6.541817811524714,
                    5.06218077154718,
                    4.450974855098263,
                    7.113772100998316,
                    7.609253846960358,
                    4.016148637516919,
                    5.909023393874575,
                    2.1534510848844466,
                    7.472377933616714,
                    7.472377732995904,
                    4.01614919757882,
                    6.541817380847389,
                    7.1137719852451,
                    5.9263718225465745,
                    7.860522816212037,
                    8.342552294039578,
                    2.1692839946088203,
                    5.0621797126159995,
                    5.262128069108638,
                    7.75254561538602,
                    8.582446964870217,
                    6.541817108157183,
                    7.8605223411349066,
                    2.1692846861242074,
                    4.016148800972519,
                    5.262128257534018,
                    7.342274529837058,
                    8.082862298109253,
                    8.768876287167302,
                    3.759464104896069,
                    6.2292540599208985,
                    5.062180254816199,
                    7.8605223258321075,
                    7.752546215997297,
                    5.926371682882537,
                    9.182869331607904,
                    2.169284307187511,
                    5.926372039966609,
                    5.262128416741366,
                    7.342274285960787,
                    9.182869600927642,
                    8.768876272249143,
                    3.7594644154787527,
                    4.450974701038414,
                    5.062180160702896,
                    6.541817406089534,
                    7.752545942479219,
                    4.016148433580736,
                    8.082861677102114,
                    2.153451309638553,
                    4.450975013255859,
                    4.016149135713339,
                    9.167950722382564,
                    9.961182387597418,
                    9.774631456183297,
                    5.909024154910945,
                    6.659154222184527,
                    5.909023740119682,
                    7.47237841361196,
                    7.609255021481998,
                    4.450974607092362,
                    9.961182010303997,
                    2.1534517255434356,
                    4.450974645651669,
                    4.01614919757882,
                    4.8610476872008785,
                    6.229254523443797,
                    5.926371822546574,
                    2.169284791861364,
                    3.7594638938330025,
                    2.1692841893956634,
                    5.062180673007435,
                    5.262128524009747,
                    4.450975427953405,
                    6.229254769306358,
                    2.169284614347781,
                    2.1692838187710706,
                    4.016148483753433,
                    4.016149135713339,
                    5.2621284167413656,
                    5.262127569299038,
                    7.113771092532708,
                    5.926372607006583,
                    7.3422745726891065,
                    7.342274929700808,
                    4.861048103105646,
                    9.167950722382564,
                    7.342275192674407,
                    7.342274529837058,
                    5.926371822546574,
                    9.774631456183297,
                    8.768876272249143,
                    8.768876287167302,
                    8.342552294039578,
                    4.450974855098263,
                    6.229253804297029,
                    3.7594638938330025,
                    6.659154222184527,
                    4.450974701038414,
                    6.229254345197987,
                    5.0621795494350055,
                    7.4723774959333396,
                    6.541816512635692,
                    7.8605223258321075,
                    2.1534510848844466,
                    2.1692846861242074,
                    7.342274623113807,
                    7.337612393375041,
                    7.342274529837058,
                    5.062180710572965,
                    6.22925446589028,
                    3.759464156295681,
                    6.229255221452562,
                    5.062180682385902,
                    4.861048471153008,
                    8.534224768447922,
                    4.861047987616045,
                    2.169284590075954,
                    7.3422750792746125,
                    8.534225243018666,
                    7.342275192674407,
                    5.062181373688324,
                    4.450975346461267,
                    3.7594645740283283,
                    4.450975708406192,
                    5.062180639734718,
                    2.1534515684214957,
                    7.337612875948008,
                    4.45097465326899,
                    2.1534513096385526,
                    9.774631360298965,
                    9.961181841336598,
                    9.167950722382564,
                    7.609255289829222,
                    7.472378230830463,
                    5.909023589688656,
                    6.659154972463173,
                    5.90902350848886,
                    4.450975430193476,
                    9.961181992684754,
                    4.450975412769992,
                    2.1534513096385535,
                    5.9263725565600405,
                    6.229254923600254,
                    4.861048103105646,
                    5.2621292690995345,
                    5.062180166930943,
                    2.169284791861364,
                    3.7594644324053657,
                    2.1692841893956634,
                    4.450975455174967,
                    6.2292546407860865,
                    4.016149722560776,
                    5.926372577426854,
                    6.541817617844906,
                    7.860522034364257,
                    8.08286109578143,
                    9.182869431033254,
                    6.2292546407860865,
                    9.961181992684754,
                    7.337612875948008,
                    8.534224768447922,
                    6.229254769306358,
                    9.961182010303997,
                    8.082861677102114,
                    9.182869331607904,
                    7.8605223411349066,
                    7.472377732995904,
                    9.686139282334578,
                    7.342274720030162,
                    9.17168246215175,
                    6.6591542177624925,
                    9.073544569515267,
                    7.342274717244377,
                    9.171682507415694,
                    7.472377983952165,
                    9.686140607874789,
                    2.1692843071875108,
                    2.1692843308063607,
                    4.016148129580008,
                    8.342552805732609,
                    8.768876189659995,
                    8.76887700297558,
                    5.9263725565600405,
                    9.774631360298965,
                    7.3422750792746125,
                    7.342274623113807,
                    4.8610476872008785,
                    9.167950722382564,
                    7.342274285960787,
                    7.342274529837058,
                    5.9263718225465745,
                    6.541817811524714,
                    7.860522190781348,
                    5.062180511708863,
                    7.472378230830463,
                    4.450974896298002,
                    6.229255208813571,
                    3.7594644324053657,
                    6.659154217358537,
                    4.450974387958889,
                    6.229255221452561,
                    8.76887700297558,
                    8.08286216701423,
                    7.342274929700808,
                    7.7525467862629505,
                    7.860522289545078,
                    5.062180710572964,
                    6.229255208813571,
                    3.759464156295681,
                    5.9263726402758365,
                    9.182869431033254,
                    8.768876189659995,
                    9.182869243784646,
                    7.3422745726891065,
                    7.752546173939502,
                    6.541816868448933,
                    5.0621800112075235,
                    4.450974896298001,
                    3.759463535578979,
                    4.016148873318568,
                    8.08286109578143,
                    8.342552805732609,
                    7.860522471473064,
                    5.926372607006583,
                    8.582446903683529,
                    7.7525451361461934,
                    5.262127987299245,
                    5.062180419770518,
                    2.169283839787454,
                    6.541817390776741,
                    7.860522034364257,
                    4.016148129580008,
                    6.541817390776741,
                    7.113771092532708,
                    2.169283839787454,
                    5.062179987034044,
                    5.262127987299245,
                    7.7525456975264575,
                    8.582446903683529,
                    7.860522471473064,
                    6.541817617844906,
                    2.1692843308063607,
                    4.016148873318568,
                    5.262127569299038,
                    3.759463535578979,
                    6.229253999564555,
                    5.0621800112075235,
                    7.860522176635023,
                    7.752546173939502,
                    9.182869243784646,
                    5.926372577426854,
                    2.1692843071875108,
                    5.9263726402758365,
                    5.2621284167413656,
                    3.759464156295681,
                    4.450974817748917,
                    5.062180710572964,
                    6.541817799478292,
                    7.7525467862629505,
                    8.08286216701423,
                    4.016149722560776,
                    2.1534513096385535,
                    4.450975455174967,
                    4.016149135713339,
                    2.1692841893956634,
                    3.759463442249306,
                    2.169284791861364,
                    5.062180724054506,
                    5.2621292690995345,
                    6.229254923600254,
                    4.450975412769992,
                    2.1534513096385526,
                    4.450975430193476,
                    4.016148483753433,
                    5.90902350848886,
                    6.659153365262059,
                    5.909023589688656,
                    7.472377674128965,
                    7.609255289829222,
                    9.961181841336598,
                    4.45097465326899,
                    2.169284590075954,
                    2.1692846861242074,
                    4.01614919757882,
                    4.016149135713339,
                    5.262128416741366,
                    5.262128257534018,
                    7.1137719852451,
                    4.450974127514785,
                    6.229254099137232,
                    6.659154361468204,
                    3.759463442249306,
                    4.450974817748917,
                    6.229253999564555,
                    7.472377674128965,
                    5.062179987034044,
                    6.5418173839209235,
                    7.860522530003333,
                    2.1534515684214957,
                    2.1692838187710706,
                    5.062180639734718,
                    6.229254099137232,
                    3.7594645740283283,
                    6.229254890838391,
                    5.062181373688324,
                    8.534225243018666,
                    4.861047987616045,
                    4.861048471153008,
                    2.169284614347781,
                    5.062180682385902,
                    4.450974127514785,
                    3.759464156295681,
                    4.450974540037047,
                    5.062180710572965,
                    7.337612393375041,
                    2.1534510848844466,
                    4.450975427953405,
                    2.1534517255434356,
                    5.262128524009747,
                    5.062179315212569,
                    2.1692841893956634,
                    3.7594638058720555,
                    2.169284791861364,
                    6.229254523443797,
                    4.450974645651669,
                    4.450974607092362,
                    2.153451309638553,
                    7.609255021481998,
                    7.472377705083837,
                    5.909023740119682,
                    6.659154409644666,
                    5.909024154910945,
                    9.961182387597418,
                    4.450975013255859,
                    4.016148433580736,
                    5.926371682882537,
                    6.541817108157183,
                    7.472377933616714,
                    9.686139896535876,
                    9.171683114295817,
                    7.342274368509052,
                    6.659154304465169,
                    9.073544269730379,
                    9.171682507701245,
                    7.3422744932364115,
                    7.472378128217148,
                    9.686140231888139,
                    2.169284307187511,
                    2.1692846861242074,
                    4.01614919757882,
                    6.54181718799425,
                    7.860522317499074,
                    7.472378329074218,
                    5.062179882444519,
                    4.450974824158412,
                    6.229254728241574,
                    6.659154409644666,
                    3.759464588053331,
                    4.450975479679594,
                    6.2292553441519,
                    7.752545942479219,
                    7.860521647398473,
                    5.062180160702896,
                    6.229254728241574,
                    3.7594644154787527,
                    9.182869600927642,
                    5.926372039966609,
                    7.752546215997297,
                    6.5418171879942495,
                    5.062180254816199,
                    4.450975186934319,
                    3.759464104896069,
                    8.082862298109253,
                    4.016148800972519,
                    8.582446964870217,
                    7.752545426391063,
                    5.262128069108638,
                    5.062180715647062,
                    2.1692839946088203,
                    7.860522816212037,
                    6.541817380847389,
                    2.1534510848844466,
                    2.1692846861242074,
                    4.016148637516919,
                    5.262128445126459,
                    7.113772100998316,
                    5.06218077154718,
                    5.062180682385902,
                    4.861047987616045,
                    2.1692845900759545,
                    5.926371762623992,
                    5.262127817255393,
                    8.342552506422841,
                    5.062179849803442,
                    5.062180639734718,
                    4.450976037417075,
                    2.153451725543435,
                    4.45097501325586,
                    4.016148556131109,
                    6.541817390776741,
                    2.169283839787454,
                    5.909023740119682,
                    4.450975412769992,
                    2.153451309638553,
                    4.4509746456516694,
                    4.016148357495276,
                    6.541817315552232,
                    5.909023953189647,
                    2.1692841893956634,
                    4.016149722560776,
                    5.926372577426854,
                    6.5418177637811805,
                    6.541817617844905,
                    7.113771940602538,
                    8.342553677063275,
                    2.169284307187511,
                    2.1692843308063607,
                    4.016148357495275,
                    4.016148129580008,
                    5.262127390131391,
                    5.262128445126458,
                    2.1534510848844466,
                    2.1692843308063607,
                    4.016148637516919,
                    3.7594645215334856,
                    3.759464156295681,
                    4.8610479652998695,
                    2.169284307187511,
                    5.926372249368833,
                    3.7594647779306296,
                    3.759463535578979,
                    4.450974596513218,
                    2.153451309638553,
                    4.4509746557089045,
                    2.1692846942955644,
                    5.909023115757967,
                    4.450974607092362,
                    2.15345086394582,
                    4.450974891356949,
                    5.909023740119682,
                    2.1692838397874534,
                    4.016148433580736,
                    5.926372577426853,
                    2.169284331459341,
                    2.169284686124207,
                    2.1534508540656323,
                    5.062180160702896,
                    5.062179988353733,
                    4.8610479652998695,
                    5.062181115933921,
                    5.062180011207523
                  ],
                  "xbins": {
                    "size": 0.1
                  }
                },
                {
                  "marker": {
                    "line": {
                      "color": "white",
                      "width": 2
                    }
                  },
                  "name": "O-O",
                  "opacity": 0.6,
                  "type": "histogram",
                  "x": [
                    2.707597111234609,
                    3.0566564529017652,
                    3.0566567287356623,
                    3.390000392527558,
                    4.3385690169304665,
                    5.685714086883459,
                    5.685714073713961,
                    6.77999990213171,
                    7.3006497440416895,
                    5.32311827041256,
                    4.96000051201832,
                    7.136183806928533,
                    7.651558844446339,
                    5.323117663638387,
                    6.0078031218508645,
                    7.900457068694886,
                    9.029426473132277,
                    7.163783325983974,
                    8.400595718269866,
                    9.8434503879724,
                    9.863477158265688,
                    5.323117893749959,
                    4.9600001254252,
                    7.13618403098841,
                    5.323118008057871,
                    7.651559382651747,
                    6.007804068493828,
                    7.90045739099813,
                    7.163783217039652,
                    9.029427126098588,
                    8.400595245904482,
                    9.843450443733335,
                    9.86347704227855,
                    7.014499050184268,
                    9.722095952915812,
                    8.805611646114142,
                    8.80561126598472,
                    7.790719215083098,
                    10.29617675807428,
                    10.02611506084191,
                    10.02611515432822,
                    9.75559317608591,
                    11.852745154853706,
                    3.0566563245111475,
                    3.056655720941271,
                    4.338568638646737,
                    3.3899990120914487,
                    5.685713516962581,
                    5.685713271915583,
                    7.300648397150078,
                    6.779999404619001,
                    3.0566568375422847,
                    3.59725580307962,
                    4.960000322044647,
                    6.2891905640005055,
                    3.0566557255355074,
                    4.942908278160237,
                    6.00780348257406,
                    7.90810390016507,
                    5.685714305107319,
                    7.675196764340573,
                    8.400594592432371,
                    8.848487530271091,
                    3.0566561496476834,
                    3.5972544956452555,
                    4.959999818826206,
                    3.0566554169886406,
                    6.289189832744278,
                    4.94290820900257,
                    6.007802902870983,
                    5.685713679511219,
                    7.908103543416019,
                    7.6751957138076286,
                    8.400594326166335,
                    8.848487389944905,
                    4.306901938949853,
                    7.014498841681421,
                    6.289190584481043,
                    6.28918984262703,
                    5.481013257519543,
                    7.790718406587997,
                    7.908103565479842,
                    7.908103344095473,
                    8.032296867161472,
                    9.75559317608591,
                    4.30690217358428,
                    3.0566557209412704,
                    3.056655718156528,
                    3.389999012091449,
                    5.481012955792843,
                    5.685713753123174,
                    5.685713905377758,
                    4.942908911212708,
                    3.0566568375422842,
                    5.323117903203066,
                    4.960000322044647,
                    3.5972547831563166,
                    3.0566557255355074,
                    5.323117647291012,
                    6.007802660591974,
                    4.942908528347252,
                    5.685714305107318,
                    7.163782227818347,
                    7.675195901399065,
                    6.007803233341202,
                    6.2891896958268,
                    7.651558654264764,
                    4.959999818826206,
                    8.565148957510313,
                    6.289190423719813,
                    7.651558479581594,
                    6.007802902870981,
                    9.211616027270948,
                    7.908103543416019,
                    9.02942615828769,
                    8.400594326166335,
                    6.289189697362769,
                    8.80561034574901,
                    7.014499556037408,
                    8.23119719095886,
                    6.28918984262703,
                    8.805610731317334,
                    7.790718406587996,
                    8.901949214184723,
                    7.908103344095473,
                    10.02611515432822,
                    3.056656324511148,
                    3.0566557280410236,
                    5.481012988950492,
                    3.389998970110463,
                    5.685713417132542,
                    5.685714086883459,
                    6.0078034015168145,
                    6.289190269968066,
                    7.651558397072324,
                    8.56514885508279,
                    4.959999355111046,
                    6.2891896039828525,
                    7.651558600832251,
                    9.2116156533308,
                    6.0078031218508645,
                    7.908104122560034,
                    9.029426107575773,
                    8.400594592432371,
                    4.942908265448996,
                    3.0566561496476834,
                    5.323118070957566,
                    3.5972551178771015,
                    4.960000639104495,
                    3.0566564187670813,
                    5.323118008057872,
                    4.9429084458073875,
                    6.007803086859787,
                    5.685713655525752,
                    7.163782054910172,
                    7.675195869665933,
                    6.289189518299238,
                    8.805610552000639,
                    8.231197594367298,
                    7.014499050184267,
                    6.289189822848885,
                    8.805610511107677,
                    8.901949193026436,
                    7.790718406587996,
                    7.908103565479842,
                    10.02611506084191,
                    2.707596880415547,
                    3.056655728041024,
                    3.0566560778396386,
                    3.3899995096042423,
                    4.338569016930467,
                    7.163782865430875,
                    6.007803401516814,
                    7.900456484927817,
                    7.651558397072324,
                    5.323117235502709,
                    4.959999355111046,
                    7.136183403847886,
                    7.651557632744525,
                    5.323117663638387,
                    6.0078031218508645,
                    7.9004561819609505,
                    7.163782227818347,
                    7.163782572337187,
                    6.007803233341202,
                    7.900457162972596,
                    5.323118070957566,
                    7.651559318313817,
                    4.960000890653751,
                    7.136184030988411,
                    5.323118008057872,
                    7.651558786331057,
                    6.007803086859789,
                    7.90045636625613,
                    7.163782054910172,
                    7.790718406185722,
                    10.296176110791277,
                    8.80561101803583,
                    8.805610767833995,
                    7.014499050184267,
                    9.722095930599739,
                    8.805610511107677,
                    8.805610731317334,
                    7.790718406587997,
                    10.29617675807428,
                    3.0566563245111484,
                    3.0566565287107417,
                    4.33856889726336,
                    3.3900003925275586,
                    5.68571378075163,
                    4.942908301608376,
                    6.007802786530696,
                    6.28919009640033,
                    3.0566554234434076,
                    3.5972549799403986,
                    4.960000151899393,
                    6.289189883700045,
                    3.056656563829669,
                    4.942909118366329,
                    6.007803121850865,
                    5.685714305107319,
                    5.685713490857063,
                    4.942907821393901,
                    6.0078032333412015,
                    3.0566561496476834,
                    6.289190196180983,
                    3.5972558165754625,
                    4.9600001254252,
                    3.0566564349036676,
                    6.289190266156368,
                    4.942908535160448,
                    6.007803137285125,
                    5.6857141666419535,
                    5.481012702585263,
                    7.790718042089124,
                    6.28919002358221,
                    6.289189602506352,
                    4.306902169768893,
                    7.014499050184267,
                    6.289189822848885,
                    6.28918984262703,
                    5.481013257519543,
                    7.790719215083098,
                    4.306903035181777,
                    3.0566568254812316,
                    3.0566567287356623,
                    7.675196133487209,
                    5.68571378075163,
                    7.163781986310024,
                    6.007802786530696,
                    4.942907761325715,
                    3.056655423443408,
                    5.323117255643539,
                    4.959999184965759,
                    3.5972550532767347,
                    3.0566565638296685,
                    5.323117663638387,
                    4.942908528347252,
                    8.40059448981416,
                    7.908103556685825,
                    9.02942679998343,
                    6.007803233341202,
                    9.211616483799192,
                    6.2891908097851505,
                    7.6515586451223125,
                    4.9600001254252,
                    8.565149116811568,
                    6.289190266156368,
                    7.651558485716554,
                    6.007803137285126,
                    7.90810343839792,
                    10.026114111726487,
                    7.790718450519567,
                    8.901949291303339,
                    6.289189602506352,
                    8.805610767833995,
                    7.014499050184267,
                    8.23119719095886,
                    6.28918984262703,
                    8.80561126598472,
                    3.0566559932898896,
                    3.0566573072304,
                    8.40059486981184,
                    7.9081042090986005,
                    9.029426589493156,
                    9.211616525650316,
                    6.007802786530696,
                    6.28919009640033,
                    7.651559032791291,
                    8.565148878700766,
                    4.960000341873073,
                    6.289190832561928,
                    7.651558844446339,
                    6.007803943832888,
                    7.675195816339672,
                    5.685713439751339,
                    7.1637827229661974,
                    4.942908734973467,
                    6.007803374773595,
                    3.0566565511542185,
                    5.323118123199972,
                    3.59725598256977,
                    4.9600001254252,
                    3.056656434903668,
                    5.323117772489633,
                    4.942908718755486,
                    7.908103628599527,
                    10.026114691823299,
                    8.90195002651172,
                    7.790718450519567,
                    6.28919002358221,
                    8.80561101803583,
                    8.231197594367298,
                    7.014499556037408,
                    6.289190584481043,
                    8.805611646114142,
                    2.7075969027316455,
                    9.86347683780613,
                    8.400595193062454,
                    9.843449973938252,
                    9.029426788148017,
                    7.163781968747304,
                    6.007802934107859,
                    7.9004564813596065,
                    7.651558078710114,
                    5.323117255643539,
                    4.960000151899393,
                    7.136183403847887,
                    5.323117647291012,
                    9.863476312142135,
                    8.400594258505645,
                    9.843450112831679,
                    7.163782536951133,
                    9.02942650852057,
                    6.007803233341202,
                    7.900456311348289,
                    5.323117529289487,
                    7.651557981073201,
                    4.959999305146826,
                    7.136182649319733,
                    5.323116835005409,
                    9.755592411905592,
                    11.852743525247984,
                    10.026114691823299,
                    10.026114111726487,
                    7.790718042089124,
                    10.296176110791277,
                    8.805610552000639,
                    8.80561034574901,
                    7.014498841681421,
                    9.722095952915812,
                    8.848488058874239,
                    7.675196545974181,
                    8.400594656033881,
                    7.9081039530100385,
                    5.685713739611149,
                    4.942908207893103,
                    6.007802934107859,
                    6.289189460965061,
                    3.056655423443408,
                    3.597254979940399,
                    4.959999355111046,
                    3.0566557255355074,
                    8.848487861903015,
                    7.675196354901548,
                    8.40059542291771,
                    5.685714589741029,
                    7.908104402974078,
                    4.942909207028893,
                    6.007803233341202,
                    3.0566561496476834,
                    6.289190309431016,
                    3.597255223236322,
                    4.9599995566961494,
                    3.0566554370128145,
                    8.032297275033837,
                    9.755592411905592,
                    7.908103628599527,
                    7.90810343839792,
                    5.481012702585263,
                    7.790718406185722,
                    6.289189518299238,
                    6.289189697362769,
                    4.306901938949853,
                    7.014499050184268,
                    3.0566563245111475,
                    3.0566561513439816,
                    5.481013699951589,
                    3.389999811052945,
                    5.685714232765572,
                    5.685714332067256,
                    8.03229768133216,
                    6.780000203580381,
                    8.84848860362435,
                    8.84848775144013,
                    10.1699992156718,
                    2.7075969962446407,
                    5.323117608672009,
                    5.323117522272638,
                    4.338568184004258,
                    7.790718654711002,
                    7.16378279488393,
                    7.163782435255345,
                    7.300648786319405,
                    9.755593040658319,
                    9.863476707666573,
                    9.863476750605235,
                    10.524256138217275,
                    3.0566554370128145,
                    5.323116835005409,
                    4.942908718755486,
                    6.007803137285126,
                    5.6857141666419535,
                    7.163782054910172,
                    7.675195869665933,
                    8.400594326166335,
                    8.848487389944905,
                    9.86347704227855,
                    2.707596396878419,
                    3.0566561513439816,
                    3.056656158869198,
                    3.3899998110529443,
                    4.33856850489525,
                    5.685713847747353,
                    5.685714618671781,
                    6.7800002035803795,
                    7.300648751495308,
                    8.848487724033808,
                    5.323117955818845,
                    7.014499169828877,
                    7.5189282611916175,
                    5.323117522272638,
                    9.42109948323602,
                    7.790719412196861,
                    8.247810656805054,
                    7.163782435255346,
                    10.57077642179367,
                    9.755593040658317,
                    10.124360509632398,
                    9.863476750605235,
                    4.9599995566961494,
                    7.136182649319733,
                    5.323117772489633,
                    7.651558485716554,
                    6.007803137285125,
                    7.90045636625613,
                    7.163782054910172,
                    9.02942615828769,
                    8.400594326166335,
                    9.843450443733335,
                    3.0566563245111484,
                    3.0566565287107417,
                    4.338568921535073,
                    3.3899998530339204,
                    5.685714232765572,
                    5.685714528346372,
                    7.300649357449993,
                    6.77999936263795,
                    8.848487550824265,
                    5.323118064741003,
                    7.518927951057584,
                    7.014499412744077,
                    5.323117439750978,
                    9.421099149735609,
                    8.247810904840508,
                    7.790718654711002,
                    7.163782144443116,
                    10.57077628158169,
                    10.124360321405792,
                    9.755593040658317,
                    9.863476707666573,
                    3.597255223236322,
                    4.959999305146826,
                    3.056656434903668,
                    6.289190266156368,
                    4.942908535160448,
                    6.007803086859789,
                    5.685713655525752,
                    7.908103543416019,
                    7.6751957138076286,
                    8.400595245904482,
                    4.306903035181776,
                    3.0566565287107417,
                    3.0566557991860974,
                    3.3899998110529443,
                    5.481013968930474,
                    5.685714528346372,
                    5.685714073713961,
                    8.032297265293286,
                    7.790719201331415,
                    9.421099273773999,
                    9.421099750970743,
                    7.014499412744077,
                    11.321402032021078,
                    9.421100053318932,
                    9.42109948323602,
                    7.790718654711002,
                    11.818047480239365,
                    10.57077628158169,
                    10.57077642179367,
                    9.755593040658319,
                    6.289190309431016,
                    7.651557981073201,
                    4.9600001254252,
                    8.565149116811568,
                    6.289190266156368,
                    7.651558786331057,
                    6.007803086859787,
                    9.211616027270948,
                    7.908103543416019,
                    9.029427126098588,
                    3.0566563245111475,
                    3.0566570056727005,
                    5.481013699951588,
                    3.390000392527558,
                    5.685714619790286,
                    5.685714086883459,
                    6.779999404619001,
                    4.338568631648692,
                    5.323117135915478,
                    5.323117896874068,
                    2.7075963775623944,
                    7.014498996839404,
                    5.323117836864406,
                    5.323117637953721,
                    4.338568378791327,
                    7.790718654711002,
                    7.163782144443116,
                    7.163782435255346,
                    7.300648786319405,
                    3.0566561496476834,
                    5.323117529289487,
                    3.59725598256977,
                    4.9600001254252,
                    3.0566564349036676,
                    5.323118008057872,
                    4.9429084458073875,
                    6.007802902870981,
                    5.685713679511219,
                    7.163783217039652,
                    2.7075969027316455,
                    3.0566561513439816,
                    3.0566567287356623,
                    3.390000392527558,
                    4.338569016930467,
                    5.685713905377758,
                    7.163782574909292,
                    7.790718407310908,
                    8.247810977259421,
                    5.323117896874068,
                    9.421099416967692,
                    7.014499858436809,
                    7.518928312591362,
                    5.323117637953721,
                    9.42109948323602,
                    7.790718654711002,
                    8.247810656805054,
                    7.163782435255345,
                    6.007803233341202,
                    7.900456311348289,
                    5.323118123199972,
                    7.6515586451223125,
                    4.9600001254252,
                    7.136184030988411,
                    5.323118008057872,
                    7.651558479581594,
                    6.007802902870983,
                    7.90045739099813,
                    3.0566559182690156,
                    3.0566568254812316,
                    4.338568897263359,
                    3.389999509604242,
                    5.685713753123173,
                    7.163783134191738,
                    8.247810862487633,
                    7.790719785965928,
                    5.323118431369811,
                    9.421099825978546,
                    7.518929148056657,
                    7.014499858436809,
                    5.323117836864406,
                    9.421100053318932,
                    8.247810904840508,
                    7.790719412196861,
                    7.16378279488393,
                    4.942909207028893,
                    6.007803233341202,
                    3.0566565511542185,
                    6.2891908097851505,
                    3.5972558165754625,
                    4.960000890653751,
                    3.0566564187670813,
                    6.289190423719813,
                    4.94290820900257,
                    6.007804068493828,
                    4.306902619277106,
                    3.056656017711839,
                    3.056656647706118,
                    5.481012988622176,
                    9.755593169817251,
                    10.570775876763541,
                    10.570776728763786,
                    7.7907189919454805,
                    11.818047179377311,
                    9.421099825978546,
                    9.421099416967692,
                    7.014498996839404,
                    11.321402032021078,
                    9.421099149735609,
                    9.42109948323602,
                    7.790718654711002,
                    7.908104402974078,
                    9.02942650852057,
                    6.007803374773595,
                    9.211616483799192,
                    6.289190196180983,
                    7.651559318313817,
                    4.960000639104495,
                    8.565148957510313,
                    6.289189832744278,
                    7.651559382651747,
                    3.056656324511148,
                    3.056655728041024,
                    3.389999012091449,
                    7.3006493974068505,
                    7.163782639665584,
                    7.163783373554926,
                    4.338569583722728,
                    7.7907189919454805,
                    5.323118431369811,
                    5.323117896874068,
                    2.7075963775623944,
                    7.014499412744077,
                    5.323117439750978,
                    5.323117522272638,
                    4.338568184004258,
                    5.685714589741029,
                    7.163782536951133,
                    4.942908734973467,
                    6.007803233341202,
                    3.0566561496476834,
                    5.323118070957566,
                    3.5972551178771015,
                    4.959999818826206,
                    3.0566554169886406,
                    5.323118008057871,
                    2.7075968804155464,
                    3.056655718156528,
                    9.863477319033636,
                    9.755593224294255,
                    10.124361421145927,
                    7.163783373554926,
                    10.570776728763786,
                    7.790719785965928,
                    8.247810977259421,
                    5.323117896874068,
                    9.421099750970743,
                    7.014499412744077,
                    7.5189282611916175,
                    5.323117522272638,
                    8.40059542291771,
                    9.843450112831679,
                    7.1637827229661974,
                    9.02942679998343,
                    6.0078032333412015,
                    7.900457162972596,
                    5.323118070957566,
                    7.651558654264764,
                    4.959999818826206,
                    7.13618403098841,
                    3.056655720941271,
                    9.863476600307369,
                    10.124360022415047,
                    9.755593224294255,
                    7.163782639665584,
                    10.570775876763541,
                    8.247810862487633,
                    7.790718407310908,
                    5.323117135915478,
                    9.421099273773999,
                    7.518927951057584,
                    7.014499169828877,
                    5.323117608672009,
                    7.675196354901548,
                    8.400594258505645,
                    5.685713439751339,
                    7.908103556685825,
                    4.942907821393901,
                    6.007803233341202,
                    3.0566561496476834,
                    6.2891896958268,
                    3.5972544956452555,
                    4.9600001254252,
                    10.52425597459849,
                    9.863476600307369,
                    9.863477319033636,
                    7.3006493974068505,
                    9.755593169817251,
                    7.163783134191738,
                    7.163782574909292,
                    4.338568631648692,
                    7.790719201331415,
                    5.323118064741003,
                    5.323117955818845,
                    2.7075969962446407,
                    8.848487861903015,
                    9.863476312142135,
                    7.675195816339672,
                    8.40059448981416,
                    5.685713490857063,
                    7.163782572337187,
                    4.942908265448996,
                    6.007803233341202,
                    3.0566561496476834,
                    5.323117893749959,
                    3.056655720941271,
                    3.056655718156528,
                    3.389999012091449,
                    5.481012988622176,
                    5.685713753123173,
                    5.685713905377758,
                    6.779999404619001,
                    8.032297265293286,
                    8.848487550824265,
                    8.848487724033808,
                    10.1699992156718,
                    3.0566557255355074,
                    5.323117647291012,
                    6.007803943832888,
                    4.942908528347252,
                    5.685714305107319,
                    7.163782227818347,
                    8.400594592432371,
                    7.675195901399065,
                    8.848487530271091,
                    9.863477158265688,
                    2.7075968804155464,
                    3.056655728041024,
                    3.056656647706118,
                    3.389999509604242,
                    4.338569016930467,
                    5.685714086883459,
                    5.685714073713961,
                    6.77999936263795,
                    7.300648751495308,
                    8.84848775144013,
                    4.959999355111046,
                    7.136183403847887,
                    7.651558844446339,
                    5.323117663638387,
                    6.007803121850865,
                    7.9004561819609505,
                    9.029426107575773,
                    7.163782227818347,
                    8.400594592432371,
                    9.8434503879724,
                    3.056656324511148,
                    3.056656017711839,
                    4.338568897263359,
                    3.390000392527558,
                    5.685714619790286,
                    5.685714528346372,
                    7.300649357449993,
                    6.7800002035803795,
                    8.84848860362435,
                    3.597254979940399,
                    4.960000151899393,
                    6.289190832561928,
                    3.0566565638296685,
                    4.942909118366329,
                    6.0078031218508645,
                    7.908104122560034,
                    5.685714305107318,
                    7.675196764340573,
                    8.400595718269866,
                    4.306902619277106,
                    3.0566568254812316,
                    3.0566567287356623,
                    3.390000392527558,
                    5.481013968930474,
                    5.685714528346372,
                    5.685714618671781,
                    6.780000203580381,
                    3.056655423443408,
                    5.323117255643539,
                    4.960000341873073,
                    3.5972550532767347,
                    3.056656563829669,
                    5.323117663638387,
                    6.0078031218508645,
                    4.942908528347252,
                    5.685714305107319,
                    7.163783325983974,
                    3.0566559182690156,
                    3.0566561513439816,
                    5.481013699951588,
                    3.3899998110529443,
                    5.685714232765572,
                    5.685713847747353,
                    8.03229768133216,
                    6.289189460965061,
                    7.651558078710114,
                    8.565148878700766,
                    4.959999184965759,
                    6.289189883700045,
                    7.651557632744525,
                    9.2116156533308,
                    6.007802660591974,
                    7.90810390016507,
                    9.029426473132277,
                    2.7075969027316455,
                    3.0566570056727005,
                    3.0566557991860974,
                    3.3899998530339204,
                    4.33856850489525,
                    5.685714332067256,
                    6.007802934107859,
                    7.9004564813596065,
                    7.651559032791291,
                    5.323117255643539,
                    4.960000151899393,
                    7.136183403847886,
                    7.651558600832251,
                    5.323117647291012,
                    6.00780348257406,
                    7.900457068694886,
                    3.0566563245111475,
                    3.0566565287107417,
                    4.338568921535073,
                    3.3899998110529443,
                    5.685714232765572,
                    4.942908207893103,
                    6.007802934107859,
                    6.28919009640033,
                    3.056655423443408,
                    3.5972549799403986,
                    4.959999355111046,
                    6.2891896039828525,
                    3.0566557255355074,
                    4.942908278160237,
                    6.0078031218508645,
                    4.306903035181776,
                    3.0566565287107417,
                    3.056656158869198,
                    3.389999811052945,
                    5.685713739611149,
                    7.163781968747304,
                    6.007802786530696,
                    4.942907761325715,
                    3.0566554234434076,
                    5.323117235502709,
                    4.959999355111046,
                    3.5972547831563166,
                    3.0566557255355074,
                    5.323117663638387,
                    3.0566563245111484,
                    3.0566561513439816,
                    5.481013699951589,
                    7.9081039530100385,
                    9.029426788148017,
                    9.211616525650316,
                    6.007802786530696,
                    6.28919009640033,
                    7.651558397072324,
                    8.56514885508279,
                    4.960000322044647,
                    6.2891905640005055,
                    7.651558844446339,
                    2.707596396878419,
                    3.0566561513439816,
                    8.400594656033881,
                    9.843449973938252,
                    9.029426589493156,
                    7.163781986310024,
                    6.007802786530696,
                    7.900456484927817,
                    7.651558397072324,
                    5.323117903203066,
                    4.960000322044647,
                    7.136183806928533,
                    3.0566563245111475,
                    7.675196545974181,
                    8.400595193062454,
                    7.9081042090986005,
                    5.68571378075163,
                    4.942908301608376,
                    6.007803401516814,
                    6.289190269968066,
                    3.0566568375422842,
                    3.59725580307962,
                    4.96000051201832,
                    8.848488058874239,
                    9.86347683780613,
                    8.40059486981184,
                    7.675196133487209,
                    5.68571378075163,
                    7.163782865430875,
                    6.0078034015168145,
                    4.942908911212708,
                    3.0566568375422847,
                    5.32311827041256,
                    2.7075969027316455,
                    3.0566573072304,
                    3.0566567287356623,
                    3.3900003925275586,
                    4.338569016930467,
                    5.685714086883459,
                    5.685713905377758,
                    6.779999404619001,
                    7.3006497440416895,
                    3.0566559932898896,
                    3.0566568254812316,
                    4.33856889726336,
                    3.3899995096042423,
                    5.685713417132542,
                    5.685713753123174,
                    7.300648397150078,
                    6.77999990213171,
                    4.306903035181777,
                    3.0566565287107417,
                    3.0566560778396386,
                    3.389998970110463,
                    5.481012955792843,
                    5.685713271915583,
                    5.685714073713961,
                    3.0566563245111484,
                    3.056655728041024,
                    5.481012988950492,
                    3.389999012091449,
                    5.685713516962581,
                    5.685714086883459,
                    2.707596880415547,
                    3.0566557280410236,
                    3.056655718156528,
                    3.3899990120914487,
                    4.3385690169304665,
                    3.056656324511148,
                    3.0566557209412704,
                    4.338568638646737,
                    3.390000392527558,
                    4.30690217358428,
                    3.056655720941271,
                    3.0566567287356623,
                    3.0566563245111475,
                    3.0566564529017652,
                    2.707597111234609
                  ],
                  "xbins": {
                    "size": 0.1
                  }
                },
                {
                  "marker": {
                    "line": {
                      "color": "white",
                      "width": 2
                    }
                  },
                  "name": "Pb-Pb",
                  "opacity": 0.6,
                  "type": "histogram",
                  "x": [
                    3.389999551585221,
                    4.96000051201832,
                    3.8953589113382097,
                    6.007803121850865,
                    4.960000639104495,
                    3.89536002411754,
                    6.007803086859788,
                    3.895359603734038,
                    7.014499050184268,
                    3.895359642260776,
                    7.790719284521552,
                    6.177218821231688,
                    8.023529781647289,
                    8.023530078799606,
                    6.007802786530696,
                    3.89535926663177,
                    4.959999184965759,
                    6.007803233341202,
                    3.8953597053588003,
                    4.9599995566961494,
                    6.1772177815559495,
                    7.790717604903414,
                    3.895358802451707,
                    7.014499050184268,
                    3.895359572822386,
                    8.023529120960987,
                    8.023529090866313,
                    3.895359648067942,
                    3.3899998110529443,
                    7.014499412744077,
                    8.023530146459288,
                    7.790718776158719,
                    3.895360123458292,
                    4.9599995566961494,
                    3.8953593880793593,
                    6.007803086859788,
                    6.17721817291902,
                    3.8953587643272343,
                    8.023529474317145,
                    3.895359572822386,
                    8.023529615611011,
                    7.014499615521624,
                    8.023529474317145,
                    6.007803233341202,
                    8.023529090866313,
                    4.9600001254252,
                    8.023530078799606,
                    6.007803934930385,
                    7.014499556037408,
                    9.9200002508504,
                    7.7907189919454805,
                    8.023529631446625,
                    7.014499412744077,
                    6.177218849309939,
                    6.007803233341202,
                    3.8953594959727402,
                    4.960000639104495,
                    3.89535926663177,
                    3.8953600409197096,
                    8.023529615611011,
                    3.8953600409197096,
                    3.3899998110529443,
                    3.89535926663177,
                    4.959999184965759,
                    3.8953594959727402,
                    6.007803121850865,
                    6.177218849309939,
                    8.023529631446625,
                    3.895359572822386,
                    3.8953587643272343,
                    6.007803549093961,
                    8.023529120960987,
                    4.960000322044647,
                    8.023529781647289,
                    6.007803943832888,
                    9.920000644089294,
                    7.014499556037408,
                    6.17721817291902,
                    6.007802786530696,
                    3.8953593880793593,
                    4.96000051201832,
                    3.895360123458292,
                    8.023530146459288,
                    3.895359648067942,
                    3.895359572822386,
                    3.3900003925275586,
                    6.177218821231688,
                    6.780000785055117,
                    6.007803943832888,
                    6.007803934930385,
                    3.895358802451707,
                    3.389999551585221,
                    6.1772177815559495,
                    3.8953597053588003,
                    3.89535926663177,
                    3.895359642260776,
                    3.3900003925275586,
                    4.960000322044647,
                    4.9600001254252,
                    3.895359603734038,
                    3.89536002411754,
                    3.8953589113382097,
                    6.007803549093961,
                    6.007803233341202,
                    7.014499615521624
                  ],
                  "xbins": {
                    "size": 0.1
                  }
                }
              ],
              "layout": {
                "barmode": "overlay",
                "height": 400,
                "plot_bgcolor": "rgba(0.02,0.02,0.02,0.02)",
                "template": {
                  "data": {
                    "bar": [
                      {
                        "error_x": {
                          "color": "#2a3f5f"
                        },
                        "error_y": {
                          "color": "#2a3f5f"
                        },
                        "marker": {
                          "line": {
                            "color": "#E5ECF6",
                            "width": 0.5
                          },
                          "pattern": {
                            "fillmode": "overlay",
                            "size": 10,
                            "solidity": 0.2
                          }
                        },
                        "type": "bar"
                      }
                    ],
                    "barpolar": [
                      {
                        "marker": {
                          "line": {
                            "color": "#E5ECF6",
                            "width": 0.5
                          },
                          "pattern": {
                            "fillmode": "overlay",
                            "size": 10,
                            "solidity": 0.2
                          }
                        },
                        "type": "barpolar"
                      }
                    ],
                    "carpet": [
                      {
                        "aaxis": {
                          "endlinecolor": "#2a3f5f",
                          "gridcolor": "white",
                          "linecolor": "white",
                          "minorgridcolor": "white",
                          "startlinecolor": "#2a3f5f"
                        },
                        "baxis": {
                          "endlinecolor": "#2a3f5f",
                          "gridcolor": "white",
                          "linecolor": "white",
                          "minorgridcolor": "white",
                          "startlinecolor": "#2a3f5f"
                        },
                        "type": "carpet"
                      }
                    ],
                    "choropleth": [
                      {
                        "colorbar": {
                          "outlinewidth": 0,
                          "ticks": ""
                        },
                        "type": "choropleth"
                      }
                    ],
                    "contour": [
                      {
                        "colorbar": {
                          "outlinewidth": 0,
                          "ticks": ""
                        },
                        "colorscale": [
                          [
                            0,
                            "#0d0887"
                          ],
                          [
                            0.1111111111111111,
                            "#46039f"
                          ],
                          [
                            0.2222222222222222,
                            "#7201a8"
                          ],
                          [
                            0.3333333333333333,
                            "#9c179e"
                          ],
                          [
                            0.4444444444444444,
                            "#bd3786"
                          ],
                          [
                            0.5555555555555556,
                            "#d8576b"
                          ],
                          [
                            0.6666666666666666,
                            "#ed7953"
                          ],
                          [
                            0.7777777777777778,
                            "#fb9f3a"
                          ],
                          [
                            0.8888888888888888,
                            "#fdca26"
                          ],
                          [
                            1,
                            "#f0f921"
                          ]
                        ],
                        "type": "contour"
                      }
                    ],
                    "contourcarpet": [
                      {
                        "colorbar": {
                          "outlinewidth": 0,
                          "ticks": ""
                        },
                        "type": "contourcarpet"
                      }
                    ],
                    "heatmap": [
                      {
                        "colorbar": {
                          "outlinewidth": 0,
                          "ticks": ""
                        },
                        "colorscale": [
                          [
                            0,
                            "#0d0887"
                          ],
                          [
                            0.1111111111111111,
                            "#46039f"
                          ],
                          [
                            0.2222222222222222,
                            "#7201a8"
                          ],
                          [
                            0.3333333333333333,
                            "#9c179e"
                          ],
                          [
                            0.4444444444444444,
                            "#bd3786"
                          ],
                          [
                            0.5555555555555556,
                            "#d8576b"
                          ],
                          [
                            0.6666666666666666,
                            "#ed7953"
                          ],
                          [
                            0.7777777777777778,
                            "#fb9f3a"
                          ],
                          [
                            0.8888888888888888,
                            "#fdca26"
                          ],
                          [
                            1,
                            "#f0f921"
                          ]
                        ],
                        "type": "heatmap"
                      }
                    ],
                    "heatmapgl": [
                      {
                        "colorbar": {
                          "outlinewidth": 0,
                          "ticks": ""
                        },
                        "colorscale": [
                          [
                            0,
                            "#0d0887"
                          ],
                          [
                            0.1111111111111111,
                            "#46039f"
                          ],
                          [
                            0.2222222222222222,
                            "#7201a8"
                          ],
                          [
                            0.3333333333333333,
                            "#9c179e"
                          ],
                          [
                            0.4444444444444444,
                            "#bd3786"
                          ],
                          [
                            0.5555555555555556,
                            "#d8576b"
                          ],
                          [
                            0.6666666666666666,
                            "#ed7953"
                          ],
                          [
                            0.7777777777777778,
                            "#fb9f3a"
                          ],
                          [
                            0.8888888888888888,
                            "#fdca26"
                          ],
                          [
                            1,
                            "#f0f921"
                          ]
                        ],
                        "type": "heatmapgl"
                      }
                    ],
                    "histogram": [
                      {
                        "marker": {
                          "pattern": {
                            "fillmode": "overlay",
                            "size": 10,
                            "solidity": 0.2
                          }
                        },
                        "type": "histogram"
                      }
                    ],
                    "histogram2d": [
                      {
                        "colorbar": {
                          "outlinewidth": 0,
                          "ticks": ""
                        },
                        "colorscale": [
                          [
                            0,
                            "#0d0887"
                          ],
                          [
                            0.1111111111111111,
                            "#46039f"
                          ],
                          [
                            0.2222222222222222,
                            "#7201a8"
                          ],
                          [
                            0.3333333333333333,
                            "#9c179e"
                          ],
                          [
                            0.4444444444444444,
                            "#bd3786"
                          ],
                          [
                            0.5555555555555556,
                            "#d8576b"
                          ],
                          [
                            0.6666666666666666,
                            "#ed7953"
                          ],
                          [
                            0.7777777777777778,
                            "#fb9f3a"
                          ],
                          [
                            0.8888888888888888,
                            "#fdca26"
                          ],
                          [
                            1,
                            "#f0f921"
                          ]
                        ],
                        "type": "histogram2d"
                      }
                    ],
                    "histogram2dcontour": [
                      {
                        "colorbar": {
                          "outlinewidth": 0,
                          "ticks": ""
                        },
                        "colorscale": [
                          [
                            0,
                            "#0d0887"
                          ],
                          [
                            0.1111111111111111,
                            "#46039f"
                          ],
                          [
                            0.2222222222222222,
                            "#7201a8"
                          ],
                          [
                            0.3333333333333333,
                            "#9c179e"
                          ],
                          [
                            0.4444444444444444,
                            "#bd3786"
                          ],
                          [
                            0.5555555555555556,
                            "#d8576b"
                          ],
                          [
                            0.6666666666666666,
                            "#ed7953"
                          ],
                          [
                            0.7777777777777778,
                            "#fb9f3a"
                          ],
                          [
                            0.8888888888888888,
                            "#fdca26"
                          ],
                          [
                            1,
                            "#f0f921"
                          ]
                        ],
                        "type": "histogram2dcontour"
                      }
                    ],
                    "mesh3d": [
                      {
                        "colorbar": {
                          "outlinewidth": 0,
                          "ticks": ""
                        },
                        "type": "mesh3d"
                      }
                    ],
                    "parcoords": [
                      {
                        "line": {
                          "colorbar": {
                            "outlinewidth": 0,
                            "ticks": ""
                          }
                        },
                        "type": "parcoords"
                      }
                    ],
                    "pie": [
                      {
                        "automargin": true,
                        "type": "pie"
                      }
                    ],
                    "scatter": [
                      {
                        "fillpattern": {
                          "fillmode": "overlay",
                          "size": 10,
                          "solidity": 0.2
                        },
                        "type": "scatter"
                      }
                    ],
                    "scatter3d": [
                      {
                        "line": {
                          "colorbar": {
                            "outlinewidth": 0,
                            "ticks": ""
                          }
                        },
                        "marker": {
                          "colorbar": {
                            "outlinewidth": 0,
                            "ticks": ""
                          }
                        },
                        "type": "scatter3d"
                      }
                    ],
                    "scattercarpet": [
                      {
                        "marker": {
                          "colorbar": {
                            "outlinewidth": 0,
                            "ticks": ""
                          }
                        },
                        "type": "scattercarpet"
                      }
                    ],
                    "scattergeo": [
                      {
                        "marker": {
                          "colorbar": {
                            "outlinewidth": 0,
                            "ticks": ""
                          }
                        },
                        "type": "scattergeo"
                      }
                    ],
                    "scattergl": [
                      {
                        "marker": {
                          "colorbar": {
                            "outlinewidth": 0,
                            "ticks": ""
                          }
                        },
                        "type": "scattergl"
                      }
                    ],
                    "scattermapbox": [
                      {
                        "marker": {
                          "colorbar": {
                            "outlinewidth": 0,
                            "ticks": ""
                          }
                        },
                        "type": "scattermapbox"
                      }
                    ],
                    "scatterpolar": [
                      {
                        "marker": {
                          "colorbar": {
                            "outlinewidth": 0,
                            "ticks": ""
                          }
                        },
                        "type": "scatterpolar"
                      }
                    ],
                    "scatterpolargl": [
                      {
                        "marker": {
                          "colorbar": {
                            "outlinewidth": 0,
                            "ticks": ""
                          }
                        },
                        "type": "scatterpolargl"
                      }
                    ],
                    "scatterternary": [
                      {
                        "marker": {
                          "colorbar": {
                            "outlinewidth": 0,
                            "ticks": ""
                          }
                        },
                        "type": "scatterternary"
                      }
                    ],
                    "surface": [
                      {
                        "colorbar": {
                          "outlinewidth": 0,
                          "ticks": ""
                        },
                        "colorscale": [
                          [
                            0,
                            "#0d0887"
                          ],
                          [
                            0.1111111111111111,
                            "#46039f"
                          ],
                          [
                            0.2222222222222222,
                            "#7201a8"
                          ],
                          [
                            0.3333333333333333,
                            "#9c179e"
                          ],
                          [
                            0.4444444444444444,
                            "#bd3786"
                          ],
                          [
                            0.5555555555555556,
                            "#d8576b"
                          ],
                          [
                            0.6666666666666666,
                            "#ed7953"
                          ],
                          [
                            0.7777777777777778,
                            "#fb9f3a"
                          ],
                          [
                            0.8888888888888888,
                            "#fdca26"
                          ],
                          [
                            1,
                            "#f0f921"
                          ]
                        ],
                        "type": "surface"
                      }
                    ],
                    "table": [
                      {
                        "cells": {
                          "fill": {
                            "color": "#EBF0F8"
                          },
                          "line": {
                            "color": "white"
                          }
                        },
                        "header": {
                          "fill": {
                            "color": "#C8D4E3"
                          },
                          "line": {
                            "color": "white"
                          }
                        },
                        "type": "table"
                      }
                    ]
                  },
                  "layout": {
                    "annotationdefaults": {
                      "arrowcolor": "#2a3f5f",
                      "arrowhead": 0,
                      "arrowwidth": 1
                    },
                    "autotypenumbers": "strict",
                    "coloraxis": {
                      "colorbar": {
                        "outlinewidth": 0,
                        "ticks": ""
                      }
                    },
                    "colorscale": {
                      "diverging": [
                        [
                          0,
                          "#8e0152"
                        ],
                        [
                          0.1,
                          "#c51b7d"
                        ],
                        [
                          0.2,
                          "#de77ae"
                        ],
                        [
                          0.3,
                          "#f1b6da"
                        ],
                        [
                          0.4,
                          "#fde0ef"
                        ],
                        [
                          0.5,
                          "#f7f7f7"
                        ],
                        [
                          0.6,
                          "#e6f5d0"
                        ],
                        [
                          0.7,
                          "#b8e186"
                        ],
                        [
                          0.8,
                          "#7fbc41"
                        ],
                        [
                          0.9,
                          "#4d9221"
                        ],
                        [
                          1,
                          "#276419"
                        ]
                      ],
                      "sequential": [
                        [
                          0,
                          "#0d0887"
                        ],
                        [
                          0.1111111111111111,
                          "#46039f"
                        ],
                        [
                          0.2222222222222222,
                          "#7201a8"
                        ],
                        [
                          0.3333333333333333,
                          "#9c179e"
                        ],
                        [
                          0.4444444444444444,
                          "#bd3786"
                        ],
                        [
                          0.5555555555555556,
                          "#d8576b"
                        ],
                        [
                          0.6666666666666666,
                          "#ed7953"
                        ],
                        [
                          0.7777777777777778,
                          "#fb9f3a"
                        ],
                        [
                          0.8888888888888888,
                          "#fdca26"
                        ],
                        [
                          1,
                          "#f0f921"
                        ]
                      ],
                      "sequentialminus": [
                        [
                          0,
                          "#0d0887"
                        ],
                        [
                          0.1111111111111111,
                          "#46039f"
                        ],
                        [
                          0.2222222222222222,
                          "#7201a8"
                        ],
                        [
                          0.3333333333333333,
                          "#9c179e"
                        ],
                        [
                          0.4444444444444444,
                          "#bd3786"
                        ],
                        [
                          0.5555555555555556,
                          "#d8576b"
                        ],
                        [
                          0.6666666666666666,
                          "#ed7953"
                        ],
                        [
                          0.7777777777777778,
                          "#fb9f3a"
                        ],
                        [
                          0.8888888888888888,
                          "#fdca26"
                        ],
                        [
                          1,
                          "#f0f921"
                        ]
                      ]
                    },
                    "colorway": [
                      "#636efa",
                      "#EF553B",
                      "#00cc96",
                      "#ab63fa",
                      "#FFA15A",
                      "#19d3f3",
                      "#FF6692",
                      "#B6E880",
                      "#FF97FF",
                      "#FECB52"
                    ],
                    "font": {
                      "color": "#2a3f5f"
                    },
                    "geo": {
                      "bgcolor": "white",
                      "lakecolor": "white",
                      "landcolor": "#E5ECF6",
                      "showlakes": true,
                      "showland": true,
                      "subunitcolor": "white"
                    },
                    "hoverlabel": {
                      "align": "left"
                    },
                    "hovermode": "closest",
                    "mapbox": {
                      "style": "light"
                    },
                    "paper_bgcolor": "white",
                    "plot_bgcolor": "#E5ECF6",
                    "polar": {
                      "angularaxis": {
                        "gridcolor": "white",
                        "linecolor": "white",
                        "ticks": ""
                      },
                      "bgcolor": "#E5ECF6",
                      "radialaxis": {
                        "gridcolor": "white",
                        "linecolor": "white",
                        "ticks": ""
                      }
                    },
                    "scene": {
                      "xaxis": {
                        "backgroundcolor": "#E5ECF6",
                        "gridcolor": "white",
                        "gridwidth": 2,
                        "linecolor": "white",
                        "showbackground": true,
                        "ticks": "",
                        "zerolinecolor": "white"
                      },
                      "yaxis": {
                        "backgroundcolor": "#E5ECF6",
                        "gridcolor": "white",
                        "gridwidth": 2,
                        "linecolor": "white",
                        "showbackground": true,
                        "ticks": "",
                        "zerolinecolor": "white"
                      },
                      "zaxis": {
                        "backgroundcolor": "#E5ECF6",
                        "gridcolor": "white",
                        "gridwidth": 2,
                        "linecolor": "white",
                        "showbackground": true,
                        "ticks": "",
                        "zerolinecolor": "white"
                      }
                    },
                    "shapedefaults": {
                      "line": {
                        "color": "#2a3f5f"
                      }
                    },
                    "ternary": {
                      "aaxis": {
                        "gridcolor": "white",
                        "linecolor": "white",
                        "ticks": ""
                      },
                      "baxis": {
                        "gridcolor": "white",
                        "linecolor": "white",
                        "ticks": ""
                      },
                      "bgcolor": "#E5ECF6",
                      "caxis": {
                        "gridcolor": "white",
                        "linecolor": "white",
                        "ticks": ""
                      }
                    },
                    "title": {
                      "x": 0.05
                    },
                    "xaxis": {
                      "automargin": true,
                      "gridcolor": "white",
                      "linecolor": "white",
                      "ticks": "",
                      "title": {
                        "standoff": 15
                      },
                      "zerolinecolor": "white",
                      "zerolinewidth": 2
                    },
                    "yaxis": {
                      "automargin": true,
                      "gridcolor": "white",
                      "linecolor": "white",
                      "ticks": "",
                      "title": {
                        "standoff": 15
                      },
                      "zerolinecolor": "white",
                      "zerolinewidth": 2
                    }
                  }
                },
                "width": 600,
                "xaxis": {
                  "tickmode": "auto",
                  "title": {
                    "text": "Distances [A]"
                  }
                },
                "yaxis": {
                  "title": {
                    "text": "pairs"
                  }
                }
              }
            }
          },
          "metadata": {},
          "output_type": "display_data"
        },
        {
          "data": {
            "application/vnd.plotly.v1+json": {
              "config": {
                "plotlyServerURL": "https://plot.ly"
              },
              "data": [
                {
                  "marker": {
                    "line": {
                      "color": "white",
                      "width": 2
                    }
                  },
                  "name": "O-Pb",
                  "opacity": 0.6,
                  "type": "histogram",
                  "x": [
                    4.016148637516919,
                    2.1534510848844466,
                    4.016149722560776,
                    2.169284791861364,
                    2.1692841893956634,
                    5.262128524009747,
                    5.2621292690995345,
                    2.169284791861364,
                    2.1692841893956634,
                    2.1692841893956634,
                    2.169284791861364,
                    5.2621292690995345,
                    5.262128524009747,
                    2.1692841893956634,
                    2.169284791861364,
                    4.016149722560776,
                    2.1534510848844466,
                    4.016148637516919
                  ],
                  "xbins": {
                    "size": 0.1
                  }
                },
                {
                  "marker": {
                    "line": {
                      "color": "white",
                      "width": 2
                    }
                  },
                  "name": "O-O",
                  "opacity": 0.6,
                  "type": "histogram",
                  "x": [
                    3.0566554234434076,
                    3.056656563829669,
                    3.0566561496476834,
                    3.0566564349036676,
                    4.306902169768893,
                    3.390000392527558,
                    2.7075963775623944,
                    4.338568378791327,
                    3.0566564349036676,
                    4.338569583722728,
                    2.7075963775623944,
                    3.0566561496476834,
                    3.390000392527558,
                    3.056656563829669,
                    3.0566554234434076
                  ],
                  "xbins": {
                    "size": 0.1
                  }
                },
                {
                  "marker": {
                    "line": {
                      "color": "white",
                      "width": 2
                    }
                  },
                  "name": "Pb-Pb",
                  "opacity": 0.6,
                  "type": "histogram",
                  "x": [
                    3.3900003925275586,
                    6.780000785055117,
                    3.3900003925275586
                  ],
                  "xbins": {
                    "size": 0.1
                  }
                }
              ],
              "layout": {
                "barmode": "overlay",
                "height": 400,
                "plot_bgcolor": "rgba(0.02,0.02,0.02,0.02)",
                "template": {
                  "data": {
                    "bar": [
                      {
                        "error_x": {
                          "color": "#2a3f5f"
                        },
                        "error_y": {
                          "color": "#2a3f5f"
                        },
                        "marker": {
                          "line": {
                            "color": "#E5ECF6",
                            "width": 0.5
                          },
                          "pattern": {
                            "fillmode": "overlay",
                            "size": 10,
                            "solidity": 0.2
                          }
                        },
                        "type": "bar"
                      }
                    ],
                    "barpolar": [
                      {
                        "marker": {
                          "line": {
                            "color": "#E5ECF6",
                            "width": 0.5
                          },
                          "pattern": {
                            "fillmode": "overlay",
                            "size": 10,
                            "solidity": 0.2
                          }
                        },
                        "type": "barpolar"
                      }
                    ],
                    "carpet": [
                      {
                        "aaxis": {
                          "endlinecolor": "#2a3f5f",
                          "gridcolor": "white",
                          "linecolor": "white",
                          "minorgridcolor": "white",
                          "startlinecolor": "#2a3f5f"
                        },
                        "baxis": {
                          "endlinecolor": "#2a3f5f",
                          "gridcolor": "white",
                          "linecolor": "white",
                          "minorgridcolor": "white",
                          "startlinecolor": "#2a3f5f"
                        },
                        "type": "carpet"
                      }
                    ],
                    "choropleth": [
                      {
                        "colorbar": {
                          "outlinewidth": 0,
                          "ticks": ""
                        },
                        "type": "choropleth"
                      }
                    ],
                    "contour": [
                      {
                        "colorbar": {
                          "outlinewidth": 0,
                          "ticks": ""
                        },
                        "colorscale": [
                          [
                            0,
                            "#0d0887"
                          ],
                          [
                            0.1111111111111111,
                            "#46039f"
                          ],
                          [
                            0.2222222222222222,
                            "#7201a8"
                          ],
                          [
                            0.3333333333333333,
                            "#9c179e"
                          ],
                          [
                            0.4444444444444444,
                            "#bd3786"
                          ],
                          [
                            0.5555555555555556,
                            "#d8576b"
                          ],
                          [
                            0.6666666666666666,
                            "#ed7953"
                          ],
                          [
                            0.7777777777777778,
                            "#fb9f3a"
                          ],
                          [
                            0.8888888888888888,
                            "#fdca26"
                          ],
                          [
                            1,
                            "#f0f921"
                          ]
                        ],
                        "type": "contour"
                      }
                    ],
                    "contourcarpet": [
                      {
                        "colorbar": {
                          "outlinewidth": 0,
                          "ticks": ""
                        },
                        "type": "contourcarpet"
                      }
                    ],
                    "heatmap": [
                      {
                        "colorbar": {
                          "outlinewidth": 0,
                          "ticks": ""
                        },
                        "colorscale": [
                          [
                            0,
                            "#0d0887"
                          ],
                          [
                            0.1111111111111111,
                            "#46039f"
                          ],
                          [
                            0.2222222222222222,
                            "#7201a8"
                          ],
                          [
                            0.3333333333333333,
                            "#9c179e"
                          ],
                          [
                            0.4444444444444444,
                            "#bd3786"
                          ],
                          [
                            0.5555555555555556,
                            "#d8576b"
                          ],
                          [
                            0.6666666666666666,
                            "#ed7953"
                          ],
                          [
                            0.7777777777777778,
                            "#fb9f3a"
                          ],
                          [
                            0.8888888888888888,
                            "#fdca26"
                          ],
                          [
                            1,
                            "#f0f921"
                          ]
                        ],
                        "type": "heatmap"
                      }
                    ],
                    "heatmapgl": [
                      {
                        "colorbar": {
                          "outlinewidth": 0,
                          "ticks": ""
                        },
                        "colorscale": [
                          [
                            0,
                            "#0d0887"
                          ],
                          [
                            0.1111111111111111,
                            "#46039f"
                          ],
                          [
                            0.2222222222222222,
                            "#7201a8"
                          ],
                          [
                            0.3333333333333333,
                            "#9c179e"
                          ],
                          [
                            0.4444444444444444,
                            "#bd3786"
                          ],
                          [
                            0.5555555555555556,
                            "#d8576b"
                          ],
                          [
                            0.6666666666666666,
                            "#ed7953"
                          ],
                          [
                            0.7777777777777778,
                            "#fb9f3a"
                          ],
                          [
                            0.8888888888888888,
                            "#fdca26"
                          ],
                          [
                            1,
                            "#f0f921"
                          ]
                        ],
                        "type": "heatmapgl"
                      }
                    ],
                    "histogram": [
                      {
                        "marker": {
                          "pattern": {
                            "fillmode": "overlay",
                            "size": 10,
                            "solidity": 0.2
                          }
                        },
                        "type": "histogram"
                      }
                    ],
                    "histogram2d": [
                      {
                        "colorbar": {
                          "outlinewidth": 0,
                          "ticks": ""
                        },
                        "colorscale": [
                          [
                            0,
                            "#0d0887"
                          ],
                          [
                            0.1111111111111111,
                            "#46039f"
                          ],
                          [
                            0.2222222222222222,
                            "#7201a8"
                          ],
                          [
                            0.3333333333333333,
                            "#9c179e"
                          ],
                          [
                            0.4444444444444444,
                            "#bd3786"
                          ],
                          [
                            0.5555555555555556,
                            "#d8576b"
                          ],
                          [
                            0.6666666666666666,
                            "#ed7953"
                          ],
                          [
                            0.7777777777777778,
                            "#fb9f3a"
                          ],
                          [
                            0.8888888888888888,
                            "#fdca26"
                          ],
                          [
                            1,
                            "#f0f921"
                          ]
                        ],
                        "type": "histogram2d"
                      }
                    ],
                    "histogram2dcontour": [
                      {
                        "colorbar": {
                          "outlinewidth": 0,
                          "ticks": ""
                        },
                        "colorscale": [
                          [
                            0,
                            "#0d0887"
                          ],
                          [
                            0.1111111111111111,
                            "#46039f"
                          ],
                          [
                            0.2222222222222222,
                            "#7201a8"
                          ],
                          [
                            0.3333333333333333,
                            "#9c179e"
                          ],
                          [
                            0.4444444444444444,
                            "#bd3786"
                          ],
                          [
                            0.5555555555555556,
                            "#d8576b"
                          ],
                          [
                            0.6666666666666666,
                            "#ed7953"
                          ],
                          [
                            0.7777777777777778,
                            "#fb9f3a"
                          ],
                          [
                            0.8888888888888888,
                            "#fdca26"
                          ],
                          [
                            1,
                            "#f0f921"
                          ]
                        ],
                        "type": "histogram2dcontour"
                      }
                    ],
                    "mesh3d": [
                      {
                        "colorbar": {
                          "outlinewidth": 0,
                          "ticks": ""
                        },
                        "type": "mesh3d"
                      }
                    ],
                    "parcoords": [
                      {
                        "line": {
                          "colorbar": {
                            "outlinewidth": 0,
                            "ticks": ""
                          }
                        },
                        "type": "parcoords"
                      }
                    ],
                    "pie": [
                      {
                        "automargin": true,
                        "type": "pie"
                      }
                    ],
                    "scatter": [
                      {
                        "fillpattern": {
                          "fillmode": "overlay",
                          "size": 10,
                          "solidity": 0.2
                        },
                        "type": "scatter"
                      }
                    ],
                    "scatter3d": [
                      {
                        "line": {
                          "colorbar": {
                            "outlinewidth": 0,
                            "ticks": ""
                          }
                        },
                        "marker": {
                          "colorbar": {
                            "outlinewidth": 0,
                            "ticks": ""
                          }
                        },
                        "type": "scatter3d"
                      }
                    ],
                    "scattercarpet": [
                      {
                        "marker": {
                          "colorbar": {
                            "outlinewidth": 0,
                            "ticks": ""
                          }
                        },
                        "type": "scattercarpet"
                      }
                    ],
                    "scattergeo": [
                      {
                        "marker": {
                          "colorbar": {
                            "outlinewidth": 0,
                            "ticks": ""
                          }
                        },
                        "type": "scattergeo"
                      }
                    ],
                    "scattergl": [
                      {
                        "marker": {
                          "colorbar": {
                            "outlinewidth": 0,
                            "ticks": ""
                          }
                        },
                        "type": "scattergl"
                      }
                    ],
                    "scattermapbox": [
                      {
                        "marker": {
                          "colorbar": {
                            "outlinewidth": 0,
                            "ticks": ""
                          }
                        },
                        "type": "scattermapbox"
                      }
                    ],
                    "scatterpolar": [
                      {
                        "marker": {
                          "colorbar": {
                            "outlinewidth": 0,
                            "ticks": ""
                          }
                        },
                        "type": "scatterpolar"
                      }
                    ],
                    "scatterpolargl": [
                      {
                        "marker": {
                          "colorbar": {
                            "outlinewidth": 0,
                            "ticks": ""
                          }
                        },
                        "type": "scatterpolargl"
                      }
                    ],
                    "scatterternary": [
                      {
                        "marker": {
                          "colorbar": {
                            "outlinewidth": 0,
                            "ticks": ""
                          }
                        },
                        "type": "scatterternary"
                      }
                    ],
                    "surface": [
                      {
                        "colorbar": {
                          "outlinewidth": 0,
                          "ticks": ""
                        },
                        "colorscale": [
                          [
                            0,
                            "#0d0887"
                          ],
                          [
                            0.1111111111111111,
                            "#46039f"
                          ],
                          [
                            0.2222222222222222,
                            "#7201a8"
                          ],
                          [
                            0.3333333333333333,
                            "#9c179e"
                          ],
                          [
                            0.4444444444444444,
                            "#bd3786"
                          ],
                          [
                            0.5555555555555556,
                            "#d8576b"
                          ],
                          [
                            0.6666666666666666,
                            "#ed7953"
                          ],
                          [
                            0.7777777777777778,
                            "#fb9f3a"
                          ],
                          [
                            0.8888888888888888,
                            "#fdca26"
                          ],
                          [
                            1,
                            "#f0f921"
                          ]
                        ],
                        "type": "surface"
                      }
                    ],
                    "table": [
                      {
                        "cells": {
                          "fill": {
                            "color": "#EBF0F8"
                          },
                          "line": {
                            "color": "white"
                          }
                        },
                        "header": {
                          "fill": {
                            "color": "#C8D4E3"
                          },
                          "line": {
                            "color": "white"
                          }
                        },
                        "type": "table"
                      }
                    ]
                  },
                  "layout": {
                    "annotationdefaults": {
                      "arrowcolor": "#2a3f5f",
                      "arrowhead": 0,
                      "arrowwidth": 1
                    },
                    "autotypenumbers": "strict",
                    "coloraxis": {
                      "colorbar": {
                        "outlinewidth": 0,
                        "ticks": ""
                      }
                    },
                    "colorscale": {
                      "diverging": [
                        [
                          0,
                          "#8e0152"
                        ],
                        [
                          0.1,
                          "#c51b7d"
                        ],
                        [
                          0.2,
                          "#de77ae"
                        ],
                        [
                          0.3,
                          "#f1b6da"
                        ],
                        [
                          0.4,
                          "#fde0ef"
                        ],
                        [
                          0.5,
                          "#f7f7f7"
                        ],
                        [
                          0.6,
                          "#e6f5d0"
                        ],
                        [
                          0.7,
                          "#b8e186"
                        ],
                        [
                          0.8,
                          "#7fbc41"
                        ],
                        [
                          0.9,
                          "#4d9221"
                        ],
                        [
                          1,
                          "#276419"
                        ]
                      ],
                      "sequential": [
                        [
                          0,
                          "#0d0887"
                        ],
                        [
                          0.1111111111111111,
                          "#46039f"
                        ],
                        [
                          0.2222222222222222,
                          "#7201a8"
                        ],
                        [
                          0.3333333333333333,
                          "#9c179e"
                        ],
                        [
                          0.4444444444444444,
                          "#bd3786"
                        ],
                        [
                          0.5555555555555556,
                          "#d8576b"
                        ],
                        [
                          0.6666666666666666,
                          "#ed7953"
                        ],
                        [
                          0.7777777777777778,
                          "#fb9f3a"
                        ],
                        [
                          0.8888888888888888,
                          "#fdca26"
                        ],
                        [
                          1,
                          "#f0f921"
                        ]
                      ],
                      "sequentialminus": [
                        [
                          0,
                          "#0d0887"
                        ],
                        [
                          0.1111111111111111,
                          "#46039f"
                        ],
                        [
                          0.2222222222222222,
                          "#7201a8"
                        ],
                        [
                          0.3333333333333333,
                          "#9c179e"
                        ],
                        [
                          0.4444444444444444,
                          "#bd3786"
                        ],
                        [
                          0.5555555555555556,
                          "#d8576b"
                        ],
                        [
                          0.6666666666666666,
                          "#ed7953"
                        ],
                        [
                          0.7777777777777778,
                          "#fb9f3a"
                        ],
                        [
                          0.8888888888888888,
                          "#fdca26"
                        ],
                        [
                          1,
                          "#f0f921"
                        ]
                      ]
                    },
                    "colorway": [
                      "#636efa",
                      "#EF553B",
                      "#00cc96",
                      "#ab63fa",
                      "#FFA15A",
                      "#19d3f3",
                      "#FF6692",
                      "#B6E880",
                      "#FF97FF",
                      "#FECB52"
                    ],
                    "font": {
                      "color": "#2a3f5f"
                    },
                    "geo": {
                      "bgcolor": "white",
                      "lakecolor": "white",
                      "landcolor": "#E5ECF6",
                      "showlakes": true,
                      "showland": true,
                      "subunitcolor": "white"
                    },
                    "hoverlabel": {
                      "align": "left"
                    },
                    "hovermode": "closest",
                    "mapbox": {
                      "style": "light"
                    },
                    "paper_bgcolor": "white",
                    "plot_bgcolor": "#E5ECF6",
                    "polar": {
                      "angularaxis": {
                        "gridcolor": "white",
                        "linecolor": "white",
                        "ticks": ""
                      },
                      "bgcolor": "#E5ECF6",
                      "radialaxis": {
                        "gridcolor": "white",
                        "linecolor": "white",
                        "ticks": ""
                      }
                    },
                    "scene": {
                      "xaxis": {
                        "backgroundcolor": "#E5ECF6",
                        "gridcolor": "white",
                        "gridwidth": 2,
                        "linecolor": "white",
                        "showbackground": true,
                        "ticks": "",
                        "zerolinecolor": "white"
                      },
                      "yaxis": {
                        "backgroundcolor": "#E5ECF6",
                        "gridcolor": "white",
                        "gridwidth": 2,
                        "linecolor": "white",
                        "showbackground": true,
                        "ticks": "",
                        "zerolinecolor": "white"
                      },
                      "zaxis": {
                        "backgroundcolor": "#E5ECF6",
                        "gridcolor": "white",
                        "gridwidth": 2,
                        "linecolor": "white",
                        "showbackground": true,
                        "ticks": "",
                        "zerolinecolor": "white"
                      }
                    },
                    "shapedefaults": {
                      "line": {
                        "color": "#2a3f5f"
                      }
                    },
                    "ternary": {
                      "aaxis": {
                        "gridcolor": "white",
                        "linecolor": "white",
                        "ticks": ""
                      },
                      "baxis": {
                        "gridcolor": "white",
                        "linecolor": "white",
                        "ticks": ""
                      },
                      "bgcolor": "#E5ECF6",
                      "caxis": {
                        "gridcolor": "white",
                        "linecolor": "white",
                        "ticks": ""
                      }
                    },
                    "title": {
                      "x": 0.05
                    },
                    "xaxis": {
                      "automargin": true,
                      "gridcolor": "white",
                      "linecolor": "white",
                      "ticks": "",
                      "title": {
                        "standoff": 15
                      },
                      "zerolinecolor": "white",
                      "zerolinewidth": 2
                    },
                    "yaxis": {
                      "automargin": true,
                      "gridcolor": "white",
                      "linecolor": "white",
                      "ticks": "",
                      "title": {
                        "standoff": 15
                      },
                      "zerolinecolor": "white",
                      "zerolinewidth": 2
                    }
                  }
                },
                "width": 600,
                "xaxis": {
                  "tickmode": "auto",
                  "title": {
                    "text": "Distances [A]"
                  }
                },
                "yaxis": {
                  "title": {
                    "text": "pairs"
                  }
                }
              }
            }
          },
          "metadata": {},
          "output_type": "display_data"
        }
      ],
      "source": [
        "cluster.plot_hist(binsize=0.1)\n",
        "cluster_small.plot_hist(binsize=0.1)"
      ]
    },
    {
      "cell_type": "markdown",
      "metadata": {},
      "source": [
        "# get CNs"
      ]
    },
    {
      "cell_type": "code",
      "execution_count": 86,
      "metadata": {},
      "outputs": [
        {
          "name": "stdout",
          "output_type": "stream",
          "text": [
            "{'Pb-O': {2.164006661818935: 5.2,\n",
            "          3.759464103600722: 2.4,\n",
            "          4.0161487745681885: 2.4,\n",
            "          4.450974934970656: 4.266666666666667,\n",
            "          4.861048023898767: 0.9333333333333333,\n",
            "          5.062180336008798: 3.7333333333333334,\n",
            "          5.262128217289388: 1.6,\n",
            "          5.917697886611758: 3.2,\n",
            "          6.229254614092598: 2.6666666666666665,\n",
            "          6.541817358979241: 2.1333333333333333,\n",
            "          6.659154270243802: 1.3333333333333333,\n",
            "          7.113771779844665: 0.5333333333333333,\n",
            "          7.340720537707306: 2.4,\n",
            "          7.472377961033678: 1.6,\n",
            "          7.609254687726023: 0.5333333333333333,\n",
            "          7.752545874266088: 1.0666666666666667,\n",
            "          7.860522288892568: 1.6,\n",
            "          8.08286153850564: 1.0666666666666667,\n",
            "          8.342552820814575: 0.5333333333333333,\n",
            "          8.536897202414814: 0.8,\n",
            "          8.582446934276872: 0.26666666666666666,\n",
            "          8.768876438013004: 0.5333333333333333,\n",
            "          9.073544419622824: 0.26666666666666666,\n",
            "          9.175410964368307: 1.3333333333333333,\n",
            "          9.686140004658345: 0.5333333333333333,\n",
            "          9.783375990120891: 0.5333333333333333,\n",
            "          9.961182057980693: 0.5333333333333333},\n",
            " 'Pb-Pb': {3.389999918388575: 0.8,\n",
            "           3.895359489312166: 4.266666666666667,\n",
            "           4.960000056709095: 1.6,\n",
            "           6.007803361222624: 2.1333333333333333,\n",
            "           6.177218406254148: 1.0666666666666667,\n",
            "           6.780000785055117: 0.13333333333333333,\n",
            "           7.014499408621845: 1.0666666666666667,\n",
            "           7.790718664382291: 0.5333333333333333,\n",
            "           8.023529617513534: 2.1333333333333333,\n",
            "           9.920000447469846: 0.26666666666666666}}\n",
            "{'Pb-O': {2.1661178094797: 3.3333333333333335,\n",
            "          4.016149180038847: 1.3333333333333333,\n",
            "          5.262128896554641: 1.3333333333333333},\n",
            " 'Pb-Pb': {3.3900003925275586: 1.3333333333333333,\n",
            "           6.780000785055117: 0.6666666666666666}}\n"
          ]
        }
      ],
      "source": [
        "error_bar = 0.02\n",
        "cluster.get_CN(center_atom='Pb', CN_atom='Pb', error_bar=error_bar)\n",
        "cluster.get_CN(center_atom='Pb', CN_atom='O', error_bar=error_bar)\n",
        "pprint(cluster.CN)\n",
        "\n",
        "cluster_small.get_CN(center_atom='Pb', CN_atom='Pb', error_bar=error_bar)\n",
        "cluster_small.get_CN(center_atom='Pb', CN_atom='O', error_bar=error_bar)\n",
        "pprint(cluster_small.CN)\n"
      ]
    },
    {
      "cell_type": "code",
      "execution_count": 87,
      "metadata": {},
      "outputs": [
        {
          "name": "stdout",
          "output_type": "stream",
          "text": [
            "{'Pb-O': {2.164006661818935: 5.2,\n",
            "          3.759464103600722: 2.4,\n",
            "          4.0161487745681885: 2.4,\n",
            "          4.450974934970656: 4.266666666666667,\n",
            "          4.861048023898767: 0.9333333333333333,\n",
            "          5.062180336008798: 3.7333333333333334,\n",
            "          5.262128217289388: 1.6,\n",
            "          5.917697886611758: 3.2,\n",
            "          6.229254614092598: 2.6666666666666665,\n",
            "          6.541817358979241: 2.1333333333333333,\n",
            "          6.659154270243802: 1.3333333333333333,\n",
            "          7.113771779844665: 0.5333333333333333,\n",
            "          7.340720537707306: 2.4,\n",
            "          7.472377961033678: 1.6,\n",
            "          7.609254687726023: 0.5333333333333333,\n",
            "          7.752545874266088: 1.0666666666666667,\n",
            "          7.860522288892568: 1.6,\n",
            "          8.08286153850564: 1.0666666666666667,\n",
            "          8.342552820814575: 0.5333333333333333,\n",
            "          8.536897202414814: 0.8,\n",
            "          8.582446934276872: 0.26666666666666666,\n",
            "          8.768876438013004: 0.5333333333333333,\n",
            "          9.073544419622824: 0.26666666666666666,\n",
            "          9.175410964368307: 1.3333333333333333,\n",
            "          9.686140004658345: 0.5333333333333333,\n",
            "          9.783375990120891: 0.5333333333333333,\n",
            "          9.961182057980693: 0.5333333333333333},\n",
            " 'Pb-Pb': {3.389999918388575: 0.8,\n",
            "           3.895359489312166: 4.266666666666667,\n",
            "           4.960000056709095: 1.6,\n",
            "           6.007803361222624: 2.1333333333333333,\n",
            "           6.177218406254148: 1.0666666666666667,\n",
            "           6.780000785055117: 0.13333333333333333,\n",
            "           7.014499408621845: 1.0666666666666667,\n",
            "           7.790718664382291: 0.5333333333333333,\n",
            "           8.023529617513534: 2.1333333333333333,\n",
            "           9.920000447469846: 0.26666666666666666}}\n",
            "{'Pb-O': {2.1661178094797: 3.3333333333333335,\n",
            "          4.016149180038847: 1.3333333333333333,\n",
            "          5.262128896554641: 1.3333333333333333},\n",
            " 'Pb-Pb': {3.3900003925275586: 1.3333333333333333,\n",
            "           6.780000785055117: 0.6666666666666666}}\n"
          ]
        }
      ],
      "source": [
        "error_bar = 0.02\n",
        "cluster.get_CN(center_atom='Pb', CN_atom='Pb', error_bar=error_bar)\n",
        "cluster.get_CN(center_atom='Pb', CN_atom='O', error_bar=error_bar)\n",
        "pprint(cluster.CN)\n",
        "\n",
        "cluster_small.get_CN(center_atom='Pb', CN_atom='Pb', error_bar=error_bar)\n",
        "cluster_small.get_CN(center_atom='Pb', CN_atom='O', error_bar=error_bar)\n",
        "pprint(cluster_small.CN)\n"
      ]
    },
    {
      "cell_type": "code",
      "execution_count": 88,
      "metadata": {},
      "outputs": [
        {
          "data": {
            "application/3dmoljs_load.v0": "<div id=\"3dmolviewer_17055972508951302\"  style=\"position: relative; width: 500px; height: 500px;\">\n        <p id=\"3dmolwarning_17055972508951302\" style=\"background-color:#ffcccc;color:black\">You appear to be running in JupyterLab (or JavaScript failed to load for some other reason).  You need to install the 3dmol extension: <br>\n        <tt>jupyter labextension install jupyterlab_3dmol</tt></p>\n        </div>\n<script>\n\nvar loadScriptAsync = function(uri){\n  return new Promise((resolve, reject) => {\n    //this is to ignore the existence of requirejs amd\n    var savedexports, savedmodule;\n    if (typeof exports !== 'undefined') savedexports = exports;\n    else exports = {}\n    if (typeof module !== 'undefined') savedmodule = module;\n    else module = {}\n\n    var tag = document.createElement('script');\n    tag.src = uri;\n    tag.async = true;\n    tag.onload = () => {\n        exports = savedexports;\n        module = savedmodule;\n        resolve();\n    };\n  var firstScriptTag = document.getElementsByTagName('script')[0];\n  firstScriptTag.parentNode.insertBefore(tag, firstScriptTag);\n});\n};\n\nif(typeof $3Dmolpromise === 'undefined') {\n$3Dmolpromise = null;\n  $3Dmolpromise = loadScriptAsync('https://cdnjs.cloudflare.com/ajax/libs/3Dmol/2.0.4/3Dmol-min.js');\n}\n\nvar viewer_17055972508951302 = null;\nvar warn = document.getElementById(\"3dmolwarning_17055972508951302\");\nif(warn) {\n    warn.parentNode.removeChild(warn);\n}\n$3Dmolpromise.then(function() {\nviewer_17055972508951302 = $3Dmol.createViewer(document.getElementById(\"3dmolviewer_17055972508951302\"),{backgroundColor:\"white\"});\nviewer_17055972508951302.zoomTo();\n\tviewer_17055972508951302.addModel(\"9\\n\\nO -1.538331 -1.08933 1.041273\\nO -1.51782 1.095271 -1.096539\\nO 0.311064 1.237587 1.754256\\nO -0.311064 -1.237587 -1.754256\\nO 1.51782 -1.095271 1.096539\\nPb -1.828884 -0.142316 -2.850795\\nO 1.538331 1.08933 -1.041273\\nPb 0.0 0.0 0.0\\nPb 1.828884 0.142316 2.850795\\n\",\"xyz\");\n\tviewer_17055972508951302.setStyle({\"stick\": {\"radius\": 0.1, \"alpha\": 0.2, \"color\": \"gray\"}, \"sphere\": {\"radius\": 0.3}});\n\tviewer_17055972508951302.addStyle({\"atom\": \"Pb\"},{\"sphere\": {\"color\": \"red\", \"radius\": 0.5}});\n\tviewer_17055972508951302.addStyle({\"atom\": \"O\"},{\"sphere\": {\"color\": \"blue\", \"radius\": 0.3}});\n\tviewer_17055972508951302.setBackgroundColor(\"0xeeeeee\");\n\tviewer_17055972508951302.addLabel(\"0\",{\"position\": {\"x\": -1.538331, \"y\": -1.08933, \"z\": 1.041273}, \"fontColor\": \"k\", \"fontSize\": 12, \"backgroundColor\": \"white\", \"backgroundOpacity\": 0.5});\n\tviewer_17055972508951302.addLabel(\"1\",{\"position\": {\"x\": -1.51782, \"y\": 1.095271, \"z\": -1.096539}, \"fontColor\": \"k\", \"fontSize\": 12, \"backgroundColor\": \"white\", \"backgroundOpacity\": 0.5});\n\tviewer_17055972508951302.addLabel(\"2\",{\"position\": {\"x\": 0.311064, \"y\": 1.237587, \"z\": 1.754256}, \"fontColor\": \"k\", \"fontSize\": 12, \"backgroundColor\": \"white\", \"backgroundOpacity\": 0.5});\n\tviewer_17055972508951302.addLabel(\"3\",{\"position\": {\"x\": -0.311064, \"y\": -1.237587, \"z\": -1.754256}, \"fontColor\": \"k\", \"fontSize\": 12, \"backgroundColor\": \"white\", \"backgroundOpacity\": 0.5});\n\tviewer_17055972508951302.addLabel(\"4\",{\"position\": {\"x\": 1.51782, \"y\": -1.095271, \"z\": 1.096539}, \"fontColor\": \"k\", \"fontSize\": 12, \"backgroundColor\": \"white\", \"backgroundOpacity\": 0.5});\n\tviewer_17055972508951302.addLabel(\"5\",{\"position\": {\"x\": -1.828884, \"y\": -0.142316, \"z\": -2.850795}, \"fontColor\": \"k\", \"fontSize\": 12, \"backgroundColor\": \"white\", \"backgroundOpacity\": 0.5});\n\tviewer_17055972508951302.addLabel(\"6\",{\"position\": {\"x\": 1.538331, \"y\": 1.08933, \"z\": -1.041273}, \"fontColor\": \"k\", \"fontSize\": 12, \"backgroundColor\": \"white\", \"backgroundOpacity\": 0.5});\n\tviewer_17055972508951302.addLabel(\"7\",{\"position\": {\"x\": 0.0, \"y\": 0.0, \"z\": 0.0}, \"fontColor\": \"k\", \"fontSize\": 12, \"backgroundColor\": \"white\", \"backgroundOpacity\": 0.5});\n\tviewer_17055972508951302.addLabel(\"8\",{\"position\": {\"x\": 1.828884, \"y\": 0.142316, \"z\": 2.850795}, \"fontColor\": \"k\", \"fontSize\": 12, \"backgroundColor\": \"white\", \"backgroundOpacity\": 0.5});\n\tviewer_17055972508951302.zoomTo();\nviewer_17055972508951302.render();\n});\n</script>",
            "text/html": [
              "<div id=\"3dmolviewer_17055972508951302\"  style=\"position: relative; width: 500px; height: 500px;\">\n",
              "        <p id=\"3dmolwarning_17055972508951302\" style=\"background-color:#ffcccc;color:black\">You appear to be running in JupyterLab (or JavaScript failed to load for some other reason).  You need to install the 3dmol extension: <br>\n",
              "        <tt>jupyter labextension install jupyterlab_3dmol</tt></p>\n",
              "        </div>\n",
              "<script>\n",
              "\n",
              "var loadScriptAsync = function(uri){\n",
              "  return new Promise((resolve, reject) => {\n",
              "    //this is to ignore the existence of requirejs amd\n",
              "    var savedexports, savedmodule;\n",
              "    if (typeof exports !== 'undefined') savedexports = exports;\n",
              "    else exports = {}\n",
              "    if (typeof module !== 'undefined') savedmodule = module;\n",
              "    else module = {}\n",
              "\n",
              "    var tag = document.createElement('script');\n",
              "    tag.src = uri;\n",
              "    tag.async = true;\n",
              "    tag.onload = () => {\n",
              "        exports = savedexports;\n",
              "        module = savedmodule;\n",
              "        resolve();\n",
              "    };\n",
              "  var firstScriptTag = document.getElementsByTagName('script')[0];\n",
              "  firstScriptTag.parentNode.insertBefore(tag, firstScriptTag);\n",
              "});\n",
              "};\n",
              "\n",
              "if(typeof $3Dmolpromise === 'undefined') {\n",
              "$3Dmolpromise = null;\n",
              "  $3Dmolpromise = loadScriptAsync('https://cdnjs.cloudflare.com/ajax/libs/3Dmol/2.0.4/3Dmol-min.js');\n",
              "}\n",
              "\n",
              "var viewer_17055972508951302 = null;\n",
              "var warn = document.getElementById(\"3dmolwarning_17055972508951302\");\n",
              "if(warn) {\n",
              "    warn.parentNode.removeChild(warn);\n",
              "}\n",
              "$3Dmolpromise.then(function() {\n",
              "viewer_17055972508951302 = $3Dmol.createViewer(document.getElementById(\"3dmolviewer_17055972508951302\"),{backgroundColor:\"white\"});\n",
              "viewer_17055972508951302.zoomTo();\n",
              "\tviewer_17055972508951302.addModel(\"9\\n\\nO -1.538331 -1.08933 1.041273\\nO -1.51782 1.095271 -1.096539\\nO 0.311064 1.237587 1.754256\\nO -0.311064 -1.237587 -1.754256\\nO 1.51782 -1.095271 1.096539\\nPb -1.828884 -0.142316 -2.850795\\nO 1.538331 1.08933 -1.041273\\nPb 0.0 0.0 0.0\\nPb 1.828884 0.142316 2.850795\\n\",\"xyz\");\n",
              "\tviewer_17055972508951302.setStyle({\"stick\": {\"radius\": 0.1, \"alpha\": 0.2, \"color\": \"gray\"}, \"sphere\": {\"radius\": 0.3}});\n",
              "\tviewer_17055972508951302.addStyle({\"atom\": \"Pb\"},{\"sphere\": {\"color\": \"red\", \"radius\": 0.5}});\n",
              "\tviewer_17055972508951302.addStyle({\"atom\": \"O\"},{\"sphere\": {\"color\": \"blue\", \"radius\": 0.3}});\n",
              "\tviewer_17055972508951302.setBackgroundColor(\"0xeeeeee\");\n",
              "\tviewer_17055972508951302.addLabel(\"0\",{\"position\": {\"x\": -1.538331, \"y\": -1.08933, \"z\": 1.041273}, \"fontColor\": \"k\", \"fontSize\": 12, \"backgroundColor\": \"white\", \"backgroundOpacity\": 0.5});\n",
              "\tviewer_17055972508951302.addLabel(\"1\",{\"position\": {\"x\": -1.51782, \"y\": 1.095271, \"z\": -1.096539}, \"fontColor\": \"k\", \"fontSize\": 12, \"backgroundColor\": \"white\", \"backgroundOpacity\": 0.5});\n",
              "\tviewer_17055972508951302.addLabel(\"2\",{\"position\": {\"x\": 0.311064, \"y\": 1.237587, \"z\": 1.754256}, \"fontColor\": \"k\", \"fontSize\": 12, \"backgroundColor\": \"white\", \"backgroundOpacity\": 0.5});\n",
              "\tviewer_17055972508951302.addLabel(\"3\",{\"position\": {\"x\": -0.311064, \"y\": -1.237587, \"z\": -1.754256}, \"fontColor\": \"k\", \"fontSize\": 12, \"backgroundColor\": \"white\", \"backgroundOpacity\": 0.5});\n",
              "\tviewer_17055972508951302.addLabel(\"4\",{\"position\": {\"x\": 1.51782, \"y\": -1.095271, \"z\": 1.096539}, \"fontColor\": \"k\", \"fontSize\": 12, \"backgroundColor\": \"white\", \"backgroundOpacity\": 0.5});\n",
              "\tviewer_17055972508951302.addLabel(\"5\",{\"position\": {\"x\": -1.828884, \"y\": -0.142316, \"z\": -2.850795}, \"fontColor\": \"k\", \"fontSize\": 12, \"backgroundColor\": \"white\", \"backgroundOpacity\": 0.5});\n",
              "\tviewer_17055972508951302.addLabel(\"6\",{\"position\": {\"x\": 1.538331, \"y\": 1.08933, \"z\": -1.041273}, \"fontColor\": \"k\", \"fontSize\": 12, \"backgroundColor\": \"white\", \"backgroundOpacity\": 0.5});\n",
              "\tviewer_17055972508951302.addLabel(\"7\",{\"position\": {\"x\": 0.0, \"y\": 0.0, \"z\": 0.0}, \"fontColor\": \"k\", \"fontSize\": 12, \"backgroundColor\": \"white\", \"backgroundOpacity\": 0.5});\n",
              "\tviewer_17055972508951302.addLabel(\"8\",{\"position\": {\"x\": 1.828884, \"y\": 0.142316, \"z\": 2.850795}, \"fontColor\": \"k\", \"fontSize\": 12, \"backgroundColor\": \"white\", \"backgroundOpacity\": 0.5});\n",
              "\tviewer_17055972508951302.zoomTo();\n",
              "viewer_17055972508951302.render();\n",
              "});\n",
              "</script>"
            ]
          },
          "metadata": {},
          "output_type": "display_data"
        },
        {
          "data": {
            "text/plain": [
              "3.3900003925275586"
            ]
          },
          "execution_count": 88,
          "metadata": {},
          "output_type": "execute_result"
        }
      ],
      "source": [
        "cluster_small.view_xyz(highlight_atom1=\"Pb\", highlight_atom2=\"O\", label=True)\n",
        "cluster_small.atoms.get_distance(7,8)"
      ]
    },
    {
      "cell_type": "markdown",
      "metadata": {},
      "source": [
        "# test single"
      ]
    },
    {
      "cell_type": "code",
      "execution_count": 89,
      "metadata": {},
      "outputs": [
        {
          "data": {
            "application/3dmoljs_load.v0": "<div id=\"3dmolviewer_1705597264284183\"  style=\"position: relative; width: 500px; height: 500px;\">\n        <p id=\"3dmolwarning_1705597264284183\" style=\"background-color:#ffcccc;color:black\">You appear to be running in JupyterLab (or JavaScript failed to load for some other reason).  You need to install the 3dmol extension: <br>\n        <tt>jupyter labextension install jupyterlab_3dmol</tt></p>\n        </div>\n<script>\n\nvar loadScriptAsync = function(uri){\n  return new Promise((resolve, reject) => {\n    //this is to ignore the existence of requirejs amd\n    var savedexports, savedmodule;\n    if (typeof exports !== 'undefined') savedexports = exports;\n    else exports = {}\n    if (typeof module !== 'undefined') savedmodule = module;\n    else module = {}\n\n    var tag = document.createElement('script');\n    tag.src = uri;\n    tag.async = true;\n    tag.onload = () => {\n        exports = savedexports;\n        module = savedmodule;\n        resolve();\n    };\n  var firstScriptTag = document.getElementsByTagName('script')[0];\n  firstScriptTag.parentNode.insertBefore(tag, firstScriptTag);\n});\n};\n\nif(typeof $3Dmolpromise === 'undefined') {\n$3Dmolpromise = null;\n  $3Dmolpromise = loadScriptAsync('https://cdnjs.cloudflare.com/ajax/libs/3Dmol/2.0.4/3Dmol-min.js');\n}\n\nvar viewer_1705597264284183 = null;\nvar warn = document.getElementById(\"3dmolwarning_1705597264284183\");\nif(warn) {\n    warn.parentNode.removeChild(warn);\n}\n$3Dmolpromise.then(function() {\nviewer_1705597264284183 = $3Dmol.createViewer(document.getElementById(\"3dmolviewer_1705597264284183\"),{backgroundColor:\"white\"});\nviewer_1705597264284183.zoomTo();\n\tviewer_1705597264284183.addModel(\"7\\n\\nO -5.301403 -2.601292 -0.500298\\nO -3.367214 -1.231646 -1.809521\\nO -4.379644 0.010097 0.793594\\nO -2.460089 -3.700719 -0.252618\\nPb -3.419867 -1.845311 0.270488\\nO -3.472519 -2.458976 2.350497\\nO -1.538331 -1.08933 1.041273\\n\",\"xyz\");\n\tviewer_1705597264284183.setStyle({\"stick\": {\"radius\": 0.1, \"alpha\": 0.2, \"color\": \"gray\"}, \"sphere\": {\"radius\": 0.3}});\n\tviewer_1705597264284183.addStyle({\"atom\": \"Pb\"},{\"sphere\": {\"color\": \"red\", \"radius\": 0.5}});\n\tviewer_1705597264284183.addStyle({\"atom\": \"O\"},{\"sphere\": {\"color\": \"blue\", \"radius\": 0.3}});\n\tviewer_1705597264284183.setBackgroundColor(\"0xeeeeee\");\n\tviewer_1705597264284183.addLabel(\"0\",{\"position\": {\"x\": -5.301403, \"y\": -2.601292, \"z\": -0.500298}, \"fontColor\": \"k\", \"fontSize\": 12, \"backgroundColor\": \"white\", \"backgroundOpacity\": 0.5});\n\tviewer_1705597264284183.addLabel(\"1\",{\"position\": {\"x\": -3.367214, \"y\": -1.231646, \"z\": -1.809521}, \"fontColor\": \"k\", \"fontSize\": 12, \"backgroundColor\": \"white\", \"backgroundOpacity\": 0.5});\n\tviewer_1705597264284183.addLabel(\"2\",{\"position\": {\"x\": -4.379644, \"y\": 0.010097, \"z\": 0.793594}, \"fontColor\": \"k\", \"fontSize\": 12, \"backgroundColor\": \"white\", \"backgroundOpacity\": 0.5});\n\tviewer_1705597264284183.addLabel(\"3\",{\"position\": {\"x\": -2.460089, \"y\": -3.700719, \"z\": -0.252618}, \"fontColor\": \"k\", \"fontSize\": 12, \"backgroundColor\": \"white\", \"backgroundOpacity\": 0.5});\n\tviewer_1705597264284183.addLabel(\"4\",{\"position\": {\"x\": -3.419867, \"y\": -1.845311, \"z\": 0.270488}, \"fontColor\": \"k\", \"fontSize\": 12, \"backgroundColor\": \"white\", \"backgroundOpacity\": 0.5});\n\tviewer_1705597264284183.addLabel(\"5\",{\"position\": {\"x\": -3.472519, \"y\": -2.458976, \"z\": 2.350497}, \"fontColor\": \"k\", \"fontSize\": 12, \"backgroundColor\": \"white\", \"backgroundOpacity\": 0.5});\n\tviewer_1705597264284183.addLabel(\"6\",{\"position\": {\"x\": -1.538331, \"y\": -1.08933, \"z\": 1.041273}, \"fontColor\": \"k\", \"fontSize\": 12, \"backgroundColor\": \"white\", \"backgroundOpacity\": 0.5});\n\tviewer_1705597264284183.zoomTo();\nviewer_1705597264284183.render();\n});\n</script>",
            "text/html": [
              "<div id=\"3dmolviewer_1705597264284183\"  style=\"position: relative; width: 500px; height: 500px;\">\n",
              "        <p id=\"3dmolwarning_1705597264284183\" style=\"background-color:#ffcccc;color:black\">You appear to be running in JupyterLab (or JavaScript failed to load for some other reason).  You need to install the 3dmol extension: <br>\n",
              "        <tt>jupyter labextension install jupyterlab_3dmol</tt></p>\n",
              "        </div>\n",
              "<script>\n",
              "\n",
              "var loadScriptAsync = function(uri){\n",
              "  return new Promise((resolve, reject) => {\n",
              "    //this is to ignore the existence of requirejs amd\n",
              "    var savedexports, savedmodule;\n",
              "    if (typeof exports !== 'undefined') savedexports = exports;\n",
              "    else exports = {}\n",
              "    if (typeof module !== 'undefined') savedmodule = module;\n",
              "    else module = {}\n",
              "\n",
              "    var tag = document.createElement('script');\n",
              "    tag.src = uri;\n",
              "    tag.async = true;\n",
              "    tag.onload = () => {\n",
              "        exports = savedexports;\n",
              "        module = savedmodule;\n",
              "        resolve();\n",
              "    };\n",
              "  var firstScriptTag = document.getElementsByTagName('script')[0];\n",
              "  firstScriptTag.parentNode.insertBefore(tag, firstScriptTag);\n",
              "});\n",
              "};\n",
              "\n",
              "if(typeof $3Dmolpromise === 'undefined') {\n",
              "$3Dmolpromise = null;\n",
              "  $3Dmolpromise = loadScriptAsync('https://cdnjs.cloudflare.com/ajax/libs/3Dmol/2.0.4/3Dmol-min.js');\n",
              "}\n",
              "\n",
              "var viewer_1705597264284183 = null;\n",
              "var warn = document.getElementById(\"3dmolwarning_1705597264284183\");\n",
              "if(warn) {\n",
              "    warn.parentNode.removeChild(warn);\n",
              "}\n",
              "$3Dmolpromise.then(function() {\n",
              "viewer_1705597264284183 = $3Dmol.createViewer(document.getElementById(\"3dmolviewer_1705597264284183\"),{backgroundColor:\"white\"});\n",
              "viewer_1705597264284183.zoomTo();\n",
              "\tviewer_1705597264284183.addModel(\"7\\n\\nO -5.301403 -2.601292 -0.500298\\nO -3.367214 -1.231646 -1.809521\\nO -4.379644 0.010097 0.793594\\nO -2.460089 -3.700719 -0.252618\\nPb -3.419867 -1.845311 0.270488\\nO -3.472519 -2.458976 2.350497\\nO -1.538331 -1.08933 1.041273\\n\",\"xyz\");\n",
              "\tviewer_1705597264284183.setStyle({\"stick\": {\"radius\": 0.1, \"alpha\": 0.2, \"color\": \"gray\"}, \"sphere\": {\"radius\": 0.3}});\n",
              "\tviewer_1705597264284183.addStyle({\"atom\": \"Pb\"},{\"sphere\": {\"color\": \"red\", \"radius\": 0.5}});\n",
              "\tviewer_1705597264284183.addStyle({\"atom\": \"O\"},{\"sphere\": {\"color\": \"blue\", \"radius\": 0.3}});\n",
              "\tviewer_1705597264284183.setBackgroundColor(\"0xeeeeee\");\n",
              "\tviewer_1705597264284183.addLabel(\"0\",{\"position\": {\"x\": -5.301403, \"y\": -2.601292, \"z\": -0.500298}, \"fontColor\": \"k\", \"fontSize\": 12, \"backgroundColor\": \"white\", \"backgroundOpacity\": 0.5});\n",
              "\tviewer_1705597264284183.addLabel(\"1\",{\"position\": {\"x\": -3.367214, \"y\": -1.231646, \"z\": -1.809521}, \"fontColor\": \"k\", \"fontSize\": 12, \"backgroundColor\": \"white\", \"backgroundOpacity\": 0.5});\n",
              "\tviewer_1705597264284183.addLabel(\"2\",{\"position\": {\"x\": -4.379644, \"y\": 0.010097, \"z\": 0.793594}, \"fontColor\": \"k\", \"fontSize\": 12, \"backgroundColor\": \"white\", \"backgroundOpacity\": 0.5});\n",
              "\tviewer_1705597264284183.addLabel(\"3\",{\"position\": {\"x\": -2.460089, \"y\": -3.700719, \"z\": -0.252618}, \"fontColor\": \"k\", \"fontSize\": 12, \"backgroundColor\": \"white\", \"backgroundOpacity\": 0.5});\n",
              "\tviewer_1705597264284183.addLabel(\"4\",{\"position\": {\"x\": -3.419867, \"y\": -1.845311, \"z\": 0.270488}, \"fontColor\": \"k\", \"fontSize\": 12, \"backgroundColor\": \"white\", \"backgroundOpacity\": 0.5});\n",
              "\tviewer_1705597264284183.addLabel(\"5\",{\"position\": {\"x\": -3.472519, \"y\": -2.458976, \"z\": 2.350497}, \"fontColor\": \"k\", \"fontSize\": 12, \"backgroundColor\": \"white\", \"backgroundOpacity\": 0.5});\n",
              "\tviewer_1705597264284183.addLabel(\"6\",{\"position\": {\"x\": -1.538331, \"y\": -1.08933, \"z\": 1.041273}, \"fontColor\": \"k\", \"fontSize\": 12, \"backgroundColor\": \"white\", \"backgroundOpacity\": 0.5});\n",
              "\tviewer_1705597264284183.zoomTo();\n",
              "viewer_1705597264284183.render();\n",
              "});\n",
              "</script>"
            ]
          },
          "metadata": {},
          "output_type": "display_data"
        },
        {
          "name": "stdout",
          "output_type": "stream",
          "text": [
            "Cluster size is 2.1692845084652332 A\n"
          ]
        },
        {
          "data": {
            "text/plain": [
              "{'Pb-O': {2.1534510867921863: 2.0, 2.169284413894355: 4.0},\n",
              " 'O-O': {2.707596995825078: 0.6666666666666666,\n",
              "  3.056656089842477: 2.6666666666666665,\n",
              "  3.3899997023095034: 0.6666666666666666,\n",
              "  4.30690217358428: 0.3333333333333333,\n",
              "  4.338568827788602: 0.6666666666666666},\n",
              " 'O-Pb': {2.1534510867921863: 0.3333333333333333,\n",
              "  2.169284413894355: 0.6666666666666666}}"
            ]
          },
          "execution_count": 89,
          "metadata": {},
          "output_type": "execute_result"
        }
      ],
      "source": [
        "test2 = ClusterNeighbor()\n",
        "test2.load_xyz(from_file=False, atom_object=cluster.atoms[:7])\n",
        "test2.view_xyz(highlight_atom1=\"Pb\", highlight_atom2=\"O\", label=True)\n",
        "test2.get_cluster_size()\n",
        "test2.get_pairs()\n",
        "test2.get_CN(center_atom='Pb', CN_atom='O', error_bar=0.01)\n",
        "test2.CN_distances\n",
        "test2.get_CN(center_atom='O', CN_atom='O', error_bar=0.01)\n",
        "test2.get_CN(center_atom='O', CN_atom='Pb', error_bar=0.01)"
      ]
    },
    {
      "cell_type": "code",
      "execution_count": 63,
      "metadata": {},
      "outputs": [
        {
          "data": {
            "application/3dmoljs_load.v0": "<div id=\"3dmolviewer_1705596968975276\"  style=\"position: relative; width: 500px; height: 500px;\">\n        <p id=\"3dmolwarning_1705596968975276\" style=\"background-color:#ffcccc;color:black\">You appear to be running in JupyterLab (or JavaScript failed to load for some other reason).  You need to install the 3dmol extension: <br>\n        <tt>jupyter labextension install jupyterlab_3dmol</tt></p>\n        </div>\n<script>\n\nvar loadScriptAsync = function(uri){\n  return new Promise((resolve, reject) => {\n    //this is to ignore the existence of requirejs amd\n    var savedexports, savedmodule;\n    if (typeof exports !== 'undefined') savedexports = exports;\n    else exports = {}\n    if (typeof module !== 'undefined') savedmodule = module;\n    else module = {}\n\n    var tag = document.createElement('script');\n    tag.src = uri;\n    tag.async = true;\n    tag.onload = () => {\n        exports = savedexports;\n        module = savedmodule;\n        resolve();\n    };\n  var firstScriptTag = document.getElementsByTagName('script')[0];\n  firstScriptTag.parentNode.insertBefore(tag, firstScriptTag);\n});\n};\n\nif(typeof $3Dmolpromise === 'undefined') {\n$3Dmolpromise = null;\n  $3Dmolpromise = loadScriptAsync('https://cdnjs.cloudflare.com/ajax/libs/3Dmol/2.0.4/3Dmol-min.js');\n}\n\nvar viewer_1705596968975276 = null;\nvar warn = document.getElementById(\"3dmolwarning_1705596968975276\");\nif(warn) {\n    warn.parentNode.removeChild(warn);\n}\n$3Dmolpromise.then(function() {\nviewer_1705596968975276 = $3Dmol.createViewer(document.getElementById(\"3dmolviewer_1705596968975276\"),{backgroundColor:\"white\"});\nviewer_1705596968975276.zoomTo();\n\tviewer_1705596968975276.addModel(\"12\\n\\nO -5.301403 -2.601292 -0.500298\\nO -3.367214 -1.231646 -1.809521\\nO -4.379644 0.010097 0.793594\\nO -2.460089 -3.700719 -0.252618\\nPb -3.419867 -1.845311 0.270488\\nO -3.472519 -2.458976 2.350497\\nO -1.538331 -1.08933 1.041273\\nO -2.550761 0.152413 3.644388\\nO -0.631206 -3.558404 2.598176\\nPb -1.590983 -1.702995 3.121282\\nO -1.643635 -2.316661 5.201291\\nO 0.290553 -0.947014 3.892068\\n\",\"xyz\");\n\tviewer_1705596968975276.setStyle({\"stick\": {\"radius\": 0.1, \"alpha\": 0.2, \"color\": \"gray\"}, \"sphere\": {\"radius\": 0.3}});\n\tviewer_1705596968975276.addStyle({\"atom\": \"Pb\"},{\"sphere\": {\"color\": \"red\", \"radius\": 0.5}});\n\tviewer_1705596968975276.addStyle({\"atom\": \"O\"},{\"sphere\": {\"color\": \"blue\", \"radius\": 0.3}});\n\tviewer_1705596968975276.setBackgroundColor(\"0xeeeeee\");\n\tviewer_1705596968975276.addLabel(\"0\",{\"position\": {\"x\": -5.301403, \"y\": -2.601292, \"z\": -0.500298}, \"fontColor\": \"k\", \"fontSize\": 12, \"backgroundColor\": \"white\", \"backgroundOpacity\": 0.5});\n\tviewer_1705596968975276.addLabel(\"1\",{\"position\": {\"x\": -3.367214, \"y\": -1.231646, \"z\": -1.809521}, \"fontColor\": \"k\", \"fontSize\": 12, \"backgroundColor\": \"white\", \"backgroundOpacity\": 0.5});\n\tviewer_1705596968975276.addLabel(\"2\",{\"position\": {\"x\": -4.379644, \"y\": 0.010097, \"z\": 0.793594}, \"fontColor\": \"k\", \"fontSize\": 12, \"backgroundColor\": \"white\", \"backgroundOpacity\": 0.5});\n\tviewer_1705596968975276.addLabel(\"3\",{\"position\": {\"x\": -2.460089, \"y\": -3.700719, \"z\": -0.252618}, \"fontColor\": \"k\", \"fontSize\": 12, \"backgroundColor\": \"white\", \"backgroundOpacity\": 0.5});\n\tviewer_1705596968975276.addLabel(\"4\",{\"position\": {\"x\": -3.419867, \"y\": -1.845311, \"z\": 0.270488}, \"fontColor\": \"k\", \"fontSize\": 12, \"backgroundColor\": \"white\", \"backgroundOpacity\": 0.5});\n\tviewer_1705596968975276.addLabel(\"5\",{\"position\": {\"x\": -3.472519, \"y\": -2.458976, \"z\": 2.350497}, \"fontColor\": \"k\", \"fontSize\": 12, \"backgroundColor\": \"white\", \"backgroundOpacity\": 0.5});\n\tviewer_1705596968975276.addLabel(\"6\",{\"position\": {\"x\": -1.538331, \"y\": -1.08933, \"z\": 1.041273}, \"fontColor\": \"k\", \"fontSize\": 12, \"backgroundColor\": \"white\", \"backgroundOpacity\": 0.5});\n\tviewer_1705596968975276.addLabel(\"7\",{\"position\": {\"x\": -2.550761, \"y\": 0.152413, \"z\": 3.644388}, \"fontColor\": \"k\", \"fontSize\": 12, \"backgroundColor\": \"white\", \"backgroundOpacity\": 0.5});\n\tviewer_1705596968975276.addLabel(\"8\",{\"position\": {\"x\": -0.631206, \"y\": -3.558404, \"z\": 2.598176}, \"fontColor\": \"k\", \"fontSize\": 12, \"backgroundColor\": \"white\", \"backgroundOpacity\": 0.5});\n\tviewer_1705596968975276.addLabel(\"9\",{\"position\": {\"x\": -1.590983, \"y\": -1.702995, \"z\": 3.121282}, \"fontColor\": \"k\", \"fontSize\": 12, \"backgroundColor\": \"white\", \"backgroundOpacity\": 0.5});\n\tviewer_1705596968975276.addLabel(\"10\",{\"position\": {\"x\": -1.643635, \"y\": -2.316661, \"z\": 5.201291}, \"fontColor\": \"k\", \"fontSize\": 12, \"backgroundColor\": \"white\", \"backgroundOpacity\": 0.5});\n\tviewer_1705596968975276.addLabel(\"11\",{\"position\": {\"x\": 0.290553, \"y\": -0.947014, \"z\": 3.892068}, \"fontColor\": \"k\", \"fontSize\": 12, \"backgroundColor\": \"white\", \"backgroundOpacity\": 0.5});\n\tviewer_1705596968975276.zoomTo();\nviewer_1705596968975276.render();\n});\n</script>",
            "text/html": [
              "<div id=\"3dmolviewer_1705596968975276\"  style=\"position: relative; width: 500px; height: 500px;\">\n",
              "        <p id=\"3dmolwarning_1705596968975276\" style=\"background-color:#ffcccc;color:black\">You appear to be running in JupyterLab (or JavaScript failed to load for some other reason).  You need to install the 3dmol extension: <br>\n",
              "        <tt>jupyter labextension install jupyterlab_3dmol</tt></p>\n",
              "        </div>\n",
              "<script>\n",
              "\n",
              "var loadScriptAsync = function(uri){\n",
              "  return new Promise((resolve, reject) => {\n",
              "    //this is to ignore the existence of requirejs amd\n",
              "    var savedexports, savedmodule;\n",
              "    if (typeof exports !== 'undefined') savedexports = exports;\n",
              "    else exports = {}\n",
              "    if (typeof module !== 'undefined') savedmodule = module;\n",
              "    else module = {}\n",
              "\n",
              "    var tag = document.createElement('script');\n",
              "    tag.src = uri;\n",
              "    tag.async = true;\n",
              "    tag.onload = () => {\n",
              "        exports = savedexports;\n",
              "        module = savedmodule;\n",
              "        resolve();\n",
              "    };\n",
              "  var firstScriptTag = document.getElementsByTagName('script')[0];\n",
              "  firstScriptTag.parentNode.insertBefore(tag, firstScriptTag);\n",
              "});\n",
              "};\n",
              "\n",
              "if(typeof $3Dmolpromise === 'undefined') {\n",
              "$3Dmolpromise = null;\n",
              "  $3Dmolpromise = loadScriptAsync('https://cdnjs.cloudflare.com/ajax/libs/3Dmol/2.0.4/3Dmol-min.js');\n",
              "}\n",
              "\n",
              "var viewer_1705596968975276 = null;\n",
              "var warn = document.getElementById(\"3dmolwarning_1705596968975276\");\n",
              "if(warn) {\n",
              "    warn.parentNode.removeChild(warn);\n",
              "}\n",
              "$3Dmolpromise.then(function() {\n",
              "viewer_1705596968975276 = $3Dmol.createViewer(document.getElementById(\"3dmolviewer_1705596968975276\"),{backgroundColor:\"white\"});\n",
              "viewer_1705596968975276.zoomTo();\n",
              "\tviewer_1705596968975276.addModel(\"12\\n\\nO -5.301403 -2.601292 -0.500298\\nO -3.367214 -1.231646 -1.809521\\nO -4.379644 0.010097 0.793594\\nO -2.460089 -3.700719 -0.252618\\nPb -3.419867 -1.845311 0.270488\\nO -3.472519 -2.458976 2.350497\\nO -1.538331 -1.08933 1.041273\\nO -2.550761 0.152413 3.644388\\nO -0.631206 -3.558404 2.598176\\nPb -1.590983 -1.702995 3.121282\\nO -1.643635 -2.316661 5.201291\\nO 0.290553 -0.947014 3.892068\\n\",\"xyz\");\n",
              "\tviewer_1705596968975276.setStyle({\"stick\": {\"radius\": 0.1, \"alpha\": 0.2, \"color\": \"gray\"}, \"sphere\": {\"radius\": 0.3}});\n",
              "\tviewer_1705596968975276.addStyle({\"atom\": \"Pb\"},{\"sphere\": {\"color\": \"red\", \"radius\": 0.5}});\n",
              "\tviewer_1705596968975276.addStyle({\"atom\": \"O\"},{\"sphere\": {\"color\": \"blue\", \"radius\": 0.3}});\n",
              "\tviewer_1705596968975276.setBackgroundColor(\"0xeeeeee\");\n",
              "\tviewer_1705596968975276.addLabel(\"0\",{\"position\": {\"x\": -5.301403, \"y\": -2.601292, \"z\": -0.500298}, \"fontColor\": \"k\", \"fontSize\": 12, \"backgroundColor\": \"white\", \"backgroundOpacity\": 0.5});\n",
              "\tviewer_1705596968975276.addLabel(\"1\",{\"position\": {\"x\": -3.367214, \"y\": -1.231646, \"z\": -1.809521}, \"fontColor\": \"k\", \"fontSize\": 12, \"backgroundColor\": \"white\", \"backgroundOpacity\": 0.5});\n",
              "\tviewer_1705596968975276.addLabel(\"2\",{\"position\": {\"x\": -4.379644, \"y\": 0.010097, \"z\": 0.793594}, \"fontColor\": \"k\", \"fontSize\": 12, \"backgroundColor\": \"white\", \"backgroundOpacity\": 0.5});\n",
              "\tviewer_1705596968975276.addLabel(\"3\",{\"position\": {\"x\": -2.460089, \"y\": -3.700719, \"z\": -0.252618}, \"fontColor\": \"k\", \"fontSize\": 12, \"backgroundColor\": \"white\", \"backgroundOpacity\": 0.5});\n",
              "\tviewer_1705596968975276.addLabel(\"4\",{\"position\": {\"x\": -3.419867, \"y\": -1.845311, \"z\": 0.270488}, \"fontColor\": \"k\", \"fontSize\": 12, \"backgroundColor\": \"white\", \"backgroundOpacity\": 0.5});\n",
              "\tviewer_1705596968975276.addLabel(\"5\",{\"position\": {\"x\": -3.472519, \"y\": -2.458976, \"z\": 2.350497}, \"fontColor\": \"k\", \"fontSize\": 12, \"backgroundColor\": \"white\", \"backgroundOpacity\": 0.5});\n",
              "\tviewer_1705596968975276.addLabel(\"6\",{\"position\": {\"x\": -1.538331, \"y\": -1.08933, \"z\": 1.041273}, \"fontColor\": \"k\", \"fontSize\": 12, \"backgroundColor\": \"white\", \"backgroundOpacity\": 0.5});\n",
              "\tviewer_1705596968975276.addLabel(\"7\",{\"position\": {\"x\": -2.550761, \"y\": 0.152413, \"z\": 3.644388}, \"fontColor\": \"k\", \"fontSize\": 12, \"backgroundColor\": \"white\", \"backgroundOpacity\": 0.5});\n",
              "\tviewer_1705596968975276.addLabel(\"8\",{\"position\": {\"x\": -0.631206, \"y\": -3.558404, \"z\": 2.598176}, \"fontColor\": \"k\", \"fontSize\": 12, \"backgroundColor\": \"white\", \"backgroundOpacity\": 0.5});\n",
              "\tviewer_1705596968975276.addLabel(\"9\",{\"position\": {\"x\": -1.590983, \"y\": -1.702995, \"z\": 3.121282}, \"fontColor\": \"k\", \"fontSize\": 12, \"backgroundColor\": \"white\", \"backgroundOpacity\": 0.5});\n",
              "\tviewer_1705596968975276.addLabel(\"10\",{\"position\": {\"x\": -1.643635, \"y\": -2.316661, \"z\": 5.201291}, \"fontColor\": \"k\", \"fontSize\": 12, \"backgroundColor\": \"white\", \"backgroundOpacity\": 0.5});\n",
              "\tviewer_1705596968975276.addLabel(\"11\",{\"position\": {\"x\": 0.290553, \"y\": -0.947014, \"z\": 3.892068}, \"fontColor\": \"k\", \"fontSize\": 12, \"backgroundColor\": \"white\", \"backgroundOpacity\": 0.5});\n",
              "\tviewer_1705596968975276.zoomTo();\n",
              "viewer_1705596968975276.render();\n",
              "});\n",
              "</script>"
            ]
          },
          "metadata": {},
          "output_type": "display_data"
        },
        {
          "name": "stdout",
          "output_type": "stream",
          "text": [
            "Cluster size is 3.6503248720208448 A\n"
          ]
        },
        {
          "data": {
            "text/plain": [
              "{'Pb-O': {2.1640067315448177: 6.0,\n",
              "  4.016148350175418: 2.0,\n",
              "  5.262128024409925: 2.0},\n",
              " 'O-Pb': {2.1640067315448177: 1.2,\n",
              "  4.016148350175418: 0.4,\n",
              "  5.262128024409925: 0.4}}"
            ]
          },
          "execution_count": 63,
          "metadata": {},
          "output_type": "execute_result"
        }
      ],
      "source": [
        "test2 = ClusterNeighbor()\n",
        "test2.load_xyz(from_file=False, atom_object=cluster.atoms[:12])\n",
        "test2.view_xyz(highlight_atom1=\"Pb\", highlight_atom2=\"O\", label=True)\n",
        "test2.get_cluster_size()\n",
        "test2.get_pairs()\n",
        "test2.get_CN(center_atom='Pb', CN_atom='O', error_bar=0.02)\n",
        "# test2.get_CN(center_atom='O', CN_atom='O', error_bar=0.02)\n",
        "test2.get_CN(center_atom='O', CN_atom='Pb', error_bar=0.02)\n",
        "\n",
        "# test2.get_CN(center_atom='Pb', CN_atom='Pb', error_bar=0.02)\n",
        "\n"
      ]
    },
    {
      "cell_type": "code",
      "execution_count": null,
      "metadata": {},
      "outputs": [],
      "source": [
        "ase.io.write('reduced.xyz', test2.atoms)"
      ]
    },
    {
      "cell_type": "code",
      "execution_count": null,
      "metadata": {},
      "outputs": [],
      "source": [
        "plt.figure(figsize=(10,3))\n",
        "for key_i in output['bond_types']:\n",
        "    plt.hist(output[f\"{key_i}_num\"].values(), bins=80, alpha=0.3, edgecolor='white', label=key_i)\n",
        "plt.xlabel(\"Distance [Å]\")\n",
        "plt.ylabel(\"Number of pairs\")\n",
        "plt.legend()\n",
        "plt.ylim(0, 180)\n",
        "plt.tight_layout()\n",
        "plt.show()"
      ]
    },
    {
      "cell_type": "markdown",
      "metadata": {},
      "source": [
        "75/number of Pd num_atoms (coordinations )\n",
        "\n",
        "1. CN of Pd atoms, CN of Oxygen\n",
        "2. calculate radius of the cluster: longest distance from (0,0,0)\n",
        "3. increase radius of the cluster, doesn't need to shrink/expand the bond lengths, chop the hist and calculate the CN again\n",
        "4. cif file --> cluster, increase clusters"
      ]
    },
    {
      "cell_type": "markdown",
      "metadata": {
        "id": "4hOvXO7gGx5Y"
      },
      "source": [
        "Display local file."
      ]
    },
    {
      "cell_type": "code",
      "execution_count": 66,
      "metadata": {
        "colab": {
          "base_uri": "https://localhost:8080/",
          "height": 514
        },
        "id": "U420WW_tGx5m",
        "outputId": "eab0e9d6-0a9b-4ba9-c24e-bb2d0570c8e8"
      },
      "outputs": [
        {
          "data": {
            "application/3dmoljs_load.v0": "<div id=\"3dmolviewer_17055970066134012\"  style=\"position: relative; width: 640px; height: 480px;\">\n        <p id=\"3dmolwarning_17055970066134012\" style=\"background-color:#ffcccc;color:black\">You appear to be running in JupyterLab (or JavaScript failed to load for some other reason).  You need to install the 3dmol extension: <br>\n        <tt>jupyter labextension install jupyterlab_3dmol</tt></p>\n        </div>\n<script>\n\nvar loadScriptAsync = function(uri){\n  return new Promise((resolve, reject) => {\n    //this is to ignore the existence of requirejs amd\n    var savedexports, savedmodule;\n    if (typeof exports !== 'undefined') savedexports = exports;\n    else exports = {}\n    if (typeof module !== 'undefined') savedmodule = module;\n    else module = {}\n\n    var tag = document.createElement('script');\n    tag.src = uri;\n    tag.async = true;\n    tag.onload = () => {\n        exports = savedexports;\n        module = savedmodule;\n        resolve();\n    };\n  var firstScriptTag = document.getElementsByTagName('script')[0];\n  firstScriptTag.parentNode.insertBefore(tag, firstScriptTag);\n});\n};\n\nif(typeof $3Dmolpromise === 'undefined') {\n$3Dmolpromise = null;\n  $3Dmolpromise = loadScriptAsync('https://cdnjs.cloudflare.com/ajax/libs/3Dmol/2.0.4/3Dmol-min.js');\n}\n\nvar viewer_17055970066134012 = null;\nvar warn = document.getElementById(\"3dmolwarning_17055970066134012\");\nif(warn) {\n    warn.parentNode.removeChild(warn);\n}\n$3Dmolpromise.then(function() {\nviewer_17055970066134012 = $3Dmol.createViewer(document.getElementById(\"3dmolviewer_17055970066134012\"),{backgroundColor:\"white\"});\n$3Dmol.download(\"pdb:1ycr\", viewer_17055970066134012, {}, function() {\nviewer_17055970066134012.zoomTo();\n\tviewer_17055970066134012.setStyle({\"cartoon\": {\"color\": \"white\"}});\n\tviewer_17055970066134012.addSurface(1,{\"opacity\": 0.7, \"colorscheme\": {\"prop\": \"b\", \"gradient\": \"sinebow\", \"min\": 0, \"max\": 70}});\nviewer_17055970066134012.render();\n})\n});\n</script>",
            "text/html": [
              "<div id=\"3dmolviewer_17055970066134012\"  style=\"position: relative; width: 640px; height: 480px;\">\n",
              "        <p id=\"3dmolwarning_17055970066134012\" style=\"background-color:#ffcccc;color:black\">You appear to be running in JupyterLab (or JavaScript failed to load for some other reason).  You need to install the 3dmol extension: <br>\n",
              "        <tt>jupyter labextension install jupyterlab_3dmol</tt></p>\n",
              "        </div>\n",
              "<script>\n",
              "\n",
              "var loadScriptAsync = function(uri){\n",
              "  return new Promise((resolve, reject) => {\n",
              "    //this is to ignore the existence of requirejs amd\n",
              "    var savedexports, savedmodule;\n",
              "    if (typeof exports !== 'undefined') savedexports = exports;\n",
              "    else exports = {}\n",
              "    if (typeof module !== 'undefined') savedmodule = module;\n",
              "    else module = {}\n",
              "\n",
              "    var tag = document.createElement('script');\n",
              "    tag.src = uri;\n",
              "    tag.async = true;\n",
              "    tag.onload = () => {\n",
              "        exports = savedexports;\n",
              "        module = savedmodule;\n",
              "        resolve();\n",
              "    };\n",
              "  var firstScriptTag = document.getElementsByTagName('script')[0];\n",
              "  firstScriptTag.parentNode.insertBefore(tag, firstScriptTag);\n",
              "});\n",
              "};\n",
              "\n",
              "if(typeof $3Dmolpromise === 'undefined') {\n",
              "$3Dmolpromise = null;\n",
              "  $3Dmolpromise = loadScriptAsync('https://cdnjs.cloudflare.com/ajax/libs/3Dmol/2.0.4/3Dmol-min.js');\n",
              "}\n",
              "\n",
              "var viewer_17055970066134012 = null;\n",
              "var warn = document.getElementById(\"3dmolwarning_17055970066134012\");\n",
              "if(warn) {\n",
              "    warn.parentNode.removeChild(warn);\n",
              "}\n",
              "$3Dmolpromise.then(function() {\n",
              "viewer_17055970066134012 = $3Dmol.createViewer(document.getElementById(\"3dmolviewer_17055970066134012\"),{backgroundColor:\"white\"});\n",
              "$3Dmol.download(\"pdb:1ycr\", viewer_17055970066134012, {}, function() {\n",
              "viewer_17055970066134012.zoomTo();\n",
              "\tviewer_17055970066134012.setStyle({\"cartoon\": {\"color\": \"white\"}});\n",
              "\tviewer_17055970066134012.addSurface(1,{\"opacity\": 0.7, \"colorscheme\": {\"prop\": \"b\", \"gradient\": \"sinebow\", \"min\": 0, \"max\": 70}});\n",
              "viewer_17055970066134012.render();\n",
              "})\n",
              "});\n",
              "</script>"
            ]
          },
          "metadata": {},
          "output_type": "display_data"
        },
        {
          "data": {
            "text/plain": [
              "<py3Dmol.view at 0x135b79f90>"
            ]
          },
          "execution_count": 66,
          "metadata": {},
          "output_type": "execute_result"
        }
      ],
      "source": [
        "view = py3Dmol.view(query='pdb:1ycr')\n",
        "view.setStyle({'cartoon': {'color':'white'}})\n",
        "view.addSurface(py3Dmol.VDW,{'opacity':0.7,'colorscheme':{'prop':'b','gradient':'sinebow','min':0,'max':70}})"
      ]
    },
    {
      "cell_type": "code",
      "execution_count": 67,
      "metadata": {
        "colab": {
          "base_uri": "https://localhost:8080/",
          "height": 514
        },
        "id": "J7AzQ0ZCGx5s",
        "outputId": "23c87352-7526-46f7-8777-c45be7c50875"
      },
      "outputs": [
        {
          "data": {
            "application/3dmoljs_load.v0": "<div id=\"3dmolviewer_1705597011762223\"  style=\"position: relative; width: 640px; height: 480px;\">\n        <p id=\"3dmolwarning_1705597011762223\" style=\"background-color:#ffcccc;color:black\">You appear to be running in JupyterLab (or JavaScript failed to load for some other reason).  You need to install the 3dmol extension: <br>\n        <tt>jupyter labextension install jupyterlab_3dmol</tt></p>\n        </div>\n<script>\n\nvar loadScriptAsync = function(uri){\n  return new Promise((resolve, reject) => {\n    //this is to ignore the existence of requirejs amd\n    var savedexports, savedmodule;\n    if (typeof exports !== 'undefined') savedexports = exports;\n    else exports = {}\n    if (typeof module !== 'undefined') savedmodule = module;\n    else module = {}\n\n    var tag = document.createElement('script');\n    tag.src = uri;\n    tag.async = true;\n    tag.onload = () => {\n        exports = savedexports;\n        module = savedmodule;\n        resolve();\n    };\n  var firstScriptTag = document.getElementsByTagName('script')[0];\n  firstScriptTag.parentNode.insertBefore(tag, firstScriptTag);\n});\n};\n\nif(typeof $3Dmolpromise === 'undefined') {\n$3Dmolpromise = null;\n  $3Dmolpromise = loadScriptAsync('https://cdnjs.cloudflare.com/ajax/libs/3Dmol/2.0.4/3Dmol-min.js');\n}\n\nvar viewer_1705597011762223 = null;\nvar warn = document.getElementById(\"3dmolwarning_1705597011762223\");\nif(warn) {\n    warn.parentNode.removeChild(warn);\n}\n$3Dmolpromise.then(function() {\nviewer_1705597011762223 = $3Dmol.createViewer(document.getElementById(\"3dmolviewer_1705597011762223\"),{backgroundColor:\"white\"});\nviewer_1705597011762223.zoomTo();\n\tviewer_1705597011762223.addModel(\"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\",\"mmtf\");\n\tviewer_1705597011762223.addUnitCell();\n\tviewer_1705597011762223.zoomTo();\nviewer_1705597011762223.render();\n});\n</script>",
            "text/html": [
              "<div id=\"3dmolviewer_1705597011762223\"  style=\"position: relative; width: 640px; height: 480px;\">\n",
              "        <p id=\"3dmolwarning_1705597011762223\" style=\"background-color:#ffcccc;color:black\">You appear to be running in JupyterLab (or JavaScript failed to load for some other reason).  You need to install the 3dmol extension: <br>\n",
              "        <tt>jupyter labextension install jupyterlab_3dmol</tt></p>\n",
              "        </div>\n",
              "<script>\n",
              "\n",
              "var loadScriptAsync = function(uri){\n",
              "  return new Promise((resolve, reject) => {\n",
              "    //this is to ignore the existence of requirejs amd\n",
              "    var savedexports, savedmodule;\n",
              "    if (typeof exports !== 'undefined') savedexports = exports;\n",
              "    else exports = {}\n",
              "    if (typeof module !== 'undefined') savedmodule = module;\n",
              "    else module = {}\n",
              "\n",
              "    var tag = document.createElement('script');\n",
              "    tag.src = uri;\n",
              "    tag.async = true;\n",
              "    tag.onload = () => {\n",
              "        exports = savedexports;\n",
              "        module = savedmodule;\n",
              "        resolve();\n",
              "    };\n",
              "  var firstScriptTag = document.getElementsByTagName('script')[0];\n",
              "  firstScriptTag.parentNode.insertBefore(tag, firstScriptTag);\n",
              "});\n",
              "};\n",
              "\n",
              "if(typeof $3Dmolpromise === 'undefined') {\n",
              "$3Dmolpromise = null;\n",
              "  $3Dmolpromise = loadScriptAsync('https://cdnjs.cloudflare.com/ajax/libs/3Dmol/2.0.4/3Dmol-min.js');\n",
              "}\n",
              "\n",
              "var viewer_1705597011762223 = null;\n",
              "var warn = document.getElementById(\"3dmolwarning_1705597011762223\");\n",
              "if(warn) {\n",
              "    warn.parentNode.removeChild(warn);\n",
              "}\n",
              "$3Dmolpromise.then(function() {\n",
              "viewer_1705597011762223 = $3Dmol.createViewer(document.getElementById(\"3dmolviewer_1705597011762223\"),{backgroundColor:\"white\"});\n",
              "viewer_1705597011762223.zoomTo();\n",
              "\tviewer_1705597011762223.addModel(\"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\",\"mmtf\");\n",
              "\tviewer_1705597011762223.addUnitCell();\n",
              "\tviewer_1705597011762223.zoomTo();\n",
              "viewer_1705597011762223.render();\n",
              "});\n",
              "</script>"
            ]
          },
          "metadata": {},
          "output_type": "display_data"
        },
        {
          "data": {
            "text/plain": [
              "<py3Dmol.view at 0x135a6cf40>"
            ]
          },
          "execution_count": 67,
          "metadata": {},
          "output_type": "execute_result"
        }
      ],
      "source": [
        "import requests, base64\n",
        "r = requests.get('https://mmtf.rcsb.org/v1.0/full/5lgo')\n",
        "view = py3Dmol.view()\n",
        "view.addModel(base64.b64encode(r.content).decode(),'mmtf')\n",
        "view.addUnitCell()\n",
        "view.zoomTo()\n"
      ]
    }
  ],
  "metadata": {
    "colab": {
      "provenance": []
    },
    "kernelspec": {
      "display_name": "Python 3",
      "language": "python",
      "name": "python3"
    },
    "language_info": {
      "codemirror_mode": {
        "name": "ipython",
        "version": 3
      },
      "file_extension": ".py",
      "mimetype": "text/x-python",
      "name": "python",
      "nbconvert_exporter": "python",
      "pygments_lexer": "ipython3",
      "version": "3.10.8"
    }
  },
  "nbformat": 4,
  "nbformat_minor": 0
}
