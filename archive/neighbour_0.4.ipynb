{
  "cells": [
    {
      "cell_type": "markdown",
      "metadata": {},
      "source": [
        "# rewrite loading xyz using ase"
      ]
    },
    {
      "cell_type": "code",
      "execution_count": 1,
      "metadata": {
        "id": "Q5RuxM2JGx5K"
      },
      "outputs": [],
      "source": [
        "import py3Dmol\n",
        "import numpy as np\n",
        "import matplotlib.pyplot as plt\n",
        "# from IPython.display import display\n",
        "from ipyfilechooser import FileChooser\n",
        "import re\n",
        "import ase\n",
        "from ase.io import read\n",
        "import plotly.graph_objects as go\n",
        "import numpy as np\n",
        "\n",
        "%matplotlib widget\n",
        "\n",
        "def shrink_cluster(elements, coordinates, radius):\n",
        "    print(f\"Reduce cluster size to less than {radius}\")\n",
        "    print(\"Old cluster size is\")\n",
        "    distances_all, size = cluster_size_calc(elements, coordinates)\n",
        "    indices = np.where(distances_all < radius)[0]\n",
        "    elements_shrinked = [elements[i] for i in indices]\n",
        "    coordinates_shrinked = [coordinates[i] for i in indices]\n",
        "    print(\"New cluster size is\")    \n",
        "    distances_all, size = cluster_size_calc(elements_shrinked, coordinates_shrinked )\n",
        "\n",
        "    return list(elements_shrinked), coordinates_shrinked\n"
      ]
    },
    {
      "cell_type": "markdown",
      "metadata": {
        "id": "mbAvUo4pgHZZ"
      },
      "source": [
        "## Examples"
      ]
    },
    {
      "cell_type": "code",
      "execution_count": 2,
      "metadata": {},
      "outputs": [
        {
          "data": {
            "application/vnd.jupyter.widget-view+json": {
              "model_id": "e48a7dfc44d540fbbcaddc85599bb20a",
              "version_major": 2,
              "version_minor": 0
            },
            "text/plain": [
              "FileChooser(path='/Users/juanjuanhuang/Desktop/neighbor', filename='', title='', show_hidden=False, select_des…"
            ]
          },
          "metadata": {},
          "output_type": "display_data"
        }
      ],
      "source": [
        "def read_file():\n",
        "    if fc.selected is not None:\n",
        "        with open(fc.selected, 'r') as file:\n",
        "            content = file.read()\n",
        "        return content\n",
        "    else:\n",
        "        print(\"No file selected.\")\n",
        "\n",
        "fc = FileChooser()\n",
        "display(fc)"
      ]
    },
    {
      "cell_type": "code",
      "execution_count": 3,
      "metadata": {},
      "outputs": [
        {
          "name": "stdout",
          "output_type": "stream",
          "text": [
            "Atoms(symbols='O4PbO4PbO7PbO4Pb2O8PbO4Pb2O7Pb2O4Pb2O2Pb3', pbc=False)\n"
          ]
        }
      ],
      "source": [
        "# Load the XYZ file\n",
        "atoms = ase.io.read(fc.value)\n",
        "\n",
        "# Now you can work with the 'atoms' object\n",
        "print(atoms)"
      ]
    },
    {
      "cell_type": "code",
      "execution_count": 84,
      "metadata": {},
      "outputs": [],
      "source": [
        "class ClusterNeighbor(object):\n",
        "    def __init__(self):\n",
        "        pass\n",
        "\n",
        "    def load_xyz(self, xyz_path):\n",
        "        self.atoms = ase.io.read(fc.value)\n",
        "        self.elements = [test.atoms[i].symbol for i in range(len(self.atoms))]\n",
        "        self.elements_num = {element_i: self.elements.count(element_i) for element_i in set(self.elements)}\n",
        "        self.element_index_group = {element_set_i: [i for i, element_i in enumerate(test.elements) if element_i == element_set_i] for element_set_i in set(self.elements)}\n",
        "        \n",
        "    def view_xyz(self, style_all=None, highlight_atom1=\"O\", highlight_atom2=\"Pb\", label=True):\n",
        "        self.xyz_string = f\"{len(self.atoms)}\\n\\n\" \n",
        "        for atom in self.atoms:\n",
        "            self.xyz_string += f\"{atom.symbol} {atom.position[0]} {atom.position[1]} {atom.position[2]}\\n\"\n",
        "        \n",
        "        self.view = py3Dmol.view(width=500,height=500)\n",
        "        self.view.addModel(self.xyz_string,'xyz',)\n",
        "        if style_all is None:\n",
        "            style_all = {'stick':{'radius':.1, 'alpha':0.2, 'color':'gray'}, \n",
        "                         'sphere': {'radius':.3}\n",
        "                        }\n",
        "        self.view.setStyle(style_all)\n",
        "        \n",
        "        self.view.addStyle({'atom': highlight_atom1}, \n",
        "                           {'sphere': {'color': 'red', 'radius': 0.5}})  \n",
        "        \n",
        "        self.view.addStyle({'atom': highlight_atom2}, \n",
        "                           {'sphere': {'color': 'blue', 'radius': 0.3}})  \n",
        "        self.view.setBackgroundColor('0xeeeeee')\n",
        "        if label:\n",
        "            for i, atom_i in enumerate(self.atoms):\n",
        "                self.view.addLabel(f\"{i}\", {'position': {'x': atom_i.position[0], 'y': atom_i.position[1], 'z': atom_i.position[2]}, \n",
        "                                    'fontColor': 'k', 'fontSize': 12, 'backgroundColor': 'white', 'backgroundOpacity':0.5})\n",
        "        self.view.zoomTo()\n",
        "        self.view.show()\n",
        "        self.view.title(self.atoms.get_chemical_formula())\n",
        "    \n",
        "    def get_cluster_size(self):\n",
        "        self.cluster_size = self.atoms.get_all_distances().max()/2\n",
        "        print(f\"Cluster size is {self.cluster_size} A\")\n",
        "        return self.cluster_size\n",
        "    \n",
        "    def get_pairs(self):\n",
        "        self.pairs_index = [(i, j) for i in range(len(self.atoms)) for j in range(i + 1, len(self.atoms))]\n",
        "        # self.pairs_index = [(i, j) for i in range(len(self.atoms)) for j in range(len(self.atoms))]\n",
        "        self.pairs_element = [sorted([self.atoms[i].symbol, self.atoms[j].symbol]) for i, j in self.pairs_index]\n",
        "        self.pairs = [f\"{atom_i}-{atom_j}\" for atom_i, atom_j in self.pairs_element]\n",
        "        self.pairs_unique = [f\"{self.atoms[i].symbol}({self.atoms[i].index})-{self.atoms[j].symbol}({self.atoms[j].index})\" for i, j in self.pairs_index]\n",
        "        self.distance_all = [self.atoms.get_all_distances()[i][j] for i, j in self.pairs_index]\n",
        "        self.pairs_types = set(self.pairs)\n",
        "        \n",
        "        self.pairs_group = {key: {'pairs_index':[],\n",
        "                                  'pairs':[],\n",
        "                                  'pairs_unique':[],\n",
        "                                  'distance':[]} for key in self.pairs_types}\n",
        "        \n",
        "        for i in range(len(self.pairs)):\n",
        "            self.pairs_group[self.pairs[i]]['pairs_index'].append(self.pairs_index[i])\n",
        "            self.pairs_group[self.pairs[i]]['pairs_unique'].append(self.pairs_unique[i])\n",
        "            self.pairs_group[self.pairs[i]]['distance'].append(self.distance_all[i])\n",
        "        return self.pairs_group\n",
        "\n",
        "    def get_CN(self, center_atom=None, error_bar=0.01):\n",
        "        if not hasattr(self, 'pairs_types'):\n",
        "            self.get_pairs()\n",
        "            \n",
        "        if not hasattr(self, 'CN_distances'):\n",
        "            self.CN_distances = {}\n",
        "            self.CN = {}\n",
        "                    \n",
        "        if center_atom is None:\n",
        "            center_atom = self.atoms[0].symbol\n",
        "                \n",
        "        for pair_i in self.pairs_types:\n",
        "            if center_atom in pair_i:\n",
        "                distance_sorted = np.array(sorted(self.pairs_group[pair_i]['distance']))\n",
        "                diff = np.diff(distance_sorted)\n",
        "                indices = np.where(diff > error_bar)[0] + 1\n",
        "                self.CN_distances[pair_i] = np.split(distance_sorted, indices)\n",
        "                self.CN[pair_i] = {np.average(group): group.shape[0]*2/self.elements_num[center_atom] for group in self.CN_distances[pair_i]}\n",
        "    \n",
        "    def get_CN_new(self, center_atom=None, CN_atom=None, error_bar=0.01):\n",
        "        if not hasattr(self, 'pairs_types'):\n",
        "            self.get_pairs()\n",
        "            \n",
        "        if not hasattr(self, 'CN_distances'):\n",
        "            self.CN_distances = {}\n",
        "            self.CN = {}\n",
        "                    \n",
        "        if center_atom is None:\n",
        "            center_atom = self.atoms[0].symbol\n",
        "        \n",
        "        if CN_atom is None:\n",
        "            center_atom = self.atoms[1].symbol\n",
        "                \n",
        "        for pair_i in self.pairs_types:\n",
        "            if center_atom in pair_i:\n",
        "                distance_sorted = np.array(sorted(self.pairs_group[pair_i]['distance']))\n",
        "                diff = np.diff(distance_sorted)\n",
        "                indices = np.where(diff > error_bar)[0] + 1\n",
        "                self.CN_distances[pair_i] = np.split(distance_sorted, indices)\n",
        "                self.CN[pair_i] = {np.average(group): group.shape[0]*2/self.elements_num[center_atom] for group in self.CN_distances[pair_i]}\n",
        "    \n",
        "    \n",
        "    # def get_all_distances()\n",
        "    def plot_hist(self, binsize=0.2):\n",
        "        if not hasattr(self, 'pairs_types'):\n",
        "            self.get_pairs()      \n",
        "        fig = go.Figure()\n",
        "        for key_i in self.pairs_group.keys():\n",
        "            fig.add_trace(go.Histogram(x=self.pairs_group[key_i]['distance'], name=key_i, opacity=0.6, \n",
        "                                       xbins={'size':binsize},marker={'line':{'color':'white','width':2}}))\n",
        "\n",
        "        fig.update_layout(\n",
        "            xaxis_title_text='Distances [A]', yaxis_title_text='pairs',\n",
        "            plot_bgcolor='rgba(0.02,0.02,0.02,0.02)',  # Transparent plot background\n",
        "            xaxis={'tickmode':'auto'}, barmode='overlay',  # Overlay histograms,\n",
        "            width=600, height=400)\n",
        "        fig.show()"
      ]
    },
    {
      "cell_type": "code",
      "execution_count": 71,
      "metadata": {},
      "outputs": [
        {
          "data": {
            "text/plain": [
              "{'O': 44, 'Pb': 15}"
            ]
          },
          "execution_count": 71,
          "metadata": {},
          "output_type": "execute_result"
        }
      ],
      "source": [
        "test.elements_num"
      ]
    },
    {
      "cell_type": "code",
      "execution_count": 79,
      "metadata": {},
      "outputs": [],
      "source": [
        "indices = [i for i, element_i in enumerate(test.elements) if element_i == 'Pb']\n"
      ]
    },
    {
      "cell_type": "code",
      "execution_count": null,
      "metadata": {},
      "outputs": [],
      "source": [
        "indices"
      ]
    },
    {
      "cell_type": "code",
      "execution_count": 81,
      "metadata": {},
      "outputs": [
        {
          "name": "stdout",
          "output_type": "stream",
          "text": [
            "[4, 9, 17, 22, 23, 32, 37, 38, 46, 47, 52, 53, 56, 57, 58]\n"
          ]
        }
      ],
      "source": [
        "print(indices)"
      ]
    },
    {
      "cell_type": "code",
      "execution_count": 73,
      "metadata": {},
      "outputs": [
        {
          "data": {
            "text/plain": [
              "[0,\n",
              " 1,\n",
              " 2,\n",
              " 3,\n",
              " 5,\n",
              " 6,\n",
              " 7,\n",
              " 8,\n",
              " 10,\n",
              " 11,\n",
              " 12,\n",
              " 13,\n",
              " 14,\n",
              " 15,\n",
              " 16,\n",
              " 18,\n",
              " 19,\n",
              " 20,\n",
              " 21,\n",
              " 24,\n",
              " 25,\n",
              " 26,\n",
              " 27,\n",
              " 28,\n",
              " 29,\n",
              " 30,\n",
              " 31,\n",
              " 33,\n",
              " 34,\n",
              " 35,\n",
              " 36,\n",
              " 39,\n",
              " 40,\n",
              " 41,\n",
              " 42,\n",
              " 43,\n",
              " 44,\n",
              " 45,\n",
              " 48,\n",
              " 49,\n",
              " 50,\n",
              " 51,\n",
              " 54,\n",
              " 55]"
            ]
          },
          "execution_count": 73,
          "metadata": {},
          "output_type": "execute_result"
        }
      ],
      "source": [
        "indices"
      ]
    },
    {
      "cell_type": "code",
      "execution_count": 88,
      "metadata": {},
      "outputs": [
        {
          "data": {
            "text/plain": [
              "[0,\n",
              " 1,\n",
              " 2,\n",
              " 3,\n",
              " 5,\n",
              " 6,\n",
              " 7,\n",
              " 8,\n",
              " 10,\n",
              " 11,\n",
              " 12,\n",
              " 13,\n",
              " 14,\n",
              " 15,\n",
              " 16,\n",
              " 18,\n",
              " 19,\n",
              " 20,\n",
              " 21,\n",
              " 24,\n",
              " 25,\n",
              " 26,\n",
              " 27,\n",
              " 28,\n",
              " 29,\n",
              " 30,\n",
              " 31,\n",
              " 33,\n",
              " 34,\n",
              " 35,\n",
              " 36,\n",
              " 39,\n",
              " 40,\n",
              " 41,\n",
              " 42,\n",
              " 43,\n",
              " 44,\n",
              " 45,\n",
              " 48,\n",
              " 49,\n",
              " 50,\n",
              " 51,\n",
              " 54,\n",
              " 55]"
            ]
          },
          "execution_count": 88,
          "metadata": {},
          "output_type": "execute_result"
        }
      ],
      "source": []
    },
    {
      "cell_type": "code",
      "execution_count": 58,
      "metadata": {},
      "outputs": [
        {
          "data": {
            "text/plain": [
              "array([3.05665632, 3.05665572, 2.16928433])"
            ]
          },
          "execution_count": 58,
          "metadata": {},
          "output_type": "execute_result"
        }
      ],
      "source": [
        "test.atoms.get_distances(1,[2,3,4])"
      ]
    },
    {
      "cell_type": "code",
      "execution_count": 91,
      "metadata": {},
      "outputs": [
        {
          "name": "stdout",
          "output_type": "stream",
          "text": [
            "[0, 1, 2, 3, 5, 6, 7, 8, 10, 11, 12, 13, 14, 15, 16, 18, 19, 20, 21, 24, 25, 26, 27, 28, 29, 30, 31, 33, 34, 35, 36, 39, 40, 41, 42, 43, 44, 45, 48, 49, 50, 51, 54, 55]\n",
            "[4, 9, 17, 22, 23, 32, 37, 38, 46, 47, 52, 53, 56, 57, 58]\n"
          ]
        }
      ],
      "source": [
        "print(test.element_index_group['O'])\n",
        "print(test.element_index_group['Pb'])"
      ]
    },
    {
      "cell_type": "code",
      "execution_count": 85,
      "metadata": {},
      "outputs": [
        {
          "data": {
            "application/3dmoljs_load.v0": "<div id=\"3dmolviewer_17054238310311291\"  style=\"position: relative; width: 500px; height: 500px;\">\n        <p id=\"3dmolwarning_17054238310311291\" style=\"background-color:#ffcccc;color:black\">You appear to be running in JupyterLab (or JavaScript failed to load for some other reason).  You need to install the 3dmol extension: <br>\n        <tt>jupyter labextension install jupyterlab_3dmol</tt></p>\n        </div>\n<script>\n\nvar loadScriptAsync = function(uri){\n  return new Promise((resolve, reject) => {\n    //this is to ignore the existence of requirejs amd\n    var savedexports, savedmodule;\n    if (typeof exports !== 'undefined') savedexports = exports;\n    else exports = {}\n    if (typeof module !== 'undefined') savedmodule = module;\n    else module = {}\n\n    var tag = document.createElement('script');\n    tag.src = uri;\n    tag.async = true;\n    tag.onload = () => {\n        exports = savedexports;\n        module = savedmodule;\n        resolve();\n    };\n  var firstScriptTag = document.getElementsByTagName('script')[0];\n  firstScriptTag.parentNode.insertBefore(tag, firstScriptTag);\n});\n};\n\nif(typeof $3Dmolpromise === 'undefined') {\n$3Dmolpromise = null;\n  $3Dmolpromise = loadScriptAsync('https://cdnjs.cloudflare.com/ajax/libs/3Dmol/2.0.4/3Dmol-min.js');\n}\n\nvar viewer_17054238310311291 = null;\nvar warn = document.getElementById(\"3dmolwarning_17054238310311291\");\nif(warn) {\n    warn.parentNode.removeChild(warn);\n}\n$3Dmolpromise.then(function() {\nviewer_17054238310311291 = $3Dmol.createViewer(document.getElementById(\"3dmolviewer_17054238310311291\"),{backgroundColor:\"white\"});\nviewer_17054238310311291.zoomTo();\n\tviewer_17054238310311291.addModel(\"59\\n\\nO -5.301403 -2.601292 -0.500298\\nO -3.367214 -1.231646 -1.809521\\nO -4.379644 0.010097 0.793594\\nO -2.460089 -3.700719 -0.252618\\nPb -3.419867 -1.845311 0.270488\\nO -3.472519 -2.458976 2.350497\\nO -1.538331 -1.08933 1.041273\\nO -2.550761 0.152413 3.644388\\nO -0.631206 -3.558404 2.598176\\nPb -1.590983 -1.702995 3.121282\\nO -1.643635 -2.316661 5.201291\\nO 0.290553 -0.947014 3.892068\\nO -3.346703 0.952956 -3.947334\\nO -4.359133 2.194699 -1.344219\\nO -2.424945 3.564345 -2.653442\\nO -3.437375 4.806088 -0.050327\\nO -1.51782 1.095271 -1.096539\\nPb -2.477597 2.95068 -0.573433\\nO -2.53025 2.337014 1.506576\\nO -0.596062 3.706661 0.197353\\nO -1.608492 4.948403 2.800468\\nO 0.311064 1.237587 1.754256\\nPb -4.068581 1.247684 2.547849\\nPb -0.648714 3.092995 2.277362\\nO -0.701366 2.47933 4.357371\\nO 1.232822 3.848976 3.048147\\nO 2.139947 1.379903 4.60505\\nO -2.139947 -1.379903 -4.60505\\nO -1.232822 -3.848976 -3.048147\\nO 0.701366 -2.47933 -4.357371\\nO -0.311064 -1.237587 -1.754256\\nO 1.608492 -4.948403 -2.800468\\nPb 0.648714 -3.092995 -2.277362\\nO 0.596062 -3.706661 -0.197353\\nO 2.53025 -2.337014 -1.506576\\nO 1.51782 -1.095271 1.096539\\nO 3.437375 -4.806088 0.050327\\nPb -0.942269 -4.795991 0.843921\\nPb 2.477597 -2.95068 0.573433\\nO 2.424945 -3.564345 2.653442\\nO 4.359133 -2.194699 1.344219\\nO 3.346703 -0.952956 3.947334\\nO -0.290553 0.947014 -3.892068\\nO 1.643635 2.316661 -5.201291\\nO 0.631206 3.558404 -2.598176\\nO 2.550761 -0.152413 -3.644388\\nPb -1.828884 -0.142316 -2.850795\\nPb 1.590983 1.702995 -3.121282\\nO 1.538331 1.08933 -1.041273\\nO 3.472519 2.458976 -2.350497\\nO 2.460089 3.700719 0.252618\\nO 4.379644 -0.010097 -0.793594\\nPb 0.0 0.0 0.0\\nPb 3.419867 1.845311 -0.270488\\nO 3.367214 1.231646 1.809521\\nO 5.301403 2.601292 0.500298\\nPb 1.828884 0.142316 2.850795\\nPb 0.942269 4.795991 -0.843921\\nPb 4.068581 -1.247684 -2.547849\\n\",\"xyz\");\n\tviewer_17054238310311291.setStyle({\"stick\": {\"radius\": 0.1, \"alpha\": 0.2, \"color\": \"gray\"}, \"sphere\": {\"radius\": 0.3}});\n\tviewer_17054238310311291.addStyle({\"atom\": \"Pb\"},{\"sphere\": {\"color\": \"red\", \"radius\": 0.5}});\n\tviewer_17054238310311291.addStyle({\"atom\": \"O\"},{\"sphere\": {\"color\": \"blue\", \"radius\": 0.3}});\n\tviewer_17054238310311291.setBackgroundColor(\"0xeeeeee\");\n\tviewer_17054238310311291.addLabel(\"0\",{\"position\": {\"x\": -5.301403, \"y\": -2.601292, \"z\": -0.500298}, \"fontColor\": \"k\", \"fontSize\": 12, \"backgroundColor\": \"white\", \"backgroundOpacity\": 0.5});\n\tviewer_17054238310311291.addLabel(\"1\",{\"position\": {\"x\": -3.367214, \"y\": -1.231646, \"z\": -1.809521}, \"fontColor\": \"k\", \"fontSize\": 12, \"backgroundColor\": \"white\", \"backgroundOpacity\": 0.5});\n\tviewer_17054238310311291.addLabel(\"2\",{\"position\": {\"x\": -4.379644, \"y\": 0.010097, \"z\": 0.793594}, \"fontColor\": \"k\", \"fontSize\": 12, \"backgroundColor\": \"white\", \"backgroundOpacity\": 0.5});\n\tviewer_17054238310311291.addLabel(\"3\",{\"position\": {\"x\": -2.460089, \"y\": -3.700719, \"z\": -0.252618}, \"fontColor\": \"k\", \"fontSize\": 12, \"backgroundColor\": \"white\", \"backgroundOpacity\": 0.5});\n\tviewer_17054238310311291.addLabel(\"4\",{\"position\": {\"x\": -3.419867, \"y\": -1.845311, \"z\": 0.270488}, \"fontColor\": \"k\", \"fontSize\": 12, \"backgroundColor\": \"white\", \"backgroundOpacity\": 0.5});\n\tviewer_17054238310311291.addLabel(\"5\",{\"position\": {\"x\": -3.472519, \"y\": -2.458976, \"z\": 2.350497}, \"fontColor\": \"k\", \"fontSize\": 12, \"backgroundColor\": \"white\", \"backgroundOpacity\": 0.5});\n\tviewer_17054238310311291.addLabel(\"6\",{\"position\": {\"x\": -1.538331, \"y\": -1.08933, \"z\": 1.041273}, \"fontColor\": \"k\", \"fontSize\": 12, \"backgroundColor\": \"white\", \"backgroundOpacity\": 0.5});\n\tviewer_17054238310311291.addLabel(\"7\",{\"position\": {\"x\": -2.550761, \"y\": 0.152413, \"z\": 3.644388}, \"fontColor\": \"k\", \"fontSize\": 12, \"backgroundColor\": \"white\", \"backgroundOpacity\": 0.5});\n\tviewer_17054238310311291.addLabel(\"8\",{\"position\": {\"x\": -0.631206, \"y\": -3.558404, \"z\": 2.598176}, \"fontColor\": \"k\", \"fontSize\": 12, \"backgroundColor\": \"white\", \"backgroundOpacity\": 0.5});\n\tviewer_17054238310311291.addLabel(\"9\",{\"position\": {\"x\": -1.590983, \"y\": -1.702995, \"z\": 3.121282}, \"fontColor\": \"k\", \"fontSize\": 12, \"backgroundColor\": \"white\", \"backgroundOpacity\": 0.5});\n\tviewer_17054238310311291.addLabel(\"10\",{\"position\": {\"x\": -1.643635, \"y\": -2.316661, \"z\": 5.201291}, \"fontColor\": \"k\", \"fontSize\": 12, \"backgroundColor\": \"white\", \"backgroundOpacity\": 0.5});\n\tviewer_17054238310311291.addLabel(\"11\",{\"position\": {\"x\": 0.290553, \"y\": -0.947014, \"z\": 3.892068}, \"fontColor\": \"k\", \"fontSize\": 12, \"backgroundColor\": \"white\", \"backgroundOpacity\": 0.5});\n\tviewer_17054238310311291.addLabel(\"12\",{\"position\": {\"x\": -3.346703, \"y\": 0.952956, \"z\": -3.947334}, \"fontColor\": \"k\", \"fontSize\": 12, \"backgroundColor\": \"white\", \"backgroundOpacity\": 0.5});\n\tviewer_17054238310311291.addLabel(\"13\",{\"position\": {\"x\": -4.359133, \"y\": 2.194699, \"z\": -1.344219}, \"fontColor\": \"k\", \"fontSize\": 12, \"backgroundColor\": \"white\", \"backgroundOpacity\": 0.5});\n\tviewer_17054238310311291.addLabel(\"14\",{\"position\": {\"x\": -2.424945, \"y\": 3.564345, \"z\": -2.653442}, \"fontColor\": \"k\", \"fontSize\": 12, \"backgroundColor\": \"white\", \"backgroundOpacity\": 0.5});\n\tviewer_17054238310311291.addLabel(\"15\",{\"position\": {\"x\": -3.437375, \"y\": 4.806088, \"z\": -0.050327}, \"fontColor\": \"k\", \"fontSize\": 12, \"backgroundColor\": \"white\", \"backgroundOpacity\": 0.5});\n\tviewer_17054238310311291.addLabel(\"16\",{\"position\": {\"x\": -1.51782, \"y\": 1.095271, \"z\": -1.096539}, \"fontColor\": \"k\", \"fontSize\": 12, \"backgroundColor\": \"white\", \"backgroundOpacity\": 0.5});\n\tviewer_17054238310311291.addLabel(\"17\",{\"position\": {\"x\": -2.477597, \"y\": 2.95068, \"z\": -0.573433}, \"fontColor\": \"k\", \"fontSize\": 12, \"backgroundColor\": \"white\", \"backgroundOpacity\": 0.5});\n\tviewer_17054238310311291.addLabel(\"18\",{\"position\": {\"x\": -2.53025, \"y\": 2.337014, \"z\": 1.506576}, \"fontColor\": \"k\", \"fontSize\": 12, \"backgroundColor\": \"white\", \"backgroundOpacity\": 0.5});\n\tviewer_17054238310311291.addLabel(\"19\",{\"position\": {\"x\": -0.596062, \"y\": 3.706661, \"z\": 0.197353}, \"fontColor\": \"k\", \"fontSize\": 12, \"backgroundColor\": \"white\", \"backgroundOpacity\": 0.5});\n\tviewer_17054238310311291.addLabel(\"20\",{\"position\": {\"x\": -1.608492, \"y\": 4.948403, \"z\": 2.800468}, \"fontColor\": \"k\", \"fontSize\": 12, \"backgroundColor\": \"white\", \"backgroundOpacity\": 0.5});\n\tviewer_17054238310311291.addLabel(\"21\",{\"position\": {\"x\": 0.311064, \"y\": 1.237587, \"z\": 1.754256}, \"fontColor\": \"k\", \"fontSize\": 12, \"backgroundColor\": \"white\", \"backgroundOpacity\": 0.5});\n\tviewer_17054238310311291.addLabel(\"22\",{\"position\": {\"x\": -4.068581, \"y\": 1.247684, \"z\": 2.547849}, \"fontColor\": \"k\", \"fontSize\": 12, \"backgroundColor\": \"white\", \"backgroundOpacity\": 0.5});\n\tviewer_17054238310311291.addLabel(\"23\",{\"position\": {\"x\": -0.648714, \"y\": 3.092995, \"z\": 2.277362}, \"fontColor\": \"k\", \"fontSize\": 12, \"backgroundColor\": \"white\", \"backgroundOpacity\": 0.5});\n\tviewer_17054238310311291.addLabel(\"24\",{\"position\": {\"x\": -0.701366, \"y\": 2.47933, \"z\": 4.357371}, \"fontColor\": \"k\", \"fontSize\": 12, \"backgroundColor\": \"white\", \"backgroundOpacity\": 0.5});\n\tviewer_17054238310311291.addLabel(\"25\",{\"position\": {\"x\": 1.232822, \"y\": 3.848976, \"z\": 3.048147}, \"fontColor\": \"k\", \"fontSize\": 12, \"backgroundColor\": \"white\", \"backgroundOpacity\": 0.5});\n\tviewer_17054238310311291.addLabel(\"26\",{\"position\": {\"x\": 2.139947, \"y\": 1.379903, \"z\": 4.60505}, \"fontColor\": \"k\", \"fontSize\": 12, \"backgroundColor\": \"white\", \"backgroundOpacity\": 0.5});\n\tviewer_17054238310311291.addLabel(\"27\",{\"position\": {\"x\": -2.139947, \"y\": -1.379903, \"z\": -4.60505}, \"fontColor\": \"k\", \"fontSize\": 12, \"backgroundColor\": \"white\", \"backgroundOpacity\": 0.5});\n\tviewer_17054238310311291.addLabel(\"28\",{\"position\": {\"x\": -1.232822, \"y\": -3.848976, \"z\": -3.048147}, \"fontColor\": \"k\", \"fontSize\": 12, \"backgroundColor\": \"white\", \"backgroundOpacity\": 0.5});\n\tviewer_17054238310311291.addLabel(\"29\",{\"position\": {\"x\": 0.701366, \"y\": -2.47933, \"z\": -4.357371}, \"fontColor\": \"k\", \"fontSize\": 12, \"backgroundColor\": \"white\", \"backgroundOpacity\": 0.5});\n\tviewer_17054238310311291.addLabel(\"30\",{\"position\": {\"x\": -0.311064, \"y\": -1.237587, \"z\": -1.754256}, \"fontColor\": \"k\", \"fontSize\": 12, \"backgroundColor\": \"white\", \"backgroundOpacity\": 0.5});\n\tviewer_17054238310311291.addLabel(\"31\",{\"position\": {\"x\": 1.608492, \"y\": -4.948403, \"z\": -2.800468}, \"fontColor\": \"k\", \"fontSize\": 12, \"backgroundColor\": \"white\", \"backgroundOpacity\": 0.5});\n\tviewer_17054238310311291.addLabel(\"32\",{\"position\": {\"x\": 0.648714, \"y\": -3.092995, \"z\": -2.277362}, \"fontColor\": \"k\", \"fontSize\": 12, \"backgroundColor\": \"white\", \"backgroundOpacity\": 0.5});\n\tviewer_17054238310311291.addLabel(\"33\",{\"position\": {\"x\": 0.596062, \"y\": -3.706661, \"z\": -0.197353}, \"fontColor\": \"k\", \"fontSize\": 12, \"backgroundColor\": \"white\", \"backgroundOpacity\": 0.5});\n\tviewer_17054238310311291.addLabel(\"34\",{\"position\": {\"x\": 2.53025, \"y\": -2.337014, \"z\": -1.506576}, \"fontColor\": \"k\", \"fontSize\": 12, \"backgroundColor\": \"white\", \"backgroundOpacity\": 0.5});\n\tviewer_17054238310311291.addLabel(\"35\",{\"position\": {\"x\": 1.51782, \"y\": -1.095271, \"z\": 1.096539}, \"fontColor\": \"k\", \"fontSize\": 12, \"backgroundColor\": \"white\", \"backgroundOpacity\": 0.5});\n\tviewer_17054238310311291.addLabel(\"36\",{\"position\": {\"x\": 3.437375, \"y\": -4.806088, \"z\": 0.050327}, \"fontColor\": \"k\", \"fontSize\": 12, \"backgroundColor\": \"white\", \"backgroundOpacity\": 0.5});\n\tviewer_17054238310311291.addLabel(\"37\",{\"position\": {\"x\": -0.942269, \"y\": -4.795991, \"z\": 0.843921}, \"fontColor\": \"k\", \"fontSize\": 12, \"backgroundColor\": \"white\", \"backgroundOpacity\": 0.5});\n\tviewer_17054238310311291.addLabel(\"38\",{\"position\": {\"x\": 2.477597, \"y\": -2.95068, \"z\": 0.573433}, \"fontColor\": \"k\", \"fontSize\": 12, \"backgroundColor\": \"white\", \"backgroundOpacity\": 0.5});\n\tviewer_17054238310311291.addLabel(\"39\",{\"position\": {\"x\": 2.424945, \"y\": -3.564345, \"z\": 2.653442}, \"fontColor\": \"k\", \"fontSize\": 12, \"backgroundColor\": \"white\", \"backgroundOpacity\": 0.5});\n\tviewer_17054238310311291.addLabel(\"40\",{\"position\": {\"x\": 4.359133, \"y\": -2.194699, \"z\": 1.344219}, \"fontColor\": \"k\", \"fontSize\": 12, \"backgroundColor\": \"white\", \"backgroundOpacity\": 0.5});\n\tviewer_17054238310311291.addLabel(\"41\",{\"position\": {\"x\": 3.346703, \"y\": -0.952956, \"z\": 3.947334}, \"fontColor\": \"k\", \"fontSize\": 12, \"backgroundColor\": \"white\", \"backgroundOpacity\": 0.5});\n\tviewer_17054238310311291.addLabel(\"42\",{\"position\": {\"x\": -0.290553, \"y\": 0.947014, \"z\": -3.892068}, \"fontColor\": \"k\", \"fontSize\": 12, \"backgroundColor\": \"white\", \"backgroundOpacity\": 0.5});\n\tviewer_17054238310311291.addLabel(\"43\",{\"position\": {\"x\": 1.643635, \"y\": 2.316661, \"z\": -5.201291}, \"fontColor\": \"k\", \"fontSize\": 12, \"backgroundColor\": \"white\", \"backgroundOpacity\": 0.5});\n\tviewer_17054238310311291.addLabel(\"44\",{\"position\": {\"x\": 0.631206, \"y\": 3.558404, \"z\": -2.598176}, \"fontColor\": \"k\", \"fontSize\": 12, \"backgroundColor\": \"white\", \"backgroundOpacity\": 0.5});\n\tviewer_17054238310311291.addLabel(\"45\",{\"position\": {\"x\": 2.550761, \"y\": -0.152413, \"z\": -3.644388}, \"fontColor\": \"k\", \"fontSize\": 12, \"backgroundColor\": \"white\", \"backgroundOpacity\": 0.5});\n\tviewer_17054238310311291.addLabel(\"46\",{\"position\": {\"x\": -1.828884, \"y\": -0.142316, \"z\": -2.850795}, \"fontColor\": \"k\", \"fontSize\": 12, \"backgroundColor\": \"white\", \"backgroundOpacity\": 0.5});\n\tviewer_17054238310311291.addLabel(\"47\",{\"position\": {\"x\": 1.590983, \"y\": 1.702995, \"z\": -3.121282}, \"fontColor\": \"k\", \"fontSize\": 12, \"backgroundColor\": \"white\", \"backgroundOpacity\": 0.5});\n\tviewer_17054238310311291.addLabel(\"48\",{\"position\": {\"x\": 1.538331, \"y\": 1.08933, \"z\": -1.041273}, \"fontColor\": \"k\", \"fontSize\": 12, \"backgroundColor\": \"white\", \"backgroundOpacity\": 0.5});\n\tviewer_17054238310311291.addLabel(\"49\",{\"position\": {\"x\": 3.472519, \"y\": 2.458976, \"z\": -2.350497}, \"fontColor\": \"k\", \"fontSize\": 12, \"backgroundColor\": \"white\", \"backgroundOpacity\": 0.5});\n\tviewer_17054238310311291.addLabel(\"50\",{\"position\": {\"x\": 2.460089, \"y\": 3.700719, \"z\": 0.252618}, \"fontColor\": \"k\", \"fontSize\": 12, \"backgroundColor\": \"white\", \"backgroundOpacity\": 0.5});\n\tviewer_17054238310311291.addLabel(\"51\",{\"position\": {\"x\": 4.379644, \"y\": -0.010097, \"z\": -0.793594}, \"fontColor\": \"k\", \"fontSize\": 12, \"backgroundColor\": \"white\", \"backgroundOpacity\": 0.5});\n\tviewer_17054238310311291.addLabel(\"52\",{\"position\": {\"x\": 0.0, \"y\": 0.0, \"z\": 0.0}, \"fontColor\": \"k\", \"fontSize\": 12, \"backgroundColor\": \"white\", \"backgroundOpacity\": 0.5});\n\tviewer_17054238310311291.addLabel(\"53\",{\"position\": {\"x\": 3.419867, \"y\": 1.845311, \"z\": -0.270488}, \"fontColor\": \"k\", \"fontSize\": 12, \"backgroundColor\": \"white\", \"backgroundOpacity\": 0.5});\n\tviewer_17054238310311291.addLabel(\"54\",{\"position\": {\"x\": 3.367214, \"y\": 1.231646, \"z\": 1.809521}, \"fontColor\": \"k\", \"fontSize\": 12, \"backgroundColor\": \"white\", \"backgroundOpacity\": 0.5});\n\tviewer_17054238310311291.addLabel(\"55\",{\"position\": {\"x\": 5.301403, \"y\": 2.601292, \"z\": 0.500298}, \"fontColor\": \"k\", \"fontSize\": 12, \"backgroundColor\": \"white\", \"backgroundOpacity\": 0.5});\n\tviewer_17054238310311291.addLabel(\"56\",{\"position\": {\"x\": 1.828884, \"y\": 0.142316, \"z\": 2.850795}, \"fontColor\": \"k\", \"fontSize\": 12, \"backgroundColor\": \"white\", \"backgroundOpacity\": 0.5});\n\tviewer_17054238310311291.addLabel(\"57\",{\"position\": {\"x\": 0.942269, \"y\": 4.795991, \"z\": -0.843921}, \"fontColor\": \"k\", \"fontSize\": 12, \"backgroundColor\": \"white\", \"backgroundOpacity\": 0.5});\n\tviewer_17054238310311291.addLabel(\"58\",{\"position\": {\"x\": 4.068581, \"y\": -1.247684, \"z\": -2.547849}, \"fontColor\": \"k\", \"fontSize\": 12, \"backgroundColor\": \"white\", \"backgroundOpacity\": 0.5});\n\tviewer_17054238310311291.zoomTo();\nviewer_17054238310311291.render();\n});\n</script>",
            "text/html": [
              "<div id=\"3dmolviewer_17054238310311291\"  style=\"position: relative; width: 500px; height: 500px;\">\n",
              "        <p id=\"3dmolwarning_17054238310311291\" style=\"background-color:#ffcccc;color:black\">You appear to be running in JupyterLab (or JavaScript failed to load for some other reason).  You need to install the 3dmol extension: <br>\n",
              "        <tt>jupyter labextension install jupyterlab_3dmol</tt></p>\n",
              "        </div>\n",
              "<script>\n",
              "\n",
              "var loadScriptAsync = function(uri){\n",
              "  return new Promise((resolve, reject) => {\n",
              "    //this is to ignore the existence of requirejs amd\n",
              "    var savedexports, savedmodule;\n",
              "    if (typeof exports !== 'undefined') savedexports = exports;\n",
              "    else exports = {}\n",
              "    if (typeof module !== 'undefined') savedmodule = module;\n",
              "    else module = {}\n",
              "\n",
              "    var tag = document.createElement('script');\n",
              "    tag.src = uri;\n",
              "    tag.async = true;\n",
              "    tag.onload = () => {\n",
              "        exports = savedexports;\n",
              "        module = savedmodule;\n",
              "        resolve();\n",
              "    };\n",
              "  var firstScriptTag = document.getElementsByTagName('script')[0];\n",
              "  firstScriptTag.parentNode.insertBefore(tag, firstScriptTag);\n",
              "});\n",
              "};\n",
              "\n",
              "if(typeof $3Dmolpromise === 'undefined') {\n",
              "$3Dmolpromise = null;\n",
              "  $3Dmolpromise = loadScriptAsync('https://cdnjs.cloudflare.com/ajax/libs/3Dmol/2.0.4/3Dmol-min.js');\n",
              "}\n",
              "\n",
              "var viewer_17054238310311291 = null;\n",
              "var warn = document.getElementById(\"3dmolwarning_17054238310311291\");\n",
              "if(warn) {\n",
              "    warn.parentNode.removeChild(warn);\n",
              "}\n",
              "$3Dmolpromise.then(function() {\n",
              "viewer_17054238310311291 = $3Dmol.createViewer(document.getElementById(\"3dmolviewer_17054238310311291\"),{backgroundColor:\"white\"});\n",
              "viewer_17054238310311291.zoomTo();\n",
              "\tviewer_17054238310311291.addModel(\"59\\n\\nO -5.301403 -2.601292 -0.500298\\nO -3.367214 -1.231646 -1.809521\\nO -4.379644 0.010097 0.793594\\nO -2.460089 -3.700719 -0.252618\\nPb -3.419867 -1.845311 0.270488\\nO -3.472519 -2.458976 2.350497\\nO -1.538331 -1.08933 1.041273\\nO -2.550761 0.152413 3.644388\\nO -0.631206 -3.558404 2.598176\\nPb -1.590983 -1.702995 3.121282\\nO -1.643635 -2.316661 5.201291\\nO 0.290553 -0.947014 3.892068\\nO -3.346703 0.952956 -3.947334\\nO -4.359133 2.194699 -1.344219\\nO -2.424945 3.564345 -2.653442\\nO -3.437375 4.806088 -0.050327\\nO -1.51782 1.095271 -1.096539\\nPb -2.477597 2.95068 -0.573433\\nO -2.53025 2.337014 1.506576\\nO -0.596062 3.706661 0.197353\\nO -1.608492 4.948403 2.800468\\nO 0.311064 1.237587 1.754256\\nPb -4.068581 1.247684 2.547849\\nPb -0.648714 3.092995 2.277362\\nO -0.701366 2.47933 4.357371\\nO 1.232822 3.848976 3.048147\\nO 2.139947 1.379903 4.60505\\nO -2.139947 -1.379903 -4.60505\\nO -1.232822 -3.848976 -3.048147\\nO 0.701366 -2.47933 -4.357371\\nO -0.311064 -1.237587 -1.754256\\nO 1.608492 -4.948403 -2.800468\\nPb 0.648714 -3.092995 -2.277362\\nO 0.596062 -3.706661 -0.197353\\nO 2.53025 -2.337014 -1.506576\\nO 1.51782 -1.095271 1.096539\\nO 3.437375 -4.806088 0.050327\\nPb -0.942269 -4.795991 0.843921\\nPb 2.477597 -2.95068 0.573433\\nO 2.424945 -3.564345 2.653442\\nO 4.359133 -2.194699 1.344219\\nO 3.346703 -0.952956 3.947334\\nO -0.290553 0.947014 -3.892068\\nO 1.643635 2.316661 -5.201291\\nO 0.631206 3.558404 -2.598176\\nO 2.550761 -0.152413 -3.644388\\nPb -1.828884 -0.142316 -2.850795\\nPb 1.590983 1.702995 -3.121282\\nO 1.538331 1.08933 -1.041273\\nO 3.472519 2.458976 -2.350497\\nO 2.460089 3.700719 0.252618\\nO 4.379644 -0.010097 -0.793594\\nPb 0.0 0.0 0.0\\nPb 3.419867 1.845311 -0.270488\\nO 3.367214 1.231646 1.809521\\nO 5.301403 2.601292 0.500298\\nPb 1.828884 0.142316 2.850795\\nPb 0.942269 4.795991 -0.843921\\nPb 4.068581 -1.247684 -2.547849\\n\",\"xyz\");\n",
              "\tviewer_17054238310311291.setStyle({\"stick\": {\"radius\": 0.1, \"alpha\": 0.2, \"color\": \"gray\"}, \"sphere\": {\"radius\": 0.3}});\n",
              "\tviewer_17054238310311291.addStyle({\"atom\": \"Pb\"},{\"sphere\": {\"color\": \"red\", \"radius\": 0.5}});\n",
              "\tviewer_17054238310311291.addStyle({\"atom\": \"O\"},{\"sphere\": {\"color\": \"blue\", \"radius\": 0.3}});\n",
              "\tviewer_17054238310311291.setBackgroundColor(\"0xeeeeee\");\n",
              "\tviewer_17054238310311291.addLabel(\"0\",{\"position\": {\"x\": -5.301403, \"y\": -2.601292, \"z\": -0.500298}, \"fontColor\": \"k\", \"fontSize\": 12, \"backgroundColor\": \"white\", \"backgroundOpacity\": 0.5});\n",
              "\tviewer_17054238310311291.addLabel(\"1\",{\"position\": {\"x\": -3.367214, \"y\": -1.231646, \"z\": -1.809521}, \"fontColor\": \"k\", \"fontSize\": 12, \"backgroundColor\": \"white\", \"backgroundOpacity\": 0.5});\n",
              "\tviewer_17054238310311291.addLabel(\"2\",{\"position\": {\"x\": -4.379644, \"y\": 0.010097, \"z\": 0.793594}, \"fontColor\": \"k\", \"fontSize\": 12, \"backgroundColor\": \"white\", \"backgroundOpacity\": 0.5});\n",
              "\tviewer_17054238310311291.addLabel(\"3\",{\"position\": {\"x\": -2.460089, \"y\": -3.700719, \"z\": -0.252618}, \"fontColor\": \"k\", \"fontSize\": 12, \"backgroundColor\": \"white\", \"backgroundOpacity\": 0.5});\n",
              "\tviewer_17054238310311291.addLabel(\"4\",{\"position\": {\"x\": -3.419867, \"y\": -1.845311, \"z\": 0.270488}, \"fontColor\": \"k\", \"fontSize\": 12, \"backgroundColor\": \"white\", \"backgroundOpacity\": 0.5});\n",
              "\tviewer_17054238310311291.addLabel(\"5\",{\"position\": {\"x\": -3.472519, \"y\": -2.458976, \"z\": 2.350497}, \"fontColor\": \"k\", \"fontSize\": 12, \"backgroundColor\": \"white\", \"backgroundOpacity\": 0.5});\n",
              "\tviewer_17054238310311291.addLabel(\"6\",{\"position\": {\"x\": -1.538331, \"y\": -1.08933, \"z\": 1.041273}, \"fontColor\": \"k\", \"fontSize\": 12, \"backgroundColor\": \"white\", \"backgroundOpacity\": 0.5});\n",
              "\tviewer_17054238310311291.addLabel(\"7\",{\"position\": {\"x\": -2.550761, \"y\": 0.152413, \"z\": 3.644388}, \"fontColor\": \"k\", \"fontSize\": 12, \"backgroundColor\": \"white\", \"backgroundOpacity\": 0.5});\n",
              "\tviewer_17054238310311291.addLabel(\"8\",{\"position\": {\"x\": -0.631206, \"y\": -3.558404, \"z\": 2.598176}, \"fontColor\": \"k\", \"fontSize\": 12, \"backgroundColor\": \"white\", \"backgroundOpacity\": 0.5});\n",
              "\tviewer_17054238310311291.addLabel(\"9\",{\"position\": {\"x\": -1.590983, \"y\": -1.702995, \"z\": 3.121282}, \"fontColor\": \"k\", \"fontSize\": 12, \"backgroundColor\": \"white\", \"backgroundOpacity\": 0.5});\n",
              "\tviewer_17054238310311291.addLabel(\"10\",{\"position\": {\"x\": -1.643635, \"y\": -2.316661, \"z\": 5.201291}, \"fontColor\": \"k\", \"fontSize\": 12, \"backgroundColor\": \"white\", \"backgroundOpacity\": 0.5});\n",
              "\tviewer_17054238310311291.addLabel(\"11\",{\"position\": {\"x\": 0.290553, \"y\": -0.947014, \"z\": 3.892068}, \"fontColor\": \"k\", \"fontSize\": 12, \"backgroundColor\": \"white\", \"backgroundOpacity\": 0.5});\n",
              "\tviewer_17054238310311291.addLabel(\"12\",{\"position\": {\"x\": -3.346703, \"y\": 0.952956, \"z\": -3.947334}, \"fontColor\": \"k\", \"fontSize\": 12, \"backgroundColor\": \"white\", \"backgroundOpacity\": 0.5});\n",
              "\tviewer_17054238310311291.addLabel(\"13\",{\"position\": {\"x\": -4.359133, \"y\": 2.194699, \"z\": -1.344219}, \"fontColor\": \"k\", \"fontSize\": 12, \"backgroundColor\": \"white\", \"backgroundOpacity\": 0.5});\n",
              "\tviewer_17054238310311291.addLabel(\"14\",{\"position\": {\"x\": -2.424945, \"y\": 3.564345, \"z\": -2.653442}, \"fontColor\": \"k\", \"fontSize\": 12, \"backgroundColor\": \"white\", \"backgroundOpacity\": 0.5});\n",
              "\tviewer_17054238310311291.addLabel(\"15\",{\"position\": {\"x\": -3.437375, \"y\": 4.806088, \"z\": -0.050327}, \"fontColor\": \"k\", \"fontSize\": 12, \"backgroundColor\": \"white\", \"backgroundOpacity\": 0.5});\n",
              "\tviewer_17054238310311291.addLabel(\"16\",{\"position\": {\"x\": -1.51782, \"y\": 1.095271, \"z\": -1.096539}, \"fontColor\": \"k\", \"fontSize\": 12, \"backgroundColor\": \"white\", \"backgroundOpacity\": 0.5});\n",
              "\tviewer_17054238310311291.addLabel(\"17\",{\"position\": {\"x\": -2.477597, \"y\": 2.95068, \"z\": -0.573433}, \"fontColor\": \"k\", \"fontSize\": 12, \"backgroundColor\": \"white\", \"backgroundOpacity\": 0.5});\n",
              "\tviewer_17054238310311291.addLabel(\"18\",{\"position\": {\"x\": -2.53025, \"y\": 2.337014, \"z\": 1.506576}, \"fontColor\": \"k\", \"fontSize\": 12, \"backgroundColor\": \"white\", \"backgroundOpacity\": 0.5});\n",
              "\tviewer_17054238310311291.addLabel(\"19\",{\"position\": {\"x\": -0.596062, \"y\": 3.706661, \"z\": 0.197353}, \"fontColor\": \"k\", \"fontSize\": 12, \"backgroundColor\": \"white\", \"backgroundOpacity\": 0.5});\n",
              "\tviewer_17054238310311291.addLabel(\"20\",{\"position\": {\"x\": -1.608492, \"y\": 4.948403, \"z\": 2.800468}, \"fontColor\": \"k\", \"fontSize\": 12, \"backgroundColor\": \"white\", \"backgroundOpacity\": 0.5});\n",
              "\tviewer_17054238310311291.addLabel(\"21\",{\"position\": {\"x\": 0.311064, \"y\": 1.237587, \"z\": 1.754256}, \"fontColor\": \"k\", \"fontSize\": 12, \"backgroundColor\": \"white\", \"backgroundOpacity\": 0.5});\n",
              "\tviewer_17054238310311291.addLabel(\"22\",{\"position\": {\"x\": -4.068581, \"y\": 1.247684, \"z\": 2.547849}, \"fontColor\": \"k\", \"fontSize\": 12, \"backgroundColor\": \"white\", \"backgroundOpacity\": 0.5});\n",
              "\tviewer_17054238310311291.addLabel(\"23\",{\"position\": {\"x\": -0.648714, \"y\": 3.092995, \"z\": 2.277362}, \"fontColor\": \"k\", \"fontSize\": 12, \"backgroundColor\": \"white\", \"backgroundOpacity\": 0.5});\n",
              "\tviewer_17054238310311291.addLabel(\"24\",{\"position\": {\"x\": -0.701366, \"y\": 2.47933, \"z\": 4.357371}, \"fontColor\": \"k\", \"fontSize\": 12, \"backgroundColor\": \"white\", \"backgroundOpacity\": 0.5});\n",
              "\tviewer_17054238310311291.addLabel(\"25\",{\"position\": {\"x\": 1.232822, \"y\": 3.848976, \"z\": 3.048147}, \"fontColor\": \"k\", \"fontSize\": 12, \"backgroundColor\": \"white\", \"backgroundOpacity\": 0.5});\n",
              "\tviewer_17054238310311291.addLabel(\"26\",{\"position\": {\"x\": 2.139947, \"y\": 1.379903, \"z\": 4.60505}, \"fontColor\": \"k\", \"fontSize\": 12, \"backgroundColor\": \"white\", \"backgroundOpacity\": 0.5});\n",
              "\tviewer_17054238310311291.addLabel(\"27\",{\"position\": {\"x\": -2.139947, \"y\": -1.379903, \"z\": -4.60505}, \"fontColor\": \"k\", \"fontSize\": 12, \"backgroundColor\": \"white\", \"backgroundOpacity\": 0.5});\n",
              "\tviewer_17054238310311291.addLabel(\"28\",{\"position\": {\"x\": -1.232822, \"y\": -3.848976, \"z\": -3.048147}, \"fontColor\": \"k\", \"fontSize\": 12, \"backgroundColor\": \"white\", \"backgroundOpacity\": 0.5});\n",
              "\tviewer_17054238310311291.addLabel(\"29\",{\"position\": {\"x\": 0.701366, \"y\": -2.47933, \"z\": -4.357371}, \"fontColor\": \"k\", \"fontSize\": 12, \"backgroundColor\": \"white\", \"backgroundOpacity\": 0.5});\n",
              "\tviewer_17054238310311291.addLabel(\"30\",{\"position\": {\"x\": -0.311064, \"y\": -1.237587, \"z\": -1.754256}, \"fontColor\": \"k\", \"fontSize\": 12, \"backgroundColor\": \"white\", \"backgroundOpacity\": 0.5});\n",
              "\tviewer_17054238310311291.addLabel(\"31\",{\"position\": {\"x\": 1.608492, \"y\": -4.948403, \"z\": -2.800468}, \"fontColor\": \"k\", \"fontSize\": 12, \"backgroundColor\": \"white\", \"backgroundOpacity\": 0.5});\n",
              "\tviewer_17054238310311291.addLabel(\"32\",{\"position\": {\"x\": 0.648714, \"y\": -3.092995, \"z\": -2.277362}, \"fontColor\": \"k\", \"fontSize\": 12, \"backgroundColor\": \"white\", \"backgroundOpacity\": 0.5});\n",
              "\tviewer_17054238310311291.addLabel(\"33\",{\"position\": {\"x\": 0.596062, \"y\": -3.706661, \"z\": -0.197353}, \"fontColor\": \"k\", \"fontSize\": 12, \"backgroundColor\": \"white\", \"backgroundOpacity\": 0.5});\n",
              "\tviewer_17054238310311291.addLabel(\"34\",{\"position\": {\"x\": 2.53025, \"y\": -2.337014, \"z\": -1.506576}, \"fontColor\": \"k\", \"fontSize\": 12, \"backgroundColor\": \"white\", \"backgroundOpacity\": 0.5});\n",
              "\tviewer_17054238310311291.addLabel(\"35\",{\"position\": {\"x\": 1.51782, \"y\": -1.095271, \"z\": 1.096539}, \"fontColor\": \"k\", \"fontSize\": 12, \"backgroundColor\": \"white\", \"backgroundOpacity\": 0.5});\n",
              "\tviewer_17054238310311291.addLabel(\"36\",{\"position\": {\"x\": 3.437375, \"y\": -4.806088, \"z\": 0.050327}, \"fontColor\": \"k\", \"fontSize\": 12, \"backgroundColor\": \"white\", \"backgroundOpacity\": 0.5});\n",
              "\tviewer_17054238310311291.addLabel(\"37\",{\"position\": {\"x\": -0.942269, \"y\": -4.795991, \"z\": 0.843921}, \"fontColor\": \"k\", \"fontSize\": 12, \"backgroundColor\": \"white\", \"backgroundOpacity\": 0.5});\n",
              "\tviewer_17054238310311291.addLabel(\"38\",{\"position\": {\"x\": 2.477597, \"y\": -2.95068, \"z\": 0.573433}, \"fontColor\": \"k\", \"fontSize\": 12, \"backgroundColor\": \"white\", \"backgroundOpacity\": 0.5});\n",
              "\tviewer_17054238310311291.addLabel(\"39\",{\"position\": {\"x\": 2.424945, \"y\": -3.564345, \"z\": 2.653442}, \"fontColor\": \"k\", \"fontSize\": 12, \"backgroundColor\": \"white\", \"backgroundOpacity\": 0.5});\n",
              "\tviewer_17054238310311291.addLabel(\"40\",{\"position\": {\"x\": 4.359133, \"y\": -2.194699, \"z\": 1.344219}, \"fontColor\": \"k\", \"fontSize\": 12, \"backgroundColor\": \"white\", \"backgroundOpacity\": 0.5});\n",
              "\tviewer_17054238310311291.addLabel(\"41\",{\"position\": {\"x\": 3.346703, \"y\": -0.952956, \"z\": 3.947334}, \"fontColor\": \"k\", \"fontSize\": 12, \"backgroundColor\": \"white\", \"backgroundOpacity\": 0.5});\n",
              "\tviewer_17054238310311291.addLabel(\"42\",{\"position\": {\"x\": -0.290553, \"y\": 0.947014, \"z\": -3.892068}, \"fontColor\": \"k\", \"fontSize\": 12, \"backgroundColor\": \"white\", \"backgroundOpacity\": 0.5});\n",
              "\tviewer_17054238310311291.addLabel(\"43\",{\"position\": {\"x\": 1.643635, \"y\": 2.316661, \"z\": -5.201291}, \"fontColor\": \"k\", \"fontSize\": 12, \"backgroundColor\": \"white\", \"backgroundOpacity\": 0.5});\n",
              "\tviewer_17054238310311291.addLabel(\"44\",{\"position\": {\"x\": 0.631206, \"y\": 3.558404, \"z\": -2.598176}, \"fontColor\": \"k\", \"fontSize\": 12, \"backgroundColor\": \"white\", \"backgroundOpacity\": 0.5});\n",
              "\tviewer_17054238310311291.addLabel(\"45\",{\"position\": {\"x\": 2.550761, \"y\": -0.152413, \"z\": -3.644388}, \"fontColor\": \"k\", \"fontSize\": 12, \"backgroundColor\": \"white\", \"backgroundOpacity\": 0.5});\n",
              "\tviewer_17054238310311291.addLabel(\"46\",{\"position\": {\"x\": -1.828884, \"y\": -0.142316, \"z\": -2.850795}, \"fontColor\": \"k\", \"fontSize\": 12, \"backgroundColor\": \"white\", \"backgroundOpacity\": 0.5});\n",
              "\tviewer_17054238310311291.addLabel(\"47\",{\"position\": {\"x\": 1.590983, \"y\": 1.702995, \"z\": -3.121282}, \"fontColor\": \"k\", \"fontSize\": 12, \"backgroundColor\": \"white\", \"backgroundOpacity\": 0.5});\n",
              "\tviewer_17054238310311291.addLabel(\"48\",{\"position\": {\"x\": 1.538331, \"y\": 1.08933, \"z\": -1.041273}, \"fontColor\": \"k\", \"fontSize\": 12, \"backgroundColor\": \"white\", \"backgroundOpacity\": 0.5});\n",
              "\tviewer_17054238310311291.addLabel(\"49\",{\"position\": {\"x\": 3.472519, \"y\": 2.458976, \"z\": -2.350497}, \"fontColor\": \"k\", \"fontSize\": 12, \"backgroundColor\": \"white\", \"backgroundOpacity\": 0.5});\n",
              "\tviewer_17054238310311291.addLabel(\"50\",{\"position\": {\"x\": 2.460089, \"y\": 3.700719, \"z\": 0.252618}, \"fontColor\": \"k\", \"fontSize\": 12, \"backgroundColor\": \"white\", \"backgroundOpacity\": 0.5});\n",
              "\tviewer_17054238310311291.addLabel(\"51\",{\"position\": {\"x\": 4.379644, \"y\": -0.010097, \"z\": -0.793594}, \"fontColor\": \"k\", \"fontSize\": 12, \"backgroundColor\": \"white\", \"backgroundOpacity\": 0.5});\n",
              "\tviewer_17054238310311291.addLabel(\"52\",{\"position\": {\"x\": 0.0, \"y\": 0.0, \"z\": 0.0}, \"fontColor\": \"k\", \"fontSize\": 12, \"backgroundColor\": \"white\", \"backgroundOpacity\": 0.5});\n",
              "\tviewer_17054238310311291.addLabel(\"53\",{\"position\": {\"x\": 3.419867, \"y\": 1.845311, \"z\": -0.270488}, \"fontColor\": \"k\", \"fontSize\": 12, \"backgroundColor\": \"white\", \"backgroundOpacity\": 0.5});\n",
              "\tviewer_17054238310311291.addLabel(\"54\",{\"position\": {\"x\": 3.367214, \"y\": 1.231646, \"z\": 1.809521}, \"fontColor\": \"k\", \"fontSize\": 12, \"backgroundColor\": \"white\", \"backgroundOpacity\": 0.5});\n",
              "\tviewer_17054238310311291.addLabel(\"55\",{\"position\": {\"x\": 5.301403, \"y\": 2.601292, \"z\": 0.500298}, \"fontColor\": \"k\", \"fontSize\": 12, \"backgroundColor\": \"white\", \"backgroundOpacity\": 0.5});\n",
              "\tviewer_17054238310311291.addLabel(\"56\",{\"position\": {\"x\": 1.828884, \"y\": 0.142316, \"z\": 2.850795}, \"fontColor\": \"k\", \"fontSize\": 12, \"backgroundColor\": \"white\", \"backgroundOpacity\": 0.5});\n",
              "\tviewer_17054238310311291.addLabel(\"57\",{\"position\": {\"x\": 0.942269, \"y\": 4.795991, \"z\": -0.843921}, \"fontColor\": \"k\", \"fontSize\": 12, \"backgroundColor\": \"white\", \"backgroundOpacity\": 0.5});\n",
              "\tviewer_17054238310311291.addLabel(\"58\",{\"position\": {\"x\": 4.068581, \"y\": -1.247684, \"z\": -2.547849}, \"fontColor\": \"k\", \"fontSize\": 12, \"backgroundColor\": \"white\", \"backgroundOpacity\": 0.5});\n",
              "\tviewer_17054238310311291.zoomTo();\n",
              "viewer_17054238310311291.render();\n",
              "});\n",
              "</script>"
            ]
          },
          "metadata": {},
          "output_type": "display_data"
        },
        {
          "name": "stdout",
          "output_type": "stream",
          "text": [
            "Cluster size is 5.926372577426853 A\n"
          ]
        }
      ],
      "source": [
        "test = ClusterNeighbor()\n",
        "test.load_xyz(fc.value)\n",
        "test.view_xyz(highlight_atom1=\"Pb\", highlight_atom2=\"O\", label=True)\n",
        "test.get_cluster_size()\n",
        "test.atoms.get_angle(1,4,0)\n",
        "test.get_pairs()\n",
        "test.get_CN(center_atom='O', error_bar=0.01)\n"
      ]
    },
    {
      "cell_type": "code",
      "execution_count": 46,
      "metadata": {},
      "outputs": [
        {
          "data": {
            "text/plain": [
              "2.153451725543435"
            ]
          },
          "execution_count": 46,
          "metadata": {},
          "output_type": "execute_result"
        }
      ],
      "source": [
        "test.atoms.get_distance(9, 8)"
      ]
    },
    {
      "cell_type": "code",
      "execution_count": 48,
      "metadata": {},
      "outputs": [
        {
          "data": {
            "text/plain": [
              "{2.15345127233584: 2.3636363636363638,\n",
              " 2.1692843565604814: 4.7272727272727275,\n",
              " 3.759464103600722: 3.272727272727273,\n",
              " 4.016148774568188: 3.272727272727273,\n",
              " 4.450974934970655: 5.818181818181818,\n",
              " 4.861048023898766: 1.2727272727272727,\n",
              " 5.062180336008796: 5.090909090909091,\n",
              " 5.262128217289388: 2.1818181818181817,\n",
              " 5.909023530218671: 2.1818181818181817,\n",
              " 5.926372243004845: 2.1818181818181817,\n",
              " 6.229254614092598: 3.6363636363636362,\n",
              " 6.541817358979242: 2.909090909090909,\n",
              " 6.659154270243802: 1.8181818181818181,\n",
              " 7.113771779844665: 0.7272727272727273,\n",
              " 7.340720537707306: 3.272727272727273,\n",
              " 7.472377961033679: 2.1818181818181817,\n",
              " 7.609254687726023: 0.7272727272727273,\n",
              " 7.752545874266088: 1.4545454545454546,\n",
              " 7.860522288892568: 2.1818181818181817,\n",
              " 8.08286153850564: 1.4545454545454546,\n",
              " 8.342552820814575: 0.7272727272727273,\n",
              " 8.536897202414814: 1.0909090909090908,\n",
              " 8.582446934276874: 0.36363636363636365,\n",
              " 8.768876438013006: 0.7272727272727273,\n",
              " 9.073544419622824: 0.36363636363636365,\n",
              " 9.170438672721607: 1.0909090909090908,\n",
              " 9.18286940183836: 0.7272727272727273,\n",
              " 9.686140004658345: 0.7272727272727273,\n",
              " 9.774631408241131: 0.36363636363636365,\n",
              " 9.79212057200065: 0.36363636363636365,\n",
              " 9.961182057980693: 0.7272727272727273}"
            ]
          },
          "execution_count": 48,
          "metadata": {},
          "output_type": "execute_result"
        }
      ],
      "source": [
        "test.CN['O-Pb']"
      ]
    },
    {
      "cell_type": "code",
      "execution_count": 10,
      "metadata": {},
      "outputs": [
        {
          "data": {
            "application/vnd.plotly.v1+json": {
              "config": {
                "plotlyServerURL": "https://plot.ly"
              },
              "data": [
                {
                  "marker": {
                    "line": {
                      "color": "white",
                      "width": 2
                    }
                  },
                  "name": "O-O",
                  "opacity": 0.6,
                  "type": "histogram",
                  "x": [
                    2.707597111234609,
                    3.0566564529017652,
                    3.0566567287356623,
                    3.390000392527558,
                    4.3385690169304665,
                    5.685714086883459,
                    5.685714073713961,
                    6.77999990213171,
                    7.3006497440416895,
                    5.32311827041256,
                    4.96000051201832,
                    7.136183806928533,
                    7.651558844446339,
                    5.323117663638387,
                    6.0078031218508645,
                    7.900457068694886,
                    9.029426473132277,
                    7.163783325983974,
                    8.400595718269866,
                    9.8434503879724,
                    9.863477158265688,
                    5.323117893749959,
                    4.9600001254252,
                    7.13618403098841,
                    5.323118008057871,
                    7.651559382651747,
                    6.007804068493828,
                    7.90045739099813,
                    7.163783217039652,
                    9.029427126098588,
                    8.400595245904482,
                    9.843450443733335,
                    9.86347704227855,
                    7.014499050184268,
                    9.722095952915812,
                    8.805611646114142,
                    8.80561126598472,
                    7.790719215083098,
                    10.29617675807428,
                    10.02611506084191,
                    10.02611515432822,
                    9.75559317608591,
                    11.852745154853706,
                    3.0566563245111475,
                    3.056655720941271,
                    4.338568638646737,
                    3.3899990120914487,
                    5.685713516962581,
                    5.685713271915583,
                    7.300648397150078,
                    6.779999404619001,
                    3.0566568375422847,
                    3.59725580307962,
                    4.960000322044647,
                    6.2891905640005055,
                    3.0566557255355074,
                    4.942908278160237,
                    6.00780348257406,
                    7.90810390016507,
                    5.685714305107319,
                    7.675196764340573,
                    8.400594592432371,
                    8.848487530271091,
                    3.0566561496476834,
                    3.5972544956452555,
                    4.959999818826206,
                    3.0566554169886406,
                    6.289189832744278,
                    4.94290820900257,
                    6.007802902870983,
                    5.685713679511219,
                    7.908103543416019,
                    7.6751957138076286,
                    8.400594326166335,
                    8.848487389944905,
                    4.306901938949853,
                    7.014498841681421,
                    6.289190584481043,
                    6.28918984262703,
                    5.481013257519543,
                    7.790718406587997,
                    7.908103565479842,
                    7.908103344095473,
                    8.032296867161472,
                    9.75559317608591,
                    4.30690217358428,
                    3.0566557209412704,
                    3.056655718156528,
                    3.389999012091449,
                    5.481012955792843,
                    5.685713753123174,
                    5.685713905377758,
                    4.942908911212708,
                    3.0566568375422842,
                    5.323117903203066,
                    4.960000322044647,
                    3.5972547831563166,
                    3.0566557255355074,
                    5.323117647291012,
                    6.007802660591974,
                    4.942908528347252,
                    5.685714305107318,
                    7.163782227818347,
                    7.675195901399065,
                    6.007803233341202,
                    6.2891896958268,
                    7.651558654264764,
                    4.959999818826206,
                    8.565148957510313,
                    6.289190423719813,
                    7.651558479581594,
                    6.007802902870981,
                    9.211616027270948,
                    7.908103543416019,
                    9.02942615828769,
                    8.400594326166335,
                    6.289189697362769,
                    8.80561034574901,
                    7.014499556037408,
                    8.23119719095886,
                    6.28918984262703,
                    8.805610731317334,
                    7.790718406587996,
                    8.901949214184723,
                    7.908103344095473,
                    10.02611515432822,
                    3.056656324511148,
                    3.0566557280410236,
                    5.481012988950492,
                    3.389998970110463,
                    5.685713417132542,
                    5.685714086883459,
                    6.0078034015168145,
                    6.289190269968066,
                    7.651558397072324,
                    8.56514885508279,
                    4.959999355111046,
                    6.2891896039828525,
                    7.651558600832251,
                    9.2116156533308,
                    6.0078031218508645,
                    7.908104122560034,
                    9.029426107575773,
                    8.400594592432371,
                    4.942908265448996,
                    3.0566561496476834,
                    5.323118070957566,
                    3.5972551178771015,
                    4.960000639104495,
                    3.0566564187670813,
                    5.323118008057872,
                    4.9429084458073875,
                    6.007803086859787,
                    5.685713655525752,
                    7.163782054910172,
                    7.675195869665933,
                    6.289189518299238,
                    8.805610552000639,
                    8.231197594367298,
                    7.014499050184267,
                    6.289189822848885,
                    8.805610511107677,
                    8.901949193026436,
                    7.790718406587996,
                    7.908103565479842,
                    10.02611506084191,
                    2.707596880415547,
                    3.056655728041024,
                    3.0566560778396386,
                    3.3899995096042423,
                    4.338569016930467,
                    7.163782865430875,
                    6.007803401516814,
                    7.900456484927817,
                    7.651558397072324,
                    5.323117235502709,
                    4.959999355111046,
                    7.136183403847886,
                    7.651557632744525,
                    5.323117663638387,
                    6.0078031218508645,
                    7.9004561819609505,
                    7.163782227818347,
                    7.163782572337187,
                    6.007803233341202,
                    7.900457162972596,
                    5.323118070957566,
                    7.651559318313817,
                    4.960000890653751,
                    7.136184030988411,
                    5.323118008057872,
                    7.651558786331057,
                    6.007803086859789,
                    7.90045636625613,
                    7.163782054910172,
                    7.790718406185722,
                    10.296176110791277,
                    8.80561101803583,
                    8.805610767833995,
                    7.014499050184267,
                    9.722095930599739,
                    8.805610511107677,
                    8.805610731317334,
                    7.790718406587997,
                    10.29617675807428,
                    3.0566563245111484,
                    3.0566565287107417,
                    4.33856889726336,
                    3.3900003925275586,
                    5.68571378075163,
                    4.942908301608376,
                    6.007802786530696,
                    6.28919009640033,
                    3.0566554234434076,
                    3.5972549799403986,
                    4.960000151899393,
                    6.289189883700045,
                    3.056656563829669,
                    4.942909118366329,
                    6.007803121850865,
                    5.685714305107319,
                    5.685713490857063,
                    4.942907821393901,
                    6.0078032333412015,
                    3.0566561496476834,
                    6.289190196180983,
                    3.5972558165754625,
                    4.9600001254252,
                    3.0566564349036676,
                    6.289190266156368,
                    4.942908535160448,
                    6.007803137285125,
                    5.6857141666419535,
                    5.481012702585263,
                    7.790718042089124,
                    6.28919002358221,
                    6.289189602506352,
                    4.306902169768893,
                    7.014499050184267,
                    6.289189822848885,
                    6.28918984262703,
                    5.481013257519543,
                    7.790719215083098,
                    4.306903035181777,
                    3.0566568254812316,
                    3.0566567287356623,
                    7.675196133487209,
                    5.68571378075163,
                    7.163781986310024,
                    6.007802786530696,
                    4.942907761325715,
                    3.056655423443408,
                    5.323117255643539,
                    4.959999184965759,
                    3.5972550532767347,
                    3.0566565638296685,
                    5.323117663638387,
                    4.942908528347252,
                    8.40059448981416,
                    7.908103556685825,
                    9.02942679998343,
                    6.007803233341202,
                    9.211616483799192,
                    6.2891908097851505,
                    7.6515586451223125,
                    4.9600001254252,
                    8.565149116811568,
                    6.289190266156368,
                    7.651558485716554,
                    6.007803137285126,
                    7.90810343839792,
                    10.026114111726487,
                    7.790718450519567,
                    8.901949291303339,
                    6.289189602506352,
                    8.805610767833995,
                    7.014499050184267,
                    8.23119719095886,
                    6.28918984262703,
                    8.80561126598472,
                    3.0566559932898896,
                    3.0566573072304,
                    8.40059486981184,
                    7.9081042090986005,
                    9.029426589493156,
                    9.211616525650316,
                    6.007802786530696,
                    6.28919009640033,
                    7.651559032791291,
                    8.565148878700766,
                    4.960000341873073,
                    6.289190832561928,
                    7.651558844446339,
                    6.007803943832888,
                    7.675195816339672,
                    5.685713439751339,
                    7.1637827229661974,
                    4.942908734973467,
                    6.007803374773595,
                    3.0566565511542185,
                    5.323118123199972,
                    3.59725598256977,
                    4.9600001254252,
                    3.056656434903668,
                    5.323117772489633,
                    4.942908718755486,
                    7.908103628599527,
                    10.026114691823299,
                    8.90195002651172,
                    7.790718450519567,
                    6.28919002358221,
                    8.80561101803583,
                    8.231197594367298,
                    7.014499556037408,
                    6.289190584481043,
                    8.805611646114142,
                    2.7075969027316455,
                    9.86347683780613,
                    8.400595193062454,
                    9.843449973938252,
                    9.029426788148017,
                    7.163781968747304,
                    6.007802934107859,
                    7.9004564813596065,
                    7.651558078710114,
                    5.323117255643539,
                    4.960000151899393,
                    7.136183403847887,
                    5.323117647291012,
                    9.863476312142135,
                    8.400594258505645,
                    9.843450112831679,
                    7.163782536951133,
                    9.02942650852057,
                    6.007803233341202,
                    7.900456311348289,
                    5.323117529289487,
                    7.651557981073201,
                    4.959999305146826,
                    7.136182649319733,
                    5.323116835005409,
                    9.755592411905592,
                    11.852743525247984,
                    10.026114691823299,
                    10.026114111726487,
                    7.790718042089124,
                    10.296176110791277,
                    8.805610552000639,
                    8.80561034574901,
                    7.014498841681421,
                    9.722095952915812,
                    8.848488058874239,
                    7.675196545974181,
                    8.400594656033881,
                    7.9081039530100385,
                    5.685713739611149,
                    4.942908207893103,
                    6.007802934107859,
                    6.289189460965061,
                    3.056655423443408,
                    3.597254979940399,
                    4.959999355111046,
                    3.0566557255355074,
                    8.848487861903015,
                    7.675196354901548,
                    8.40059542291771,
                    5.685714589741029,
                    7.908104402974078,
                    4.942909207028893,
                    6.007803233341202,
                    3.0566561496476834,
                    6.289190309431016,
                    3.597255223236322,
                    4.9599995566961494,
                    3.0566554370128145,
                    8.032297275033837,
                    9.755592411905592,
                    7.908103628599527,
                    7.90810343839792,
                    5.481012702585263,
                    7.790718406185722,
                    6.289189518299238,
                    6.289189697362769,
                    4.306901938949853,
                    7.014499050184268,
                    3.0566563245111475,
                    3.0566561513439816,
                    5.481013699951589,
                    3.389999811052945,
                    5.685714232765572,
                    5.685714332067256,
                    8.03229768133216,
                    6.780000203580381,
                    8.84848860362435,
                    8.84848775144013,
                    10.1699992156718,
                    2.7075969962446407,
                    5.323117608672009,
                    5.323117522272638,
                    4.338568184004258,
                    7.790718654711002,
                    7.16378279488393,
                    7.163782435255345,
                    7.300648786319405,
                    9.755593040658319,
                    9.863476707666573,
                    9.863476750605235,
                    10.524256138217275,
                    3.0566554370128145,
                    5.323116835005409,
                    4.942908718755486,
                    6.007803137285126,
                    5.6857141666419535,
                    7.163782054910172,
                    7.675195869665933,
                    8.400594326166335,
                    8.848487389944905,
                    9.86347704227855,
                    2.707596396878419,
                    3.0566561513439816,
                    3.056656158869198,
                    3.3899998110529443,
                    4.33856850489525,
                    5.685713847747353,
                    5.685714618671781,
                    6.7800002035803795,
                    7.300648751495308,
                    8.848487724033808,
                    5.323117955818845,
                    7.014499169828877,
                    7.5189282611916175,
                    5.323117522272638,
                    9.42109948323602,
                    7.790719412196861,
                    8.247810656805054,
                    7.163782435255346,
                    10.57077642179367,
                    9.755593040658317,
                    10.124360509632398,
                    9.863476750605235,
                    4.9599995566961494,
                    7.136182649319733,
                    5.323117772489633,
                    7.651558485716554,
                    6.007803137285125,
                    7.90045636625613,
                    7.163782054910172,
                    9.02942615828769,
                    8.400594326166335,
                    9.843450443733335,
                    3.0566563245111484,
                    3.0566565287107417,
                    4.338568921535073,
                    3.3899998530339204,
                    5.685714232765572,
                    5.685714528346372,
                    7.300649357449993,
                    6.77999936263795,
                    8.848487550824265,
                    5.323118064741003,
                    7.518927951057584,
                    7.014499412744077,
                    5.323117439750978,
                    9.421099149735609,
                    8.247810904840508,
                    7.790718654711002,
                    7.163782144443116,
                    10.57077628158169,
                    10.124360321405792,
                    9.755593040658317,
                    9.863476707666573,
                    3.597255223236322,
                    4.959999305146826,
                    3.056656434903668,
                    6.289190266156368,
                    4.942908535160448,
                    6.007803086859789,
                    5.685713655525752,
                    7.908103543416019,
                    7.6751957138076286,
                    8.400595245904482,
                    4.306903035181776,
                    3.0566565287107417,
                    3.0566557991860974,
                    3.3899998110529443,
                    5.481013968930474,
                    5.685714528346372,
                    5.685714073713961,
                    8.032297265293286,
                    7.790719201331415,
                    9.421099273773999,
                    9.421099750970743,
                    7.014499412744077,
                    11.321402032021078,
                    9.421100053318932,
                    9.42109948323602,
                    7.790718654711002,
                    11.818047480239365,
                    10.57077628158169,
                    10.57077642179367,
                    9.755593040658319,
                    6.289190309431016,
                    7.651557981073201,
                    4.9600001254252,
                    8.565149116811568,
                    6.289190266156368,
                    7.651558786331057,
                    6.007803086859787,
                    9.211616027270948,
                    7.908103543416019,
                    9.029427126098588,
                    3.0566563245111475,
                    3.0566570056727005,
                    5.481013699951588,
                    3.390000392527558,
                    5.685714619790286,
                    5.685714086883459,
                    6.779999404619001,
                    4.338568631648692,
                    5.323117135915478,
                    5.323117896874068,
                    2.7075963775623944,
                    7.014498996839404,
                    5.323117836864406,
                    5.323117637953721,
                    4.338568378791327,
                    7.790718654711002,
                    7.163782144443116,
                    7.163782435255346,
                    7.300648786319405,
                    3.0566561496476834,
                    5.323117529289487,
                    3.59725598256977,
                    4.9600001254252,
                    3.0566564349036676,
                    5.323118008057872,
                    4.9429084458073875,
                    6.007802902870981,
                    5.685713679511219,
                    7.163783217039652,
                    2.7075969027316455,
                    3.0566561513439816,
                    3.0566567287356623,
                    3.390000392527558,
                    4.338569016930467,
                    5.685713905377758,
                    7.163782574909292,
                    7.790718407310908,
                    8.247810977259421,
                    5.323117896874068,
                    9.421099416967692,
                    7.014499858436809,
                    7.518928312591362,
                    5.323117637953721,
                    9.42109948323602,
                    7.790718654711002,
                    8.247810656805054,
                    7.163782435255345,
                    6.007803233341202,
                    7.900456311348289,
                    5.323118123199972,
                    7.6515586451223125,
                    4.9600001254252,
                    7.136184030988411,
                    5.323118008057872,
                    7.651558479581594,
                    6.007802902870983,
                    7.90045739099813,
                    3.0566559182690156,
                    3.0566568254812316,
                    4.338568897263359,
                    3.389999509604242,
                    5.685713753123173,
                    7.163783134191738,
                    8.247810862487633,
                    7.790719785965928,
                    5.323118431369811,
                    9.421099825978546,
                    7.518929148056657,
                    7.014499858436809,
                    5.323117836864406,
                    9.421100053318932,
                    8.247810904840508,
                    7.790719412196861,
                    7.16378279488393,
                    4.942909207028893,
                    6.007803233341202,
                    3.0566565511542185,
                    6.2891908097851505,
                    3.5972558165754625,
                    4.960000890653751,
                    3.0566564187670813,
                    6.289190423719813,
                    4.94290820900257,
                    6.007804068493828,
                    4.306902619277106,
                    3.056656017711839,
                    3.056656647706118,
                    5.481012988622176,
                    9.755593169817251,
                    10.570775876763541,
                    10.570776728763786,
                    7.7907189919454805,
                    11.818047179377311,
                    9.421099825978546,
                    9.421099416967692,
                    7.014498996839404,
                    11.321402032021078,
                    9.421099149735609,
                    9.42109948323602,
                    7.790718654711002,
                    7.908104402974078,
                    9.02942650852057,
                    6.007803374773595,
                    9.211616483799192,
                    6.289190196180983,
                    7.651559318313817,
                    4.960000639104495,
                    8.565148957510313,
                    6.289189832744278,
                    7.651559382651747,
                    3.056656324511148,
                    3.056655728041024,
                    3.389999012091449,
                    7.3006493974068505,
                    7.163782639665584,
                    7.163783373554926,
                    4.338569583722728,
                    7.7907189919454805,
                    5.323118431369811,
                    5.323117896874068,
                    2.7075963775623944,
                    7.014499412744077,
                    5.323117439750978,
                    5.323117522272638,
                    4.338568184004258,
                    5.685714589741029,
                    7.163782536951133,
                    4.942908734973467,
                    6.007803233341202,
                    3.0566561496476834,
                    5.323118070957566,
                    3.5972551178771015,
                    4.959999818826206,
                    3.0566554169886406,
                    5.323118008057871,
                    2.7075968804155464,
                    3.056655718156528,
                    9.863477319033636,
                    9.755593224294255,
                    10.124361421145927,
                    7.163783373554926,
                    10.570776728763786,
                    7.790719785965928,
                    8.247810977259421,
                    5.323117896874068,
                    9.421099750970743,
                    7.014499412744077,
                    7.5189282611916175,
                    5.323117522272638,
                    8.40059542291771,
                    9.843450112831679,
                    7.1637827229661974,
                    9.02942679998343,
                    6.0078032333412015,
                    7.900457162972596,
                    5.323118070957566,
                    7.651558654264764,
                    4.959999818826206,
                    7.13618403098841,
                    3.056655720941271,
                    9.863476600307369,
                    10.124360022415047,
                    9.755593224294255,
                    7.163782639665584,
                    10.570775876763541,
                    8.247810862487633,
                    7.790718407310908,
                    5.323117135915478,
                    9.421099273773999,
                    7.518927951057584,
                    7.014499169828877,
                    5.323117608672009,
                    7.675196354901548,
                    8.400594258505645,
                    5.685713439751339,
                    7.908103556685825,
                    4.942907821393901,
                    6.007803233341202,
                    3.0566561496476834,
                    6.2891896958268,
                    3.5972544956452555,
                    4.9600001254252,
                    10.52425597459849,
                    9.863476600307369,
                    9.863477319033636,
                    7.3006493974068505,
                    9.755593169817251,
                    7.163783134191738,
                    7.163782574909292,
                    4.338568631648692,
                    7.790719201331415,
                    5.323118064741003,
                    5.323117955818845,
                    2.7075969962446407,
                    8.848487861903015,
                    9.863476312142135,
                    7.675195816339672,
                    8.40059448981416,
                    5.685713490857063,
                    7.163782572337187,
                    4.942908265448996,
                    6.007803233341202,
                    3.0566561496476834,
                    5.323117893749959,
                    3.056655720941271,
                    3.056655718156528,
                    3.389999012091449,
                    5.481012988622176,
                    5.685713753123173,
                    5.685713905377758,
                    6.779999404619001,
                    8.032297265293286,
                    8.848487550824265,
                    8.848487724033808,
                    10.1699992156718,
                    3.0566557255355074,
                    5.323117647291012,
                    6.007803943832888,
                    4.942908528347252,
                    5.685714305107319,
                    7.163782227818347,
                    8.400594592432371,
                    7.675195901399065,
                    8.848487530271091,
                    9.863477158265688,
                    2.7075968804155464,
                    3.056655728041024,
                    3.056656647706118,
                    3.389999509604242,
                    4.338569016930467,
                    5.685714086883459,
                    5.685714073713961,
                    6.77999936263795,
                    7.300648751495308,
                    8.84848775144013,
                    4.959999355111046,
                    7.136183403847887,
                    7.651558844446339,
                    5.323117663638387,
                    6.007803121850865,
                    7.9004561819609505,
                    9.029426107575773,
                    7.163782227818347,
                    8.400594592432371,
                    9.8434503879724,
                    3.056656324511148,
                    3.056656017711839,
                    4.338568897263359,
                    3.390000392527558,
                    5.685714619790286,
                    5.685714528346372,
                    7.300649357449993,
                    6.7800002035803795,
                    8.84848860362435,
                    3.597254979940399,
                    4.960000151899393,
                    6.289190832561928,
                    3.0566565638296685,
                    4.942909118366329,
                    6.0078031218508645,
                    7.908104122560034,
                    5.685714305107318,
                    7.675196764340573,
                    8.400595718269866,
                    4.306902619277106,
                    3.0566568254812316,
                    3.0566567287356623,
                    3.390000392527558,
                    5.481013968930474,
                    5.685714528346372,
                    5.685714618671781,
                    6.780000203580381,
                    3.056655423443408,
                    5.323117255643539,
                    4.960000341873073,
                    3.5972550532767347,
                    3.056656563829669,
                    5.323117663638387,
                    6.0078031218508645,
                    4.942908528347252,
                    5.685714305107319,
                    7.163783325983974,
                    3.0566559182690156,
                    3.0566561513439816,
                    5.481013699951588,
                    3.3899998110529443,
                    5.685714232765572,
                    5.685713847747353,
                    8.03229768133216,
                    6.289189460965061,
                    7.651558078710114,
                    8.565148878700766,
                    4.959999184965759,
                    6.289189883700045,
                    7.651557632744525,
                    9.2116156533308,
                    6.007802660591974,
                    7.90810390016507,
                    9.029426473132277,
                    2.7075969027316455,
                    3.0566570056727005,
                    3.0566557991860974,
                    3.3899998530339204,
                    4.33856850489525,
                    5.685714332067256,
                    6.007802934107859,
                    7.9004564813596065,
                    7.651559032791291,
                    5.323117255643539,
                    4.960000151899393,
                    7.136183403847886,
                    7.651558600832251,
                    5.323117647291012,
                    6.00780348257406,
                    7.900457068694886,
                    3.0566563245111475,
                    3.0566565287107417,
                    4.338568921535073,
                    3.3899998110529443,
                    5.685714232765572,
                    4.942908207893103,
                    6.007802934107859,
                    6.28919009640033,
                    3.056655423443408,
                    3.5972549799403986,
                    4.959999355111046,
                    6.2891896039828525,
                    3.0566557255355074,
                    4.942908278160237,
                    6.0078031218508645,
                    4.306903035181776,
                    3.0566565287107417,
                    3.056656158869198,
                    3.389999811052945,
                    5.685713739611149,
                    7.163781968747304,
                    6.007802786530696,
                    4.942907761325715,
                    3.0566554234434076,
                    5.323117235502709,
                    4.959999355111046,
                    3.5972547831563166,
                    3.0566557255355074,
                    5.323117663638387,
                    3.0566563245111484,
                    3.0566561513439816,
                    5.481013699951589,
                    7.9081039530100385,
                    9.029426788148017,
                    9.211616525650316,
                    6.007802786530696,
                    6.28919009640033,
                    7.651558397072324,
                    8.56514885508279,
                    4.960000322044647,
                    6.2891905640005055,
                    7.651558844446339,
                    2.707596396878419,
                    3.0566561513439816,
                    8.400594656033881,
                    9.843449973938252,
                    9.029426589493156,
                    7.163781986310024,
                    6.007802786530696,
                    7.900456484927817,
                    7.651558397072324,
                    5.323117903203066,
                    4.960000322044647,
                    7.136183806928533,
                    3.0566563245111475,
                    7.675196545974181,
                    8.400595193062454,
                    7.9081042090986005,
                    5.68571378075163,
                    4.942908301608376,
                    6.007803401516814,
                    6.289190269968066,
                    3.0566568375422842,
                    3.59725580307962,
                    4.96000051201832,
                    8.848488058874239,
                    9.86347683780613,
                    8.40059486981184,
                    7.675196133487209,
                    5.68571378075163,
                    7.163782865430875,
                    6.0078034015168145,
                    4.942908911212708,
                    3.0566568375422847,
                    5.32311827041256,
                    2.7075969027316455,
                    3.0566573072304,
                    3.0566567287356623,
                    3.3900003925275586,
                    4.338569016930467,
                    5.685714086883459,
                    5.685713905377758,
                    6.779999404619001,
                    7.3006497440416895,
                    3.0566559932898896,
                    3.0566568254812316,
                    4.33856889726336,
                    3.3899995096042423,
                    5.685713417132542,
                    5.685713753123174,
                    7.300648397150078,
                    6.77999990213171,
                    4.306903035181777,
                    3.0566565287107417,
                    3.0566560778396386,
                    3.389998970110463,
                    5.481012955792843,
                    5.685713271915583,
                    5.685714073713961,
                    3.0566563245111484,
                    3.056655728041024,
                    5.481012988950492,
                    3.389999012091449,
                    5.685713516962581,
                    5.685714086883459,
                    2.707596880415547,
                    3.0566557280410236,
                    3.056655718156528,
                    3.3899990120914487,
                    4.3385690169304665,
                    3.056656324511148,
                    3.0566557209412704,
                    4.338568638646737,
                    3.390000392527558,
                    4.30690217358428,
                    3.056655720941271,
                    3.0566567287356623,
                    3.0566563245111475,
                    3.0566564529017652,
                    2.707597111234609
                  ],
                  "xbins": {
                    "size": 0.1
                  }
                },
                {
                  "marker": {
                    "line": {
                      "color": "white",
                      "width": 2
                    }
                  },
                  "name": "Pb-Pb",
                  "opacity": 0.6,
                  "type": "histogram",
                  "x": [
                    3.389999551585221,
                    4.96000051201832,
                    3.8953589113382097,
                    6.007803121850865,
                    4.960000639104495,
                    3.89536002411754,
                    6.007803086859788,
                    3.895359603734038,
                    7.014499050184268,
                    3.895359642260776,
                    7.790719284521552,
                    6.177218821231688,
                    8.023529781647289,
                    8.023530078799606,
                    6.007802786530696,
                    3.89535926663177,
                    4.959999184965759,
                    6.007803233341202,
                    3.8953597053588003,
                    4.9599995566961494,
                    6.1772177815559495,
                    7.790717604903414,
                    3.895358802451707,
                    7.014499050184268,
                    3.895359572822386,
                    8.023529120960987,
                    8.023529090866313,
                    3.895359648067942,
                    3.3899998110529443,
                    7.014499412744077,
                    8.023530146459288,
                    7.790718776158719,
                    3.895360123458292,
                    4.9599995566961494,
                    3.8953593880793593,
                    6.007803086859788,
                    6.17721817291902,
                    3.8953587643272343,
                    8.023529474317145,
                    3.895359572822386,
                    8.023529615611011,
                    7.014499615521624,
                    8.023529474317145,
                    6.007803233341202,
                    8.023529090866313,
                    4.9600001254252,
                    8.023530078799606,
                    6.007803934930385,
                    7.014499556037408,
                    9.9200002508504,
                    7.7907189919454805,
                    8.023529631446625,
                    7.014499412744077,
                    6.177218849309939,
                    6.007803233341202,
                    3.8953594959727402,
                    4.960000639104495,
                    3.89535926663177,
                    3.8953600409197096,
                    8.023529615611011,
                    3.8953600409197096,
                    3.3899998110529443,
                    3.89535926663177,
                    4.959999184965759,
                    3.8953594959727402,
                    6.007803121850865,
                    6.177218849309939,
                    8.023529631446625,
                    3.895359572822386,
                    3.8953587643272343,
                    6.007803549093961,
                    8.023529120960987,
                    4.960000322044647,
                    8.023529781647289,
                    6.007803943832888,
                    9.920000644089294,
                    7.014499556037408,
                    6.17721817291902,
                    6.007802786530696,
                    3.8953593880793593,
                    4.96000051201832,
                    3.895360123458292,
                    8.023530146459288,
                    3.895359648067942,
                    3.895359572822386,
                    3.3900003925275586,
                    6.177218821231688,
                    6.780000785055117,
                    6.007803943832888,
                    6.007803934930385,
                    3.895358802451707,
                    3.389999551585221,
                    6.1772177815559495,
                    3.8953597053588003,
                    3.89535926663177,
                    3.895359642260776,
                    3.3900003925275586,
                    4.960000322044647,
                    4.9600001254252,
                    3.895359603734038,
                    3.89536002411754,
                    3.8953589113382097,
                    6.007803549093961,
                    6.007803233341202,
                    7.014499615521624
                  ],
                  "xbins": {
                    "size": 0.1
                  }
                },
                {
                  "marker": {
                    "line": {
                      "color": "white",
                      "width": 2
                    }
                  },
                  "name": "O-Pb",
                  "opacity": 0.6,
                  "type": "histogram",
                  "x": [
                    2.169284686124207,
                    5.262128445126458,
                    6.2292553441519,
                    5.062180011207523,
                    7.860522530003333,
                    6.229255221452561,
                    5.062181115933921,
                    7.8605223258321075,
                    4.8610479652998695,
                    8.538233334807677,
                    5.926372577426853,
                    9.792121388576074,
                    8.342553677063275,
                    9.686140231888139,
                    9.686140607874789,
                    2.169284331459341,
                    5.262127390131391,
                    4.450975479679594,
                    5.062179988353733,
                    6.5418173839209235,
                    4.450974387958889,
                    5.062180160702896,
                    6.541816512635692,
                    2.1534508540656323,
                    5.909022948915583,
                    4.016148433580736,
                    7.609254592632514,
                    7.113771940602538,
                    7.472378128217148,
                    7.472377983952165,
                    2.15345086394582,
                    4.016148129580008,
                    3.759464588053331,
                    2.1692838397874534,
                    5.062179987034044,
                    6.659154217358537,
                    5.909023740119682,
                    7.4723774959333396,
                    4.450974891356949,
                    7.337611635055988,
                    4.450974607092362,
                    8.082861669460947,
                    6.541817617844905,
                    7.3422744932364115,
                    9.171682507415694,
                    2.153451309638553,
                    4.016148357495275,
                    6.659154409644666,
                    5.909023115757967,
                    7.472377674128965,
                    3.7594644324053657,
                    2.1692846942955644,
                    5.0621795494350055,
                    4.4509746557089045,
                    7.33761149747491,
                    4.450974596513218,
                    8.08286153906746,
                    6.5418177637811805,
                    9.171682507701245,
                    7.342274717244377,
                    2.169284307187511,
                    2.1692843308063607,
                    4.016148357495276,
                    4.016148556131109,
                    5.262127817255393,
                    5.262128445126459,
                    5.062180715647062,
                    4.450975186934319,
                    6.229254728241574,
                    6.659154409644666,
                    3.7594638058720555,
                    4.450974540037047,
                    6.229254890838391,
                    7.472377674128965,
                    5.062180724054506,
                    6.541817799478292,
                    7.860522176635023,
                    7.7525456975264575,
                    5.062180419770518,
                    4.450974896298001,
                    6.229255208813571,
                    3.7594644324053657,
                    6.659154972463173,
                    4.450975708406192,
                    6.229255221452562,
                    5.062180673007435,
                    7.47237841361196,
                    6.541817406089534,
                    7.8605223258321075,
                    7.75254561538602,
                    5.909023393874575,
                    8.53823335694387,
                    7.337612786012219,
                    7.337612448757701,
                    5.90902378800475,
                    8.538233641778023,
                    8.08286153906746,
                    8.082861669460947,
                    7.609254592632514,
                    9.792121388576074,
                    2.1692843308063607,
                    6.229254728241574,
                    3.759463535578979,
                    6.229253999564555,
                    6.229255208813571,
                    3.7594647779306296,
                    6.229254345197987,
                    5.926372249368833,
                    8.538232869492726,
                    4.8610479652998695,
                    8.538233641778023,
                    5.926372577426854,
                    9.073544269730379,
                    9.073544569515267,
                    2.169284307187511,
                    4.450974824158412,
                    3.759464156295681,
                    4.450974817748917,
                    4.450974896298002,
                    3.7594645215334856,
                    4.450974701038414,
                    4.016148637516919,
                    5.909022689434014,
                    2.1534510848844466,
                    5.90902378800475,
                    4.016149722560776,
                    6.659154304465169,
                    6.6591542177624925,
                    2.153451309638553,
                    5.062179882444519,
                    2.1692841893956634,
                    3.759463442249306,
                    7.472378230830463,
                    5.909023953189647,
                    6.659154222184527,
                    6.541817315552232,
                    8.082860783729979,
                    4.4509746456516694,
                    7.337612448757701,
                    4.450975412769992,
                    7.342274368509052,
                    9.17168246215175,
                    2.153451725543435,
                    7.472378329074218,
                    5.909023740119682,
                    6.659154361468204,
                    5.062180511708863,
                    2.169283839787454,
                    3.7594638938330025,
                    6.541817390776741,
                    8.082861077779699,
                    4.45097501325586,
                    7.337612786012219,
                    4.450976037417075,
                    9.171683114295817,
                    7.342274720030162,
                    2.1692845900759545,
                    2.1692846861242074,
                    7.752545426391063,
                    6.5418171879942495,
                    7.860521647398473,
                    7.472377705083837,
                    5.062179315212569,
                    4.450974127514785,
                    6.229254099137232,
                    6.659153365262059,
                    3.759463442249306,
                    4.450974817748917,
                    6.229253999564555,
                    5.062179987034044,
                    7.7525451361461934,
                    6.541816868448933,
                    7.860522289545078,
                    5.062180166930943,
                    7.472378230830463,
                    4.450975346461267,
                    6.22925446589028,
                    3.7594638938330025,
                    6.659154222184527,
                    4.450974701038414,
                    6.2292540599208985,
                    5.0621797126159995,
                    7.609253846960358,
                    9.792119755425226,
                    8.082861077779699,
                    8.082860783729979,
                    5.909022689434014,
                    8.538232869492726,
                    7.33761149747491,
                    7.337611635055988,
                    5.909022948915583,
                    8.538233334807677,
                    7.860522317499074,
                    5.062180639734718,
                    6.229254099137232,
                    7.860522190781348,
                    5.062179849803442,
                    6.229253804297029,
                    8.342552506422841,
                    9.792119755425226,
                    5.926371762623992,
                    8.53823335694387,
                    4.861047987616045,
                    9.686139896535876,
                    9.686139282334578,
                    6.54181718799425,
                    5.062180682385902,
                    4.450974127514785,
                    6.541817811524714,
                    5.06218077154718,
                    4.450974855098263,
                    7.113772100998316,
                    7.609253846960358,
                    4.016148637516919,
                    5.909023393874575,
                    2.1534510848844466,
                    7.472377933616714,
                    7.472377732995904,
                    4.01614919757882,
                    6.541817380847389,
                    7.1137719852451,
                    5.9263718225465745,
                    7.860522816212037,
                    8.342552294039578,
                    2.1692839946088203,
                    5.0621797126159995,
                    5.262128069108638,
                    7.75254561538602,
                    8.582446964870217,
                    6.541817108157183,
                    7.8605223411349066,
                    2.1692846861242074,
                    4.016148800972519,
                    5.262128257534018,
                    7.342274529837058,
                    8.082862298109253,
                    8.768876287167302,
                    3.759464104896069,
                    6.2292540599208985,
                    5.062180254816199,
                    7.8605223258321075,
                    7.752546215997297,
                    5.926371682882537,
                    9.182869331607904,
                    2.169284307187511,
                    5.926372039966609,
                    5.262128416741366,
                    7.342274285960787,
                    9.182869600927642,
                    8.768876272249143,
                    3.7594644154787527,
                    4.450974701038414,
                    5.062180160702896,
                    6.541817406089534,
                    7.752545942479219,
                    4.016148433580736,
                    8.082861677102114,
                    2.153451309638553,
                    4.450975013255859,
                    4.016149135713339,
                    9.167950722382564,
                    9.961182387597418,
                    9.774631456183297,
                    5.909024154910945,
                    6.659154222184527,
                    5.909023740119682,
                    7.47237841361196,
                    7.609255021481998,
                    4.450974607092362,
                    9.961182010303997,
                    2.1534517255434356,
                    4.450974645651669,
                    4.01614919757882,
                    4.8610476872008785,
                    6.229254523443797,
                    5.926371822546574,
                    2.169284791861364,
                    3.7594638938330025,
                    2.1692841893956634,
                    5.062180673007435,
                    5.262128524009747,
                    4.450975427953405,
                    6.229254769306358,
                    2.169284614347781,
                    2.1692838187710706,
                    4.016148483753433,
                    4.016149135713339,
                    5.2621284167413656,
                    5.262127569299038,
                    7.113771092532708,
                    5.926372607006583,
                    7.3422745726891065,
                    7.342274929700808,
                    4.861048103105646,
                    9.167950722382564,
                    7.342275192674407,
                    7.342274529837058,
                    5.926371822546574,
                    9.774631456183297,
                    8.768876272249143,
                    8.768876287167302,
                    8.342552294039578,
                    4.450974855098263,
                    6.229253804297029,
                    3.7594638938330025,
                    6.659154222184527,
                    4.450974701038414,
                    6.229254345197987,
                    5.0621795494350055,
                    7.4723774959333396,
                    6.541816512635692,
                    7.8605223258321075,
                    2.1534510848844466,
                    2.1692846861242074,
                    7.342274623113807,
                    7.337612393375041,
                    7.342274529837058,
                    5.062180710572965,
                    6.22925446589028,
                    3.759464156295681,
                    6.229255221452562,
                    5.062180682385902,
                    4.861048471153008,
                    8.534224768447922,
                    4.861047987616045,
                    2.169284590075954,
                    7.3422750792746125,
                    8.534225243018666,
                    7.342275192674407,
                    5.062181373688324,
                    4.450975346461267,
                    3.7594645740283283,
                    4.450975708406192,
                    5.062180639734718,
                    2.1534515684214957,
                    7.337612875948008,
                    4.45097465326899,
                    2.1534513096385526,
                    9.774631360298965,
                    9.961181841336598,
                    9.167950722382564,
                    7.609255289829222,
                    7.472378230830463,
                    5.909023589688656,
                    6.659154972463173,
                    5.90902350848886,
                    4.450975430193476,
                    9.961181992684754,
                    4.450975412769992,
                    2.1534513096385535,
                    5.9263725565600405,
                    6.229254923600254,
                    4.861048103105646,
                    5.2621292690995345,
                    5.062180166930943,
                    2.169284791861364,
                    3.7594644324053657,
                    2.1692841893956634,
                    4.450975455174967,
                    6.2292546407860865,
                    4.016149722560776,
                    5.926372577426854,
                    6.541817617844906,
                    7.860522034364257,
                    8.08286109578143,
                    9.182869431033254,
                    6.2292546407860865,
                    9.961181992684754,
                    7.337612875948008,
                    8.534224768447922,
                    6.229254769306358,
                    9.961182010303997,
                    8.082861677102114,
                    9.182869331607904,
                    7.8605223411349066,
                    7.472377732995904,
                    9.686139282334578,
                    7.342274720030162,
                    9.17168246215175,
                    6.6591542177624925,
                    9.073544569515267,
                    7.342274717244377,
                    9.171682507415694,
                    7.472377983952165,
                    9.686140607874789,
                    2.1692843071875108,
                    2.1692843308063607,
                    4.016148129580008,
                    8.342552805732609,
                    8.768876189659995,
                    8.76887700297558,
                    5.9263725565600405,
                    9.774631360298965,
                    7.3422750792746125,
                    7.342274623113807,
                    4.8610476872008785,
                    9.167950722382564,
                    7.342274285960787,
                    7.342274529837058,
                    5.9263718225465745,
                    6.541817811524714,
                    7.860522190781348,
                    5.062180511708863,
                    7.472378230830463,
                    4.450974896298002,
                    6.229255208813571,
                    3.7594644324053657,
                    6.659154217358537,
                    4.450974387958889,
                    6.229255221452561,
                    8.76887700297558,
                    8.08286216701423,
                    7.342274929700808,
                    7.7525467862629505,
                    7.860522289545078,
                    5.062180710572964,
                    6.229255208813571,
                    3.759464156295681,
                    5.9263726402758365,
                    9.182869431033254,
                    8.768876189659995,
                    9.182869243784646,
                    7.3422745726891065,
                    7.752546173939502,
                    6.541816868448933,
                    5.0621800112075235,
                    4.450974896298001,
                    3.759463535578979,
                    4.016148873318568,
                    8.08286109578143,
                    8.342552805732609,
                    7.860522471473064,
                    5.926372607006583,
                    8.582446903683529,
                    7.7525451361461934,
                    5.262127987299245,
                    5.062180419770518,
                    2.169283839787454,
                    6.541817390776741,
                    7.860522034364257,
                    4.016148129580008,
                    6.541817390776741,
                    7.113771092532708,
                    2.169283839787454,
                    5.062179987034044,
                    5.262127987299245,
                    7.7525456975264575,
                    8.582446903683529,
                    7.860522471473064,
                    6.541817617844906,
                    2.1692843308063607,
                    4.016148873318568,
                    5.262127569299038,
                    3.759463535578979,
                    6.229253999564555,
                    5.0621800112075235,
                    7.860522176635023,
                    7.752546173939502,
                    9.182869243784646,
                    5.926372577426854,
                    2.1692843071875108,
                    5.9263726402758365,
                    5.2621284167413656,
                    3.759464156295681,
                    4.450974817748917,
                    5.062180710572964,
                    6.541817799478292,
                    7.7525467862629505,
                    8.08286216701423,
                    4.016149722560776,
                    2.1534513096385535,
                    4.450975455174967,
                    4.016149135713339,
                    2.1692841893956634,
                    3.759463442249306,
                    2.169284791861364,
                    5.062180724054506,
                    5.2621292690995345,
                    6.229254923600254,
                    4.450975412769992,
                    2.1534513096385526,
                    4.450975430193476,
                    4.016148483753433,
                    5.90902350848886,
                    6.659153365262059,
                    5.909023589688656,
                    7.472377674128965,
                    7.609255289829222,
                    9.961181841336598,
                    4.45097465326899,
                    2.169284590075954,
                    2.1692846861242074,
                    4.01614919757882,
                    4.016149135713339,
                    5.262128416741366,
                    5.262128257534018,
                    7.1137719852451,
                    4.450974127514785,
                    6.229254099137232,
                    6.659154361468204,
                    3.759463442249306,
                    4.450974817748917,
                    6.229253999564555,
                    7.472377674128965,
                    5.062179987034044,
                    6.5418173839209235,
                    7.860522530003333,
                    2.1534515684214957,
                    2.1692838187710706,
                    5.062180639734718,
                    6.229254099137232,
                    3.7594645740283283,
                    6.229254890838391,
                    5.062181373688324,
                    8.534225243018666,
                    4.861047987616045,
                    4.861048471153008,
                    2.169284614347781,
                    5.062180682385902,
                    4.450974127514785,
                    3.759464156295681,
                    4.450974540037047,
                    5.062180710572965,
                    7.337612393375041,
                    2.1534510848844466,
                    4.450975427953405,
                    2.1534517255434356,
                    5.262128524009747,
                    5.062179315212569,
                    2.1692841893956634,
                    3.7594638058720555,
                    2.169284791861364,
                    6.229254523443797,
                    4.450974645651669,
                    4.450974607092362,
                    2.153451309638553,
                    7.609255021481998,
                    7.472377705083837,
                    5.909023740119682,
                    6.659154409644666,
                    5.909024154910945,
                    9.961182387597418,
                    4.450975013255859,
                    4.016148433580736,
                    5.926371682882537,
                    6.541817108157183,
                    7.472377933616714,
                    9.686139896535876,
                    9.171683114295817,
                    7.342274368509052,
                    6.659154304465169,
                    9.073544269730379,
                    9.171682507701245,
                    7.3422744932364115,
                    7.472378128217148,
                    9.686140231888139,
                    2.169284307187511,
                    2.1692846861242074,
                    4.01614919757882,
                    6.54181718799425,
                    7.860522317499074,
                    7.472378329074218,
                    5.062179882444519,
                    4.450974824158412,
                    6.229254728241574,
                    6.659154409644666,
                    3.759464588053331,
                    4.450975479679594,
                    6.2292553441519,
                    7.752545942479219,
                    7.860521647398473,
                    5.062180160702896,
                    6.229254728241574,
                    3.7594644154787527,
                    9.182869600927642,
                    5.926372039966609,
                    7.752546215997297,
                    6.5418171879942495,
                    5.062180254816199,
                    4.450975186934319,
                    3.759464104896069,
                    8.082862298109253,
                    4.016148800972519,
                    8.582446964870217,
                    7.752545426391063,
                    5.262128069108638,
                    5.062180715647062,
                    2.1692839946088203,
                    7.860522816212037,
                    6.541817380847389,
                    2.1534510848844466,
                    2.1692846861242074,
                    4.016148637516919,
                    5.262128445126459,
                    7.113772100998316,
                    5.06218077154718,
                    5.062180682385902,
                    4.861047987616045,
                    2.1692845900759545,
                    5.926371762623992,
                    5.262127817255393,
                    8.342552506422841,
                    5.062179849803442,
                    5.062180639734718,
                    4.450976037417075,
                    2.153451725543435,
                    4.45097501325586,
                    4.016148556131109,
                    6.541817390776741,
                    2.169283839787454,
                    5.909023740119682,
                    4.450975412769992,
                    2.153451309638553,
                    4.4509746456516694,
                    4.016148357495276,
                    6.541817315552232,
                    5.909023953189647,
                    2.1692841893956634,
                    4.016149722560776,
                    5.926372577426854,
                    6.5418177637811805,
                    6.541817617844905,
                    7.113771940602538,
                    8.342553677063275,
                    2.169284307187511,
                    2.1692843308063607,
                    4.016148357495275,
                    4.016148129580008,
                    5.262127390131391,
                    5.262128445126458,
                    2.1534510848844466,
                    2.1692843308063607,
                    4.016148637516919,
                    3.7594645215334856,
                    3.759464156295681,
                    4.8610479652998695,
                    2.169284307187511,
                    5.926372249368833,
                    3.7594647779306296,
                    3.759463535578979,
                    4.450974596513218,
                    2.153451309638553,
                    4.4509746557089045,
                    2.1692846942955644,
                    5.909023115757967,
                    4.450974607092362,
                    2.15345086394582,
                    4.450974891356949,
                    5.909023740119682,
                    2.1692838397874534,
                    4.016148433580736,
                    5.926372577426853,
                    2.169284331459341,
                    2.169284686124207,
                    2.1534508540656323,
                    5.062180160702896,
                    5.062179988353733,
                    4.8610479652998695,
                    5.062181115933921,
                    5.062180011207523
                  ],
                  "xbins": {
                    "size": 0.1
                  }
                }
              ],
              "layout": {
                "barmode": "overlay",
                "height": 400,
                "plot_bgcolor": "rgba(0.02,0.02,0.02,0.02)",
                "template": {
                  "data": {
                    "bar": [
                      {
                        "error_x": {
                          "color": "#2a3f5f"
                        },
                        "error_y": {
                          "color": "#2a3f5f"
                        },
                        "marker": {
                          "line": {
                            "color": "#E5ECF6",
                            "width": 0.5
                          },
                          "pattern": {
                            "fillmode": "overlay",
                            "size": 10,
                            "solidity": 0.2
                          }
                        },
                        "type": "bar"
                      }
                    ],
                    "barpolar": [
                      {
                        "marker": {
                          "line": {
                            "color": "#E5ECF6",
                            "width": 0.5
                          },
                          "pattern": {
                            "fillmode": "overlay",
                            "size": 10,
                            "solidity": 0.2
                          }
                        },
                        "type": "barpolar"
                      }
                    ],
                    "carpet": [
                      {
                        "aaxis": {
                          "endlinecolor": "#2a3f5f",
                          "gridcolor": "white",
                          "linecolor": "white",
                          "minorgridcolor": "white",
                          "startlinecolor": "#2a3f5f"
                        },
                        "baxis": {
                          "endlinecolor": "#2a3f5f",
                          "gridcolor": "white",
                          "linecolor": "white",
                          "minorgridcolor": "white",
                          "startlinecolor": "#2a3f5f"
                        },
                        "type": "carpet"
                      }
                    ],
                    "choropleth": [
                      {
                        "colorbar": {
                          "outlinewidth": 0,
                          "ticks": ""
                        },
                        "type": "choropleth"
                      }
                    ],
                    "contour": [
                      {
                        "colorbar": {
                          "outlinewidth": 0,
                          "ticks": ""
                        },
                        "colorscale": [
                          [
                            0,
                            "#0d0887"
                          ],
                          [
                            0.1111111111111111,
                            "#46039f"
                          ],
                          [
                            0.2222222222222222,
                            "#7201a8"
                          ],
                          [
                            0.3333333333333333,
                            "#9c179e"
                          ],
                          [
                            0.4444444444444444,
                            "#bd3786"
                          ],
                          [
                            0.5555555555555556,
                            "#d8576b"
                          ],
                          [
                            0.6666666666666666,
                            "#ed7953"
                          ],
                          [
                            0.7777777777777778,
                            "#fb9f3a"
                          ],
                          [
                            0.8888888888888888,
                            "#fdca26"
                          ],
                          [
                            1,
                            "#f0f921"
                          ]
                        ],
                        "type": "contour"
                      }
                    ],
                    "contourcarpet": [
                      {
                        "colorbar": {
                          "outlinewidth": 0,
                          "ticks": ""
                        },
                        "type": "contourcarpet"
                      }
                    ],
                    "heatmap": [
                      {
                        "colorbar": {
                          "outlinewidth": 0,
                          "ticks": ""
                        },
                        "colorscale": [
                          [
                            0,
                            "#0d0887"
                          ],
                          [
                            0.1111111111111111,
                            "#46039f"
                          ],
                          [
                            0.2222222222222222,
                            "#7201a8"
                          ],
                          [
                            0.3333333333333333,
                            "#9c179e"
                          ],
                          [
                            0.4444444444444444,
                            "#bd3786"
                          ],
                          [
                            0.5555555555555556,
                            "#d8576b"
                          ],
                          [
                            0.6666666666666666,
                            "#ed7953"
                          ],
                          [
                            0.7777777777777778,
                            "#fb9f3a"
                          ],
                          [
                            0.8888888888888888,
                            "#fdca26"
                          ],
                          [
                            1,
                            "#f0f921"
                          ]
                        ],
                        "type": "heatmap"
                      }
                    ],
                    "heatmapgl": [
                      {
                        "colorbar": {
                          "outlinewidth": 0,
                          "ticks": ""
                        },
                        "colorscale": [
                          [
                            0,
                            "#0d0887"
                          ],
                          [
                            0.1111111111111111,
                            "#46039f"
                          ],
                          [
                            0.2222222222222222,
                            "#7201a8"
                          ],
                          [
                            0.3333333333333333,
                            "#9c179e"
                          ],
                          [
                            0.4444444444444444,
                            "#bd3786"
                          ],
                          [
                            0.5555555555555556,
                            "#d8576b"
                          ],
                          [
                            0.6666666666666666,
                            "#ed7953"
                          ],
                          [
                            0.7777777777777778,
                            "#fb9f3a"
                          ],
                          [
                            0.8888888888888888,
                            "#fdca26"
                          ],
                          [
                            1,
                            "#f0f921"
                          ]
                        ],
                        "type": "heatmapgl"
                      }
                    ],
                    "histogram": [
                      {
                        "marker": {
                          "pattern": {
                            "fillmode": "overlay",
                            "size": 10,
                            "solidity": 0.2
                          }
                        },
                        "type": "histogram"
                      }
                    ],
                    "histogram2d": [
                      {
                        "colorbar": {
                          "outlinewidth": 0,
                          "ticks": ""
                        },
                        "colorscale": [
                          [
                            0,
                            "#0d0887"
                          ],
                          [
                            0.1111111111111111,
                            "#46039f"
                          ],
                          [
                            0.2222222222222222,
                            "#7201a8"
                          ],
                          [
                            0.3333333333333333,
                            "#9c179e"
                          ],
                          [
                            0.4444444444444444,
                            "#bd3786"
                          ],
                          [
                            0.5555555555555556,
                            "#d8576b"
                          ],
                          [
                            0.6666666666666666,
                            "#ed7953"
                          ],
                          [
                            0.7777777777777778,
                            "#fb9f3a"
                          ],
                          [
                            0.8888888888888888,
                            "#fdca26"
                          ],
                          [
                            1,
                            "#f0f921"
                          ]
                        ],
                        "type": "histogram2d"
                      }
                    ],
                    "histogram2dcontour": [
                      {
                        "colorbar": {
                          "outlinewidth": 0,
                          "ticks": ""
                        },
                        "colorscale": [
                          [
                            0,
                            "#0d0887"
                          ],
                          [
                            0.1111111111111111,
                            "#46039f"
                          ],
                          [
                            0.2222222222222222,
                            "#7201a8"
                          ],
                          [
                            0.3333333333333333,
                            "#9c179e"
                          ],
                          [
                            0.4444444444444444,
                            "#bd3786"
                          ],
                          [
                            0.5555555555555556,
                            "#d8576b"
                          ],
                          [
                            0.6666666666666666,
                            "#ed7953"
                          ],
                          [
                            0.7777777777777778,
                            "#fb9f3a"
                          ],
                          [
                            0.8888888888888888,
                            "#fdca26"
                          ],
                          [
                            1,
                            "#f0f921"
                          ]
                        ],
                        "type": "histogram2dcontour"
                      }
                    ],
                    "mesh3d": [
                      {
                        "colorbar": {
                          "outlinewidth": 0,
                          "ticks": ""
                        },
                        "type": "mesh3d"
                      }
                    ],
                    "parcoords": [
                      {
                        "line": {
                          "colorbar": {
                            "outlinewidth": 0,
                            "ticks": ""
                          }
                        },
                        "type": "parcoords"
                      }
                    ],
                    "pie": [
                      {
                        "automargin": true,
                        "type": "pie"
                      }
                    ],
                    "scatter": [
                      {
                        "fillpattern": {
                          "fillmode": "overlay",
                          "size": 10,
                          "solidity": 0.2
                        },
                        "type": "scatter"
                      }
                    ],
                    "scatter3d": [
                      {
                        "line": {
                          "colorbar": {
                            "outlinewidth": 0,
                            "ticks": ""
                          }
                        },
                        "marker": {
                          "colorbar": {
                            "outlinewidth": 0,
                            "ticks": ""
                          }
                        },
                        "type": "scatter3d"
                      }
                    ],
                    "scattercarpet": [
                      {
                        "marker": {
                          "colorbar": {
                            "outlinewidth": 0,
                            "ticks": ""
                          }
                        },
                        "type": "scattercarpet"
                      }
                    ],
                    "scattergeo": [
                      {
                        "marker": {
                          "colorbar": {
                            "outlinewidth": 0,
                            "ticks": ""
                          }
                        },
                        "type": "scattergeo"
                      }
                    ],
                    "scattergl": [
                      {
                        "marker": {
                          "colorbar": {
                            "outlinewidth": 0,
                            "ticks": ""
                          }
                        },
                        "type": "scattergl"
                      }
                    ],
                    "scattermapbox": [
                      {
                        "marker": {
                          "colorbar": {
                            "outlinewidth": 0,
                            "ticks": ""
                          }
                        },
                        "type": "scattermapbox"
                      }
                    ],
                    "scatterpolar": [
                      {
                        "marker": {
                          "colorbar": {
                            "outlinewidth": 0,
                            "ticks": ""
                          }
                        },
                        "type": "scatterpolar"
                      }
                    ],
                    "scatterpolargl": [
                      {
                        "marker": {
                          "colorbar": {
                            "outlinewidth": 0,
                            "ticks": ""
                          }
                        },
                        "type": "scatterpolargl"
                      }
                    ],
                    "scatterternary": [
                      {
                        "marker": {
                          "colorbar": {
                            "outlinewidth": 0,
                            "ticks": ""
                          }
                        },
                        "type": "scatterternary"
                      }
                    ],
                    "surface": [
                      {
                        "colorbar": {
                          "outlinewidth": 0,
                          "ticks": ""
                        },
                        "colorscale": [
                          [
                            0,
                            "#0d0887"
                          ],
                          [
                            0.1111111111111111,
                            "#46039f"
                          ],
                          [
                            0.2222222222222222,
                            "#7201a8"
                          ],
                          [
                            0.3333333333333333,
                            "#9c179e"
                          ],
                          [
                            0.4444444444444444,
                            "#bd3786"
                          ],
                          [
                            0.5555555555555556,
                            "#d8576b"
                          ],
                          [
                            0.6666666666666666,
                            "#ed7953"
                          ],
                          [
                            0.7777777777777778,
                            "#fb9f3a"
                          ],
                          [
                            0.8888888888888888,
                            "#fdca26"
                          ],
                          [
                            1,
                            "#f0f921"
                          ]
                        ],
                        "type": "surface"
                      }
                    ],
                    "table": [
                      {
                        "cells": {
                          "fill": {
                            "color": "#EBF0F8"
                          },
                          "line": {
                            "color": "white"
                          }
                        },
                        "header": {
                          "fill": {
                            "color": "#C8D4E3"
                          },
                          "line": {
                            "color": "white"
                          }
                        },
                        "type": "table"
                      }
                    ]
                  },
                  "layout": {
                    "annotationdefaults": {
                      "arrowcolor": "#2a3f5f",
                      "arrowhead": 0,
                      "arrowwidth": 1
                    },
                    "autotypenumbers": "strict",
                    "coloraxis": {
                      "colorbar": {
                        "outlinewidth": 0,
                        "ticks": ""
                      }
                    },
                    "colorscale": {
                      "diverging": [
                        [
                          0,
                          "#8e0152"
                        ],
                        [
                          0.1,
                          "#c51b7d"
                        ],
                        [
                          0.2,
                          "#de77ae"
                        ],
                        [
                          0.3,
                          "#f1b6da"
                        ],
                        [
                          0.4,
                          "#fde0ef"
                        ],
                        [
                          0.5,
                          "#f7f7f7"
                        ],
                        [
                          0.6,
                          "#e6f5d0"
                        ],
                        [
                          0.7,
                          "#b8e186"
                        ],
                        [
                          0.8,
                          "#7fbc41"
                        ],
                        [
                          0.9,
                          "#4d9221"
                        ],
                        [
                          1,
                          "#276419"
                        ]
                      ],
                      "sequential": [
                        [
                          0,
                          "#0d0887"
                        ],
                        [
                          0.1111111111111111,
                          "#46039f"
                        ],
                        [
                          0.2222222222222222,
                          "#7201a8"
                        ],
                        [
                          0.3333333333333333,
                          "#9c179e"
                        ],
                        [
                          0.4444444444444444,
                          "#bd3786"
                        ],
                        [
                          0.5555555555555556,
                          "#d8576b"
                        ],
                        [
                          0.6666666666666666,
                          "#ed7953"
                        ],
                        [
                          0.7777777777777778,
                          "#fb9f3a"
                        ],
                        [
                          0.8888888888888888,
                          "#fdca26"
                        ],
                        [
                          1,
                          "#f0f921"
                        ]
                      ],
                      "sequentialminus": [
                        [
                          0,
                          "#0d0887"
                        ],
                        [
                          0.1111111111111111,
                          "#46039f"
                        ],
                        [
                          0.2222222222222222,
                          "#7201a8"
                        ],
                        [
                          0.3333333333333333,
                          "#9c179e"
                        ],
                        [
                          0.4444444444444444,
                          "#bd3786"
                        ],
                        [
                          0.5555555555555556,
                          "#d8576b"
                        ],
                        [
                          0.6666666666666666,
                          "#ed7953"
                        ],
                        [
                          0.7777777777777778,
                          "#fb9f3a"
                        ],
                        [
                          0.8888888888888888,
                          "#fdca26"
                        ],
                        [
                          1,
                          "#f0f921"
                        ]
                      ]
                    },
                    "colorway": [
                      "#636efa",
                      "#EF553B",
                      "#00cc96",
                      "#ab63fa",
                      "#FFA15A",
                      "#19d3f3",
                      "#FF6692",
                      "#B6E880",
                      "#FF97FF",
                      "#FECB52"
                    ],
                    "font": {
                      "color": "#2a3f5f"
                    },
                    "geo": {
                      "bgcolor": "white",
                      "lakecolor": "white",
                      "landcolor": "#E5ECF6",
                      "showlakes": true,
                      "showland": true,
                      "subunitcolor": "white"
                    },
                    "hoverlabel": {
                      "align": "left"
                    },
                    "hovermode": "closest",
                    "mapbox": {
                      "style": "light"
                    },
                    "paper_bgcolor": "white",
                    "plot_bgcolor": "#E5ECF6",
                    "polar": {
                      "angularaxis": {
                        "gridcolor": "white",
                        "linecolor": "white",
                        "ticks": ""
                      },
                      "bgcolor": "#E5ECF6",
                      "radialaxis": {
                        "gridcolor": "white",
                        "linecolor": "white",
                        "ticks": ""
                      }
                    },
                    "scene": {
                      "xaxis": {
                        "backgroundcolor": "#E5ECF6",
                        "gridcolor": "white",
                        "gridwidth": 2,
                        "linecolor": "white",
                        "showbackground": true,
                        "ticks": "",
                        "zerolinecolor": "white"
                      },
                      "yaxis": {
                        "backgroundcolor": "#E5ECF6",
                        "gridcolor": "white",
                        "gridwidth": 2,
                        "linecolor": "white",
                        "showbackground": true,
                        "ticks": "",
                        "zerolinecolor": "white"
                      },
                      "zaxis": {
                        "backgroundcolor": "#E5ECF6",
                        "gridcolor": "white",
                        "gridwidth": 2,
                        "linecolor": "white",
                        "showbackground": true,
                        "ticks": "",
                        "zerolinecolor": "white"
                      }
                    },
                    "shapedefaults": {
                      "line": {
                        "color": "#2a3f5f"
                      }
                    },
                    "ternary": {
                      "aaxis": {
                        "gridcolor": "white",
                        "linecolor": "white",
                        "ticks": ""
                      },
                      "baxis": {
                        "gridcolor": "white",
                        "linecolor": "white",
                        "ticks": ""
                      },
                      "bgcolor": "#E5ECF6",
                      "caxis": {
                        "gridcolor": "white",
                        "linecolor": "white",
                        "ticks": ""
                      }
                    },
                    "title": {
                      "x": 0.05
                    },
                    "xaxis": {
                      "automargin": true,
                      "gridcolor": "white",
                      "linecolor": "white",
                      "ticks": "",
                      "title": {
                        "standoff": 15
                      },
                      "zerolinecolor": "white",
                      "zerolinewidth": 2
                    },
                    "yaxis": {
                      "automargin": true,
                      "gridcolor": "white",
                      "linecolor": "white",
                      "ticks": "",
                      "title": {
                        "standoff": 15
                      },
                      "zerolinecolor": "white",
                      "zerolinewidth": 2
                    }
                  }
                },
                "width": 600,
                "xaxis": {
                  "tickmode": "auto",
                  "title": {
                    "text": "Distances [A]"
                  }
                },
                "yaxis": {
                  "title": {
                    "text": "pairs"
                  }
                }
              }
            }
          },
          "metadata": {},
          "output_type": "display_data"
        }
      ],
      "source": [
        "test.get_CN(center_atom='Pb', error_bar=0.01)\n",
        "test.CN['O-Pb']\n",
        "test.get_CN(center_atom='O', error_bar=0.01)\n",
        "test.CN['O-O']\n",
        "test.get_CN(center_atom='Pb', error_bar=0.01)\n",
        "test.CN['Pb-Pb']\n",
        "\n",
        "test.plot_hist(binsize=0.1)\n"
      ]
    },
    {
      "cell_type": "code",
      "execution_count": 43,
      "metadata": {},
      "outputs": [
        {
          "data": {
            "text/plain": [
              "{2.707596806026806: 0.7272727272727273,\n",
              " 3.056656193800888: 5.090909090909091,\n",
              " 3.389999705849734: 1.2727272727272727,\n",
              " 3.5972552235297384: 0.9090909090909091,\n",
              " 4.306902524919862: 0.5,\n",
              " 4.338568791573196: 1.0,\n",
              " 4.942908473302007: 1.4545454545454546,\n",
              " 4.95999997915164: 1.8181818181818181,\n",
              " 5.323117733597045: 2.909090909090909,\n",
              " 5.4810132827879965: 0.7272727272727273,\n",
              " 5.685714003439255: 2.909090909090909,\n",
              " 6.007803167949652: 2.5454545454545454,\n",
              " 6.289190064263103: 2.1818181818181817,\n",
              " 6.779999746861404: 0.5454545454545454,\n",
              " 7.014499239886487: 0.9090909090909091,\n",
              " 7.1361835543201435: 0.5454545454545454,\n",
              " 7.163782564669132: 1.8181818181818181,\n",
              " 7.300649072310556: 0.5454545454545454,\n",
              " 7.518928314191071: 0.2727272727272727,\n",
              " 7.6515585975731595: 1.4545454545454546,\n",
              " 7.6751961374894755: 0.7272727272727273,\n",
              " 7.790718763566937: 1.2727272727272727,\n",
              " 7.905044932820843: 1.8181818181818181,\n",
              " 8.032297339241033: 0.2727272727272727,\n",
              " 8.231197392663079: 0.18181818181818182,\n",
              " 8.247810850348154: 0.36363636363636365,\n",
              " 8.400594807626454: 1.0909090909090908,\n",
              " 8.565148952026359: 0.36363636363636365,\n",
              " 8.805610854767918: 0.7272727272727273,\n",
              " 8.848487808864476: 0.7272727272727273,\n",
              " 8.901949431256554: 0.18181818181818182,\n",
              " 9.029426568904938: 0.7272727272727273,\n",
              " 9.211616172512812: 0.36363636363636365,\n",
              " 9.421099554652194: 0.7272727272727273,\n",
              " 9.72209594547712: 0.13636363636363635,\n",
              " 9.75559301056994: 0.5454545454545454,\n",
              " 9.843450229618917: 0.36363636363636365,\n",
              " 9.863476841013163: 0.7272727272727273,\n",
              " 10.02611475467998: 0.36363636363636365,\n",
              " 10.124360568649792: 0.18181818181818182,\n",
              " 10.1699992156718: 0.09090909090909091,\n",
              " 10.296176434432779: 0.18181818181818182,\n",
              " 10.524256056407882: 0.09090909090909091,\n",
              " 10.570776327225673: 0.36363636363636365,\n",
              " 11.321402032021078: 0.09090909090909091,\n",
              " 11.818047329808337: 0.09090909090909091,\n",
              " 11.852744340050844: 0.09090909090909091}"
            ]
          },
          "execution_count": 43,
          "metadata": {},
          "output_type": "execute_result"
        }
      ],
      "source": [
        "test.CN['O-O']\n"
      ]
    },
    {
      "cell_type": "code",
      "execution_count": 18,
      "metadata": {},
      "outputs": [
        {
          "name": "stdout",
          "output_type": "stream",
          "text": [
            "\u001b[0;31mSignature:\u001b[0m \u001b[0matoms\u001b[0m\u001b[0;34m.\u001b[0m\u001b[0mpop\u001b[0m\u001b[0;34m(\u001b[0m\u001b[0mi\u001b[0m\u001b[0;34m=\u001b[0m\u001b[0;34m-\u001b[0m\u001b[0;36m1\u001b[0m\u001b[0;34m)\u001b[0m\u001b[0;34m\u001b[0m\u001b[0;34m\u001b[0m\u001b[0m\n",
            "\u001b[0;31mDocstring:\u001b[0m Remove and return atom at index *i* (default last).\n",
            "\u001b[0;31mFile:\u001b[0m      ~/.local/lib/python3.10/site-packages/ase/atoms.py\n",
            "\u001b[0;31mType:\u001b[0m      method"
          ]
        }
      ],
      "source": [
        "atoms.pop?"
      ]
    },
    {
      "cell_type": "code",
      "execution_count": 36,
      "metadata": {},
      "outputs": [
        {
          "data": {
            "application/3dmoljs_load.v0": "<div id=\"3dmolviewer_17054218676505952\"  style=\"position: relative; width: 500px; height: 500px;\">\n        <p id=\"3dmolwarning_17054218676505952\" style=\"background-color:#ffcccc;color:black\">You appear to be running in JupyterLab (or JavaScript failed to load for some other reason).  You need to install the 3dmol extension: <br>\n        <tt>jupyter labextension install jupyterlab_3dmol</tt></p>\n        </div>\n<script>\n\nvar loadScriptAsync = function(uri){\n  return new Promise((resolve, reject) => {\n    //this is to ignore the existence of requirejs amd\n    var savedexports, savedmodule;\n    if (typeof exports !== 'undefined') savedexports = exports;\n    else exports = {}\n    if (typeof module !== 'undefined') savedmodule = module;\n    else module = {}\n\n    var tag = document.createElement('script');\n    tag.src = uri;\n    tag.async = true;\n    tag.onload = () => {\n        exports = savedexports;\n        module = savedmodule;\n        resolve();\n    };\n  var firstScriptTag = document.getElementsByTagName('script')[0];\n  firstScriptTag.parentNode.insertBefore(tag, firstScriptTag);\n});\n};\n\nif(typeof $3Dmolpromise === 'undefined') {\n$3Dmolpromise = null;\n  $3Dmolpromise = loadScriptAsync('https://cdnjs.cloudflare.com/ajax/libs/3Dmol/2.0.4/3Dmol-min.js');\n}\n\nvar viewer_17054218676505952 = null;\nvar warn = document.getElementById(\"3dmolwarning_17054218676505952\");\nif(warn) {\n    warn.parentNode.removeChild(warn);\n}\n$3Dmolpromise.then(function() {\nviewer_17054218676505952 = $3Dmol.createViewer(document.getElementById(\"3dmolviewer_17054218676505952\"),{backgroundColor:\"white\"});\nviewer_17054218676505952.zoomTo();\n\tviewer_17054218676505952.addModel(\"12\\n\\nO -5.301403 -2.601292 -0.500298\\nO -3.367214 -1.231646 -1.809521\\nO -4.379644 0.010097 0.793594\\nO -2.460089 -3.700719 -0.252618\\nPb -3.419867 -1.845311 0.270488\\nO -3.472519 -2.458976 2.350497\\nO -1.538331 -1.08933 1.041273\\nO -2.550761 0.152413 3.644388\\nO -0.631206 -3.558404 2.598176\\nPb -1.590983 -1.702995 3.121282\\nO -1.643635 -2.316661 5.201291\\nO 0.290553 -0.947014 3.892068\\n\",\"xyz\");\n\tviewer_17054218676505952.setStyle({\"stick\": {\"radius\": 0.1, \"alpha\": 0.2, \"color\": \"gray\"}, \"sphere\": {\"radius\": 0.3}});\n\tviewer_17054218676505952.addStyle({\"atom\": \"Pb\"},{\"sphere\": {\"color\": \"red\", \"radius\": 0.5}});\n\tviewer_17054218676505952.addStyle({\"atom\": \"O\"},{\"sphere\": {\"color\": \"blue\", \"radius\": 0.3}});\n\tviewer_17054218676505952.setBackgroundColor(\"0xeeeeee\");\n\tviewer_17054218676505952.addLabel(\"0\",{\"position\": {\"x\": -5.301403, \"y\": -2.601292, \"z\": -0.500298}, \"fontColor\": \"k\", \"fontSize\": 12, \"backgroundColor\": \"white\", \"backgroundOpacity\": 0.5});\n\tviewer_17054218676505952.addLabel(\"1\",{\"position\": {\"x\": -3.367214, \"y\": -1.231646, \"z\": -1.809521}, \"fontColor\": \"k\", \"fontSize\": 12, \"backgroundColor\": \"white\", \"backgroundOpacity\": 0.5});\n\tviewer_17054218676505952.addLabel(\"2\",{\"position\": {\"x\": -4.379644, \"y\": 0.010097, \"z\": 0.793594}, \"fontColor\": \"k\", \"fontSize\": 12, \"backgroundColor\": \"white\", \"backgroundOpacity\": 0.5});\n\tviewer_17054218676505952.addLabel(\"3\",{\"position\": {\"x\": -2.460089, \"y\": -3.700719, \"z\": -0.252618}, \"fontColor\": \"k\", \"fontSize\": 12, \"backgroundColor\": \"white\", \"backgroundOpacity\": 0.5});\n\tviewer_17054218676505952.addLabel(\"4\",{\"position\": {\"x\": -3.419867, \"y\": -1.845311, \"z\": 0.270488}, \"fontColor\": \"k\", \"fontSize\": 12, \"backgroundColor\": \"white\", \"backgroundOpacity\": 0.5});\n\tviewer_17054218676505952.addLabel(\"5\",{\"position\": {\"x\": -3.472519, \"y\": -2.458976, \"z\": 2.350497}, \"fontColor\": \"k\", \"fontSize\": 12, \"backgroundColor\": \"white\", \"backgroundOpacity\": 0.5});\n\tviewer_17054218676505952.addLabel(\"6\",{\"position\": {\"x\": -1.538331, \"y\": -1.08933, \"z\": 1.041273}, \"fontColor\": \"k\", \"fontSize\": 12, \"backgroundColor\": \"white\", \"backgroundOpacity\": 0.5});\n\tviewer_17054218676505952.addLabel(\"7\",{\"position\": {\"x\": -2.550761, \"y\": 0.152413, \"z\": 3.644388}, \"fontColor\": \"k\", \"fontSize\": 12, \"backgroundColor\": \"white\", \"backgroundOpacity\": 0.5});\n\tviewer_17054218676505952.addLabel(\"8\",{\"position\": {\"x\": -0.631206, \"y\": -3.558404, \"z\": 2.598176}, \"fontColor\": \"k\", \"fontSize\": 12, \"backgroundColor\": \"white\", \"backgroundOpacity\": 0.5});\n\tviewer_17054218676505952.addLabel(\"9\",{\"position\": {\"x\": -1.590983, \"y\": -1.702995, \"z\": 3.121282}, \"fontColor\": \"k\", \"fontSize\": 12, \"backgroundColor\": \"white\", \"backgroundOpacity\": 0.5});\n\tviewer_17054218676505952.addLabel(\"10\",{\"position\": {\"x\": -1.643635, \"y\": -2.316661, \"z\": 5.201291}, \"fontColor\": \"k\", \"fontSize\": 12, \"backgroundColor\": \"white\", \"backgroundOpacity\": 0.5});\n\tviewer_17054218676505952.addLabel(\"11\",{\"position\": {\"x\": 0.290553, \"y\": -0.947014, \"z\": 3.892068}, \"fontColor\": \"k\", \"fontSize\": 12, \"backgroundColor\": \"white\", \"backgroundOpacity\": 0.5});\n\tviewer_17054218676505952.zoomTo();\nviewer_17054218676505952.render();\n});\n</script>",
            "text/html": [
              "<div id=\"3dmolviewer_17054218676505952\"  style=\"position: relative; width: 500px; height: 500px;\">\n",
              "        <p id=\"3dmolwarning_17054218676505952\" style=\"background-color:#ffcccc;color:black\">You appear to be running in JupyterLab (or JavaScript failed to load for some other reason).  You need to install the 3dmol extension: <br>\n",
              "        <tt>jupyter labextension install jupyterlab_3dmol</tt></p>\n",
              "        </div>\n",
              "<script>\n",
              "\n",
              "var loadScriptAsync = function(uri){\n",
              "  return new Promise((resolve, reject) => {\n",
              "    //this is to ignore the existence of requirejs amd\n",
              "    var savedexports, savedmodule;\n",
              "    if (typeof exports !== 'undefined') savedexports = exports;\n",
              "    else exports = {}\n",
              "    if (typeof module !== 'undefined') savedmodule = module;\n",
              "    else module = {}\n",
              "\n",
              "    var tag = document.createElement('script');\n",
              "    tag.src = uri;\n",
              "    tag.async = true;\n",
              "    tag.onload = () => {\n",
              "        exports = savedexports;\n",
              "        module = savedmodule;\n",
              "        resolve();\n",
              "    };\n",
              "  var firstScriptTag = document.getElementsByTagName('script')[0];\n",
              "  firstScriptTag.parentNode.insertBefore(tag, firstScriptTag);\n",
              "});\n",
              "};\n",
              "\n",
              "if(typeof $3Dmolpromise === 'undefined') {\n",
              "$3Dmolpromise = null;\n",
              "  $3Dmolpromise = loadScriptAsync('https://cdnjs.cloudflare.com/ajax/libs/3Dmol/2.0.4/3Dmol-min.js');\n",
              "}\n",
              "\n",
              "var viewer_17054218676505952 = null;\n",
              "var warn = document.getElementById(\"3dmolwarning_17054218676505952\");\n",
              "if(warn) {\n",
              "    warn.parentNode.removeChild(warn);\n",
              "}\n",
              "$3Dmolpromise.then(function() {\n",
              "viewer_17054218676505952 = $3Dmol.createViewer(document.getElementById(\"3dmolviewer_17054218676505952\"),{backgroundColor:\"white\"});\n",
              "viewer_17054218676505952.zoomTo();\n",
              "\tviewer_17054218676505952.addModel(\"12\\n\\nO -5.301403 -2.601292 -0.500298\\nO -3.367214 -1.231646 -1.809521\\nO -4.379644 0.010097 0.793594\\nO -2.460089 -3.700719 -0.252618\\nPb -3.419867 -1.845311 0.270488\\nO -3.472519 -2.458976 2.350497\\nO -1.538331 -1.08933 1.041273\\nO -2.550761 0.152413 3.644388\\nO -0.631206 -3.558404 2.598176\\nPb -1.590983 -1.702995 3.121282\\nO -1.643635 -2.316661 5.201291\\nO 0.290553 -0.947014 3.892068\\n\",\"xyz\");\n",
              "\tviewer_17054218676505952.setStyle({\"stick\": {\"radius\": 0.1, \"alpha\": 0.2, \"color\": \"gray\"}, \"sphere\": {\"radius\": 0.3}});\n",
              "\tviewer_17054218676505952.addStyle({\"atom\": \"Pb\"},{\"sphere\": {\"color\": \"red\", \"radius\": 0.5}});\n",
              "\tviewer_17054218676505952.addStyle({\"atom\": \"O\"},{\"sphere\": {\"color\": \"blue\", \"radius\": 0.3}});\n",
              "\tviewer_17054218676505952.setBackgroundColor(\"0xeeeeee\");\n",
              "\tviewer_17054218676505952.addLabel(\"0\",{\"position\": {\"x\": -5.301403, \"y\": -2.601292, \"z\": -0.500298}, \"fontColor\": \"k\", \"fontSize\": 12, \"backgroundColor\": \"white\", \"backgroundOpacity\": 0.5});\n",
              "\tviewer_17054218676505952.addLabel(\"1\",{\"position\": {\"x\": -3.367214, \"y\": -1.231646, \"z\": -1.809521}, \"fontColor\": \"k\", \"fontSize\": 12, \"backgroundColor\": \"white\", \"backgroundOpacity\": 0.5});\n",
              "\tviewer_17054218676505952.addLabel(\"2\",{\"position\": {\"x\": -4.379644, \"y\": 0.010097, \"z\": 0.793594}, \"fontColor\": \"k\", \"fontSize\": 12, \"backgroundColor\": \"white\", \"backgroundOpacity\": 0.5});\n",
              "\tviewer_17054218676505952.addLabel(\"3\",{\"position\": {\"x\": -2.460089, \"y\": -3.700719, \"z\": -0.252618}, \"fontColor\": \"k\", \"fontSize\": 12, \"backgroundColor\": \"white\", \"backgroundOpacity\": 0.5});\n",
              "\tviewer_17054218676505952.addLabel(\"4\",{\"position\": {\"x\": -3.419867, \"y\": -1.845311, \"z\": 0.270488}, \"fontColor\": \"k\", \"fontSize\": 12, \"backgroundColor\": \"white\", \"backgroundOpacity\": 0.5});\n",
              "\tviewer_17054218676505952.addLabel(\"5\",{\"position\": {\"x\": -3.472519, \"y\": -2.458976, \"z\": 2.350497}, \"fontColor\": \"k\", \"fontSize\": 12, \"backgroundColor\": \"white\", \"backgroundOpacity\": 0.5});\n",
              "\tviewer_17054218676505952.addLabel(\"6\",{\"position\": {\"x\": -1.538331, \"y\": -1.08933, \"z\": 1.041273}, \"fontColor\": \"k\", \"fontSize\": 12, \"backgroundColor\": \"white\", \"backgroundOpacity\": 0.5});\n",
              "\tviewer_17054218676505952.addLabel(\"7\",{\"position\": {\"x\": -2.550761, \"y\": 0.152413, \"z\": 3.644388}, \"fontColor\": \"k\", \"fontSize\": 12, \"backgroundColor\": \"white\", \"backgroundOpacity\": 0.5});\n",
              "\tviewer_17054218676505952.addLabel(\"8\",{\"position\": {\"x\": -0.631206, \"y\": -3.558404, \"z\": 2.598176}, \"fontColor\": \"k\", \"fontSize\": 12, \"backgroundColor\": \"white\", \"backgroundOpacity\": 0.5});\n",
              "\tviewer_17054218676505952.addLabel(\"9\",{\"position\": {\"x\": -1.590983, \"y\": -1.702995, \"z\": 3.121282}, \"fontColor\": \"k\", \"fontSize\": 12, \"backgroundColor\": \"white\", \"backgroundOpacity\": 0.5});\n",
              "\tviewer_17054218676505952.addLabel(\"10\",{\"position\": {\"x\": -1.643635, \"y\": -2.316661, \"z\": 5.201291}, \"fontColor\": \"k\", \"fontSize\": 12, \"backgroundColor\": \"white\", \"backgroundOpacity\": 0.5});\n",
              "\tviewer_17054218676505952.addLabel(\"11\",{\"position\": {\"x\": 0.290553, \"y\": -0.947014, \"z\": 3.892068}, \"fontColor\": \"k\", \"fontSize\": 12, \"backgroundColor\": \"white\", \"backgroundOpacity\": 0.5});\n",
              "\tviewer_17054218676505952.zoomTo();\n",
              "viewer_17054218676505952.render();\n",
              "});\n",
              "</script>"
            ]
          },
          "metadata": {},
          "output_type": "display_data"
        },
        {
          "name": "stdout",
          "output_type": "stream",
          "text": [
            "Cluster size is 3.6503248720208448 A\n"
          ]
        },
        {
          "data": {
            "text/plain": [
              "{2.1640067315448177: 0.5454545454545454,\n",
              " 4.016148350175418: 0.18181818181818182,\n",
              " 5.262128024409925: 0.18181818181818182}"
            ]
          },
          "execution_count": 36,
          "metadata": {},
          "output_type": "execute_result"
        }
      ],
      "source": [
        "test2 = ClusterNeighbor()\n",
        "test2.load_xyz(fc.value)\n",
        "for i in range(47):\n",
        "    test2.atoms.pop()\n",
        "\n",
        "test2.view_xyz(highlight_atom1=\"Pb\", highlight_atom2=\"O\", label=True)\n",
        "test2.get_cluster_size()\n",
        "test2.get_pairs()\n",
        "test2.get_CN(center_atom='O', error_bar=0.02)\n",
        "test2.CN['O-Pb']"
      ]
    },
    {
      "cell_type": "code",
      "execution_count": 38,
      "metadata": {},
      "outputs": [
        {
          "data": {
            "text/plain": [
              "2.153451309638553"
            ]
          },
          "execution_count": 38,
          "metadata": {},
          "output_type": "execute_result"
        }
      ],
      "source": [
        "test2.atoms.get_distance(3,4)"
      ]
    },
    {
      "cell_type": "code",
      "execution_count": 42,
      "metadata": {},
      "outputs": [],
      "source": [
        "ase.io.write('reduced.xyz', test2.atoms)"
      ]
    },
    {
      "cell_type": "code",
      "execution_count": null,
      "metadata": {},
      "outputs": [],
      "source": [
        "test2.atoms.get_distance(51,49)\n"
      ]
    },
    {
      "cell_type": "code",
      "execution_count": null,
      "metadata": {},
      "outputs": [],
      "source": [
        "0.4 * test.elements_num['Pb']"
      ]
    },
    {
      "cell_type": "code",
      "execution_count": null,
      "metadata": {},
      "outputs": [],
      "source": [
        "\n",
        "elements = [xyz_sorted[i][0] for i in range(len(compound))]\n",
        "\n",
        "coordinates = [np.array([float(xyz_sorted[i][1]),\n",
        "                         float(xyz_sorted[i][2]), \n",
        "                         float(xyz_sorted[i][3])]) for i in range(len(compound))]\n",
        "\n",
        "\n",
        "num_atoms = len(elements)\n",
        "output = {\"unique_pairs_all\":{},\n",
        "          \"pairs_all\":[],\n",
        "          \"unique_element\":list(set(elements)),\n",
        "          \"element_num\":{},\n",
        "          \"bond_num\":{}\n",
        "          }\n",
        "\n",
        "for i in range(num_atoms):\n",
        "    atom_i = elements[i]\n",
        "    atom_unique_i = f\"{elements[i]}({i:d})\"\n",
        "    for j in range(num_atoms):\n",
        "        if j !=i:\n",
        "            atom_j = elements[j]\n",
        "            atom_unique_j = f\"{elements[j]}({j:d})\"\n",
        "            distance = calculate_distance(coordinates[i], coordinates[j])\n",
        "            output['pairs_all'].append(f\"{atom_i}-{atom_j}\")\n",
        "            output['unique_pairs_all'][f\"{atom_unique_i}-{atom_unique_j}\"] = distance\n",
        "            # print(f\"{atom_unique_i}-{atom_unique_j}: {distance} Å\")\n",
        "\n",
        "output[\"bond_types\"] = list(set(output['pairs_all']))\n",
        "\n",
        "for element_i in output[\"unique_element\"]:\n",
        "    output['element_num'][element_i] = elements.count(element_i)\n",
        "\n",
        "\n",
        "bond_type = output[\"bond_types\"]\n",
        "\n",
        "for bond_i in output[\"bond_types\"]:\n",
        "    # print(bond_i)\n",
        "    element1, element2 = bond_i.split(\"-\")\n",
        "    pattern = rf'{element1}\\(\\d+\\)-{element2}\\(\\d+\\)'\n",
        "    output[f\"{bond_i}_num\"] = {}\n",
        "    for key_i in output['unique_pairs_all'].keys():\n",
        "        if re.match(pattern, key_i):\n",
        "            output[f\"{bond_i}_num\"][key_i] = output['unique_pairs_all'][key_i]\n"
      ]
    },
    {
      "cell_type": "code",
      "execution_count": null,
      "metadata": {},
      "outputs": [],
      "source": [
        "plt.figure(figsize=(10,3))\n",
        "for key_i in output['bond_types']:\n",
        "    plt.hist(output[f\"{key_i}_num\"].values(), bins=80, alpha=0.3, edgecolor='white', label=key_i)\n",
        "plt.xlabel(\"Distance [Å]\")\n",
        "plt.ylabel(\"Number of pairs\")\n",
        "plt.legend()\n",
        "plt.ylim(0, 180)\n",
        "plt.tight_layout()\n",
        "plt.show()"
      ]
    },
    {
      "cell_type": "markdown",
      "metadata": {},
      "source": [
        "# within 0.001 A is considered as same distance, cakculate all distances"
      ]
    },
    {
      "cell_type": "code",
      "execution_count": null,
      "metadata": {},
      "outputs": [],
      "source": [
        "def CN_calc(R_range=[1,3], pair=None):\n",
        "    shell_distances = {}\n",
        "    element = pair.split(\"-\")[0]\n",
        "    for key_i in output[f\"{pair}_num\"].keys():\n",
        "        if R_range[0] < output[f\"{pair}_num\"][key_i] < R_range[1]:\n",
        "            shell_distances[key_i] = output[f\"{pair}_num\"][key_i]\n",
        "    CN_num = len(shell_distances.values())/output['element_num'][element]\n",
        "    print(f\"Average CN of {element} element: {CN_num}\")\n",
        "    average_distance = np.average(np.array(list(shell_distances.values())))\n",
        "    print(f\"Average distance of {pair} pair: {average_distance} \\n\")\n",
        "    return shell_distances, average_distance\n",
        "\n",
        "\n",
        "result = CN_calc(R_range=[1,5], pair=\"O-O\")\n",
        "# result = CN_calc(R_range=[3,3.1], pair=\"O-O\")\n",
        "# result = CN_calc(R_range=[3.3,3.1], pair=\"O-O\")\n",
        "\n",
        "# result = CN_calc(R_range=[2,2.16], pair=\"O-Pb\")\n",
        "# result = CN_calc(R_range=[2.16,3.7], pair=\"O-Pb\")"
      ]
    },
    {
      "cell_type": "code",
      "execution_count": null,
      "metadata": {},
      "outputs": [],
      "source": [
        "from operator import itemgetter\n",
        "\n",
        "data = output[\"Pb-O_num\"]\n",
        "\n",
        "# Sort the dictionary by its values\n",
        "sorted_items = sorted(data.items(), key=itemgetter(1))\n",
        "sorted_data = dict(sorted_items)\n",
        "\n",
        "print(sorted_dict)"
      ]
    },
    {
      "cell_type": "code",
      "execution_count": null,
      "metadata": {},
      "outputs": [],
      "source": [
        "def group_data(data, error_bar=0.01):\n",
        "\n",
        "    sorted_items = sorted(data.items(), key=itemgetter(1))\n",
        "    data_sorted = dict(sorted_items)\n",
        "    diff = np.diff(data_sorted.values())\n",
        "    indices = np.where(diff > error_bar)[0] + 1\n",
        "\n",
        "    # Split the array at these indices\n",
        "    return np.split(data_sorted, indices)\n",
        "\n",
        "# Example data values\n",
        "data_values = np.array(output['O-O_num'])\n",
        "\n",
        "# Grouping the data\n",
        "grouped_data = group_data(data_values)\n",
        "\n",
        "# Print the grouped data\n",
        "for group in grouped_data:\n",
        "    print(group)\n"
      ]
    },
    {
      "cell_type": "code",
      "execution_count": null,
      "metadata": {},
      "outputs": [],
      "source": [
        "import pandas as pd\n",
        "\n",
        "data_values = output[\"Pb-O_num\"]\n",
        "\n",
        "df = pd.DataFrame(list(data_values.items()), columns=['Key', 'Value'])\n",
        "df = df.sort_values(by='Value')\n",
        "\n",
        "# Function to group keys based on value difference threshold\n",
        "def group_keys(df, threshold=0.01):\n",
        "    # Create an empty list to store groups\n",
        "    groups = []\n",
        "    current_group = [df.iloc[0]['Key']]\n",
        "\n",
        "    for i in range(1, len(df)):\n",
        "        # Check if the current value is within the threshold of the previous value\n",
        "        if abs(df.iloc[i]['Value'] - df.iloc[i-1]['Value']) <= threshold:\n",
        "            current_group.append(df.iloc[i]['Key'])\n",
        "        else:\n",
        "            # If not, add the current group to groups and start a new group\n",
        "            groups.append(current_group)\n",
        "            current_group = [df.iloc[i]['Key']]\n",
        "\n",
        "    # Add the last group to groups\n",
        "    groups.append(current_group)\n",
        "\n",
        "    return groups\n",
        "\n",
        "# Grouping the keys\n",
        "grouped_keys = group_keys(df)\n",
        "\n",
        "# Print the grouped keys\n",
        "# for group in grouped_keys:\n",
        "    # print(group)\n"
      ]
    },
    {
      "cell_type": "code",
      "execution_count": null,
      "metadata": {},
      "outputs": [],
      "source": [
        "elements_shinked, coordinates_shrinked = shrink_cluster(elements, coordinates, radius=5)"
      ]
    },
    {
      "cell_type": "code",
      "execution_count": null,
      "metadata": {},
      "outputs": [],
      "source": [
        "elements = elements_shinked\n",
        "coordinates = coordinates_shrinked\n",
        "num_atoms = len(elements)\n",
        "output = {\"unique_pairs_all\":{},\n",
        "          \"pairs_all\":[],\n",
        "          \"unique_element\":list(set(elements)),\n",
        "          \"element_num\":{},\n",
        "          \"bond_num\":{}\n",
        "          }\n",
        "\n",
        "for i in range(num_atoms):\n",
        "    atom_i = elements[i]\n",
        "    atom_unique_i = f\"{elements[i]}({i:d})\"\n",
        "    for j in range(num_atoms):\n",
        "        if j !=i:\n",
        "            atom_j = elements[j]\n",
        "            atom_unique_j = f\"{elements[j]}({j:d})\"\n",
        "            distance = calculate_distance(coordinates[i], coordinates[j])\n",
        "            output['pairs_all'].append(f\"{atom_i}-{atom_j}\")\n",
        "            output['unique_pairs_all'][f\"{atom_unique_i}-{atom_unique_j}\"] = distance\n",
        "            # print(f\"{atom_unique_i}-{atom_unique_j}: {distance} Å\")\n",
        "\n",
        "output[\"bond_types\"] = list(set(output['pairs_all']))\n",
        "for element_i in output[\"unique_element\"]:\n",
        "    output['element_num'][element_i] = elements.count(element_i)\n",
        "\n",
        "\n",
        "bond_type = output[\"bond_types\"]\n",
        "\n",
        "for bond_i in output[\"bond_types\"]:\n",
        "    # print(bond_i)\n",
        "    element1, element2 = bond_i.split(\"-\")\n",
        "    pattern = rf'{element1}\\(\\d+\\)-{element2}\\(\\d+\\)'\n",
        "    output[f\"{bond_i}_num\"] = {}\n",
        "    for key_i in output['unique_pairs_all'].keys():\n",
        "        if re.match(pattern, key_i):\n",
        "            output[f\"{bond_i}_num\"][key_i] = output['unique_pairs_all'][key_i]\n",
        "\n"
      ]
    },
    {
      "cell_type": "code",
      "execution_count": null,
      "metadata": {},
      "outputs": [],
      "source": [
        "plt.figure(figsize=(10,3))\n",
        "for key_i in output['bond_types']:\n",
        "    plt.hist(output[f\"{key_i}_num\"].values(), bins=80, alpha=0.3, edgecolor='white', label=key_i)\n",
        "plt.xlabel(\"Distance [Å]\")\n",
        "plt.ylabel(\"Number of pairs\")\n",
        "plt.legend()\n",
        "plt.ylim(0, 180)\n",
        "plt.tight_layout()\n",
        "plt.show()"
      ]
    },
    {
      "cell_type": "code",
      "execution_count": null,
      "metadata": {},
      "outputs": [],
      "source": [
        "def CN_calc(R_range=[1,3], pair=None):\n",
        "    shell_distances = {}\n",
        "    element = pair.split(\"-\")[0]\n",
        "    for key_i in output[f\"{pair}_num\"].keys():\n",
        "        if R_range[0] < output[f\"{pair}_num\"][key_i] < R_range[1]:\n",
        "            shell_distances[key_i] = output[f\"{pair}_num\"][key_i]\n",
        "    CN_num = len(shell_distances.values())/output['element_num'][element]\n",
        "    print(f\"Average CN of {element} element: {CN_num}\")\n",
        "    average_distance = np.average(np.array(list(shell_distances.values())))\n",
        "    print(f\"Average distance of {pair} pair: {average_distance} \\n\")\n",
        "    return shell_distances, average_distance\n",
        "\n",
        "\n",
        "result = CN_calc(R_range=[1,3], pair=\"O-O\")\n",
        "result = CN_calc(R_range=[3,3.1], pair=\"O-O\")\n",
        "result = CN_calc(R_range=[3.3,3.1], pair=\"O-O\")\n",
        "\n",
        "result = CN_calc(R_range=[2,2.16], pair=\"Pb-O\")\n",
        "result = CN_calc(R_range=[2.16,3.7], pair=\"Pb-O\")"
      ]
    },
    {
      "cell_type": "markdown",
      "metadata": {},
      "source": [
        "75/number of Pd num_atoms (coordinations )\n",
        "\n",
        "1. CN of Pd atoms, CN of Oxygen\n",
        "2. calculate radius of the cluster: longest distance from (0,0,0)\n",
        "3. increase radius of the cluster, doesn't need to shrink/expand the bond lengths, chop the hist and calculate the CN again\n",
        "4. cif file --> cluster, increase clusters"
      ]
    },
    {
      "cell_type": "markdown",
      "metadata": {
        "id": "4hOvXO7gGx5Y"
      },
      "source": [
        "Display local file."
      ]
    },
    {
      "cell_type": "code",
      "execution_count": null,
      "metadata": {
        "colab": {
          "base_uri": "https://localhost:8080/",
          "height": 514
        },
        "id": "U420WW_tGx5m",
        "outputId": "eab0e9d6-0a9b-4ba9-c24e-bb2d0570c8e8"
      },
      "outputs": [],
      "source": [
        "view = py3Dmol.view(query='pdb:1ycr')\n",
        "view.setStyle({'cartoon': {'color':'white'}})\n",
        "view.addSurface(py3Dmol.VDW,{'opacity':0.7,'colorscheme':{'prop':'b','gradient':'sinebow','min':0,'max':70}})"
      ]
    },
    {
      "cell_type": "code",
      "execution_count": null,
      "metadata": {
        "colab": {
          "base_uri": "https://localhost:8080/",
          "height": 514
        },
        "id": "J7AzQ0ZCGx5s",
        "outputId": "23c87352-7526-46f7-8777-c45be7c50875"
      },
      "outputs": [],
      "source": [
        "import requests, base64\n",
        "r = requests.get('https://mmtf.rcsb.org/v1.0/full/5lgo')\n",
        "view = py3Dmol.view()\n",
        "view.addModel(base64.b64encode(r.content).decode(),'mmtf')\n",
        "view.addUnitCell()\n",
        "view.zoomTo()\n"
      ]
    }
  ],
  "metadata": {
    "colab": {
      "provenance": []
    },
    "kernelspec": {
      "display_name": "Python 3",
      "language": "python",
      "name": "python3"
    },
    "language_info": {
      "codemirror_mode": {
        "name": "ipython",
        "version": 3
      },
      "file_extension": ".py",
      "mimetype": "text/x-python",
      "name": "python",
      "nbconvert_exporter": "python",
      "pygments_lexer": "ipython3",
      "version": "3.10.8"
    }
  },
  "nbformat": 4,
  "nbformat_minor": 0
}
